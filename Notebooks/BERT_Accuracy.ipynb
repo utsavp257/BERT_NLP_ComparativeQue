{
  "cells": [
    {
      "cell_type": "markdown",
      "metadata": {},
      "source": [
        "This notebook is used to measure the accuracy of any trained BERT model on the stress-test dataset"
      ]
    },
    {
      "cell_type": "code",
      "execution_count": null,
      "metadata": {
        "id": "oomO97fOgqQY"
      },
      "outputs": [],
      "source": [
        "#pip install transformers"
      ]
    },
    {
      "cell_type": "code",
      "execution_count": null,
      "metadata": {
        "id": "X4spHcSHgxNh"
      },
      "outputs": [],
      "source": [
        "import requests\n",
        "import json\n",
        "import torch\n",
        "import torch.nn as nn\n",
        "import os\n",
        "from tqdm import tqdm\n",
        "from transformers import BertModel, BertTokenizerFast, AdamW\n",
        "# AutoTokenizer, AutoModelForQuestionAnswering, BertTokenizer, BertForQuestionAnswering\n",
        "from torch.utils.data import Dataset, DataLoader\n",
        "from torch.optim.lr_scheduler import ExponentialLR\n",
        "import matplotlib.pyplot as plt"
      ]
    },
    {
      "cell_type": "code",
      "execution_count": null,
      "metadata": {
        "colab": {
          "base_uri": "https://localhost:8080/",
          "height": 81,
          "referenced_widgets": [
            "a68c5f35dfd34aab9ab00d52210e9845",
            "b7ab03987e244ae3a233103cbaec76fe",
            "5ad04ca1ad6f46cc95e5c605194ba350",
            "ba935260f0714dc5980c62380394e6ff",
            "14b3bfa4a02141868e53ae45c4c42c09",
            "2445044e04454ed2afcfaa07124b404c",
            "c00f4ca9905e45a28db90dd7b3d1b84e",
            "54665292607b4f90a49a0a20deb3d4a3",
            "e480d15350264485804ea8117dc7e8ad",
            "dd6ae3de97284ef8bb8b706c94c30203",
            "1242fd4c49204d5e8928eb40476cd4a3",
            "96603596efb24e2785b413d5f6730f7a",
            "f7b22b18675543ddbea0dd248cb02962",
            "481fc3287a9f40538ae0b88aa4f43cd0",
            "8572656c30704f41ba7896de81418860",
            "50efa21878534720842fde4fa6f33ac7",
            "d7b59e696d7c4b38af1015f1d4cdbcec",
            "30a779a5b8b9485092563cc5aa817e92",
            "1fe3761426bf4665842d47e2588ef3b5",
            "f93493d1b9754ee0b190e626d6d76ef9",
            "4f166f1198e24c9486a2aa0b6d6f9ef5",
            "1fac1501c3cf4a8781517a2e20c2ca74"
          ]
        },
        "id": "lADNtgmchUKi",
        "outputId": "2a8ce006-ab84-41e2-9c0a-840514439e13"
      },
      "outputs": [
        {
          "data": {
            "application/vnd.jupyter.widget-view+json": {
              "model_id": "a68c5f35dfd34aab9ab00d52210e9845",
              "version_major": 2,
              "version_minor": 0
            },
            "text/plain": [
              "config.json:   0%|          | 0.00/570 [00:00<?, ?B/s]"
            ]
          },
          "metadata": {},
          "output_type": "display_data"
        },
        {
          "data": {
            "application/vnd.jupyter.widget-view+json": {
              "model_id": "96603596efb24e2785b413d5f6730f7a",
              "version_major": 2,
              "version_minor": 0
            },
            "text/plain": [
              "model.safetensors:   0%|          | 0.00/440M [00:00<?, ?B/s]"
            ]
          },
          "metadata": {},
          "output_type": "display_data"
        }
      ],
      "source": [
        "MODEL_PATH = \"bert-base-uncased\"\n",
        "bert_model = BertModel.from_pretrained(MODEL_PATH)\n",
        "class QAModel(nn.Module):\n",
        "    def __init__(self):\n",
        "        super(QAModel, self).__init__()\n",
        "        self.bert = bert_model\n",
        "        self.drop_out = nn.Dropout(0.1)\n",
        "        self.l1 = nn.Linear(768 * 2, 768 * 2)\n",
        "        self.l2 = nn.Linear(768 * 2, 2)\n",
        "        self.linear_relu_stack = nn.Sequential(\n",
        "            self.drop_out,\n",
        "            self.l1,\n",
        "            nn.LeakyReLU(),\n",
        "            self.l2\n",
        "        )\n",
        "\n",
        "    def forward(self, input_ids, attention_mask, token_type_ids):\n",
        "        model_output = self.bert(input_ids, attention_mask=attention_mask, token_type_ids=token_type_ids, output_hidden_states=True)\n",
        "        hidden_states = model_output[2]\n",
        "        out = torch.cat((hidden_states[-1], hidden_states[-3]), dim=-1)  # taking Start logits from last BERT layer, End Logits from third to last layer\n",
        "        logits = self.linear_relu_stack(out)\n",
        "\n",
        "        start_logits, end_logits = logits.split(1, dim=-1)\n",
        "\n",
        "        start_logits = start_logits.squeeze(-1)\n",
        "        end_logits = end_logits.squeeze(-1)\n",
        "\n",
        "        return start_logits, end_logits"
      ]
    },
    {
      "cell_type": "code",
      "execution_count": null,
      "metadata": {
        "colab": {
          "base_uri": "https://localhost:8080/"
        },
        "id": "c8K-1q0tQw6H",
        "outputId": "15ed923f-ed24-422b-807d-22ff89135517"
      },
      "outputs": [
        {
          "name": "stdout",
          "output_type": "stream",
          "text": [
            "Mounted at /content/drive\n"
          ]
        }
      ],
      "source": [
        "from google.colab import drive\n",
        "drive.mount('/content/drive')"
      ]
    },
    {
      "cell_type": "code",
      "execution_count": null,
      "metadata": {
        "colab": {
          "base_uri": "https://localhost:8080/"
        },
        "id": "GseAq3KKhhmd",
        "outputId": "88c69307-20b0-4a15-a5b6-3c5e0721b139"
      },
      "outputs": [
        {
          "data": {
            "text/plain": [
              "<All keys matched successfully>"
            ]
          },
          "execution_count": 6,
          "metadata": {},
          "output_type": "execute_result"
        }
      ],
      "source": [
        "model = QAModel()\n",
        "model.to('cuda')\n",
        "model.load_state_dict(torch.load('/content/drive/MyDrive/OELP_BERT/BERT_SQuad/OELP_final_15k_v2.hdf5'))"
      ]
    },
    {
      "cell_type": "code",
      "execution_count": null,
      "metadata": {
        "colab": {
          "base_uri": "https://localhost:8080/",
          "height": 130,
          "referenced_widgets": [
            "8ac6fa5ab45a48bea120ad30810d53dd",
            "ca46104c9c644ddaa49af74b256e514d",
            "e2379cbad8c746efbc58b77e06ea0ed8",
            "569f712f01444ddc8d35f79a1fb148ee",
            "d1f379ebcb184454b3b37084d88e5754",
            "0534925cec6d45ce9480d0e7a69c6ba2",
            "69b4b4a21884429c9ea286c2bf5bf3a7",
            "c9637dab924b44749d088ce03c225faa",
            "8de33626c35941598bf9004f0cc7b11a",
            "7d2d23ea66e946a9b9400f65c7a047ce",
            "dc42a116de14457296c90163e0280d84",
            "46b1e8949c864db39f373f510a32dba9",
            "775f5b00e0cf4bd38eb9c0dc34c696f6",
            "e8bf387a30e44f5bbb04ef48cec1d1a9",
            "d20a6f9e59ce46359f8b1c367e733c9e",
            "43c1f172f1eb42508cacb833c50d0c28",
            "513679edc45d402fa1533af00220530a",
            "ea5f3d107cc0483d98aa3f0d01e4e369",
            "e0444e21ae39447b8aae08e2f2c341c0",
            "daf6cd40b2634dc3b693420018c89b2d",
            "156af232fa7b4e9d803fbc82bb261bad",
            "b8b0211e6136408a8c79cba76444bcbe",
            "a192cd3072ba4d4e980517539aedc74b",
            "7bfd90be95054922b401cc1dfd931569",
            "465dc01c28004807ab7df7f38133af74",
            "3aa6f5110ddc498ea81f548f740ea16c",
            "ebb9c4cb251545cfa3b8d1879bb983ff",
            "f8f701cfacc642909b07c2a6cb13369c",
            "e295aefeb0b34b0db696460959b9629c",
            "0bb10565ec504660b52fa0fc8108a91b",
            "dc85d92c45574fbea5812df100f0fe4f",
            "01c3f8b4ba764fcc9f05dbbee0acc018",
            "5f76d4f4694e44589caad1c21bc68c28"
          ]
        },
        "id": "iPTwB5qJjKQH",
        "outputId": "71da622e-a2e3-40f7-b8eb-a52bc8217c2d"
      },
      "outputs": [
        {
          "data": {
            "application/vnd.jupyter.widget-view+json": {
              "model_id": "8ac6fa5ab45a48bea120ad30810d53dd",
              "version_major": 2,
              "version_minor": 0
            },
            "text/plain": [
              "tokenizer_config.json:   0%|          | 0.00/28.0 [00:00<?, ?B/s]"
            ]
          },
          "metadata": {},
          "output_type": "display_data"
        },
        {
          "data": {
            "application/vnd.jupyter.widget-view+json": {
              "model_id": "46b1e8949c864db39f373f510a32dba9",
              "version_major": 2,
              "version_minor": 0
            },
            "text/plain": [
              "vocab.txt:   0%|          | 0.00/232k [00:00<?, ?B/s]"
            ]
          },
          "metadata": {},
          "output_type": "display_data"
        },
        {
          "data": {
            "application/vnd.jupyter.widget-view+json": {
              "model_id": "a192cd3072ba4d4e980517539aedc74b",
              "version_major": 2,
              "version_minor": 0
            },
            "text/plain": [
              "tokenizer.json:   0%|          | 0.00/466k [00:00<?, ?B/s]"
            ]
          },
          "metadata": {},
          "output_type": "display_data"
        },
        {
          "name": "stdout",
          "output_type": "stream",
          "text": [
            "cuda\n"
          ]
        }
      ],
      "source": [
        "tokenizerFast = BertTokenizerFast.from_pretrained(MODEL_PATH)\n",
        "device = torch.device('cuda') if torch.cuda.is_available() else torch.device('cpu')\n",
        "print(device)\n",
        "def get_answer(question, context):\n",
        "    inputs = tokenizerFast.encode_plus(question, context, return_tensors='pt').to(device)\n",
        "    with torch.no_grad():\n",
        "        output_start, output_end = model(**inputs)\n",
        "\n",
        "        answer_start = torch.argmax(output_start)\n",
        "        answer_end = torch.argmax(output_end)\n",
        "\n",
        "        answer = tokenizerFast.convert_tokens_to_string(tokenizerFast.convert_ids_to_tokens(inputs['input_ids'][0][answer_start:answer_end]))\n",
        "\n",
        "        return([answer, answer_start, answer_end])"
      ]
    },
    {
      "cell_type": "code",
      "execution_count": null,
      "metadata": {
        "colab": {
          "base_uri": "https://localhost:8080/"
        },
        "id": "g4L1yNXCi_f7",
        "outputId": "35d64c88-299a-4482-80ae-2630144cd233"
      },
      "outputs": [
        {
          "name": "stdout",
          "output_type": "stream",
          "text": [
            "Predicted Answer: 5\n"
          ]
        }
      ],
      "source": [
        "context = \"I am Utsav Patel. I just completed my fine-tuning of the BERT base uncased model. I am glad that it works after 5 attempts.\"\n",
        "question = \"How many attempts did it take to fine-tune ?\"\n",
        "print(f\"Predicted Answer: {get_answer(question, context)[0]}\")"
      ]
    },
    {
      "cell_type": "code",
      "execution_count": null,
      "metadata": {
        "colab": {
          "base_uri": "https://localhost:8080/"
        },
        "id": "xe3i-5sX2VaC",
        "outputId": "6223846c-3a64-437e-8a2a-103969c3b878"
      },
      "outputs": [
        {
          "name": "stdout",
          "output_type": "stream",
          "text": [
            "--2023-12-06 15:09:04--  https://rajpurkar.github.io/SQuAD-explorer/dataset/train-v2.0.json\n",
            "Resolving rajpurkar.github.io (rajpurkar.github.io)... 185.199.108.153, 185.199.109.153, 185.199.110.153, ...\n",
            "Connecting to rajpurkar.github.io (rajpurkar.github.io)|185.199.108.153|:443... connected.\n",
            "HTTP request sent, awaiting response... 200 OK\n",
            "Length: 42123633 (40M) [application/json]\n",
            "Saving to: ‘train-v2.0.json’\n",
            "\n",
            "train-v2.0.json     100%[===================>]  40.17M   219MB/s    in 0.2s    \n",
            "\n",
            "2023-12-06 15:09:05 (219 MB/s) - ‘train-v2.0.json’ saved [42123633/42123633]\n",
            "\n"
          ]
        }
      ],
      "source": [
        "!wget -nc https://rajpurkar.github.io/SQuAD-explorer/dataset/train-v2.0.json"
      ]
    },
    {
      "cell_type": "code",
      "execution_count": null,
      "metadata": {
        "id": "qLjUs_4IrWd7"
      },
      "outputs": [],
      "source": [
        "def spanMaker(str):\n",
        "    ans = []\n",
        "    temp = \"\"\n",
        "    for i in range(len(str)):\n",
        "      if(str[i]==','):\n",
        "        ans.append(int(temp))\n",
        "        temp = \"\"\n",
        "      else:\n",
        "        temp += str[i]\n",
        "    if(temp!=\"\"):\n",
        "       ans.append(int(temp))\n",
        "    return ans"
      ]
    },
    {
      "cell_type": "code",
      "execution_count": null,
      "metadata": {
        "id": "WCfXkrBDZPE-"
      },
      "outputs": [],
      "source": [
        "import json\n",
        "\n",
        "# Opening JSON file\n",
        "f = open('/content/drive/MyDrive/OELP_BERT/BERT_SQuad/MySQuADDataset_With_Ans_New.json')\n",
        "\n",
        "# returns JSON object as\n",
        "# a dictionary\n",
        "data = json.load(f)"
      ]
    },
    {
      "cell_type": "code",
      "execution_count": null,
      "metadata": {
        "id": "icwaYdNPZTQg"
      },
      "outputs": [],
      "source": [
        "class InputDataset(Dataset):\n",
        "    def __init__(self, encodings):\n",
        "        self.encodings = encodings\n",
        "    def __getitem__(self, i):\n",
        "        return {\n",
        "            'input_ids': torch.tensor(self.encodings['input_ids'][i]),\n",
        "            'token_type_ids': torch.tensor(self.encodings['token_type_ids'][i]),\n",
        "            'attention_mask': torch.tensor(self.encodings['attention_mask'][i]),\n",
        "            'start_positions': torch.tensor(self.encodings['start_positions'][i]),\n",
        "            'end_positions': torch.tensor(self.encodings['end_positions'][i])\n",
        "        }\n",
        "    def __len__(self):\n",
        "        return len(self.encodings['input_ids'])"
      ]
    },
    {
      "cell_type": "code",
      "execution_count": null,
      "metadata": {
        "colab": {
          "base_uri": "https://localhost:8080/"
        },
        "id": "jyM3zxF_i0he",
        "outputId": "a3ab09bc-5c24-404b-c281-ebbd5aecce2d"
      },
      "outputs": [
        {
          "name": "stdout",
          "output_type": "stream",
          "text": [
            "<class 'list'>\n",
            "154\n"
          ]
        }
      ],
      "source": [
        "\n",
        "test_questions = []\n",
        "test_contexts = []\n",
        "test_answers = []\n",
        "test_answer_start = []\n",
        "new_accuracy = 0\n",
        "\n",
        "print(type(data))\n",
        "\n",
        "for i in range(len(data)):\n",
        "    test_contexts.append(data[i][\"sentence\"])\n",
        "    test_questions.append(data[i][\"question\"])\n",
        "    test_answers.append(data[i]['answer'])\n",
        "    test_answer_start.append(data[i]['answer_start'])\n",
        "\n",
        "print((data[0][\"answer_start\"]))\n"
      ]
    },
    {
      "cell_type": "code",
      "execution_count": null,
      "metadata": {
        "id": "uJfyifALbHi0"
      },
      "outputs": [],
      "source": [
        "def add_answer_end(answers, contexts):\n",
        "  for answer, context in zip(answers, contexts):\n",
        "    answer['text'] = answer['text'].lower()\n",
        "    answer['answer_end'] = answer['answer_start'] + len(answer['text'])"
      ]
    },
    {
      "cell_type": "code",
      "execution_count": null,
      "metadata": {
        "id": "Ert-ByeWbTQs"
      },
      "outputs": [],
      "source": [
        "final_answers = []\n",
        "for i in range(len(test_answers)):\n",
        "  final_answers.append({ \"text\" : test_answers[i], \"answer_start\" : test_answer_start[i]})\n",
        "add_answer_end(final_answers, test_contexts)"
      ]
    },
    {
      "cell_type": "code",
      "execution_count": null,
      "metadata": {
        "colab": {
          "base_uri": "https://localhost:8080/"
        },
        "id": "_3L6Y8gHcmUH",
        "outputId": "a34f36c6-1524-4808-f5e1-0b1d54803826"
      },
      "outputs": [
        {
          "name": "stdout",
          "output_type": "stream",
          "text": [
            "Beyoncé has worked with Pepsi since 2002, and in 2004 appeared in a Gladiator-themed commercial with Britney Spears, Pink, and Enrique Iglesias. In 2012, Beyoncé signed a $50 million deal to endorse Pepsi. The Center for Science in the Public Interest (CSPINET) wrote Beyoncé an open letter asking her to reconsider the deal because of the unhealthiness of the product and to donate the proceeds to a medical organisation. Nevertheless, NetBase found that Beyoncé's campaign was the most talked about endorsement in April 2013, with a 70 per cent positive audience response to the commercial and print ads.\n",
            "Who signed a deal for less than $70 million with Pepsi?\n",
            "beyoncé\n"
          ]
        }
      ],
      "source": [
        "print(test_contexts[0])\n",
        "print(test_questions[0])\n",
        "print(test_answers[0])"
      ]
    },
    {
      "cell_type": "code",
      "execution_count": null,
      "metadata": {
        "colab": {
          "base_uri": "https://localhost:8080/"
        },
        "id": "MBITwYogk9O1",
        "outputId": "3ac46c15-e238-4178-f094-28fbf53ef6ff"
      },
      "outputs": [
        {
          "name": "stdout",
          "output_type": "stream",
          "text": [
            "[{'text': 'beyoncé', 'answer_start': 154, 'answer_end': 161}, {'text': '', 'answer_start': -1, 'answer_end': -1}, {'text': 'beyoncé', 'answer_start': 154, 'answer_end': 161}, {'text': 'netbase', 'answer_start': 437, 'answer_end': 444}, {'text': '3 metres', 'answer_start': 626, 'answer_end': 634}, {'text': '2 metres', 'answer_start': 703, 'answer_end': 711}, {'text': '', 'answer_start': -1, 'answer_end': -1}, {'text': 'beichuan fault', 'answer_start': 304, 'answer_end': 318}, {'text': 'wisconson glaciation', 'answer_start': 11, 'answer_end': 31}, {'text': 'wisconson glaciation', 'answer_start': 11, 'answer_end': 31}, {'text': '', 'answer_start': -1, 'answer_end': -1}, {'text': 'megacity', 'answer_start': 192, 'answer_end': 200}, {'text': 'megacity', 'answer_start': 192, 'answer_end': 200}, {'text': '', 'answer_start': -1, 'answer_end': -1}, {'text': 'buddhism', 'answer_start': 0, 'answer_end': 8}, {'text': '', 'answer_start': -1, 'answer_end': -1}, {'text': 'buddhism', 'answer_start': 0, 'answer_end': 8}, {'text': '', 'answer_start': -1, 'answer_end': -1}, {'text': 'chris christie', 'answer_start': 865, 'answer_end': 879}, {'text': '', 'answer_start': -1, 'answer_end': -1}, {'text': 'revel', 'answer_start': 1352, 'answer_end': 1357}, {'text': 'general terrazas', 'answer_start': 619, 'answer_end': 635}, {'text': 'general terrazas', 'answer_start': 363, 'answer_end': 379}, {'text': '', 'answer_start': -1, 'answer_end': -1}, {'text': 'president juarez', 'answer_start': 10, 'answer_end': 26}, {'text': 'hurricane rita', 'answer_start': 205, 'answer_end': 219}, {'text': 'hurricane katrina', 'answer_start': 105, 'answer_end': 122}, {'text': 'early triassic', 'answer_start': 4, 'answer_end': 18}, {'text': 'lystrosaurus, labyrinthodont, and euparkeria along with many other creatures', 'answer_start': 292, 'answer_end': 368}, {'text': 'temnospondyli', 'answer_start': 410, 'answer_end': 423}, {'text': 'once', 'answer_start': 270, 'answer_end': 274}, {'text': '15 days', 'answer_start': 241, 'answer_end': 248}, {'text': 'january', 'answer_start': 1542, 'answer_end': 1549}, {'text': '19 days', 'answer_start': 672, 'answer_end': 679}, {'text': '286 miles', 'answer_start': 601, 'answer_end': 610}, {'text': '18 miles', 'answer_start': 751, 'answer_end': 759}, {'text': 'babylonia', 'answer_start': 20, 'answer_end': 29}, {'text': '', 'answer_start': -1, 'answer_end': -1}, {'text': 'bar kokhba revolt', 'answer_start': 108, 'answer_end': 125}, {'text': 'four', 'answer_start': 624, 'answer_end': 628}, {'text': '48', 'answer_start': 0, 'answer_end': 2}, {'text': '', 'answer_start': -1, 'answer_end': -1}, {'text': '', 'answer_start': -1, 'answer_end': -1}, {'text': 'jpmorgan chase', 'answer_start': 17, 'answer_end': 31}, {'text': '', 'answer_start': -1, 'answer_end': -1}, {'text': 'detroit', 'answer_start': 98, 'answer_end': 105}]\n"
          ]
        }
      ],
      "source": [
        "print(final_answers)"
      ]
    },
    {
      "cell_type": "code",
      "execution_count": null,
      "metadata": {
        "id": "ar7xkNtKZylD"
      },
      "outputs": [],
      "source": [
        "MAX_LENGTH = 250\n",
        "tokenizerFast = BertTokenizerFast.from_pretrained(MODEL_PATH)\n",
        "test_encodings_fast = tokenizerFast(test_questions, test_contexts,  max_length = MAX_LENGTH, truncation=True, padding=True)"
      ]
    },
    {
      "cell_type": "code",
      "execution_count": null,
      "metadata": {
        "id": "JsvYj9AoeobG"
      },
      "outputs": [],
      "source": [
        "def ret_Answer_start_and_end_train(idx):\n",
        "    ret_start = 0\n",
        "    ret_end = 0\n",
        "    answer_encoding_fast = tokenizerFast(final_answers[idx]['text'],  max_length = MAX_LENGTH, truncation=True, padding=True)\n",
        "    print(answer_encoding_fast['input_ids'])\n",
        "    for a in range( len(test_encodings_fast['input_ids'][idx]) -  len(answer_encoding_fast['input_ids']) ):\n",
        "        i = 1\n",
        "        match = True\n",
        "        for i in range(1,len(answer_encoding_fast['input_ids']) - 1):\n",
        "\n",
        "            if (answer_encoding_fast['input_ids'][i] != test_encodings_fast['input_ids'][idx][a + i]):\n",
        "                match = False\n",
        "                break\n",
        "        if match:\n",
        "            ret_start = a+1\n",
        "            ret_end = a+i+1 #it was a+i+1 where i was the length of the number of words in answer\n",
        "            break\n",
        "    return(ret_start, ret_end)"
      ]
    },
    {
      "cell_type": "code",
      "execution_count": null,
      "metadata": {
        "colab": {
          "base_uri": "https://localhost:8080/"
        },
        "id": "Jm7MhqAXjm9U",
        "outputId": "69597f99-540e-4bf2-8efe-154e8e36fa66"
      },
      "outputs": [
        {
          "name": "stdout",
          "output_type": "stream",
          "text": [
            "[101, 2040, 2772, 1037, 3066, 2005, 2625, 2084, 1002, 3963, 2454, 2007, 27237, 1029, 102, 20773, 2038, 2499, 2007, 27237, 2144, 2526, 1010, 1998, 1999, 2432, 2596, 1999, 1037, 5580, 2401, 4263, 1011, 11773, 3293, 2007, 29168, 13957, 1010, 5061, 1010, 1998, 15769, 1045, 17125, 7951, 1012, 1999, 2262, 1010, 20773, 2772, 1037, 1002, 2753, 2454, 3066, 2000, 2203, 5668, 2063, 27237, 1012, 1996, 2415, 2005, 2671, 1999, 1996, 2270, 3037, 1006, 20116, 19265, 2102, 1007, 2626, 20773, 2019, 2330, 3661, 4851, 2014, 2000, 28667, 5644, 18688, 1996, 3066, 2138, 1997, 1996, 4895, 20192, 24658, 9961, 1997, 1996, 4031, 1998, 2000, 21357, 1996, 10951, 2000, 1037, 2966, 5502, 1012, 6600, 1010, 5658, 15058, 2179, 2008, 20773, 1005, 1055, 3049, 2001, 1996, 2087, 5720, 2055, 20380, 1999, 2258, 2286, 1010, 2007, 1037, 3963, 2566, 9358, 3893, 4378, 3433, 2000, 1996, 3293, 1998, 6140, 14997, 1012, 102, 0, 0, 0, 0, 0, 0, 0, 0, 0, 0, 0, 0, 0, 0, 0, 0, 0, 0, 0, 0, 0, 0, 0, 0, 0, 0, 0, 0, 0, 0, 0, 0, 0, 0, 0, 0, 0, 0, 0, 0, 0, 0, 0, 0, 0, 0, 0, 0, 0, 0, 0, 0, 0, 0, 0, 0, 0, 0, 0, 0, 0, 0, 0, 0, 0, 0, 0, 0, 0, 0, 0, 0, 0, 0, 0, 0, 0, 0, 0, 0, 0, 0, 0, 0, 0, 0, 0, 0, 0, 0, 0, 0, 0, 0, 0, 0, 0, 0, 0, 0, 0, 0, 0, 0, 0]\n",
            "[CLS] who signed a deal for less than $ 70 million with pepsi? [SEP] beyonce has worked with pepsi since 2002, and in 2004 appeared in a gladiator - themed commercial with britney spears, pink, and enrique iglesias. in 2012, beyonce signed a $ 50 million deal to endorse pepsi. the center for science in the public interest ( cspinet ) wrote beyonce an open letter asking her to reconsider the deal because of the unhealthiness of the product and to donate the proceeds to a medical organisation. nevertheless, netbase found that beyonce ' s campaign was the most talked about endorsement in april 2013, with a 70 per cent positive audience response to the commercial and print ads. [SEP] [PAD] [PAD] [PAD] [PAD] [PAD] [PAD] [PAD] [PAD] [PAD] [PAD] [PAD] [PAD] [PAD] [PAD] [PAD] [PAD] [PAD] [PAD] [PAD] [PAD] [PAD] [PAD] [PAD] [PAD] [PAD] [PAD] [PAD] [PAD] [PAD] [PAD] [PAD] [PAD] [PAD] [PAD] [PAD] [PAD] [PAD] [PAD] [PAD] [PAD] [PAD] [PAD] [PAD] [PAD] [PAD] [PAD] [PAD] [PAD] [PAD] [PAD] [PAD] [PAD] [PAD] [PAD] [PAD] [PAD] [PAD] [PAD] [PAD] [PAD] [PAD] [PAD] [PAD] [PAD] [PAD] [PAD] [PAD] [PAD] [PAD] [PAD] [PAD] [PAD] [PAD] [PAD] [PAD] [PAD] [PAD] [PAD] [PAD] [PAD] [PAD] [PAD] [PAD] [PAD] [PAD] [PAD] [PAD] [PAD] [PAD] [PAD] [PAD] [PAD] [PAD] [PAD] [PAD] [PAD] [PAD] [PAD] [PAD] [PAD] [PAD] [PAD] [PAD] [PAD] [PAD]\n",
            "[101, 20773, 102]\n",
            "[CLS] beyonce [SEP]\n",
            "beyoncé\n"
          ]
        }
      ],
      "source": [
        "print(test_encodings_fast['input_ids'][0])\n",
        "print(tokenizerFast.convert_tokens_to_string(tokenizerFast.convert_ids_to_tokens(test_encodings_fast['input_ids'][0])))\n",
        "tempo = tokenizerFast(final_answers[0]['text'],  max_length = MAX_LENGTH, truncation=True, padding=True)['input_ids']\n",
        "print(tempo)\n",
        "print(tokenizerFast.convert_tokens_to_string(tokenizerFast.convert_ids_to_tokens(tempo)))\n",
        "print(final_answers[0]['text'])"
      ]
    },
    {
      "cell_type": "code",
      "execution_count": null,
      "metadata": {
        "colab": {
          "base_uri": "https://localhost:8080/"
        },
        "id": "ZBifiGICggIA",
        "outputId": "679872d9-1ee0-47a2-be29-7160b029d3a5"
      },
      "outputs": [
        {
          "name": "stdout",
          "output_type": "stream",
          "text": [
            "[101, 20773, 102]\n",
            "(15, 16)\n",
            "beyoncé\n",
            "250\n",
            "{'text': 'beyoncé', 'answer_start': 154, 'answer_end': 161}\n"
          ]
        }
      ],
      "source": [
        "print(ret_Answer_start_and_end_train(0))\n",
        "print(final_answers[0]['text'])\n",
        "print(len(test_encodings_fast['input_ids'][0]))\n",
        "print(final_answers[0])"
      ]
    },
    {
      "cell_type": "code",
      "execution_count": null,
      "metadata": {
        "colab": {
          "base_uri": "https://localhost:8080/"
        },
        "id": "o00DfM12epa2",
        "outputId": "e871e74c-599c-46c9-b64d-18d2948aa66e"
      },
      "outputs": [
        {
          "name": "stdout",
          "output_type": "stream",
          "text": [
            "[101, 20773, 102]\n",
            "[101, 102]\n",
            "[101, 20773, 102]\n",
            "[101, 5658, 15058, 102]\n",
            "[101, 1017, 3620, 102]\n",
            "[101, 1016, 3620, 102]\n",
            "[101, 102]\n",
            "[101, 21388, 26200, 2078, 6346, 102]\n",
            "[101, 15536, 9363, 15551, 1043, 2721, 23247, 102]\n",
            "[101, 15536, 9363, 15551, 1043, 2721, 23247, 102]\n",
            "[101, 102]\n",
            "[101, 13164, 12972, 102]\n",
            "[101, 13164, 12972, 102]\n",
            "[101, 102]\n",
            "[101, 11388, 102]\n",
            "[101, 102]\n",
            "[101, 11388, 102]\n",
            "[101, 102]\n",
            "[101, 3782, 13144, 102]\n",
            "[101, 102]\n",
            "[101, 7065, 2884, 102]\n",
            "[101, 2236, 14403, 4143, 2015, 102]\n",
            "[101, 2236, 14403, 4143, 2015, 102]\n",
            "[101, 102]\n",
            "[101, 2343, 25398, 102]\n",
            "[101, 7064, 11620, 102]\n",
            "[101, 7064, 16864, 102]\n",
            "[101, 2220, 29529, 102]\n",
            "[101, 1048, 27268, 7352, 17342, 1010, 24239, 28716, 2102, 1010, 1998, 7327, 14432, 11610, 2247, 2007, 2116, 2060, 7329, 102]\n",
            "[101, 8915, 2213, 15460, 26029, 5149, 3669, 102]\n",
            "[101, 2320, 102]\n",
            "[101, 2321, 2420, 102]\n",
            "[101, 2254, 102]\n",
            "[101, 2539, 2420, 102]\n",
            "[101, 24921, 2661, 102]\n",
            "[101, 2324, 2661, 102]\n",
            "[101, 17690, 2401, 102]\n",
            "[101, 102]\n",
            "[101, 3347, 12849, 10023, 3676, 10073, 102]\n",
            "[101, 2176, 102]\n",
            "[101, 4466, 102]\n",
            "[101, 102]\n",
            "[101, 102]\n",
            "[101, 16545, 5302, 16998, 5252, 102]\n",
            "[101, 102]\n",
            "[101, 5626, 102]\n",
            "2\n"
          ]
        }
      ],
      "source": [
        "start_positions = []\n",
        "end_positions = []\n",
        "ctr = 0\n",
        "for h in range(len(test_encodings_fast['input_ids'])):\n",
        "    s, e = ret_Answer_start_and_end_train(h)\n",
        "    start_positions.append(s)\n",
        "    end_positions.append(e)\n",
        "    if s==0:\n",
        "        ctr = ctr + 1\n",
        "\n",
        "\n",
        "test_encodings_fast.update({'start_positions': start_positions, 'end_positions': end_positions})\n",
        "print(ctr)"
      ]
    },
    {
      "cell_type": "code",
      "execution_count": null,
      "metadata": {
        "colab": {
          "base_uri": "https://localhost:8080/"
        },
        "id": "8poCQ7fkh424",
        "outputId": "712b6fa1-fb3e-4b40-87ee-2d6836e18cf0"
      },
      "outputs": [
        {
          "name": "stdout",
          "output_type": "stream",
          "text": [
            "[15, 1, 16, 116, 169, 201, 1, 3, 0, 0, 1, 54, 55, 1, 17, 1, 19, 1, 194, 1, 59, 82, 75, 1, 15, 53, 35, 13, 69, 103, 78, 70, 102, 164, 143, 184, 31, 1, 46, 145, 18, 1, 1, 22, 1, 44]\n"
          ]
        }
      ],
      "source": [
        "print(test_encodings_fast['start_positions'])"
      ]
    },
    {
      "cell_type": "code",
      "execution_count": null,
      "metadata": {
        "id": "n7YqqJfUcydx"
      },
      "outputs": [],
      "source": [
        "test_dataset = InputDataset(test_encodings_fast)"
      ]
    },
    {
      "cell_type": "code",
      "execution_count": null,
      "metadata": {
        "id": "8h0HuEcIc85i"
      },
      "outputs": [],
      "source": [
        "test_data_loader = DataLoader(test_dataset, batch_size=4, shuffle=True)"
      ]
    },
    {
      "cell_type": "code",
      "execution_count": null,
      "metadata": {
        "colab": {
          "base_uri": "https://localhost:8080/"
        },
        "id": "Seg6YUyMdGo6",
        "outputId": "21cc6f6f-70bc-4309-adc3-be0c60823603"
      },
      "outputs": [
        {
          "name": "stdout",
          "output_type": "stream",
          "text": [
            "12\n"
          ]
        }
      ],
      "source": [
        "print(len(test_data_loader))"
      ]
    },
    {
      "cell_type": "code",
      "execution_count": null,
      "metadata": {
        "colab": {
          "base_uri": "https://localhost:8080/"
        },
        "id": "ymyN2IVxdU6z",
        "outputId": "e89c1c98-4eb7-486c-ce79-5d34be464f8b"
      },
      "outputs": [
        {
          "name": "stdout",
          "output_type": "stream",
          "text": [
            "tensor([21, 50, 53, 55], device='cuda:0')\n",
            "tensor([ 1, 19, 53,  1], device='cuda:0')\n",
            "tensor([ 37,  27, 194,  44], device='cuda:0')\n",
            "tensor([  1,   0, 194,  44], device='cuda:0')\n",
            "tensor([ 90,  80, 103, 143], device='cuda:0')\n",
            "tensor([ 46,  15, 103, 143], device='cuda:0')\n",
            "tensor([ 26, 215,  30, 178], device='cuda:0')\n",
            "tensor([  0,   3,   1, 102], device='cuda:0')\n",
            "tensor([43, 17, 63, 18], device='cuda:0')\n",
            "tensor([16, 17, 78, 18], device='cuda:0')\n",
            "tensor([145,  62,  31,  13], device='cuda:0')\n",
            "tensor([145,   1,  31,  13], device='cuda:0')\n",
            "tensor([54, 70, 20, 50], device='cuda:0')\n",
            "tensor([54, 70,  1, 15], device='cuda:0')\n",
            "tensor([134, 164,  22, 184], device='cuda:0')\n",
            "tensor([ 82, 164,  22, 184], device='cuda:0')\n",
            "tensor([136,  55, 203, 111], device='cuda:0')\n",
            "tensor([ 1, 55, 59,  1], device='cuda:0')\n",
            "tensor([116,  90, 169,  45], device='cuda:0')\n",
            "tensor([116,  35, 169,   1], device='cuda:0')\n",
            "tensor([ 69,   0, 211,  19], device='cuda:0')\n",
            "tensor([ 69,   1, 201,   1], device='cuda:0')\n",
            "tensor([75, 50], device='cuda:0')\n",
            "tensor([75,  1], device='cuda:0')\n"
          ]
        }
      ],
      "source": [
        "acc = []\n",
        "for batch in test_data_loader:\n",
        "  input_ids = batch['input_ids'].to(device)\n",
        "  attention_mask = batch['attention_mask'].to(device)\n",
        "  token_type_ids = batch['token_type_ids'].to(device)\n",
        "  start_positions = batch['start_positions'].to(device)\n",
        "  end_positions = batch['end_positions'].to(device)\n",
        "  out_start, out_end = model(input_ids=input_ids, attention_mask=attention_mask, token_type_ids=token_type_ids)\n",
        "  start_pred = torch.argmax(out_start, dim=1)\n",
        "  end_pred = torch.argmax(out_end, dim=1)\n",
        "\n",
        "  # for iter in range(16):\n",
        "  #         print(\"pred\")\n",
        "  #         print(tokenizerFast.convert_tokens_to_string(tokenizerFast.convert_ids_to_tokens(input_ids[iter][start_pred[iter] : end_pred[iter]])))\n",
        "  #         print(\"true ans\")\n",
        "  #         print(tokenizerFast.convert_tokens_to_string(tokenizerFast.convert_ids_to_tokens(input_ids[iter][start_positions[iter] : end_positions[iter]])))\n",
        "  print(start_pred)\n",
        "  print(start_positions)\n",
        "\n",
        "  acc.append(((start_pred == start_positions).sum()/len(start_pred)).item())\n",
        "  acc.append(((end_pred == end_positions).sum()/len(end_pred)).item())"
      ]
    },
    {
      "cell_type": "code",
      "execution_count": null,
      "metadata": {
        "colab": {
          "base_uri": "https://localhost:8080/"
        },
        "id": "zV6k33g2fuMb",
        "outputId": "83139c87-2bf8-4b70-9c62-0c15e3d23363"
      },
      "outputs": [
        {
          "name": "stdout",
          "output_type": "stream",
          "text": [
            "[154, -1, 154, 437, 626, 703, -1, 304, 11, 11, -1, 192, 192, -1, 0, -1, 0, -1, 865, -1, 1352, 619, 363, -1, 10, 205, 105, 4, 292, 410, 270, 241, 1542, 672, 601, 751, 20, -1, 108, 624, 0, -1, -1, 17, -1, 98]\n"
          ]
        }
      ],
      "source": [
        "print(test_answer_start)"
      ]
    },
    {
      "cell_type": "code",
      "execution_count": null,
      "metadata": {
        "colab": {
          "base_uri": "https://localhost:8080/"
        },
        "id": "5HeRM0dUfVhZ",
        "outputId": "413a9cde-2adb-41c2-cdb7-779a6681b956"
      },
      "outputs": [
        {
          "name": "stdout",
          "output_type": "stream",
          "text": [
            "42.708333333333336\n"
          ]
        }
      ],
      "source": [
        "print(100*sum(acc)/len(acc))"
      ]
    },
    {
      "cell_type": "code",
      "execution_count": null,
      "metadata": {
        "id": "kk_9EtZbgzis"
      },
      "outputs": [],
      "source": [
        "from google.colab import output\n",
        "output.eval_js('new Audio(\"https://upload.wikimedia.org/wikipedia/commons/0/05/Beep-09.ogg\").play()')"
      ]
    },
    {
      "cell_type": "code",
      "execution_count": null,
      "metadata": {
        "id": "_p3ElSRHaxDV"
      },
      "outputs": [],
      "source": [
        "f.close()"
      ]
    }
  ],
  "metadata": {
    "accelerator": "GPU",
    "colab": {
      "gpuType": "T4",
      "provenance": []
    },
    "kernelspec": {
      "display_name": "Python 3",
      "name": "python3"
    },
    "language_info": {
      "name": "python"
    },
    "widgets": {
      "application/vnd.jupyter.widget-state+json": {
        "01c3f8b4ba764fcc9f05dbbee0acc018": {
          "model_module": "@jupyter-widgets/base",
          "model_module_version": "1.2.0",
          "model_name": "LayoutModel",
          "state": {
            "_model_module": "@jupyter-widgets/base",
            "_model_module_version": "1.2.0",
            "_model_name": "LayoutModel",
            "_view_count": null,
            "_view_module": "@jupyter-widgets/base",
            "_view_module_version": "1.2.0",
            "_view_name": "LayoutView",
            "align_content": null,
            "align_items": null,
            "align_self": null,
            "border": null,
            "bottom": null,
            "display": null,
            "flex": null,
            "flex_flow": null,
            "grid_area": null,
            "grid_auto_columns": null,
            "grid_auto_flow": null,
            "grid_auto_rows": null,
            "grid_column": null,
            "grid_gap": null,
            "grid_row": null,
            "grid_template_areas": null,
            "grid_template_columns": null,
            "grid_template_rows": null,
            "height": null,
            "justify_content": null,
            "justify_items": null,
            "left": null,
            "margin": null,
            "max_height": null,
            "max_width": null,
            "min_height": null,
            "min_width": null,
            "object_fit": null,
            "object_position": null,
            "order": null,
            "overflow": null,
            "overflow_x": null,
            "overflow_y": null,
            "padding": null,
            "right": null,
            "top": null,
            "visibility": null,
            "width": null
          }
        },
        "0534925cec6d45ce9480d0e7a69c6ba2": {
          "model_module": "@jupyter-widgets/base",
          "model_module_version": "1.2.0",
          "model_name": "LayoutModel",
          "state": {
            "_model_module": "@jupyter-widgets/base",
            "_model_module_version": "1.2.0",
            "_model_name": "LayoutModel",
            "_view_count": null,
            "_view_module": "@jupyter-widgets/base",
            "_view_module_version": "1.2.0",
            "_view_name": "LayoutView",
            "align_content": null,
            "align_items": null,
            "align_self": null,
            "border": null,
            "bottom": null,
            "display": null,
            "flex": null,
            "flex_flow": null,
            "grid_area": null,
            "grid_auto_columns": null,
            "grid_auto_flow": null,
            "grid_auto_rows": null,
            "grid_column": null,
            "grid_gap": null,
            "grid_row": null,
            "grid_template_areas": null,
            "grid_template_columns": null,
            "grid_template_rows": null,
            "height": null,
            "justify_content": null,
            "justify_items": null,
            "left": null,
            "margin": null,
            "max_height": null,
            "max_width": null,
            "min_height": null,
            "min_width": null,
            "object_fit": null,
            "object_position": null,
            "order": null,
            "overflow": null,
            "overflow_x": null,
            "overflow_y": null,
            "padding": null,
            "right": null,
            "top": null,
            "visibility": null,
            "width": null
          }
        },
        "0bb10565ec504660b52fa0fc8108a91b": {
          "model_module": "@jupyter-widgets/base",
          "model_module_version": "1.2.0",
          "model_name": "LayoutModel",
          "state": {
            "_model_module": "@jupyter-widgets/base",
            "_model_module_version": "1.2.0",
            "_model_name": "LayoutModel",
            "_view_count": null,
            "_view_module": "@jupyter-widgets/base",
            "_view_module_version": "1.2.0",
            "_view_name": "LayoutView",
            "align_content": null,
            "align_items": null,
            "align_self": null,
            "border": null,
            "bottom": null,
            "display": null,
            "flex": null,
            "flex_flow": null,
            "grid_area": null,
            "grid_auto_columns": null,
            "grid_auto_flow": null,
            "grid_auto_rows": null,
            "grid_column": null,
            "grid_gap": null,
            "grid_row": null,
            "grid_template_areas": null,
            "grid_template_columns": null,
            "grid_template_rows": null,
            "height": null,
            "justify_content": null,
            "justify_items": null,
            "left": null,
            "margin": null,
            "max_height": null,
            "max_width": null,
            "min_height": null,
            "min_width": null,
            "object_fit": null,
            "object_position": null,
            "order": null,
            "overflow": null,
            "overflow_x": null,
            "overflow_y": null,
            "padding": null,
            "right": null,
            "top": null,
            "visibility": null,
            "width": null
          }
        },
        "1242fd4c49204d5e8928eb40476cd4a3": {
          "model_module": "@jupyter-widgets/controls",
          "model_module_version": "1.5.0",
          "model_name": "DescriptionStyleModel",
          "state": {
            "_model_module": "@jupyter-widgets/controls",
            "_model_module_version": "1.5.0",
            "_model_name": "DescriptionStyleModel",
            "_view_count": null,
            "_view_module": "@jupyter-widgets/base",
            "_view_module_version": "1.2.0",
            "_view_name": "StyleView",
            "description_width": ""
          }
        },
        "14b3bfa4a02141868e53ae45c4c42c09": {
          "model_module": "@jupyter-widgets/base",
          "model_module_version": "1.2.0",
          "model_name": "LayoutModel",
          "state": {
            "_model_module": "@jupyter-widgets/base",
            "_model_module_version": "1.2.0",
            "_model_name": "LayoutModel",
            "_view_count": null,
            "_view_module": "@jupyter-widgets/base",
            "_view_module_version": "1.2.0",
            "_view_name": "LayoutView",
            "align_content": null,
            "align_items": null,
            "align_self": null,
            "border": null,
            "bottom": null,
            "display": null,
            "flex": null,
            "flex_flow": null,
            "grid_area": null,
            "grid_auto_columns": null,
            "grid_auto_flow": null,
            "grid_auto_rows": null,
            "grid_column": null,
            "grid_gap": null,
            "grid_row": null,
            "grid_template_areas": null,
            "grid_template_columns": null,
            "grid_template_rows": null,
            "height": null,
            "justify_content": null,
            "justify_items": null,
            "left": null,
            "margin": null,
            "max_height": null,
            "max_width": null,
            "min_height": null,
            "min_width": null,
            "object_fit": null,
            "object_position": null,
            "order": null,
            "overflow": null,
            "overflow_x": null,
            "overflow_y": null,
            "padding": null,
            "right": null,
            "top": null,
            "visibility": null,
            "width": null
          }
        },
        "156af232fa7b4e9d803fbc82bb261bad": {
          "model_module": "@jupyter-widgets/base",
          "model_module_version": "1.2.0",
          "model_name": "LayoutModel",
          "state": {
            "_model_module": "@jupyter-widgets/base",
            "_model_module_version": "1.2.0",
            "_model_name": "LayoutModel",
            "_view_count": null,
            "_view_module": "@jupyter-widgets/base",
            "_view_module_version": "1.2.0",
            "_view_name": "LayoutView",
            "align_content": null,
            "align_items": null,
            "align_self": null,
            "border": null,
            "bottom": null,
            "display": null,
            "flex": null,
            "flex_flow": null,
            "grid_area": null,
            "grid_auto_columns": null,
            "grid_auto_flow": null,
            "grid_auto_rows": null,
            "grid_column": null,
            "grid_gap": null,
            "grid_row": null,
            "grid_template_areas": null,
            "grid_template_columns": null,
            "grid_template_rows": null,
            "height": null,
            "justify_content": null,
            "justify_items": null,
            "left": null,
            "margin": null,
            "max_height": null,
            "max_width": null,
            "min_height": null,
            "min_width": null,
            "object_fit": null,
            "object_position": null,
            "order": null,
            "overflow": null,
            "overflow_x": null,
            "overflow_y": null,
            "padding": null,
            "right": null,
            "top": null,
            "visibility": null,
            "width": null
          }
        },
        "1fac1501c3cf4a8781517a2e20c2ca74": {
          "model_module": "@jupyter-widgets/controls",
          "model_module_version": "1.5.0",
          "model_name": "DescriptionStyleModel",
          "state": {
            "_model_module": "@jupyter-widgets/controls",
            "_model_module_version": "1.5.0",
            "_model_name": "DescriptionStyleModel",
            "_view_count": null,
            "_view_module": "@jupyter-widgets/base",
            "_view_module_version": "1.2.0",
            "_view_name": "StyleView",
            "description_width": ""
          }
        },
        "1fe3761426bf4665842d47e2588ef3b5": {
          "model_module": "@jupyter-widgets/base",
          "model_module_version": "1.2.0",
          "model_name": "LayoutModel",
          "state": {
            "_model_module": "@jupyter-widgets/base",
            "_model_module_version": "1.2.0",
            "_model_name": "LayoutModel",
            "_view_count": null,
            "_view_module": "@jupyter-widgets/base",
            "_view_module_version": "1.2.0",
            "_view_name": "LayoutView",
            "align_content": null,
            "align_items": null,
            "align_self": null,
            "border": null,
            "bottom": null,
            "display": null,
            "flex": null,
            "flex_flow": null,
            "grid_area": null,
            "grid_auto_columns": null,
            "grid_auto_flow": null,
            "grid_auto_rows": null,
            "grid_column": null,
            "grid_gap": null,
            "grid_row": null,
            "grid_template_areas": null,
            "grid_template_columns": null,
            "grid_template_rows": null,
            "height": null,
            "justify_content": null,
            "justify_items": null,
            "left": null,
            "margin": null,
            "max_height": null,
            "max_width": null,
            "min_height": null,
            "min_width": null,
            "object_fit": null,
            "object_position": null,
            "order": null,
            "overflow": null,
            "overflow_x": null,
            "overflow_y": null,
            "padding": null,
            "right": null,
            "top": null,
            "visibility": null,
            "width": null
          }
        },
        "2445044e04454ed2afcfaa07124b404c": {
          "model_module": "@jupyter-widgets/base",
          "model_module_version": "1.2.0",
          "model_name": "LayoutModel",
          "state": {
            "_model_module": "@jupyter-widgets/base",
            "_model_module_version": "1.2.0",
            "_model_name": "LayoutModel",
            "_view_count": null,
            "_view_module": "@jupyter-widgets/base",
            "_view_module_version": "1.2.0",
            "_view_name": "LayoutView",
            "align_content": null,
            "align_items": null,
            "align_self": null,
            "border": null,
            "bottom": null,
            "display": null,
            "flex": null,
            "flex_flow": null,
            "grid_area": null,
            "grid_auto_columns": null,
            "grid_auto_flow": null,
            "grid_auto_rows": null,
            "grid_column": null,
            "grid_gap": null,
            "grid_row": null,
            "grid_template_areas": null,
            "grid_template_columns": null,
            "grid_template_rows": null,
            "height": null,
            "justify_content": null,
            "justify_items": null,
            "left": null,
            "margin": null,
            "max_height": null,
            "max_width": null,
            "min_height": null,
            "min_width": null,
            "object_fit": null,
            "object_position": null,
            "order": null,
            "overflow": null,
            "overflow_x": null,
            "overflow_y": null,
            "padding": null,
            "right": null,
            "top": null,
            "visibility": null,
            "width": null
          }
        },
        "30a779a5b8b9485092563cc5aa817e92": {
          "model_module": "@jupyter-widgets/controls",
          "model_module_version": "1.5.0",
          "model_name": "DescriptionStyleModel",
          "state": {
            "_model_module": "@jupyter-widgets/controls",
            "_model_module_version": "1.5.0",
            "_model_name": "DescriptionStyleModel",
            "_view_count": null,
            "_view_module": "@jupyter-widgets/base",
            "_view_module_version": "1.2.0",
            "_view_name": "StyleView",
            "description_width": ""
          }
        },
        "3aa6f5110ddc498ea81f548f740ea16c": {
          "model_module": "@jupyter-widgets/controls",
          "model_module_version": "1.5.0",
          "model_name": "HTMLModel",
          "state": {
            "_dom_classes": [],
            "_model_module": "@jupyter-widgets/controls",
            "_model_module_version": "1.5.0",
            "_model_name": "HTMLModel",
            "_view_count": null,
            "_view_module": "@jupyter-widgets/controls",
            "_view_module_version": "1.5.0",
            "_view_name": "HTMLView",
            "description": "",
            "description_tooltip": null,
            "layout": "IPY_MODEL_01c3f8b4ba764fcc9f05dbbee0acc018",
            "placeholder": "​",
            "style": "IPY_MODEL_5f76d4f4694e44589caad1c21bc68c28",
            "value": " 466k/466k [00:00&lt;00:00, 16.9MB/s]"
          }
        },
        "43c1f172f1eb42508cacb833c50d0c28": {
          "model_module": "@jupyter-widgets/base",
          "model_module_version": "1.2.0",
          "model_name": "LayoutModel",
          "state": {
            "_model_module": "@jupyter-widgets/base",
            "_model_module_version": "1.2.0",
            "_model_name": "LayoutModel",
            "_view_count": null,
            "_view_module": "@jupyter-widgets/base",
            "_view_module_version": "1.2.0",
            "_view_name": "LayoutView",
            "align_content": null,
            "align_items": null,
            "align_self": null,
            "border": null,
            "bottom": null,
            "display": null,
            "flex": null,
            "flex_flow": null,
            "grid_area": null,
            "grid_auto_columns": null,
            "grid_auto_flow": null,
            "grid_auto_rows": null,
            "grid_column": null,
            "grid_gap": null,
            "grid_row": null,
            "grid_template_areas": null,
            "grid_template_columns": null,
            "grid_template_rows": null,
            "height": null,
            "justify_content": null,
            "justify_items": null,
            "left": null,
            "margin": null,
            "max_height": null,
            "max_width": null,
            "min_height": null,
            "min_width": null,
            "object_fit": null,
            "object_position": null,
            "order": null,
            "overflow": null,
            "overflow_x": null,
            "overflow_y": null,
            "padding": null,
            "right": null,
            "top": null,
            "visibility": null,
            "width": null
          }
        },
        "465dc01c28004807ab7df7f38133af74": {
          "model_module": "@jupyter-widgets/controls",
          "model_module_version": "1.5.0",
          "model_name": "FloatProgressModel",
          "state": {
            "_dom_classes": [],
            "_model_module": "@jupyter-widgets/controls",
            "_model_module_version": "1.5.0",
            "_model_name": "FloatProgressModel",
            "_view_count": null,
            "_view_module": "@jupyter-widgets/controls",
            "_view_module_version": "1.5.0",
            "_view_name": "ProgressView",
            "bar_style": "success",
            "description": "",
            "description_tooltip": null,
            "layout": "IPY_MODEL_0bb10565ec504660b52fa0fc8108a91b",
            "max": 466062,
            "min": 0,
            "orientation": "horizontal",
            "style": "IPY_MODEL_dc85d92c45574fbea5812df100f0fe4f",
            "value": 466062
          }
        },
        "46b1e8949c864db39f373f510a32dba9": {
          "model_module": "@jupyter-widgets/controls",
          "model_module_version": "1.5.0",
          "model_name": "HBoxModel",
          "state": {
            "_dom_classes": [],
            "_model_module": "@jupyter-widgets/controls",
            "_model_module_version": "1.5.0",
            "_model_name": "HBoxModel",
            "_view_count": null,
            "_view_module": "@jupyter-widgets/controls",
            "_view_module_version": "1.5.0",
            "_view_name": "HBoxView",
            "box_style": "",
            "children": [
              "IPY_MODEL_775f5b00e0cf4bd38eb9c0dc34c696f6",
              "IPY_MODEL_e8bf387a30e44f5bbb04ef48cec1d1a9",
              "IPY_MODEL_d20a6f9e59ce46359f8b1c367e733c9e"
            ],
            "layout": "IPY_MODEL_43c1f172f1eb42508cacb833c50d0c28"
          }
        },
        "481fc3287a9f40538ae0b88aa4f43cd0": {
          "model_module": "@jupyter-widgets/controls",
          "model_module_version": "1.5.0",
          "model_name": "FloatProgressModel",
          "state": {
            "_dom_classes": [],
            "_model_module": "@jupyter-widgets/controls",
            "_model_module_version": "1.5.0",
            "_model_name": "FloatProgressModel",
            "_view_count": null,
            "_view_module": "@jupyter-widgets/controls",
            "_view_module_version": "1.5.0",
            "_view_name": "ProgressView",
            "bar_style": "success",
            "description": "",
            "description_tooltip": null,
            "layout": "IPY_MODEL_1fe3761426bf4665842d47e2588ef3b5",
            "max": 440449768,
            "min": 0,
            "orientation": "horizontal",
            "style": "IPY_MODEL_f93493d1b9754ee0b190e626d6d76ef9",
            "value": 440449768
          }
        },
        "4f166f1198e24c9486a2aa0b6d6f9ef5": {
          "model_module": "@jupyter-widgets/base",
          "model_module_version": "1.2.0",
          "model_name": "LayoutModel",
          "state": {
            "_model_module": "@jupyter-widgets/base",
            "_model_module_version": "1.2.0",
            "_model_name": "LayoutModel",
            "_view_count": null,
            "_view_module": "@jupyter-widgets/base",
            "_view_module_version": "1.2.0",
            "_view_name": "LayoutView",
            "align_content": null,
            "align_items": null,
            "align_self": null,
            "border": null,
            "bottom": null,
            "display": null,
            "flex": null,
            "flex_flow": null,
            "grid_area": null,
            "grid_auto_columns": null,
            "grid_auto_flow": null,
            "grid_auto_rows": null,
            "grid_column": null,
            "grid_gap": null,
            "grid_row": null,
            "grid_template_areas": null,
            "grid_template_columns": null,
            "grid_template_rows": null,
            "height": null,
            "justify_content": null,
            "justify_items": null,
            "left": null,
            "margin": null,
            "max_height": null,
            "max_width": null,
            "min_height": null,
            "min_width": null,
            "object_fit": null,
            "object_position": null,
            "order": null,
            "overflow": null,
            "overflow_x": null,
            "overflow_y": null,
            "padding": null,
            "right": null,
            "top": null,
            "visibility": null,
            "width": null
          }
        },
        "50efa21878534720842fde4fa6f33ac7": {
          "model_module": "@jupyter-widgets/base",
          "model_module_version": "1.2.0",
          "model_name": "LayoutModel",
          "state": {
            "_model_module": "@jupyter-widgets/base",
            "_model_module_version": "1.2.0",
            "_model_name": "LayoutModel",
            "_view_count": null,
            "_view_module": "@jupyter-widgets/base",
            "_view_module_version": "1.2.0",
            "_view_name": "LayoutView",
            "align_content": null,
            "align_items": null,
            "align_self": null,
            "border": null,
            "bottom": null,
            "display": null,
            "flex": null,
            "flex_flow": null,
            "grid_area": null,
            "grid_auto_columns": null,
            "grid_auto_flow": null,
            "grid_auto_rows": null,
            "grid_column": null,
            "grid_gap": null,
            "grid_row": null,
            "grid_template_areas": null,
            "grid_template_columns": null,
            "grid_template_rows": null,
            "height": null,
            "justify_content": null,
            "justify_items": null,
            "left": null,
            "margin": null,
            "max_height": null,
            "max_width": null,
            "min_height": null,
            "min_width": null,
            "object_fit": null,
            "object_position": null,
            "order": null,
            "overflow": null,
            "overflow_x": null,
            "overflow_y": null,
            "padding": null,
            "right": null,
            "top": null,
            "visibility": null,
            "width": null
          }
        },
        "513679edc45d402fa1533af00220530a": {
          "model_module": "@jupyter-widgets/base",
          "model_module_version": "1.2.0",
          "model_name": "LayoutModel",
          "state": {
            "_model_module": "@jupyter-widgets/base",
            "_model_module_version": "1.2.0",
            "_model_name": "LayoutModel",
            "_view_count": null,
            "_view_module": "@jupyter-widgets/base",
            "_view_module_version": "1.2.0",
            "_view_name": "LayoutView",
            "align_content": null,
            "align_items": null,
            "align_self": null,
            "border": null,
            "bottom": null,
            "display": null,
            "flex": null,
            "flex_flow": null,
            "grid_area": null,
            "grid_auto_columns": null,
            "grid_auto_flow": null,
            "grid_auto_rows": null,
            "grid_column": null,
            "grid_gap": null,
            "grid_row": null,
            "grid_template_areas": null,
            "grid_template_columns": null,
            "grid_template_rows": null,
            "height": null,
            "justify_content": null,
            "justify_items": null,
            "left": null,
            "margin": null,
            "max_height": null,
            "max_width": null,
            "min_height": null,
            "min_width": null,
            "object_fit": null,
            "object_position": null,
            "order": null,
            "overflow": null,
            "overflow_x": null,
            "overflow_y": null,
            "padding": null,
            "right": null,
            "top": null,
            "visibility": null,
            "width": null
          }
        },
        "54665292607b4f90a49a0a20deb3d4a3": {
          "model_module": "@jupyter-widgets/base",
          "model_module_version": "1.2.0",
          "model_name": "LayoutModel",
          "state": {
            "_model_module": "@jupyter-widgets/base",
            "_model_module_version": "1.2.0",
            "_model_name": "LayoutModel",
            "_view_count": null,
            "_view_module": "@jupyter-widgets/base",
            "_view_module_version": "1.2.0",
            "_view_name": "LayoutView",
            "align_content": null,
            "align_items": null,
            "align_self": null,
            "border": null,
            "bottom": null,
            "display": null,
            "flex": null,
            "flex_flow": null,
            "grid_area": null,
            "grid_auto_columns": null,
            "grid_auto_flow": null,
            "grid_auto_rows": null,
            "grid_column": null,
            "grid_gap": null,
            "grid_row": null,
            "grid_template_areas": null,
            "grid_template_columns": null,
            "grid_template_rows": null,
            "height": null,
            "justify_content": null,
            "justify_items": null,
            "left": null,
            "margin": null,
            "max_height": null,
            "max_width": null,
            "min_height": null,
            "min_width": null,
            "object_fit": null,
            "object_position": null,
            "order": null,
            "overflow": null,
            "overflow_x": null,
            "overflow_y": null,
            "padding": null,
            "right": null,
            "top": null,
            "visibility": null,
            "width": null
          }
        },
        "569f712f01444ddc8d35f79a1fb148ee": {
          "model_module": "@jupyter-widgets/controls",
          "model_module_version": "1.5.0",
          "model_name": "HTMLModel",
          "state": {
            "_dom_classes": [],
            "_model_module": "@jupyter-widgets/controls",
            "_model_module_version": "1.5.0",
            "_model_name": "HTMLModel",
            "_view_count": null,
            "_view_module": "@jupyter-widgets/controls",
            "_view_module_version": "1.5.0",
            "_view_name": "HTMLView",
            "description": "",
            "description_tooltip": null,
            "layout": "IPY_MODEL_7d2d23ea66e946a9b9400f65c7a047ce",
            "placeholder": "​",
            "style": "IPY_MODEL_dc42a116de14457296c90163e0280d84",
            "value": " 28.0/28.0 [00:00&lt;00:00, 1.55kB/s]"
          }
        },
        "5ad04ca1ad6f46cc95e5c605194ba350": {
          "model_module": "@jupyter-widgets/controls",
          "model_module_version": "1.5.0",
          "model_name": "FloatProgressModel",
          "state": {
            "_dom_classes": [],
            "_model_module": "@jupyter-widgets/controls",
            "_model_module_version": "1.5.0",
            "_model_name": "FloatProgressModel",
            "_view_count": null,
            "_view_module": "@jupyter-widgets/controls",
            "_view_module_version": "1.5.0",
            "_view_name": "ProgressView",
            "bar_style": "success",
            "description": "",
            "description_tooltip": null,
            "layout": "IPY_MODEL_54665292607b4f90a49a0a20deb3d4a3",
            "max": 570,
            "min": 0,
            "orientation": "horizontal",
            "style": "IPY_MODEL_e480d15350264485804ea8117dc7e8ad",
            "value": 570
          }
        },
        "5f76d4f4694e44589caad1c21bc68c28": {
          "model_module": "@jupyter-widgets/controls",
          "model_module_version": "1.5.0",
          "model_name": "DescriptionStyleModel",
          "state": {
            "_model_module": "@jupyter-widgets/controls",
            "_model_module_version": "1.5.0",
            "_model_name": "DescriptionStyleModel",
            "_view_count": null,
            "_view_module": "@jupyter-widgets/base",
            "_view_module_version": "1.2.0",
            "_view_name": "StyleView",
            "description_width": ""
          }
        },
        "69b4b4a21884429c9ea286c2bf5bf3a7": {
          "model_module": "@jupyter-widgets/controls",
          "model_module_version": "1.5.0",
          "model_name": "DescriptionStyleModel",
          "state": {
            "_model_module": "@jupyter-widgets/controls",
            "_model_module_version": "1.5.0",
            "_model_name": "DescriptionStyleModel",
            "_view_count": null,
            "_view_module": "@jupyter-widgets/base",
            "_view_module_version": "1.2.0",
            "_view_name": "StyleView",
            "description_width": ""
          }
        },
        "775f5b00e0cf4bd38eb9c0dc34c696f6": {
          "model_module": "@jupyter-widgets/controls",
          "model_module_version": "1.5.0",
          "model_name": "HTMLModel",
          "state": {
            "_dom_classes": [],
            "_model_module": "@jupyter-widgets/controls",
            "_model_module_version": "1.5.0",
            "_model_name": "HTMLModel",
            "_view_count": null,
            "_view_module": "@jupyter-widgets/controls",
            "_view_module_version": "1.5.0",
            "_view_name": "HTMLView",
            "description": "",
            "description_tooltip": null,
            "layout": "IPY_MODEL_513679edc45d402fa1533af00220530a",
            "placeholder": "​",
            "style": "IPY_MODEL_ea5f3d107cc0483d98aa3f0d01e4e369",
            "value": "vocab.txt: 100%"
          }
        },
        "7bfd90be95054922b401cc1dfd931569": {
          "model_module": "@jupyter-widgets/controls",
          "model_module_version": "1.5.0",
          "model_name": "HTMLModel",
          "state": {
            "_dom_classes": [],
            "_model_module": "@jupyter-widgets/controls",
            "_model_module_version": "1.5.0",
            "_model_name": "HTMLModel",
            "_view_count": null,
            "_view_module": "@jupyter-widgets/controls",
            "_view_module_version": "1.5.0",
            "_view_name": "HTMLView",
            "description": "",
            "description_tooltip": null,
            "layout": "IPY_MODEL_f8f701cfacc642909b07c2a6cb13369c",
            "placeholder": "​",
            "style": "IPY_MODEL_e295aefeb0b34b0db696460959b9629c",
            "value": "tokenizer.json: 100%"
          }
        },
        "7d2d23ea66e946a9b9400f65c7a047ce": {
          "model_module": "@jupyter-widgets/base",
          "model_module_version": "1.2.0",
          "model_name": "LayoutModel",
          "state": {
            "_model_module": "@jupyter-widgets/base",
            "_model_module_version": "1.2.0",
            "_model_name": "LayoutModel",
            "_view_count": null,
            "_view_module": "@jupyter-widgets/base",
            "_view_module_version": "1.2.0",
            "_view_name": "LayoutView",
            "align_content": null,
            "align_items": null,
            "align_self": null,
            "border": null,
            "bottom": null,
            "display": null,
            "flex": null,
            "flex_flow": null,
            "grid_area": null,
            "grid_auto_columns": null,
            "grid_auto_flow": null,
            "grid_auto_rows": null,
            "grid_column": null,
            "grid_gap": null,
            "grid_row": null,
            "grid_template_areas": null,
            "grid_template_columns": null,
            "grid_template_rows": null,
            "height": null,
            "justify_content": null,
            "justify_items": null,
            "left": null,
            "margin": null,
            "max_height": null,
            "max_width": null,
            "min_height": null,
            "min_width": null,
            "object_fit": null,
            "object_position": null,
            "order": null,
            "overflow": null,
            "overflow_x": null,
            "overflow_y": null,
            "padding": null,
            "right": null,
            "top": null,
            "visibility": null,
            "width": null
          }
        },
        "8572656c30704f41ba7896de81418860": {
          "model_module": "@jupyter-widgets/controls",
          "model_module_version": "1.5.0",
          "model_name": "HTMLModel",
          "state": {
            "_dom_classes": [],
            "_model_module": "@jupyter-widgets/controls",
            "_model_module_version": "1.5.0",
            "_model_name": "HTMLModel",
            "_view_count": null,
            "_view_module": "@jupyter-widgets/controls",
            "_view_module_version": "1.5.0",
            "_view_name": "HTMLView",
            "description": "",
            "description_tooltip": null,
            "layout": "IPY_MODEL_4f166f1198e24c9486a2aa0b6d6f9ef5",
            "placeholder": "​",
            "style": "IPY_MODEL_1fac1501c3cf4a8781517a2e20c2ca74",
            "value": " 440M/440M [00:03&lt;00:00, 115MB/s]"
          }
        },
        "8ac6fa5ab45a48bea120ad30810d53dd": {
          "model_module": "@jupyter-widgets/controls",
          "model_module_version": "1.5.0",
          "model_name": "HBoxModel",
          "state": {
            "_dom_classes": [],
            "_model_module": "@jupyter-widgets/controls",
            "_model_module_version": "1.5.0",
            "_model_name": "HBoxModel",
            "_view_count": null,
            "_view_module": "@jupyter-widgets/controls",
            "_view_module_version": "1.5.0",
            "_view_name": "HBoxView",
            "box_style": "",
            "children": [
              "IPY_MODEL_ca46104c9c644ddaa49af74b256e514d",
              "IPY_MODEL_e2379cbad8c746efbc58b77e06ea0ed8",
              "IPY_MODEL_569f712f01444ddc8d35f79a1fb148ee"
            ],
            "layout": "IPY_MODEL_d1f379ebcb184454b3b37084d88e5754"
          }
        },
        "8de33626c35941598bf9004f0cc7b11a": {
          "model_module": "@jupyter-widgets/controls",
          "model_module_version": "1.5.0",
          "model_name": "ProgressStyleModel",
          "state": {
            "_model_module": "@jupyter-widgets/controls",
            "_model_module_version": "1.5.0",
            "_model_name": "ProgressStyleModel",
            "_view_count": null,
            "_view_module": "@jupyter-widgets/base",
            "_view_module_version": "1.2.0",
            "_view_name": "StyleView",
            "bar_color": null,
            "description_width": ""
          }
        },
        "96603596efb24e2785b413d5f6730f7a": {
          "model_module": "@jupyter-widgets/controls",
          "model_module_version": "1.5.0",
          "model_name": "HBoxModel",
          "state": {
            "_dom_classes": [],
            "_model_module": "@jupyter-widgets/controls",
            "_model_module_version": "1.5.0",
            "_model_name": "HBoxModel",
            "_view_count": null,
            "_view_module": "@jupyter-widgets/controls",
            "_view_module_version": "1.5.0",
            "_view_name": "HBoxView",
            "box_style": "",
            "children": [
              "IPY_MODEL_f7b22b18675543ddbea0dd248cb02962",
              "IPY_MODEL_481fc3287a9f40538ae0b88aa4f43cd0",
              "IPY_MODEL_8572656c30704f41ba7896de81418860"
            ],
            "layout": "IPY_MODEL_50efa21878534720842fde4fa6f33ac7"
          }
        },
        "a192cd3072ba4d4e980517539aedc74b": {
          "model_module": "@jupyter-widgets/controls",
          "model_module_version": "1.5.0",
          "model_name": "HBoxModel",
          "state": {
            "_dom_classes": [],
            "_model_module": "@jupyter-widgets/controls",
            "_model_module_version": "1.5.0",
            "_model_name": "HBoxModel",
            "_view_count": null,
            "_view_module": "@jupyter-widgets/controls",
            "_view_module_version": "1.5.0",
            "_view_name": "HBoxView",
            "box_style": "",
            "children": [
              "IPY_MODEL_7bfd90be95054922b401cc1dfd931569",
              "IPY_MODEL_465dc01c28004807ab7df7f38133af74",
              "IPY_MODEL_3aa6f5110ddc498ea81f548f740ea16c"
            ],
            "layout": "IPY_MODEL_ebb9c4cb251545cfa3b8d1879bb983ff"
          }
        },
        "a68c5f35dfd34aab9ab00d52210e9845": {
          "model_module": "@jupyter-widgets/controls",
          "model_module_version": "1.5.0",
          "model_name": "HBoxModel",
          "state": {
            "_dom_classes": [],
            "_model_module": "@jupyter-widgets/controls",
            "_model_module_version": "1.5.0",
            "_model_name": "HBoxModel",
            "_view_count": null,
            "_view_module": "@jupyter-widgets/controls",
            "_view_module_version": "1.5.0",
            "_view_name": "HBoxView",
            "box_style": "",
            "children": [
              "IPY_MODEL_b7ab03987e244ae3a233103cbaec76fe",
              "IPY_MODEL_5ad04ca1ad6f46cc95e5c605194ba350",
              "IPY_MODEL_ba935260f0714dc5980c62380394e6ff"
            ],
            "layout": "IPY_MODEL_14b3bfa4a02141868e53ae45c4c42c09"
          }
        },
        "b7ab03987e244ae3a233103cbaec76fe": {
          "model_module": "@jupyter-widgets/controls",
          "model_module_version": "1.5.0",
          "model_name": "HTMLModel",
          "state": {
            "_dom_classes": [],
            "_model_module": "@jupyter-widgets/controls",
            "_model_module_version": "1.5.0",
            "_model_name": "HTMLModel",
            "_view_count": null,
            "_view_module": "@jupyter-widgets/controls",
            "_view_module_version": "1.5.0",
            "_view_name": "HTMLView",
            "description": "",
            "description_tooltip": null,
            "layout": "IPY_MODEL_2445044e04454ed2afcfaa07124b404c",
            "placeholder": "​",
            "style": "IPY_MODEL_c00f4ca9905e45a28db90dd7b3d1b84e",
            "value": "config.json: 100%"
          }
        },
        "b8b0211e6136408a8c79cba76444bcbe": {
          "model_module": "@jupyter-widgets/controls",
          "model_module_version": "1.5.0",
          "model_name": "DescriptionStyleModel",
          "state": {
            "_model_module": "@jupyter-widgets/controls",
            "_model_module_version": "1.5.0",
            "_model_name": "DescriptionStyleModel",
            "_view_count": null,
            "_view_module": "@jupyter-widgets/base",
            "_view_module_version": "1.2.0",
            "_view_name": "StyleView",
            "description_width": ""
          }
        },
        "ba935260f0714dc5980c62380394e6ff": {
          "model_module": "@jupyter-widgets/controls",
          "model_module_version": "1.5.0",
          "model_name": "HTMLModel",
          "state": {
            "_dom_classes": [],
            "_model_module": "@jupyter-widgets/controls",
            "_model_module_version": "1.5.0",
            "_model_name": "HTMLModel",
            "_view_count": null,
            "_view_module": "@jupyter-widgets/controls",
            "_view_module_version": "1.5.0",
            "_view_name": "HTMLView",
            "description": "",
            "description_tooltip": null,
            "layout": "IPY_MODEL_dd6ae3de97284ef8bb8b706c94c30203",
            "placeholder": "​",
            "style": "IPY_MODEL_1242fd4c49204d5e8928eb40476cd4a3",
            "value": " 570/570 [00:00&lt;00:00, 25.0kB/s]"
          }
        },
        "c00f4ca9905e45a28db90dd7b3d1b84e": {
          "model_module": "@jupyter-widgets/controls",
          "model_module_version": "1.5.0",
          "model_name": "DescriptionStyleModel",
          "state": {
            "_model_module": "@jupyter-widgets/controls",
            "_model_module_version": "1.5.0",
            "_model_name": "DescriptionStyleModel",
            "_view_count": null,
            "_view_module": "@jupyter-widgets/base",
            "_view_module_version": "1.2.0",
            "_view_name": "StyleView",
            "description_width": ""
          }
        },
        "c9637dab924b44749d088ce03c225faa": {
          "model_module": "@jupyter-widgets/base",
          "model_module_version": "1.2.0",
          "model_name": "LayoutModel",
          "state": {
            "_model_module": "@jupyter-widgets/base",
            "_model_module_version": "1.2.0",
            "_model_name": "LayoutModel",
            "_view_count": null,
            "_view_module": "@jupyter-widgets/base",
            "_view_module_version": "1.2.0",
            "_view_name": "LayoutView",
            "align_content": null,
            "align_items": null,
            "align_self": null,
            "border": null,
            "bottom": null,
            "display": null,
            "flex": null,
            "flex_flow": null,
            "grid_area": null,
            "grid_auto_columns": null,
            "grid_auto_flow": null,
            "grid_auto_rows": null,
            "grid_column": null,
            "grid_gap": null,
            "grid_row": null,
            "grid_template_areas": null,
            "grid_template_columns": null,
            "grid_template_rows": null,
            "height": null,
            "justify_content": null,
            "justify_items": null,
            "left": null,
            "margin": null,
            "max_height": null,
            "max_width": null,
            "min_height": null,
            "min_width": null,
            "object_fit": null,
            "object_position": null,
            "order": null,
            "overflow": null,
            "overflow_x": null,
            "overflow_y": null,
            "padding": null,
            "right": null,
            "top": null,
            "visibility": null,
            "width": null
          }
        },
        "ca46104c9c644ddaa49af74b256e514d": {
          "model_module": "@jupyter-widgets/controls",
          "model_module_version": "1.5.0",
          "model_name": "HTMLModel",
          "state": {
            "_dom_classes": [],
            "_model_module": "@jupyter-widgets/controls",
            "_model_module_version": "1.5.0",
            "_model_name": "HTMLModel",
            "_view_count": null,
            "_view_module": "@jupyter-widgets/controls",
            "_view_module_version": "1.5.0",
            "_view_name": "HTMLView",
            "description": "",
            "description_tooltip": null,
            "layout": "IPY_MODEL_0534925cec6d45ce9480d0e7a69c6ba2",
            "placeholder": "​",
            "style": "IPY_MODEL_69b4b4a21884429c9ea286c2bf5bf3a7",
            "value": "tokenizer_config.json: 100%"
          }
        },
        "d1f379ebcb184454b3b37084d88e5754": {
          "model_module": "@jupyter-widgets/base",
          "model_module_version": "1.2.0",
          "model_name": "LayoutModel",
          "state": {
            "_model_module": "@jupyter-widgets/base",
            "_model_module_version": "1.2.0",
            "_model_name": "LayoutModel",
            "_view_count": null,
            "_view_module": "@jupyter-widgets/base",
            "_view_module_version": "1.2.0",
            "_view_name": "LayoutView",
            "align_content": null,
            "align_items": null,
            "align_self": null,
            "border": null,
            "bottom": null,
            "display": null,
            "flex": null,
            "flex_flow": null,
            "grid_area": null,
            "grid_auto_columns": null,
            "grid_auto_flow": null,
            "grid_auto_rows": null,
            "grid_column": null,
            "grid_gap": null,
            "grid_row": null,
            "grid_template_areas": null,
            "grid_template_columns": null,
            "grid_template_rows": null,
            "height": null,
            "justify_content": null,
            "justify_items": null,
            "left": null,
            "margin": null,
            "max_height": null,
            "max_width": null,
            "min_height": null,
            "min_width": null,
            "object_fit": null,
            "object_position": null,
            "order": null,
            "overflow": null,
            "overflow_x": null,
            "overflow_y": null,
            "padding": null,
            "right": null,
            "top": null,
            "visibility": null,
            "width": null
          }
        },
        "d20a6f9e59ce46359f8b1c367e733c9e": {
          "model_module": "@jupyter-widgets/controls",
          "model_module_version": "1.5.0",
          "model_name": "HTMLModel",
          "state": {
            "_dom_classes": [],
            "_model_module": "@jupyter-widgets/controls",
            "_model_module_version": "1.5.0",
            "_model_name": "HTMLModel",
            "_view_count": null,
            "_view_module": "@jupyter-widgets/controls",
            "_view_module_version": "1.5.0",
            "_view_name": "HTMLView",
            "description": "",
            "description_tooltip": null,
            "layout": "IPY_MODEL_156af232fa7b4e9d803fbc82bb261bad",
            "placeholder": "​",
            "style": "IPY_MODEL_b8b0211e6136408a8c79cba76444bcbe",
            "value": " 232k/232k [00:00&lt;00:00, 4.02MB/s]"
          }
        },
        "d7b59e696d7c4b38af1015f1d4cdbcec": {
          "model_module": "@jupyter-widgets/base",
          "model_module_version": "1.2.0",
          "model_name": "LayoutModel",
          "state": {
            "_model_module": "@jupyter-widgets/base",
            "_model_module_version": "1.2.0",
            "_model_name": "LayoutModel",
            "_view_count": null,
            "_view_module": "@jupyter-widgets/base",
            "_view_module_version": "1.2.0",
            "_view_name": "LayoutView",
            "align_content": null,
            "align_items": null,
            "align_self": null,
            "border": null,
            "bottom": null,
            "display": null,
            "flex": null,
            "flex_flow": null,
            "grid_area": null,
            "grid_auto_columns": null,
            "grid_auto_flow": null,
            "grid_auto_rows": null,
            "grid_column": null,
            "grid_gap": null,
            "grid_row": null,
            "grid_template_areas": null,
            "grid_template_columns": null,
            "grid_template_rows": null,
            "height": null,
            "justify_content": null,
            "justify_items": null,
            "left": null,
            "margin": null,
            "max_height": null,
            "max_width": null,
            "min_height": null,
            "min_width": null,
            "object_fit": null,
            "object_position": null,
            "order": null,
            "overflow": null,
            "overflow_x": null,
            "overflow_y": null,
            "padding": null,
            "right": null,
            "top": null,
            "visibility": null,
            "width": null
          }
        },
        "daf6cd40b2634dc3b693420018c89b2d": {
          "model_module": "@jupyter-widgets/controls",
          "model_module_version": "1.5.0",
          "model_name": "ProgressStyleModel",
          "state": {
            "_model_module": "@jupyter-widgets/controls",
            "_model_module_version": "1.5.0",
            "_model_name": "ProgressStyleModel",
            "_view_count": null,
            "_view_module": "@jupyter-widgets/base",
            "_view_module_version": "1.2.0",
            "_view_name": "StyleView",
            "bar_color": null,
            "description_width": ""
          }
        },
        "dc42a116de14457296c90163e0280d84": {
          "model_module": "@jupyter-widgets/controls",
          "model_module_version": "1.5.0",
          "model_name": "DescriptionStyleModel",
          "state": {
            "_model_module": "@jupyter-widgets/controls",
            "_model_module_version": "1.5.0",
            "_model_name": "DescriptionStyleModel",
            "_view_count": null,
            "_view_module": "@jupyter-widgets/base",
            "_view_module_version": "1.2.0",
            "_view_name": "StyleView",
            "description_width": ""
          }
        },
        "dc85d92c45574fbea5812df100f0fe4f": {
          "model_module": "@jupyter-widgets/controls",
          "model_module_version": "1.5.0",
          "model_name": "ProgressStyleModel",
          "state": {
            "_model_module": "@jupyter-widgets/controls",
            "_model_module_version": "1.5.0",
            "_model_name": "ProgressStyleModel",
            "_view_count": null,
            "_view_module": "@jupyter-widgets/base",
            "_view_module_version": "1.2.0",
            "_view_name": "StyleView",
            "bar_color": null,
            "description_width": ""
          }
        },
        "dd6ae3de97284ef8bb8b706c94c30203": {
          "model_module": "@jupyter-widgets/base",
          "model_module_version": "1.2.0",
          "model_name": "LayoutModel",
          "state": {
            "_model_module": "@jupyter-widgets/base",
            "_model_module_version": "1.2.0",
            "_model_name": "LayoutModel",
            "_view_count": null,
            "_view_module": "@jupyter-widgets/base",
            "_view_module_version": "1.2.0",
            "_view_name": "LayoutView",
            "align_content": null,
            "align_items": null,
            "align_self": null,
            "border": null,
            "bottom": null,
            "display": null,
            "flex": null,
            "flex_flow": null,
            "grid_area": null,
            "grid_auto_columns": null,
            "grid_auto_flow": null,
            "grid_auto_rows": null,
            "grid_column": null,
            "grid_gap": null,
            "grid_row": null,
            "grid_template_areas": null,
            "grid_template_columns": null,
            "grid_template_rows": null,
            "height": null,
            "justify_content": null,
            "justify_items": null,
            "left": null,
            "margin": null,
            "max_height": null,
            "max_width": null,
            "min_height": null,
            "min_width": null,
            "object_fit": null,
            "object_position": null,
            "order": null,
            "overflow": null,
            "overflow_x": null,
            "overflow_y": null,
            "padding": null,
            "right": null,
            "top": null,
            "visibility": null,
            "width": null
          }
        },
        "e0444e21ae39447b8aae08e2f2c341c0": {
          "model_module": "@jupyter-widgets/base",
          "model_module_version": "1.2.0",
          "model_name": "LayoutModel",
          "state": {
            "_model_module": "@jupyter-widgets/base",
            "_model_module_version": "1.2.0",
            "_model_name": "LayoutModel",
            "_view_count": null,
            "_view_module": "@jupyter-widgets/base",
            "_view_module_version": "1.2.0",
            "_view_name": "LayoutView",
            "align_content": null,
            "align_items": null,
            "align_self": null,
            "border": null,
            "bottom": null,
            "display": null,
            "flex": null,
            "flex_flow": null,
            "grid_area": null,
            "grid_auto_columns": null,
            "grid_auto_flow": null,
            "grid_auto_rows": null,
            "grid_column": null,
            "grid_gap": null,
            "grid_row": null,
            "grid_template_areas": null,
            "grid_template_columns": null,
            "grid_template_rows": null,
            "height": null,
            "justify_content": null,
            "justify_items": null,
            "left": null,
            "margin": null,
            "max_height": null,
            "max_width": null,
            "min_height": null,
            "min_width": null,
            "object_fit": null,
            "object_position": null,
            "order": null,
            "overflow": null,
            "overflow_x": null,
            "overflow_y": null,
            "padding": null,
            "right": null,
            "top": null,
            "visibility": null,
            "width": null
          }
        },
        "e2379cbad8c746efbc58b77e06ea0ed8": {
          "model_module": "@jupyter-widgets/controls",
          "model_module_version": "1.5.0",
          "model_name": "FloatProgressModel",
          "state": {
            "_dom_classes": [],
            "_model_module": "@jupyter-widgets/controls",
            "_model_module_version": "1.5.0",
            "_model_name": "FloatProgressModel",
            "_view_count": null,
            "_view_module": "@jupyter-widgets/controls",
            "_view_module_version": "1.5.0",
            "_view_name": "ProgressView",
            "bar_style": "success",
            "description": "",
            "description_tooltip": null,
            "layout": "IPY_MODEL_c9637dab924b44749d088ce03c225faa",
            "max": 28,
            "min": 0,
            "orientation": "horizontal",
            "style": "IPY_MODEL_8de33626c35941598bf9004f0cc7b11a",
            "value": 28
          }
        },
        "e295aefeb0b34b0db696460959b9629c": {
          "model_module": "@jupyter-widgets/controls",
          "model_module_version": "1.5.0",
          "model_name": "DescriptionStyleModel",
          "state": {
            "_model_module": "@jupyter-widgets/controls",
            "_model_module_version": "1.5.0",
            "_model_name": "DescriptionStyleModel",
            "_view_count": null,
            "_view_module": "@jupyter-widgets/base",
            "_view_module_version": "1.2.0",
            "_view_name": "StyleView",
            "description_width": ""
          }
        },
        "e480d15350264485804ea8117dc7e8ad": {
          "model_module": "@jupyter-widgets/controls",
          "model_module_version": "1.5.0",
          "model_name": "ProgressStyleModel",
          "state": {
            "_model_module": "@jupyter-widgets/controls",
            "_model_module_version": "1.5.0",
            "_model_name": "ProgressStyleModel",
            "_view_count": null,
            "_view_module": "@jupyter-widgets/base",
            "_view_module_version": "1.2.0",
            "_view_name": "StyleView",
            "bar_color": null,
            "description_width": ""
          }
        },
        "e8bf387a30e44f5bbb04ef48cec1d1a9": {
          "model_module": "@jupyter-widgets/controls",
          "model_module_version": "1.5.0",
          "model_name": "FloatProgressModel",
          "state": {
            "_dom_classes": [],
            "_model_module": "@jupyter-widgets/controls",
            "_model_module_version": "1.5.0",
            "_model_name": "FloatProgressModel",
            "_view_count": null,
            "_view_module": "@jupyter-widgets/controls",
            "_view_module_version": "1.5.0",
            "_view_name": "ProgressView",
            "bar_style": "success",
            "description": "",
            "description_tooltip": null,
            "layout": "IPY_MODEL_e0444e21ae39447b8aae08e2f2c341c0",
            "max": 231508,
            "min": 0,
            "orientation": "horizontal",
            "style": "IPY_MODEL_daf6cd40b2634dc3b693420018c89b2d",
            "value": 231508
          }
        },
        "ea5f3d107cc0483d98aa3f0d01e4e369": {
          "model_module": "@jupyter-widgets/controls",
          "model_module_version": "1.5.0",
          "model_name": "DescriptionStyleModel",
          "state": {
            "_model_module": "@jupyter-widgets/controls",
            "_model_module_version": "1.5.0",
            "_model_name": "DescriptionStyleModel",
            "_view_count": null,
            "_view_module": "@jupyter-widgets/base",
            "_view_module_version": "1.2.0",
            "_view_name": "StyleView",
            "description_width": ""
          }
        },
        "ebb9c4cb251545cfa3b8d1879bb983ff": {
          "model_module": "@jupyter-widgets/base",
          "model_module_version": "1.2.0",
          "model_name": "LayoutModel",
          "state": {
            "_model_module": "@jupyter-widgets/base",
            "_model_module_version": "1.2.0",
            "_model_name": "LayoutModel",
            "_view_count": null,
            "_view_module": "@jupyter-widgets/base",
            "_view_module_version": "1.2.0",
            "_view_name": "LayoutView",
            "align_content": null,
            "align_items": null,
            "align_self": null,
            "border": null,
            "bottom": null,
            "display": null,
            "flex": null,
            "flex_flow": null,
            "grid_area": null,
            "grid_auto_columns": null,
            "grid_auto_flow": null,
            "grid_auto_rows": null,
            "grid_column": null,
            "grid_gap": null,
            "grid_row": null,
            "grid_template_areas": null,
            "grid_template_columns": null,
            "grid_template_rows": null,
            "height": null,
            "justify_content": null,
            "justify_items": null,
            "left": null,
            "margin": null,
            "max_height": null,
            "max_width": null,
            "min_height": null,
            "min_width": null,
            "object_fit": null,
            "object_position": null,
            "order": null,
            "overflow": null,
            "overflow_x": null,
            "overflow_y": null,
            "padding": null,
            "right": null,
            "top": null,
            "visibility": null,
            "width": null
          }
        },
        "f7b22b18675543ddbea0dd248cb02962": {
          "model_module": "@jupyter-widgets/controls",
          "model_module_version": "1.5.0",
          "model_name": "HTMLModel",
          "state": {
            "_dom_classes": [],
            "_model_module": "@jupyter-widgets/controls",
            "_model_module_version": "1.5.0",
            "_model_name": "HTMLModel",
            "_view_count": null,
            "_view_module": "@jupyter-widgets/controls",
            "_view_module_version": "1.5.0",
            "_view_name": "HTMLView",
            "description": "",
            "description_tooltip": null,
            "layout": "IPY_MODEL_d7b59e696d7c4b38af1015f1d4cdbcec",
            "placeholder": "​",
            "style": "IPY_MODEL_30a779a5b8b9485092563cc5aa817e92",
            "value": "model.safetensors: 100%"
          }
        },
        "f8f701cfacc642909b07c2a6cb13369c": {
          "model_module": "@jupyter-widgets/base",
          "model_module_version": "1.2.0",
          "model_name": "LayoutModel",
          "state": {
            "_model_module": "@jupyter-widgets/base",
            "_model_module_version": "1.2.0",
            "_model_name": "LayoutModel",
            "_view_count": null,
            "_view_module": "@jupyter-widgets/base",
            "_view_module_version": "1.2.0",
            "_view_name": "LayoutView",
            "align_content": null,
            "align_items": null,
            "align_self": null,
            "border": null,
            "bottom": null,
            "display": null,
            "flex": null,
            "flex_flow": null,
            "grid_area": null,
            "grid_auto_columns": null,
            "grid_auto_flow": null,
            "grid_auto_rows": null,
            "grid_column": null,
            "grid_gap": null,
            "grid_row": null,
            "grid_template_areas": null,
            "grid_template_columns": null,
            "grid_template_rows": null,
            "height": null,
            "justify_content": null,
            "justify_items": null,
            "left": null,
            "margin": null,
            "max_height": null,
            "max_width": null,
            "min_height": null,
            "min_width": null,
            "object_fit": null,
            "object_position": null,
            "order": null,
            "overflow": null,
            "overflow_x": null,
            "overflow_y": null,
            "padding": null,
            "right": null,
            "top": null,
            "visibility": null,
            "width": null
          }
        },
        "f93493d1b9754ee0b190e626d6d76ef9": {
          "model_module": "@jupyter-widgets/controls",
          "model_module_version": "1.5.0",
          "model_name": "ProgressStyleModel",
          "state": {
            "_model_module": "@jupyter-widgets/controls",
            "_model_module_version": "1.5.0",
            "_model_name": "ProgressStyleModel",
            "_view_count": null,
            "_view_module": "@jupyter-widgets/base",
            "_view_module_version": "1.2.0",
            "_view_name": "StyleView",
            "bar_color": null,
            "description_width": ""
          }
        }
      }
    }
  },
  "nbformat": 4,
  "nbformat_minor": 0
}
