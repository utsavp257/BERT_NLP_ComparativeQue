{
  "cells": [
    {
      "cell_type": "markdown",
      "metadata": {},
      "source": [
        "This notebook was used to train the DROP dataset on BERT base model."
      ]
    },
    {
      "cell_type": "code",
      "execution_count": null,
      "metadata": {
        "colab": {
          "base_uri": "https://localhost:8080/"
        },
        "id": "pAeyEM5vZsDW",
        "outputId": "f25e0177-30ed-4df2-a7da-475253b4bdad"
      },
      "outputs": [
        {
          "name": "stdout",
          "output_type": "stream",
          "text": [
            "Requirement already satisfied: transformers in /usr/local/lib/python3.10/dist-packages (4.35.2)\n",
            "Requirement already satisfied: filelock in /usr/local/lib/python3.10/dist-packages (from transformers) (3.13.1)\n",
            "Requirement already satisfied: huggingface-hub<1.0,>=0.16.4 in /usr/local/lib/python3.10/dist-packages (from transformers) (0.19.4)\n",
            "Requirement already satisfied: numpy>=1.17 in /usr/local/lib/python3.10/dist-packages (from transformers) (1.23.5)\n",
            "Requirement already satisfied: packaging>=20.0 in /usr/local/lib/python3.10/dist-packages (from transformers) (23.2)\n",
            "Requirement already satisfied: pyyaml>=5.1 in /usr/local/lib/python3.10/dist-packages (from transformers) (6.0.1)\n",
            "Requirement already satisfied: regex!=2019.12.17 in /usr/local/lib/python3.10/dist-packages (from transformers) (2023.6.3)\n",
            "Requirement already satisfied: requests in /usr/local/lib/python3.10/dist-packages (from transformers) (2.31.0)\n",
            "Requirement already satisfied: tokenizers<0.19,>=0.14 in /usr/local/lib/python3.10/dist-packages (from transformers) (0.15.0)\n",
            "Requirement already satisfied: safetensors>=0.3.1 in /usr/local/lib/python3.10/dist-packages (from transformers) (0.4.0)\n",
            "Requirement already satisfied: tqdm>=4.27 in /usr/local/lib/python3.10/dist-packages (from transformers) (4.66.1)\n",
            "Requirement already satisfied: fsspec>=2023.5.0 in /usr/local/lib/python3.10/dist-packages (from huggingface-hub<1.0,>=0.16.4->transformers) (2023.6.0)\n",
            "Requirement already satisfied: typing-extensions>=3.7.4.3 in /usr/local/lib/python3.10/dist-packages (from huggingface-hub<1.0,>=0.16.4->transformers) (4.5.0)\n",
            "Requirement already satisfied: charset-normalizer<4,>=2 in /usr/local/lib/python3.10/dist-packages (from requests->transformers) (3.3.2)\n",
            "Requirement already satisfied: idna<4,>=2.5 in /usr/local/lib/python3.10/dist-packages (from requests->transformers) (3.4)\n",
            "Requirement already satisfied: urllib3<3,>=1.21.1 in /usr/local/lib/python3.10/dist-packages (from requests->transformers) (2.0.7)\n",
            "Requirement already satisfied: certifi>=2017.4.17 in /usr/local/lib/python3.10/dist-packages (from requests->transformers) (2023.7.22)\n"
          ]
        }
      ],
      "source": [
        " pip install transformers"
      ]
    },
    {
      "cell_type": "code",
      "execution_count": null,
      "metadata": {
        "id": "7pFPiabyb4v7"
      },
      "outputs": [],
      "source": [
        "import requests\n",
        "import json\n",
        "import torch\n",
        "import torch.nn as nn\n",
        "import os\n",
        "from tqdm import tqdm\n",
        "from transformers import BertModel, BertTokenizerFast, AdamW\n",
        "from torch.utils.data import Dataset, DataLoader\n",
        "from torch.optim.lr_scheduler import ExponentialLR\n",
        "import matplotlib.pyplot as plt"
      ]
    },
    {
      "cell_type": "code",
      "execution_count": null,
      "metadata": {
        "id": "uxKoHik0j7Gb"
      },
      "outputs": [],
      "source": [
        "MODEL_PATH = \"bert-base-uncased\""
      ]
    },
    {
      "cell_type": "code",
      "execution_count": null,
      "metadata": {
        "colab": {
          "base_uri": "https://localhost:8080/"
        },
        "id": "MzAUlYudUMdm",
        "outputId": "8c8ea522-5646-49fc-f044-34a508c3d429"
      },
      "outputs": [
        {
          "name": "stdout",
          "output_type": "stream",
          "text": [
            "Mounted at /content/drive\n"
          ]
        }
      ],
      "source": [
        "from google.colab import drive\n",
        "drive.mount('/content/drive')"
      ]
    },
    {
      "cell_type": "code",
      "execution_count": null,
      "metadata": {
        "id": "aUYaqLEHkCad"
      },
      "outputs": [],
      "source": [
        "num_questions = 0\n",
        "num_posible = 0\n",
        "num_imposible = 0"
      ]
    },
    {
      "cell_type": "code",
      "execution_count": null,
      "metadata": {
        "id": "mFleLVIXYUBM"
      },
      "outputs": [],
      "source": []
    },
    {
      "cell_type": "code",
      "execution_count": null,
      "metadata": {
        "id": "LgdX6xATkHKy"
      },
      "outputs": [],
      "source": [
        "def get_data(path):\n",
        "  with open(path, 'rb') as f:\n",
        "    raw_data = json.load(f)\n",
        "\n",
        "  contexts = []\n",
        "  questions = []\n",
        "  answers = []\n",
        "  num_q = 0\n",
        "  num_pos = 0\n",
        "  num_imp = 0\n",
        "\n",
        "  for group in list(raw_data.values()):\n",
        "    context = group['passage']\n",
        "    for qa in group['qa_pairs']:\n",
        "      question = qa['question']\n",
        "      num_q  = num_q  + 1\n",
        "\n",
        "      if qa['answer']['number'] != \"\":\n",
        "        num_pos += 1\n",
        "        qa['is_impossible'] = False\n",
        "        answer = qa['answer']['number']\n",
        "        contexts.append(context.lower())\n",
        "        questions.append(question.lower())\n",
        "        answers.append({'text' : answer})\n",
        "\n",
        "      # elif qa['answer']['date'][\"year\"] != \"\":\n",
        "      #   num_pos += 1\n",
        "      #   qa['is_impossible'] = False\n",
        "\n",
        "      #   if qa['answer']['date']['day'] != \"\":\n",
        "      #     answer = qa['answer']['date']['day'] + \" \" + qa['answer']['date']['month']  + \" \" + qa['answer']['date']['year']\n",
        "\n",
        "      #   if qa['answer']['date']['month'] != \"\":\n",
        "      #     answer = qa['answer']['date']['month']  + \" \" + qa['answer']['date']['year']\n",
        "\n",
        "      #   else:\n",
        "      #     answer = qa['answer']['date']['year']\n",
        "\n",
        "      #   contexts.append(context.lower())\n",
        "      #   questions.append(question.lower())\n",
        "      #   answers.append(answer)\n",
        "\n",
        "      elif len(qa['answer']['spans'])!=0:\n",
        "        num_pos += 1\n",
        "        qa['is_impossible'] = False\n",
        "        for answer in qa['answer']['spans']:\n",
        "          contexts.append(context.lower())\n",
        "          questions.append(question.lower())\n",
        "          answers.append({'text' : answer})\n",
        "\n",
        "      else:\n",
        "        num_imp = num_imp + 1\n",
        "\n",
        "  return num_q, num_pos, num_imp, contexts, questions, answers"
      ]
    },
    {
      "cell_type": "code",
      "execution_count": null,
      "metadata": {
        "id": "sDggE9a4kLU7"
      },
      "outputs": [],
      "source": [
        "num_q, num_pos, num_imp, train_contexts, train_questions, train_answers = get_data('/content/drive/MyDrive/OELP_BERT/BERT_DROP/drop_dataset_train.json')\n",
        "num_questions  = num_q\n",
        "num_posible = num_pos\n",
        "num_imposible  = num_imp"
      ]
    },
    {
      "cell_type": "code",
      "execution_count": null,
      "metadata": {
        "colab": {
          "base_uri": "https://localhost:8080/"
        },
        "id": "79_n1J9nkPnG",
        "outputId": "9a420d7b-a4d2-4baf-b590-b467c1df28cc"
      },
      "outputs": [
        {
          "name": "stdout",
          "output_type": "stream",
          "text": [
            "['how many points did the buccaneers need to tie in the first?', 'how many field goals did the lions score?', \"how long was the lion's longest field goal?\", 'who caught the touchdown for the fewest yard?', 'who caught the shortest touchdown pass?', 'how many field goals were scored in the first quarter?', 'how many yards was the shortest touchdown scoring play?', 'how many touchdowns were scored in the second quarter?', 'which player scored the first points of the game for tampa bay?', 'how many yards hanson score with in the first?']\n",
            "[{'text': '3'}, {'text': '2'}, {'text': '28-yard'}, {'text': 'Mike Williams'}, {'text': 'Calvin Johnson'}, {'text': '3'}, {'text': '1'}, {'text': '3'}, {'text': 'Connor Barth'}, {'text': '23'}]\n"
          ]
        }
      ],
      "source": [
        "print(train_questions[0:10])\n",
        "print(train_answers[0:10])"
      ]
    },
    {
      "cell_type": "code",
      "execution_count": null,
      "metadata": {
        "colab": {
          "base_uri": "https://localhost:8080/"
        },
        "id": "KpGV3IHlkSRv",
        "outputId": "de1964b9-6a82-41f9-959b-33ae9cacef02"
      },
      "outputs": [
        {
          "name": "stdout",
          "output_type": "stream",
          "text": [
            "Total number of questions: 86945\n",
            "Total number of Answerable questions: 85547\n",
            "Total number of impossible questions: 1398\n"
          ]
        }
      ],
      "source": [
        "num_q, num_pos, num_imp, valid_contexts, valid_questions, valid_answers = get_data('/content/drive/MyDrive/OELP_BERT/BERT_DROP/drop_dataset_dev.json')\n",
        "num_questions  = num_questions + num_q\n",
        "num_posible = num_posible + num_pos\n",
        "num_imposible = num_imposible  + num_imp\n",
        "\n",
        "print(f\"Total number of questions: {num_questions}\")\n",
        "print(f\"Total number of Answerable questions: {num_posible}\")\n",
        "print(f\"Total number of impossible questions: {num_imposible}\")"
      ]
    },
    {
      "cell_type": "code",
      "execution_count": null,
      "metadata": {
        "colab": {
          "base_uri": "https://localhost:8080/"
        },
        "id": "5qFdRidLkVOx",
        "outputId": "858fca4b-8b23-4cd9-fded-5e783036c250"
      },
      "outputs": [
        {
          "name": "stdout",
          "output_type": "stream",
          "text": [
            "['who scored the first touchdown of the game?', 'how many field goals did kris brown kick?', 'which team won the game?', 'how many field goals did both teams kick in the first half?', \"how many more yards was kris browns's first field goal over his second?\", 'who threw the longest pass?', 'how many yards was the longest touchdown of the game?', 'how many field goals did sebastian janikowski and kris brown both score each?', \"how many yards difference is there between sebastian janikowski's longest field goal and his shortest field goal?\", \"how many yards difference is there between kris brown's longest and shortest field goals?\"]\n",
            "[{'text': 'Chaz Schilens'}, {'text': '3'}, {'text': 'Raiders'}, {'text': '2'}, {'text': '29'}, {'text': 'Russell'}, {'text': '80-yard'}, {'text': '2'}, {'text': '3'}, {'text': '29'}]\n"
          ]
        }
      ],
      "source": [
        "print(valid_questions[0:10])\n",
        "print(valid_answers[0:10])"
      ]
    },
    {
      "cell_type": "code",
      "execution_count": null,
      "metadata": {
        "id": "BMXI6u2TtCGz"
      },
      "outputs": [],
      "source": [
        "def add_answer_start(answers, contexts):\n",
        "  for answer, context in zip(answers, contexts):\n",
        "    answer['answer_start'] = context.find(answer['text'])\n"
      ]
    },
    {
      "cell_type": "code",
      "execution_count": null,
      "metadata": {
        "id": "J4B7f7VJvwxe"
      },
      "outputs": [],
      "source": [
        "add_answer_start(train_answers, train_contexts)\n",
        "add_answer_start(valid_answers, valid_contexts)"
      ]
    },
    {
      "cell_type": "code",
      "execution_count": null,
      "metadata": {
        "id": "OtQM2RAqkX2m"
      },
      "outputs": [],
      "source": [
        "def add_answer_end(answers, contexts):\n",
        "  for answer, context in zip(answers, contexts):\n",
        "    answer['text'] = answer['text'].lower()\n",
        "    answer['answer_end'] = answer['answer_start'] + len(answer['text'])\n",
        "\n",
        "add_answer_end(train_answers, train_contexts)\n",
        "add_answer_end(valid_answers, valid_contexts)"
      ]
    },
    {
      "cell_type": "code",
      "execution_count": null,
      "metadata": {
        "id": "b40RW25Ckazs"
      },
      "outputs": [],
      "source": [
        "\n",
        "print(f\"Context: {train_contexts[0]}\")\n",
        "print(f\"Question: {train_questions[0]}\")\n",
        "print(f\"Answer: {train_answers[0]}\")"
      ]
    },
    {
      "cell_type": "code",
      "execution_count": null,
      "metadata": {
        "colab": {
          "base_uri": "https://localhost:8080/"
        },
        "id": "fVeLhpHakdsf",
        "outputId": "5f67c89b-9e3b-4228-dcac-9efa12454eaa"
      },
      "outputs": [
        {
          "name": "stdout",
          "output_type": "stream",
          "text": [
            "Context:  still searching for their first win, the bengals flew to texas stadium for a week 5 interconference duel with the dallas cowboys.  in the first quarter, cincinnati trailed early as cowboys kicker nick folk got a 30-yard field goal, along with rb felix jones getting a 33-yard td run.  in the second quarter, dallas increased its lead as qb tony romo completed a 4-yard td pass to te jason witten.  the bengals would end the half with kicker shayne graham getting a 41-yard and a 31-yard field goal. in the third quarter, cincinnati tried to rally as qb carson palmer completed an 18-yard td pass to wr t. j. houshmandzadeh.  in the fourth quarter, the bengals got closer as graham got a 40-yard field goal, yet the cowboys answered with romo completing a 57-yard td pass to wr terrell owens.  cincinnati tried to come back as palmer completed a 10-yard td pass to houshmandzadeh (with a failed 2-point conversion), but dallas pulled away with romo completing a 15-yard td pass to wr patrick crayton.\n",
            "Question: how many wins did the bengals have before this game?\n",
            "Answer: {'text': '0', 'answer_start': 214, 'answer_end': 215}\n"
          ]
        }
      ],
      "source": [
        "test_rec = 30\n",
        "print(f\"Context: {valid_contexts[test_rec]}\")\n",
        "print(f\"Question: {valid_questions[test_rec]}\")\n",
        "print(f\"Answer: {valid_answers[test_rec]}\")"
      ]
    },
    {
      "cell_type": "code",
      "execution_count": null,
      "metadata": {
        "colab": {
          "base_uri": "https://localhost:8080/",
          "height": 489
        },
        "id": "TyX7L_pEkf2i",
        "outputId": "f93d7cee-4639-4f3e-f17e-e3fab7fab71d"
      },
      "outputs": [
        {
          "name": "stdout",
          "output_type": "stream",
          "text": [
            "1802\n"
          ]
        },
        {
          "data": {
            "image/png": "[encoded data removed]",
            "text/plain": [
              "<Figure size 640x480 with 1 Axes>"
            ]
          },
          "metadata": {},
          "output_type": "display_data"
        }
      ],
      "source": [
        "token_lens = []\n",
        "\n",
        "for txt in train_contexts:\n",
        "    txt = txt.strip()\n",
        "    token_lens.append(len(txt.split(' ')))\n",
        "\n",
        "\n",
        "print(max(token_lens))\n",
        "\n",
        "plt.hist(token_lens,  bins=20)\n",
        "plt.ylabel('Count')\n",
        "plt.xlabel('Length')\n",
        "plt.title('Distribution of Context Lengths');"
      ]
    },
    {
      "cell_type": "code",
      "execution_count": null,
      "metadata": {
        "colab": {
          "base_uri": "https://localhost:8080/",
          "height": 507
        },
        "id": "65A9nUQYkjU_",
        "outputId": "4e4c46d8-576f-4752-b4a7-cecb232fe2b9"
      },
      "outputs": [
        {
          "name": "stdout",
          "output_type": "stream",
          "text": [
            "59\n",
            "83245\n"
          ]
        },
        {
          "data": {
            "image/png": "[encoded data removed]",
            "text/plain": [
              "<Figure size 640x480 with 1 Axes>"
            ]
          },
          "metadata": {},
          "output_type": "display_data"
        }
      ],
      "source": [
        "token_lens2 = []\n",
        "\n",
        "for txt in train_questions:\n",
        "    txt = txt.strip()\n",
        "    token_lens2.append(len(txt.split(' ')))\n",
        "\n",
        "\n",
        "print(max(token_lens2))\n",
        "print(len(token_lens2))\n",
        "\n",
        "plt.hist(token_lens2,  bins=20)\n",
        "plt.ylabel('Count')\n",
        "plt.xlabel('Length')\n",
        "plt.title('Distribution of Question Lengths');"
      ]
    },
    {
      "cell_type": "code",
      "execution_count": null,
      "metadata": {
        "id": "33d6F50UkmnS"
      },
      "outputs": [],
      "source": [
        "MAX_LENGTH = 250"
      ]
    },
    {
      "cell_type": "code",
      "execution_count": null,
      "metadata": {
        "colab": {
          "base_uri": "https://localhost:8080/",
          "height": 201,
          "referenced_widgets": [
            "0506e3ef807140e89324b1818d66ee77",
            "daa1ac839fbb43018129b6c74876d378",
            "ee223a163ada4f1ca0156ee85a7b2a17",
            "99294f0327524bb5b201dc259507b057",
            "f55aede0cae54a689749cd844a0b877b",
            "e195439df28946ae8dac6f20bbb52f79",
            "a1a2158fee834b29998d490eb5183b40",
            "db837e4d2c4448aabb6d4204ee26e647",
            "e4f269ab48f54438ae8bc741dc7a941f",
            "1df26632960f4144bd426252f6520748",
            "70f613400bae4f4abefa48e82507ff06",
            "1776777b3bc642379cd1555ad94d98b2",
            "059bac1cabb945e5aec525b166600dc1",
            "7b703d4565214116ac0b76c254821914",
            "9ff88964803d44939562d7832672cde5",
            "4ede0771fc544ea6a14966db1a6591f2",
            "b5d32470559242cca78144c7f6dacdf8",
            "93e907f0692a43cdac29badfdd0094d4",
            "c06b617c01994334be3f75f68cbe631f",
            "38bbc5a182b6444fad347444835ac8af",
            "ee1d3fc1cdb445489ecf0623e90f7196",
            "e3a2e3f97d9441cd832965f81af8e7ee",
            "84fa2e853bd4438e97f364ad11ad2111",
            "36ee177612934a3886ab1e854718e374",
            "0a987844b41a4ae091f1dd8c0f06ca9b",
            "bc67fddfd6c3494c80aa6abbba95f099",
            "43489ad194574a37b2f478b700d1b3d0",
            "3dbefb0385f04444b61196a6ac63bffa",
            "0b0b04ff21d14224a08ce59dd8eb153b",
            "4cdad01f4aea4eee8a47bf9f85742037",
            "bf3efe63880c417f9f1e19290e2e9f00",
            "9f436b7629024520b4bd78aa3f1e52a7",
            "cd0e18a17d8f4dac8d901472308edc27",
            "c53410d5953a4d758e22d866fbb74898",
            "3941926d947b4aa68116a24bce2c9589",
            "47161f6c92034f459622338a891cb551",
            "4748c6e3e6024784b1e1fd57b6608483",
            "a6d1cf8719614c908721201ea5da75d6",
            "b983cf354b594407907bf351344a0c00",
            "eb066f16c4834541a6996673f52069c4",
            "3eec97cec3a44ad0b923a0961bb1eb0d",
            "85f0ba4da0b94dd1b2e49a8c47674c2e",
            "ba9954c0ccb14b4387bfef34b4508126",
            "08acbf85ccec42788d8cdada0af7dd94"
          ]
        },
        "id": "3qUR1jDhksC_",
        "outputId": "a441b4a4-371b-4701-9cc6-3cccc87cc2ff"
      },
      "outputs": [
        {
          "data": {
            "application/vnd.jupyter.widget-view+json": {
              "model_id": "0506e3ef807140e89324b1818d66ee77",
              "version_major": 2,
              "version_minor": 0
            },
            "text/plain": [
              "tokenizer_config.json:   0%|          | 0.00/28.0 [00:00<?, ?B/s]"
            ]
          },
          "metadata": {},
          "output_type": "display_data"
        },
        {
          "data": {
            "application/vnd.jupyter.widget-view+json": {
              "model_id": "1776777b3bc642379cd1555ad94d98b2",
              "version_major": 2,
              "version_minor": 0
            },
            "text/plain": [
              "vocab.txt:   0%|          | 0.00/232k [00:00<?, ?B/s]"
            ]
          },
          "metadata": {},
          "output_type": "display_data"
        },
        {
          "data": {
            "application/vnd.jupyter.widget-view+json": {
              "model_id": "84fa2e853bd4438e97f364ad11ad2111",
              "version_major": 2,
              "version_minor": 0
            },
            "text/plain": [
              "tokenizer.json:   0%|          | 0.00/466k [00:00<?, ?B/s]"
            ]
          },
          "metadata": {},
          "output_type": "display_data"
        },
        {
          "data": {
            "application/vnd.jupyter.widget-view+json": {
              "model_id": "c53410d5953a4d758e22d866fbb74898",
              "version_major": 2,
              "version_minor": 0
            },
            "text/plain": [
              "config.json:   0%|          | 0.00/570 [00:00<?, ?B/s]"
            ]
          },
          "metadata": {},
          "output_type": "display_data"
        }
      ],
      "source": [
        "tokenizerFast = BertTokenizerFast.from_pretrained(MODEL_PATH)\n",
        "\n",
        "train_encodings_fast = tokenizerFast(train_questions, train_contexts,  max_length = MAX_LENGTH, truncation=True, padding=True)\n",
        "valid_encodings_fast = tokenizerFast(valid_questions,valid_contexts,  max_length = MAX_LENGTH, truncation=True, padding=True)"
      ]
    },
    {
      "cell_type": "code",
      "execution_count": null,
      "metadata": {
        "colab": {
          "base_uri": "https://localhost:8080/"
        },
        "id": "tTiNbyLRkxt2",
        "outputId": "73c4f48d-478b-4a3d-b950-bb8ee752f083"
      },
      "outputs": [
        {
          "data": {
            "text/plain": [
              "transformers.tokenization_utils_base.BatchEncoding"
            ]
          },
          "execution_count": 42,
          "metadata": {},
          "output_type": "execute_result"
        }
      ],
      "source": [
        "type(train_encodings_fast)"
      ]
    },
    {
      "cell_type": "code",
      "execution_count": null,
      "metadata": {
        "colab": {
          "base_uri": "https://localhost:8080/"
        },
        "id": "mpNXi7L3lMzu",
        "outputId": "fd5ed767-6ec6-4ca0-ad0c-f46cb8495bcb"
      },
      "outputs": [
        {
          "name": "stdout",
          "output_type": "stream",
          "text": [
            "dict_keys(['input_ids', 'token_type_ids', 'attention_mask'])\n",
            "dict_keys(['input_ids', 'token_type_ids', 'attention_mask'])\n",
            "83245\n",
            "250\n"
          ]
        }
      ],
      "source": [
        "print(train_encodings_fast.keys())\n",
        "print(valid_encodings_fast.keys())\n",
        "print(len(train_encodings_fast['input_ids']))\n",
        "print(len(train_encodings_fast['input_ids'][1]))"
      ]
    },
    {
      "cell_type": "code",
      "execution_count": null,
      "metadata": {
        "colab": {
          "base_uri": "https://localhost:8080/"
        },
        "id": "rv-kQTYClNdT",
        "outputId": "620f0a22-4ee4-4b5e-cefa-82ece03a2ce7"
      },
      "outputs": [
        {
          "name": "stdout",
          "output_type": "stream",
          "text": [
            "[101, 2129, 2116, 2492, 3289, 2106, 1996, 7212, 3556, 1029, 102, 2000, 2707, 1996, 2161, 1010, 1996, 7212, 6158, 2148, 2000, 9925, 1010, 3516, 2000, 2202, 2006, 1996, 9925, 3016, 21629, 1012, 1996, 7212, 3195, 2034, 1999, 1996, 2034, 4284, 2007, 1037, 2603, 1011, 4220, 2492, 3125, 2011, 4463, 17179, 1012, 1996, 21629, 5079, 2009, 2039, 2007, 1037, 4229, 1011, 4220, 2492, 3125, 2011, 6720, 12075, 2232, 1010, 2059, 2165, 1996, 2599, 2043, 1037, 14702, 2497, 21368, 12322, 16618, 1037, 3413, 2013, 5487, 15064, 1998, 2743, 2009, 1999, 2654, 4210, 1012, 1996, 7212, 5838, 2007, 1037, 2654, 1011, 4220, 2492, 3125, 1012, 1999, 1996, 2117, 4284, 1010, 5626, 2165, 1996, 2599, 2007, 1037, 4029, 1011, 4220, 7921, 4608, 2011, 11130, 3779, 1010, 1998, 2101, 2794, 2062, 2685, 2043, 4116, 8040, 5369, 18142, 2099, 3236, 2019, 2340, 1011, 4220, 14595, 3413, 1012, 9925, 3016, 5838, 2007, 1037, 2861, 1011, 4220, 2492, 3125, 2074, 2077, 22589, 1012, 1996, 2117, 2431, 2001, 4659, 4251, 1010, 2007, 2169, 2136, 2069, 4577, 2028, 7921, 1012, 2034, 1010, 5626, 1005, 1055, 11130, 3779, 3236, 1037, 1015, 1011, 4220, 3413, 1999, 1996, 2353, 4284, 1012, 1996, 2208, 1005, 1055, 2345, 2685, 2234, 2043, 3505, 3766, 1997, 9925, 3016, 3236, 1037, 1019, 1011, 4220, 3413, 1012, 1996, 7212, 2180, 2037, 3180, 2161, 16181, 2005, 1996, 2034, 2051, 2144, 2289, 102, 0, 0, 0, 0, 0, 0, 0, 0, 0, 0, 0, 0, 0, 0, 0, 0, 0, 0, 0, 0, 0, 0, 0, 0, 0, 0, 0, 0]\n",
            "[CLS] how many field goals did the lions score? [SEP] to start the season, the lions traveled south to tampa, florida to take on the tampa bay buccaneers. the lions scored first in the first quarter with a 23 - yard field goal by jason hanson. the buccaneers tied it up with a 38 - yard field goal by connor barth, then took the lead when aqib talib intercepted a pass from matthew stafford and ran it in 28 yards. the lions responded with a 28 - yard field goal. in the second quarter, detroit took the lead with a 36 - yard touchdown catch by calvin johnson, and later added more points when tony scheffler caught an 11 - yard td pass. tampa bay responded with a 31 - yard field goal just before halftime. the second half was relatively quiet, with each team only scoring one touchdown. first, detroit ' s calvin johnson caught a 1 - yard pass in the third quarter. the game ' s final points came when mike williams of tampa bay caught a 5 - yard pass. the lions won their regular season opener for the first time since 2007 [SEP] [PAD] [PAD] [PAD] [PAD] [PAD] [PAD] [PAD] [PAD] [PAD] [PAD] [PAD] [PAD] [PAD] [PAD] [PAD] [PAD] [PAD] [PAD] [PAD] [PAD] [PAD] [PAD] [PAD] [PAD] [PAD] [PAD] [PAD] [PAD]\n"
          ]
        }
      ],
      "source": [
        "print(train_encodings_fast['input_ids'][1])\n",
        "print(tokenizerFast.convert_tokens_to_string(tokenizerFast.convert_ids_to_tokens(train_encodings_fast['input_ids'][1])))"
      ]
    },
    {
      "cell_type": "code",
      "execution_count": null,
      "metadata": {
        "colab": {
          "base_uri": "https://localhost:8080/"
        },
        "id": "r1DOaH8SlQPZ",
        "outputId": "dbb77816-4efb-4292-f93f-368015bf726f"
      },
      "outputs": [
        {
          "data": {
            "text/plain": [
              "dict_keys(['text', 'answer_start', 'answer_end'])"
            ]
          },
          "execution_count": 45,
          "metadata": {},
          "output_type": "execute_result"
        }
      ],
      "source": [
        "type(train_answers[0]['text'])\n",
        "train_answers[0].keys()"
      ]
    },
    {
      "cell_type": "code",
      "execution_count": null,
      "metadata": {
        "id": "vUsop3DylWt7"
      },
      "outputs": [],
      "source": [
        "def ret_Answer_start_and_end_train(idx):\n",
        "    ret_start = 0\n",
        "    ret_end = 0\n",
        "    answer_encoding_fast = tokenizerFast(train_answers[idx]['text'],  max_length = MAX_LENGTH, truncation=True, padding=True)\n",
        "    for a in range( len(train_encodings_fast['input_ids'][idx]) -  len(answer_encoding_fast['input_ids']) ):\n",
        "        match = True\n",
        "        for i in range(1,len(answer_encoding_fast['input_ids']) - 1):\n",
        "\n",
        "            if (answer_encoding_fast['input_ids'][i] != train_encodings_fast['input_ids'][idx][a + i]):\n",
        "                match = False\n",
        "                break\n",
        "        if match:\n",
        "            ret_start = a+1\n",
        "            ret_end = a+i+1\n",
        "            break\n",
        "    return(ret_start, ret_end)"
      ]
    },
    {
      "cell_type": "code",
      "execution_count": null,
      "metadata": {
        "colab": {
          "base_uri": "https://localhost:8080/"
        },
        "id": "_jCxI7Q3lbAX",
        "outputId": "90a59e73-8197-4c39-a572-bf91a3a6f05d"
      },
      "outputs": [
        {
          "name": "stdout",
          "output_type": "stream",
          "text": [
            "z and x are\n",
            "0 0\n",
            "\n",
            "135444\n",
            "[CLS] how many more people are there than housing units? [SEP] as of the census of 2000, there were 218, 590 people, 79, 667 households, and 60, 387 families residing in the county. the population density was 496 people per square mile ( 192 / km² ). there were 83, 146 housing units at an average density of 189 per square mile ( 73 / km² ). the racial makeup of the county was 86. 77 % race ( united states census ), 9. 27 % race ( united states census ), 0. 23 % race ( united states census ), 1. 52 % race ( united states census ), 0. 06 % race ( united states census ), 0. 69 % from race ( united states census ), and 1. 47 % from two or more races. 1. 91 % of the population were race ( united states census ) or race ( united states census ) of any race. 22. 5 % were of german people, 13. 1 % irish people, 9. 8 % italian people, 9. 2 % english, 8. 1 % \" american \" and 6. 0 % polish ancestry. [SEP] [PAD] [PAD] [PAD] [PAD] [PAD] [PAD] [PAD] [PAD] [PAD] [PAD] [PAD] [PAD] [PAD] [PAD]\n"
          ]
        }
      ],
      "source": [
        "test_rec=92\n",
        "\n",
        "z,x = ret_Answer_start_and_end_train(test_rec)\n",
        "print(\"z and x are\")\n",
        "print(z, x)\n",
        "\n",
        "predict_answer_tokens = train_encodings_fast.input_ids[test_rec][z : x]\n",
        "print(tokenizerFast.decode(predict_answer_tokens))\n",
        "print(train_answers[test_rec]['text'])\n",
        "print(tokenizerFast.decode(train_encodings_fast['input_ids'][test_rec]))"
      ]
    },
    {
      "cell_type": "code",
      "execution_count": null,
      "metadata": {
        "colab": {
          "base_uri": "https://localhost:8080/"
        },
        "id": "unmxFQSEKAUC",
        "outputId": "8a4c46ce-5c31-4ce8-eec8-c523ab39dc01"
      },
      "outputs": [
        {
          "name": "stdout",
          "output_type": "stream",
          "text": [
            "z and x are\n",
            "0 0\n",
            "\n",
            "2\n",
            "[CLS] how many field goals did the lions score? [SEP] to start the season, the lions traveled south to tampa, florida to take on the tampa bay buccaneers. the lions scored first in the first quarter with a 23 - yard field goal by jason hanson. the buccaneers tied it up with a 38 - yard field goal by connor barth, then took the lead when aqib talib intercepted a pass from matthew stafford and ran it in 28 yards. the lions responded with a 28 - yard field goal. in the second quarter, detroit took the lead with a 36 - yard touchdown catch by calvin johnson, and later added more points when tony scheffler caught an 11 - yard td pass. tampa bay responded with a 31 - yard field goal just before halftime. the second half was relatively quiet, with each team only scoring one touchdown. first, detroit's calvin johnson caught a 1 - yard pass in the third quarter. the game's final points came when mike williams of tampa bay caught a 5 - yard pass. the lions won their regular season opener for the first time since 2007 [SEP] [PAD] [PAD] [PAD] [PAD] [PAD] [PAD] [PAD] [PAD] [PAD] [PAD] [PAD] [PAD] [PAD] [PAD] [PAD] [PAD] [PAD] [PAD] [PAD] [PAD] [PAD] [PAD] [PAD] [PAD] [PAD] [PAD] [PAD] [PAD]\n"
          ]
        }
      ],
      "source": [
        "test_rec=1\n",
        "\n",
        "z,x = ret_Answer_start_and_end_train(test_rec)\n",
        "print(\"z and x are\")\n",
        "print(z, x)\n",
        "\n",
        "predict_answer_tokens = train_encodings_fast.input_ids[test_rec][z : x]\n",
        "print(tokenizerFast.decode(predict_answer_tokens))\n",
        "print(train_answers[test_rec]['text'])\n",
        "print(tokenizerFast.decode(train_encodings_fast['input_ids'][test_rec]))"
      ]
    },
    {
      "cell_type": "code",
      "execution_count": null,
      "metadata": {
        "colab": {
          "base_uri": "https://localhost:8080/"
        },
        "id": "PtIxLyd_lkQw",
        "outputId": "9f0b6e3a-a0c9-4a82-c44b-723e5dde3553"
      },
      "outputs": [
        {
          "name": "stdout",
          "output_type": "stream",
          "text": [
            "dict_keys(['input_ids', 'token_type_ids', 'attention_mask'])\n",
            "dict_keys(['input_ids', 'token_type_ids', 'attention_mask'])\n",
            "83245\n"
          ]
        }
      ],
      "source": [
        "print(train_encodings_fast.keys())\n",
        "print(valid_encodings_fast.keys())\n",
        "print(len(train_encodings_fast['input_ids']))"
      ]
    },
    {
      "cell_type": "code",
      "execution_count": null,
      "metadata": {
        "colab": {
          "base_uri": "https://localhost:8080/"
        },
        "id": "ICYD6IbZlmSe",
        "outputId": "95515fe3-8ef0-421d-da7a-eaa44ffb8261"
      },
      "outputs": [
        {
          "name": "stdout",
          "output_type": "stream",
          "text": [
            "37029\n"
          ]
        }
      ],
      "source": [
        "start_positions = []\n",
        "end_positions = []\n",
        "ctr = 0\n",
        "for h in range(len(train_encodings_fast['input_ids'])):\n",
        "    s, e = ret_Answer_start_and_end_train(h)\n",
        "    start_positions.append(s)\n",
        "    end_positions.append(e)\n",
        "    if s==0:\n",
        "        ctr = ctr + 1\n",
        "\n",
        "\n",
        "train_encodings_fast.update({'start_positions': start_positions, 'end_positions': end_positions})\n",
        "print(ctr)"
      ]
    },
    {
      "cell_type": "code",
      "execution_count": null,
      "metadata": {
        "colab": {
          "base_uri": "https://localhost:8080/"
        },
        "id": "JiTddrQNlozS",
        "outputId": "ef4ab460-d23c-4b4d-ef80-7a42026d4c10"
      },
      "outputs": [
        {
          "name": "stdout",
          "output_type": "stream",
          "text": [
            "dict_keys(['input_ids', 'token_type_ids', 'attention_mask', 'start_positions', 'end_positions'])\n",
            "dict_keys(['input_ids', 'token_type_ids', 'attention_mask'])\n",
            "83245\n"
          ]
        }
      ],
      "source": [
        "print(train_encodings_fast.keys())\n",
        "print(valid_encodings_fast.keys())\n",
        "print(len(train_encodings_fast['input_ids']))"
      ]
    },
    {
      "cell_type": "code",
      "execution_count": null,
      "metadata": {
        "colab": {
          "base_uri": "https://localhost:8080/"
        },
        "id": "6q2u3OwTlrSu",
        "outputId": "a4743652-09d9-4ff8-df2b-3c3009c1c768"
      },
      "outputs": [
        {
          "name": "stdout",
          "output_type": "stream",
          "text": [
            "0\n",
            "0\n",
            "\n",
            "2\n",
            "[CLS] how many field goals did the lions score? [SEP] to start the season, the lions traveled south to tampa, florida to take on the tampa bay buccaneers. the lions scored first in the first quarter with a 23 - yard field goal by jason hanson. the buccaneers tied it up with a 38 - yard field goal by connor barth, then took the lead when aqib talib intercepted a pass from matthew stafford and ran it in 28 yards. the lions responded with a 28 - yard field goal. in the second quarter, detroit took the lead with a 36 - yard touchdown catch by calvin johnson, and later added more points when tony scheffler caught an 11 - yard td pass. tampa bay responded with a 31 - yard field goal just before halftime. the second half was relatively quiet, with each team only scoring one touchdown. first, detroit's calvin johnson caught a 1 - yard pass in the third quarter. the game's final points came when mike williams of tampa bay caught a 5 - yard pass. the lions won their regular season opener for the first time since 2007 [SEP] [PAD] [PAD] [PAD] [PAD] [PAD] [PAD] [PAD] [PAD] [PAD] [PAD] [PAD] [PAD] [PAD] [PAD] [PAD] [PAD] [PAD] [PAD] [PAD] [PAD] [PAD] [PAD] [PAD] [PAD] [PAD] [PAD] [PAD] [PAD]\n"
          ]
        }
      ],
      "source": [
        "test_rec = 1\n",
        "print(train_encodings_fast['start_positions'][test_rec])\n",
        "print(train_encodings_fast['end_positions'][test_rec])\n",
        "predict_answer_tokens = train_encodings_fast.input_ids[test_rec][train_encodings_fast['start_positions'][test_rec] : train_encodings_fast['end_positions'][test_rec]]\n",
        "print(tokenizerFast.decode(predict_answer_tokens))\n",
        "print(train_answers[test_rec]['text'])\n",
        "print(tokenizerFast.decode(train_encodings_fast['input_ids'][test_rec]))"
      ]
    },
    {
      "cell_type": "code",
      "execution_count": null,
      "metadata": {
        "id": "Sjm1WSLtl5vK"
      },
      "outputs": [],
      "source": [
        "def ret_Answer_start_and_end_valid(idx):\n",
        "    ret_start = 0\n",
        "    ret_end = 0\n",
        "    answer_encoding_fast = tokenizerFast(valid_answers[idx]['text'],  max_length = MAX_LENGTH, truncation=True, padding=True)\n",
        "    for a in range( len(valid_encodings_fast['input_ids'][idx])  -  len(answer_encoding_fast['input_ids'])   ):\n",
        "        match = True\n",
        "        for i in range(1,len(answer_encoding_fast['input_ids']) - 1):\n",
        "            if (answer_encoding_fast['input_ids'][i] != valid_encodings_fast['input_ids'][idx][a + i]):\n",
        "                match = False\n",
        "                break\n",
        "        if match:\n",
        "            ret_start = a+1\n",
        "            ret_end = a+i+1\n",
        "            break\n",
        "    return(ret_start, ret_end)"
      ]
    },
    {
      "cell_type": "code",
      "execution_count": null,
      "metadata": {
        "colab": {
          "base_uri": "https://localhost:8080/"
        },
        "id": "QE7W5LfQl6cm",
        "outputId": "21f60186-4771-4bf1-e67f-4bcd31edba69"
      },
      "outputs": [
        {
          "name": "stdout",
          "output_type": "stream",
          "text": [
            "5008\n"
          ]
        }
      ],
      "source": [
        "start_positions = []\n",
        "end_positions = []\n",
        "ctr = 0\n",
        "for h in range(len(valid_encodings_fast['input_ids']) ):\n",
        "    s, e = ret_Answer_start_and_end_valid(h)\n",
        "    start_positions.append(s)\n",
        "    end_positions.append(e)\n",
        "    if s==0:\n",
        "        ctr = ctr + 1\n",
        "\n",
        "\n",
        "valid_encodings_fast.update({'start_positions': start_positions, 'end_positions': end_positions})\n",
        "print(ctr)"
      ]
    },
    {
      "cell_type": "code",
      "execution_count": null,
      "metadata": {
        "colab": {
          "base_uri": "https://localhost:8080/"
        },
        "id": "gzERCNesl80M",
        "outputId": "1d994b82-3cb3-4cf5-8cf8-35256f26dbea"
      },
      "outputs": [
        {
          "name": "stdout",
          "output_type": "stream",
          "text": [
            "raiders\n",
            "raiders\n",
            "[CLS] which team won the game? [SEP] hoping to rebound from their loss to the patriots, the raiders stayed at home for a week 16 duel with the houston texans. oakland would get the early lead in the first quarter as quarterback jamarcus russell completed a 20 - yard touchdown pass to rookie wide receiver chaz schilens. the texans would respond with fullback vonta leach getting a 1 - yard touchdown run, yet the raiders would answer with kicker sebastian janikowski getting a 33 - yard and a 30 - yard field goal. houston would tie the game in the second quarter with kicker kris brown getting a 53 - yard and a 24 - yard field goal. oakland would take the lead in the third quarter with wide receiver johnnie lee higgins catching a 29 - yard touchdown pass from russell, followed up by an 80 - yard punt return for a touchdown. the texans tried to rally in the fourth quarter as brown nailed a 40 - yard field goal, yet the raiders'defense would shut down any possible attempt. [SEP] [PAD] [PAD] [PAD] [PAD] [PAD] [PAD] [PAD] [PAD] [PAD] [PAD] [PAD] [PAD] [PAD] [PAD] [PAD] [PAD] [PAD] [PAD] [PAD] [PAD] [PAD] [PAD] [PAD] [PAD] [PAD] [PAD] [PAD] [PAD] [PAD] [PAD] [PAD] [PAD] [PAD] [PAD] [PAD] [PAD] [PAD] [PAD] [PAD] [PAD] [PAD] [PAD] [PAD] [PAD] [PAD] [PAD] [PAD]\n"
          ]
        }
      ],
      "source": [
        "test_rec=2\n",
        "\n",
        "z,x = ret_Answer_start_and_end_valid(test_rec)\n",
        "\n",
        "predict_answer_tokens = valid_encodings_fast.input_ids[test_rec][z : x]\n",
        "print(tokenizerFast.decode(predict_answer_tokens))\n",
        "print(valid_answers[test_rec]['text'])\n",
        "print(tokenizerFast.decode(valid_encodings_fast['input_ids'][test_rec]))"
      ]
    },
    {
      "cell_type": "code",
      "execution_count": null,
      "metadata": {
        "colab": {
          "base_uri": "https://localhost:8080/"
        },
        "id": "1J8qhacPl_j2",
        "outputId": "54c7436c-bcd8-4307-e096-b90db240fc7b"
      },
      "outputs": [
        {
          "name": "stdout",
          "output_type": "stream",
          "text": [
            "dict_keys(['input_ids', 'token_type_ids', 'attention_mask', 'start_positions', 'end_positions'])\n",
            "dict_keys(['input_ids', 'token_type_ids', 'attention_mask', 'start_positions', 'end_positions'])\n",
            "83245\n",
            "83245\n",
            "83245\n",
            "10297\n",
            "10297\n",
            "10297\n"
          ]
        }
      ],
      "source": [
        "print(train_encodings_fast.keys())\n",
        "print(valid_encodings_fast.keys())\n",
        "print(len(train_encodings_fast['input_ids']))\n",
        "print(len(train_encodings_fast['start_positions']))\n",
        "print(len(train_encodings_fast['end_positions']))\n",
        "print(len(valid_encodings_fast['input_ids']))\n",
        "print(len(valid_encodings_fast['start_positions']))\n",
        "print(len(valid_encodings_fast['end_positions']))"
      ]
    },
    {
      "cell_type": "code",
      "execution_count": null,
      "metadata": {
        "colab": {
          "base_uri": "https://localhost:8080/",
          "height": 244
        },
        "id": "P946Tcm8mCG8",
        "outputId": "4073e317-f807-45e2-abc1-55b8a99ff55d"
      },
      "outputs": [
        {
          "data": {
            "application/vnd.google.colaboratory.intrinsic+json": {
              "type": "string"
            },
            "text/plain": [
              "\"[CLS] how many points did the buccaneers need to tie in the first? [SEP] to start the season, the lions traveled south to tampa, florida to take on the tampa bay buccaneers. the lions scored first in the first quarter with a 23 - yard field goal by jason hanson. the buccaneers tied it up with a 38 - yard field goal by connor barth, then took the lead when aqib talib intercepted a pass from matthew stafford and ran it in 28 yards. the lions responded with a 28 - yard field goal. in the second quarter, detroit took the lead with a 36 - yard touchdown catch by calvin johnson, and later added more points when tony scheffler caught an 11 - yard td pass. tampa bay responded with a 31 - yard field goal just before halftime. the second half was relatively quiet, with each team only scoring one touchdown. first, detroit's calvin johnson caught a 1 - yard pass in the third quarter. the game's final points came when mike williams of tampa bay caught a 5 - yard pass. the lions won their regular season opener for the first time since 2007 [SEP] [PAD] [PAD] [PAD] [PAD] [PAD] [PAD] [PAD] [PAD] [PAD] [PAD] [PAD] [PAD] [PAD] [PAD] [PAD] [PAD] [PAD] [PAD] [PAD] [PAD] [PAD] [PAD] [PAD] [PAD]\""
            ]
          },
          "execution_count": 57,
          "metadata": {},
          "output_type": "execute_result"
        }
      ],
      "source": [
        "tokenizerFast.decode(train_encodings_fast['input_ids'][0])"
      ]
    },
    {
      "cell_type": "code",
      "execution_count": null,
      "metadata": {
        "colab": {
          "base_uri": "https://localhost:8080/"
        },
        "id": "vWtneUXXmFiw",
        "outputId": "daf43080-9426-412c-be1d-2ce5c7a36064"
      },
      "outputs": [
        {
          "name": "stdout",
          "output_type": "stream",
          "text": [
            "3\n"
          ]
        }
      ],
      "source": [
        "test_row= 0\n",
        "print(train_contexts[test_row][train_answers[test_row]['answer_start']:train_answers[test_row]['answer_end']])"
      ]
    },
    {
      "cell_type": "code",
      "execution_count": null,
      "metadata": {
        "colab": {
          "base_uri": "https://localhost:8080/",
          "height": 122
        },
        "id": "1rhLm8BEmPNF",
        "outputId": "39c451dd-9299-4b19-d4fd-b2b9c2f517dc"
      },
      "outputs": [
        {
          "data": {
            "application/vnd.google.colaboratory.intrinsic+json": {
              "type": "string"
            },
            "text/plain": [
              "'[CLS] how many points did the buccaneers need to tie in the first? [SEP] to start the season, the lions traveled south to tampa, florida to take on the tampa bay buccaneers. the lions scored first in the first quarter with a 23 - yard field goal by jason hanson. the buccaneers tied it up with a 38 - yard field goal by connor barth, then took the lead when aqib talib intercepted a pass from matthew stafford and ran it in 28 yards. the lions responded with a'"
            ]
          },
          "execution_count": 59,
          "metadata": {},
          "output_type": "execute_result"
        }
      ],
      "source": [
        "answer_start_index = 0\n",
        "answer_end_index = 100\n",
        "\n",
        "predict_answer_tokens = train_encodings_fast.input_ids[0][answer_start_index : answer_end_index]\n",
        "tokenizerFast.decode(predict_answer_tokens)"
      ]
    },
    {
      "cell_type": "code",
      "execution_count": null,
      "metadata": {
        "id": "af6KAyJOmQHH"
      },
      "outputs": [],
      "source": [
        "class InputDataset(Dataset):\n",
        "    def __init__(self, encodings):\n",
        "        self.encodings = encodings\n",
        "    def __getitem__(self, i):\n",
        "        return {\n",
        "            'input_ids': torch.tensor(self.encodings['input_ids'][i]),\n",
        "            'token_type_ids': torch.tensor(self.encodings['token_type_ids'][i]),\n",
        "            'attention_mask': torch.tensor(self.encodings['attention_mask'][i]),\n",
        "            'start_positions': torch.tensor(self.encodings['start_positions'][i]),\n",
        "            'end_positions': torch.tensor(self.encodings['end_positions'][i])\n",
        "        }\n",
        "    def __len__(self):\n",
        "        return len(self.encodings['input_ids'])"
      ]
    },
    {
      "cell_type": "code",
      "execution_count": null,
      "metadata": {
        "id": "CYs3C1ZTmVYj"
      },
      "outputs": [],
      "source": [
        "train_dataset = InputDataset(train_encodings_fast)\n",
        "valid_dataset = InputDataset(valid_encodings_fast)"
      ]
    },
    {
      "cell_type": "code",
      "execution_count": null,
      "metadata": {
        "id": "AXp-NSeqnZZi"
      },
      "outputs": [],
      "source": [
        "train_data_loader = DataLoader(train_dataset, batch_size=16, shuffle=True)\n",
        "valid_data_loader = DataLoader(valid_dataset, batch_size=32)"
      ]
    },
    {
      "cell_type": "code",
      "execution_count": null,
      "metadata": {
        "colab": {
          "base_uri": "https://localhost:8080/"
        },
        "id": "eQ_EDDEFmYLw",
        "outputId": "7eb77ab6-f43a-469f-b8ad-71b50f909971"
      },
      "outputs": [
        {
          "name": "stdout",
          "output_type": "stream",
          "text": [
            "83245\n",
            "dict_keys(['input_ids', 'token_type_ids', 'attention_mask', 'start_positions', 'end_positions'])\n"
          ]
        }
      ],
      "source": [
        "print(len(train_dataset))\n",
        "print(train_dataset[0].keys())"
      ]
    },
    {
      "cell_type": "code",
      "execution_count": null,
      "metadata": {
        "colab": {
          "base_uri": "https://localhost:8080/",
          "height": 77,
          "referenced_widgets": [
            "99b51a63cf7145868d96c6ab7b652b63",
            "e5254ec845604f4a937ed6db7856fe2d",
            "2ad1711a0c7b4608b4509ea81df81656",
            "6f1b2b282f6e4f1fb2115c77a600a577",
            "1f3d0c990dde45fc8904fb5bf83caecf",
            "76cc20e6caa14c48b76cae16ef496cd2",
            "4ef870f50fde4690a1eca917da0247c8",
            "0682980863a249d5a929386f2f5eb746",
            "6dde6b138f1040648ccd68b77894fc7a",
            "36a5001b286a4db8901adf67ac7b3f51",
            "9b0a9589d30445238e09850361614108"
          ]
        },
        "id": "mCRrZhGymbRy",
        "outputId": "63534eaa-b7ab-4b2b-ae2a-e4937f27f13a"
      },
      "outputs": [
        {
          "data": {
            "application/vnd.jupyter.widget-view+json": {
              "model_id": "99b51a63cf7145868d96c6ab7b652b63",
              "version_major": 2,
              "version_minor": 0
            },
            "text/plain": [
              "model.safetensors:   0%|          | 0.00/440M [00:00<?, ?B/s]"
            ]
          },
          "metadata": {},
          "output_type": "display_data"
        }
      ],
      "source": [
        "bert_model = BertModel.from_pretrained(MODEL_PATH)\n",
        "class QAModel(nn.Module):\n",
        "    def __init__(self):\n",
        "        super(QAModel, self).__init__()\n",
        "        self.bert = bert_model\n",
        "        self.drop_out = nn.Dropout(0.1)\n",
        "        self.l1 = nn.Linear(768 * 2, 768 * 2)\n",
        "        self.l2 = nn.Linear(768 * 2, 2)\n",
        "        self.linear_relu_stack = nn.Sequential(\n",
        "            self.drop_out,\n",
        "            self.l1,\n",
        "            nn.LeakyReLU(),\n",
        "            self.l2\n",
        "        )\n",
        "\n",
        "    def forward(self, input_ids, attention_mask, token_type_ids):\n",
        "        model_output = self.bert(input_ids, attention_mask=attention_mask, token_type_ids=token_type_ids, output_hidden_states=True)\n",
        "        hidden_states = model_output[2]\n",
        "        out = torch.cat((hidden_states[-1], hidden_states[-3]), dim=-1)\n",
        "        logits = self.linear_relu_stack(out)\n",
        "\n",
        "        start_logits, end_logits = logits.split(1, dim=-1)\n",
        "\n",
        "        start_logits = start_logits.squeeze(-1)\n",
        "        end_logits = end_logits.squeeze(-1)\n",
        "\n",
        "        return start_logits, end_logits"
      ]
    },
    {
      "cell_type": "code",
      "execution_count": null,
      "metadata": {
        "id": "LEpjEiWTmmWA"
      },
      "outputs": [],
      "source": [
        "model = QAModel()"
      ]
    },
    {
      "cell_type": "code",
      "execution_count": null,
      "metadata": {
        "colab": {
          "base_uri": "https://localhost:8080/"
        },
        "id": "bU7z9HGymnpt",
        "outputId": "9c96688a-147c-467f-b560-88acb14751fc"
      },
      "outputs": [
        {
          "name": "stdout",
          "output_type": "stream",
          "text": [
            "cuda\n"
          ]
        }
      ],
      "source": [
        "device = torch.device('cuda') if torch.cuda.is_available() else torch.device('cpu')\n",
        "print(device)"
      ]
    },
    {
      "cell_type": "code",
      "execution_count": null,
      "metadata": {
        "id": "VqZ1wlH6mrL2"
      },
      "outputs": [],
      "source": [
        "def loss_fn(start_logits, end_logits, start_positions, end_positions):\n",
        "    loss_fct = nn.CrossEntropyLoss()\n",
        "    start_loss = loss_fct(start_logits, start_positions)\n",
        "    end_loss = loss_fct(end_logits, end_positions)\n",
        "    total_loss = (start_loss + end_loss)/2\n",
        "    return total_loss"
      ]
    },
    {
      "cell_type": "code",
      "execution_count": null,
      "metadata": {
        "id": "QXPeNiHHmtYN"
      },
      "outputs": [],
      "source": [
        "def focal_loss_fn(start_logits, end_logits, start_positions, end_positions, gamma):\n",
        "\n",
        "    smax = nn.Softmax(dim=1)\n",
        "    probs_start = smax(start_logits)\n",
        "    inv_probs_start = 1 - probs_start\n",
        "    probs_end = smax(end_logits)\n",
        "    inv_probs_end = 1 - probs_end\n",
        "\n",
        "    lsmax = nn.LogSoftmax(dim=1)\n",
        "    log_probs_start = lsmax(start_logits)\n",
        "    log_probs_end = lsmax(end_logits)\n",
        "\n",
        "    nll = nn.NLLLoss()\n",
        "\n",
        "    fl_start = nll(torch.pow(inv_probs_start, gamma)* log_probs_start, start_positions)\n",
        "    fl_end = nll(torch.pow(inv_probs_end, gamma)*log_probs_end, end_positions)\n",
        "\n",
        "    return ((fl_start + fl_end)/2)"
      ]
    },
    {
      "cell_type": "code",
      "execution_count": null,
      "metadata": {
        "colab": {
          "base_uri": "https://localhost:8080/"
        },
        "id": "0eRAb9xgmvm2",
        "outputId": "aa05a513-d9af-4b77-ec05-2b888286d45b"
      },
      "outputs": [
        {
          "name": "stderr",
          "output_type": "stream",
          "text": [
            "/usr/local/lib/python3.10/dist-packages/transformers/optimization.py:411: FutureWarning: This implementation of AdamW is deprecated and will be removed in a future version. Use the PyTorch implementation torch.optim.AdamW instead, or set `no_deprecation_warning=True` to disable this warning\n",
            "  warnings.warn(\n"
          ]
        }
      ],
      "source": [
        "optim = AdamW(model.parameters(), lr=2e-5, weight_decay=2e-2)\n",
        "scheduler = ExponentialLR(optim, gamma=0.9)\n",
        "total_acc = []\n",
        "total_loss = []"
      ]
    },
    {
      "cell_type": "code",
      "execution_count": null,
      "metadata": {
        "id": "DIyurgP5mx3n"
      },
      "outputs": [],
      "source": [
        "def train_epoch(model, dataloader, epoch):\n",
        "    model = model.train()\n",
        "    losses = []\n",
        "    acc = []\n",
        "    ctr = 0\n",
        "    batch_tracker = 0\n",
        "    for batch in tqdm(dataloader, desc = 'Running Epoch '):\n",
        "        optim.zero_grad()\n",
        "        input_ids = batch['input_ids'].to(device)\n",
        "        attention_mask = batch['attention_mask'].to(device)\n",
        "        token_type_ids = batch['token_type_ids'].to(device)\n",
        "        start_positions = batch['start_positions'].to(device)\n",
        "        end_positions = batch['end_positions'].to(device)\n",
        "        out_start, out_end = model(input_ids=input_ids,\n",
        "                attention_mask=attention_mask,\n",
        "                token_type_ids=token_type_ids)\n",
        "        loss = focal_loss_fn(out_start, out_end, start_positions, end_positions,1)\n",
        "        losses.append(loss.item())\n",
        "        loss.backward()\n",
        "        optim.step()\n",
        "        #print(out_start)\n",
        "\n",
        "        # for iter in range(16):\n",
        "        #   print(tokenizerFast.decode(input_ids[iter]))\n",
        "\n",
        "        # print(out_start.size())\n",
        "        start_pred = torch.argmax(out_start, dim=1)\n",
        "        end_pred = torch.argmax(out_end, dim=1)\n",
        "        # print(\"\\n\")\n",
        "        #print((type(start_positions)))\n",
        "        #print(type(start_pred))\n",
        "\n",
        "        # for iter in range(16):\n",
        "        #   print(\"pred\")\n",
        "        #   print(tokenizerFast.convert_tokens_to_string(tokenizerFast.convert_ids_to_tokens(input_ids[iter][start_pred[iter] : end_pred[iter]])))\n",
        "        #   print(\"true ans\")\n",
        "        #   print(tokenizerFast.convert_tokens_to_string(tokenizerFast.convert_ids_to_tokens(input_ids[iter][start_positions[iter] : end_positions[iter]])))\n",
        "\n",
        "        #print(start_pred)\n",
        "        #print(start_positions)\n",
        "\n",
        "        acc.append(((start_pred == start_positions).sum()/len(start_pred)).item())\n",
        "        acc.append(((end_pred == end_positions).sum()/len(end_pred)).item())\n",
        "\n",
        "        #print(f\"acc1 is {acc[-2]} acc2 is {acc[-1]}\")\n",
        "        # print(\"\\n\")\n",
        "\n",
        "        batch_tracker = batch_tracker + 1\n",
        "        if batch_tracker==250 and epoch==1:\n",
        "            total_acc.append(sum(acc)/len(acc))\n",
        "            loss_avg = sum(losses)/len(losses)\n",
        "            total_loss.append(loss_avg)\n",
        "            batch_tracker = 0\n",
        "    scheduler.step()\n",
        "    ret_acc = sum(acc)/len(acc)\n",
        "    ret_loss = sum(losses)/len(losses)\n",
        "    return(ret_acc, ret_loss)"
      ]
    },
    {
      "cell_type": "code",
      "execution_count": null,
      "metadata": {
        "id": "9QbM2afLm59c"
      },
      "outputs": [],
      "source": [
        "def eval_model(model, dataloader):\n",
        "    model = model.eval()\n",
        "    losses = []\n",
        "    acc = []\n",
        "    ctr = 0\n",
        "    with torch.no_grad():\n",
        "        for batch in tqdm(dataloader, desc = 'Running Evaluation'):\n",
        "            input_ids = batch['input_ids'].to(device)\n",
        "            attention_mask = batch['attention_mask'].to(device)\n",
        "            token_type_ids = batch['token_type_ids'].to(device)\n",
        "            start_true = batch['start_positions'].to(device)\n",
        "            end_true = batch['end_positions'].to(device)\n",
        "\n",
        "            out_start, out_end = model(input_ids=input_ids,\n",
        "                attention_mask=attention_mask,\n",
        "                token_type_ids=token_type_ids)\n",
        "\n",
        "            start_pred = torch.argmax(out_start, dim=1)\n",
        "            end_pred = torch.argmax(out_end, dim=1)\n",
        "\n",
        "            acc.append(((start_pred == start_true).sum()/len(start_pred)).item())\n",
        "            acc.append(((end_pred == end_true).sum()/len(end_pred)).item())\n",
        "        ret_acc = sum(acc)/len(acc)\n",
        "        ret_loss = 0\n",
        "    return(ret_acc)"
      ]
    },
    {
      "cell_type": "code",
      "execution_count": null,
      "metadata": {
        "colab": {
          "base_uri": "https://localhost:8080/"
        },
        "id": "Lngqw5atm_ro",
        "outputId": "4870fa04-eead-40eb-8fcb-1fad68cd2103"
      },
      "outputs": [
        {
          "name": "stderr",
          "output_type": "stream",
          "text": [
            "Running Epoch : 100%|██████████| 5203/5203 [1:04:34<00:00,  1.34it/s]\n"
          ]
        },
        {
          "name": "stdout",
          "output_type": "stream",
          "text": [
            "Train Accuracy: 0.5743057814305181      Train Loss: 1.2205998959184816\n"
          ]
        },
        {
          "name": "stderr",
          "output_type": "stream",
          "text": [
            "Running Evaluation: 100%|██████████| 322/322 [02:36<00:00,  2.06it/s]\n"
          ]
        },
        {
          "name": "stdout",
          "output_type": "stream",
          "text": [
            "Validation Accuracy: 0.6452503881839492\n"
          ]
        },
        {
          "name": "stderr",
          "output_type": "stream",
          "text": [
            "Running Epoch : 100%|██████████| 5203/5203 [1:04:38<00:00,  1.34it/s]\n"
          ]
        },
        {
          "name": "stdout",
          "output_type": "stream",
          "text": [
            "Train Accuracy: 0.6367203092921039      Train Loss: 0.8697809446477762\n"
          ]
        },
        {
          "name": "stderr",
          "output_type": "stream",
          "text": [
            "Running Evaluation: 100%|██████████| 322/322 [02:36<00:00,  2.06it/s]\n"
          ]
        },
        {
          "name": "stdout",
          "output_type": "stream",
          "text": [
            "Validation Accuracy: 0.6755784161342597\n"
          ]
        },
        {
          "name": "stderr",
          "output_type": "stream",
          "text": [
            "Running Epoch : 100%|██████████| 5203/5203 [1:04:37<00:00,  1.34it/s]\n"
          ]
        },
        {
          "name": "stdout",
          "output_type": "stream",
          "text": [
            "Train Accuracy: 0.6735514089531013      Train Loss: 0.7208052938966918\n"
          ]
        },
        {
          "name": "stderr",
          "output_type": "stream",
          "text": [
            "Running Evaluation: 100%|██████████| 322/322 [02:36<00:00,  2.06it/s]\n"
          ]
        },
        {
          "name": "stdout",
          "output_type": "stream",
          "text": [
            "Validation Accuracy: 0.6834879658237007\n"
          ]
        },
        {
          "name": "stderr",
          "output_type": "stream",
          "text": [
            "Running Epoch : 100%|██████████| 5203/5203 [1:04:39<00:00,  1.34it/s]\n"
          ]
        },
        {
          "name": "stdout",
          "output_type": "stream",
          "text": [
            "Train Accuracy: 0.7001498765540357      Train Loss: 0.6073969036810403\n"
          ]
        },
        {
          "name": "stderr",
          "output_type": "stream",
          "text": [
            "Running Evaluation: 100%|██████████| 322/322 [02:36<00:00,  2.05it/s]"
          ]
        },
        {
          "name": "stdout",
          "output_type": "stream",
          "text": [
            "Validation Accuracy: 0.6854289596125206\n"
          ]
        },
        {
          "name": "stderr",
          "output_type": "stream",
          "text": [
            "\n"
          ]
        }
      ],
      "source": [
        "EPOCHS = 4\n",
        "\n",
        "model.to(device)\n",
        "\n",
        "for epoch in range(EPOCHS):\n",
        "    train_acc, train_loss = train_epoch(model, train_data_loader, epoch+1)\n",
        "    print(f\"Train Accuracy: {train_acc}      Train Loss: {train_loss}\")\n",
        "    val_acc = eval_model(model, valid_data_loader)\n",
        "    print(f\"Validation Accuracy: {val_acc}\")"
      ]
    },
    {
      "cell_type": "code",
      "execution_count": null,
      "metadata": {
        "id": "EVEv2_WLz2BF"
      },
      "outputs": [],
      "source": [
        "from google.colab import output\n",
        "output.eval_js('new Audio(\"https://upload.wikimedia.org/wikipedia/commons/0/05/Beep-09.ogg\").play()')"
      ]
    },
    {
      "cell_type": "code",
      "execution_count": null,
      "metadata": {
        "colab": {
          "base_uri": "https://localhost:8080/"
        },
        "id": "_zIDBgcWnWSw",
        "outputId": "75a3cd1f-2fd8-4aa3-db29-4a11e63886ab"
      },
      "outputs": [
        {
          "data": {
            "text/plain": [
              "[1.3122e-05]"
            ]
          },
          "execution_count": 74,
          "metadata": {},
          "output_type": "execute_result"
        }
      ],
      "source": [
        "scheduler.get_last_lr()"
      ]
    },
    {
      "cell_type": "code",
      "execution_count": null,
      "metadata": {
        "colab": {
          "base_uri": "https://localhost:8080/",
          "height": 472
        },
        "id": "VAZyuRRMPYQ2",
        "outputId": "359797e3-3270-4f5d-b265-de0242c4a79c"
      },
      "outputs": [
        {
          "data": {
            "image/png": "[encoded data removed]",
            "text/plain": [
              "<Figure size 640x480 with 1 Axes>"
            ]
          },
          "metadata": {},
          "output_type": "display_data"
        }
      ],
      "source": [
        "plt.plot(total_acc, color='blue')\n",
        "plt.ylabel('Accuracy')\n",
        "plt.xlabel('Runs->')\n",
        "plt.title(\"Total Train Accuracy over time\");"
      ]
    },
    {
      "cell_type": "code",
      "execution_count": null,
      "metadata": {
        "colab": {
          "base_uri": "https://localhost:8080/",
          "height": 472
        },
        "id": "_eMzxdQwPZPu",
        "outputId": "bbc7b233-7dbf-47ba-ef8b-240162b32005"
      },
      "outputs": [
        {
          "data": {
            "image/png": "[encoded data removed]",
            "text/plain": [
              "<Figure size 640x480 with 1 Axes>"
            ]
          },
          "metadata": {},
          "output_type": "display_data"
        }
      ],
      "source": [
        "plt.plot(total_loss, color='red')\n",
        "plt.ylabel('Loss')\n",
        "plt.xlabel('Runs->')\n",
        "plt.title(\"Total Train Loss over time\");"
      ]
    },
    {
      "cell_type": "code",
      "execution_count": null,
      "metadata": {
        "id": "_IaYHoq6P3k6"
      },
      "outputs": [],
      "source": [
        "def get_answer(question, context):\n",
        "    inputs = tokenizerFast.encode_plus(question, context, return_tensors='pt').to(device)\n",
        "    with torch.no_grad():\n",
        "        output_start, output_end = model(**inputs)\n",
        "\n",
        "        answer_start = torch.argmax(output_start)\n",
        "        answer_end = torch.argmax(output_end)\n",
        "\n",
        "        answer = tokenizerFast.convert_tokens_to_string(tokenizerFast.convert_ids_to_tokens(inputs['input_ids'][0][answer_start:answer_end]))\n",
        "\n",
        "        return(answer)"
      ]
    },
    {
      "cell_type": "code",
      "execution_count": null,
      "metadata": {
        "colab": {
          "base_uri": "https://localhost:8080/"
        },
        "id": "FOdm7O7SP9Nq",
        "outputId": "fb443c72-4a79-4725-9044-9b6d1de347c0"
      },
      "outputs": [
        {
          "name": "stdout",
          "output_type": "stream",
          "text": [
            "Context:  hoping to rebound from their loss to the patriots, the raiders stayed at home for a week 16 duel with the houston texans.  oakland would get the early lead in the first quarter as quarterback jamarcus russell completed a 20-yard touchdown pass to rookie wide receiver chaz schilens.  the texans would respond with fullback vonta leach getting a 1-yard touchdown run, yet the raiders would answer with kicker sebastian janikowski getting a 33-yard and a 30-yard field goal.  houston would tie the game in the second quarter with kicker kris brown getting a 53-yard and a 24-yard field goal. oakland would take the lead in the third quarter with wide receiver johnnie lee higgins catching a 29-yard touchdown pass from russell, followed up by an 80-yard punt return for a touchdown.  the texans tried to rally in the fourth quarter as brown nailed a 40-yard field goal, yet the raiders' defense would shut down any possible attempt.\n",
            "Question: who scored the first touchdown of the game?\n",
            "Expected Answer: {'text': 'chaz schilens', 'answer_start': -1, 'answer_end': 12}\n",
            "Predicted Answer: chaz schilens\n"
          ]
        }
      ],
      "source": [
        "test_rec = 0\n",
        "\n",
        "print(f\"Context: {valid_contexts[test_rec]}\")\n",
        "print(f\"Question: {valid_questions[test_rec]}\")\n",
        "print(f\"Expected Answer: {valid_answers[test_rec]}\")\n",
        "\n",
        "context = valid_contexts[test_rec]\n",
        "question = valid_questions[test_rec]\n",
        "\n",
        "print(f\"Predicted Answer: {get_answer(question, context)}\")"
      ]
    },
    {
      "cell_type": "code",
      "execution_count": null,
      "metadata": {
        "colab": {
          "base_uri": "https://localhost:8080/"
        },
        "id": "Sx6eFMHHP-6T",
        "outputId": "4a23b17a-120e-4899-b8a6-fca60652e0b1"
      },
      "outputs": [
        {
          "name": "stdout",
          "output_type": "stream",
          "text": [
            "Context:  hoping to rebound from their loss to the patriots, the raiders stayed at home for a week 16 duel with the houston texans.  oakland would get the early lead in the first quarter as quarterback jamarcus russell completed a 20-yard touchdown pass to rookie wide receiver chaz schilens.  the texans would respond with fullback vonta leach getting a 1-yard touchdown run, yet the raiders would answer with kicker sebastian janikowski getting a 33-yard and a 30-yard field goal.  houston would tie the game in the second quarter with kicker kris brown getting a 53-yard and a 24-yard field goal. oakland would take the lead in the third quarter with wide receiver johnnie lee higgins catching a 29-yard touchdown pass from russell, followed up by an 80-yard punt return for a touchdown.  the texans tried to rally in the fourth quarter as brown nailed a 40-yard field goal, yet the raiders' defense would shut down any possible attempt.\n",
            "Question: how many field goals were scored in the game?\n",
            "Expected Answer: {'text': '5', 'answer_start': 557, 'answer_end': 558}\n",
            "Predicted Answer: \n"
          ]
        }
      ],
      "source": [
        "test_rec = 15\n",
        "\n",
        "print(f\"Context: {valid_contexts[test_rec]}\")\n",
        "print(f\"Question: {valid_questions[test_rec]}\")\n",
        "print(f\"Expected Answer: {valid_answers[test_rec]}\")\n",
        "\n",
        "context = valid_contexts[test_rec]\n",
        "question = valid_questions[test_rec]\n",
        "\n",
        "print(f\"Predicted Answer: {get_answer(question, context)}\")"
      ]
    },
    {
      "cell_type": "code",
      "execution_count": null,
      "metadata": {
        "colab": {
          "base_uri": "https://localhost:8080/"
        },
        "id": "MLMMxYTqQDQz",
        "outputId": "f1e9ec7b-63ef-4909-fa34-c55439f9ca13"
      },
      "outputs": [
        {
          "name": "stdout",
          "output_type": "stream",
          "text": [
            "Context:  still searching for their first win, the bengals flew to texas stadium for a week 5 interconference duel with the dallas cowboys.  in the first quarter, cincinnati trailed early as cowboys kicker nick folk got a 30-yard field goal, along with rb felix jones getting a 33-yard td run.  in the second quarter, dallas increased its lead as qb tony romo completed a 4-yard td pass to te jason witten.  the bengals would end the half with kicker shayne graham getting a 41-yard and a 31-yard field goal. in the third quarter, cincinnati tried to rally as qb carson palmer completed an 18-yard td pass to wr t. j. houshmandzadeh.  in the fourth quarter, the bengals got closer as graham got a 40-yard field goal, yet the cowboys answered with romo completing a 57-yard td pass to wr terrell owens.  cincinnati tried to come back as palmer completed a 10-yard td pass to houshmandzadeh (with a failed 2-point conversion), but dallas pulled away with romo completing a 15-yard td pass to wr patrick crayton.\n",
            "Question: how many passed did houshmandzadeh catch?\n",
            "Expected Answer: {'text': '2', 'answer_start': 895, 'answer_end': 896}\n",
            "Predicted Answer: \n"
          ]
        }
      ],
      "source": [
        "test_rec = 28\n",
        "\n",
        "print(f\"Context: {valid_contexts[test_rec]}\")\n",
        "print(f\"Question: {valid_questions[test_rec]}\")\n",
        "print(f\"Expected Answer: {valid_answers[test_rec]}\")\n",
        "\n",
        "context = valid_contexts[test_rec]\n",
        "question = valid_questions[test_rec]\n",
        "\n",
        "print(f\"Predicted Answer: {get_answer(question, context)}\")"
      ]
    },
    {
      "cell_type": "code",
      "execution_count": null,
      "metadata": {
        "colab": {
          "base_uri": "https://localhost:8080/"
        },
        "id": "yKUxRysGQFpF",
        "outputId": "a48221e0-dd83-4df5-be32-c512c5ec73eb"
      },
      "outputs": [
        {
          "name": "stdout",
          "output_type": "stream",
          "text": [
            "Context: bangkok is one of the worlds top tourist destinations. of 162 cities worldwide, mastercard ranked bangkok as the top destination city by international visitor arrivals in its global destination cities index 2018, ahead of london, with just over 20 million overnight visitors in 2017. this was a repeat of its 2017 ranking (for 2016). euromonitor international ranked bangkok fourth in its top city destinations ranking for 2016. bangkok was also named \"worlds best city\" by travel + leisure magazines survey of its readers for four consecutive years, from 2010 to 2013. as the main gateway through which visitors arrive in thailand, bangkok is visited by the majority of international tourists to the country. domestic tourism is also prominent. the department of tourism recorded 26,861,095 thai and 11,361,808 foreign visitors to bangkok in 2010. lodgings were made by 15,031,244 guests, who occupied 49.9 percent of the citys 86,687 hotel rooms. bangkok also topped the list as the worlds most popular tourist destinations in 2017 rankings.\n",
            "Question: which visited bangkok more in 2010, thai visitors or foreign visitors?\n",
            "Expected Answer: {'text': 'thai', 'answer_start': -1, 'answer_end': 3}\n",
            "Predicted Answer: thai visitors\n"
          ]
        }
      ],
      "source": [
        "test_rec = 2000\n",
        "\n",
        "print(f\"Context: {valid_contexts[test_rec]}\")\n",
        "print(f\"Question: {valid_questions[test_rec]}\")\n",
        "print(f\"Expected Answer: {valid_answers[test_rec]}\")\n",
        "\n",
        "context = valid_contexts[test_rec]\n",
        "question = valid_questions[test_rec]\n",
        "\n",
        "print(f\"Predicted Answer: {get_answer(question, context)}\")"
      ]
    },
    {
      "cell_type": "code",
      "execution_count": null,
      "metadata": {
        "colab": {
          "base_uri": "https://localhost:8080/"
        },
        "id": "nJZldSLQQJAk",
        "outputId": "8a32d0df-bfad-4de4-ee56-6a7f9e2f18d1"
      },
      "outputs": [
        {
          "name": "stdout",
          "output_type": "stream",
          "text": [
            "Context: the 2010 united states census reported that huntington beach had a population of 189,992. the population density was 5,959.1 people per square mile (2,300.8/km²). the racial makeup of huntington beach was 145,661 (76.7%) white (u.s. census), 1,813 (1.0%) african american (u.s. census), 992 (0.5%) native american (u.s. census), 21,070 (11.1%) asian (u.s. census), 635 (0.3%) pacific islander (u.s. census), 11,193 (5.9%) from race (united states census), and 8,628 (4.5%) from two or more races. hispanic (u.s. census) or latino (u.s. census) of any race were 32,411 persons (17.1%). non-hispanic whites were 67.2% of the population in 2010, compared to 90.8% in 1970.\n",
            "Question: what two ethnic groups had the highest populations in huntington beach in 2010?\n",
            "Expected Answer: {'text': 'white', 'answer_start': -1, 'answer_end': 4}\n",
            "Predicted Answer: asian ( u. s. census ), 635 ( 0. 3 % ) pacific islander\n"
          ]
        }
      ],
      "source": [
        "test_rec = 4000\n",
        "\n",
        "print(f\"Context: {valid_contexts[test_rec]}\")\n",
        "print(f\"Question: {valid_questions[test_rec]}\")\n",
        "print(f\"Expected Answer: {valid_answers[test_rec]}\")\n",
        "\n",
        "context = valid_contexts[test_rec]\n",
        "question = valid_questions[test_rec]\n",
        "\n",
        "print(f\"Predicted Answer: {get_answer(question, context)}\")"
      ]
    },
    {
      "cell_type": "code",
      "execution_count": null,
      "metadata": {
        "colab": {
          "base_uri": "https://localhost:8080/"
        },
        "id": "zKKKlWTTS5Ks",
        "outputId": "df157ded-4825-424b-b689-30ab71ab19ce"
      },
      "outputs": [
        {
          "name": "stdout",
          "output_type": "stream",
          "text": [
            "Predicted Answer: \n"
          ]
        }
      ],
      "source": [
        "context = \"I am Utsav Patel. I just completed my fine-tuning of the BERT base uncased model. I am glad that it works after 5 attempts.\"\n",
        "question = \"How many attempts did it take to fine-tune ?\"\n",
        "print(f\"Predicted Answer: {get_answer(question, context)}\")"
      ]
    },
    {
      "cell_type": "code",
      "execution_count": null,
      "metadata": {
        "id": "iangeHojQKXs"
      },
      "outputs": [],
      "source": [
        "torch.save(model.state_dict(), '/content/drive/MyDrive/OELP_BERT//OELP_DROP.hdf5')"
      ]
    }
  ],
  "metadata": {
    "accelerator": "GPU",
    "colab": {
      "gpuType": "T4",
      "provenance": []
    },
    "kernelspec": {
      "display_name": "Python 3",
      "name": "python3"
    },
    "language_info": {
      "name": "python"
    },
    "widgets": {
      "application/vnd.jupyter.widget-state+json": {
        "0506e3ef807140e89324b1818d66ee77": {
          "model_module": "@jupyter-widgets/controls",
          "model_module_version": "1.5.0",
          "model_name": "HBoxModel",
          "state": {
            "_dom_classes": [],
            "_model_module": "@jupyter-widgets/controls",
            "_model_module_version": "1.5.0",
            "_model_name": "HBoxModel",
            "_view_count": null,
            "_view_module": "@jupyter-widgets/controls",
            "_view_module_version": "1.5.0",
            "_view_name": "HBoxView",
            "box_style": "",
            "children": [
              "IPY_MODEL_daa1ac839fbb43018129b6c74876d378",
              "IPY_MODEL_ee223a163ada4f1ca0156ee85a7b2a17",
              "IPY_MODEL_99294f0327524bb5b201dc259507b057"
            ],
            "layout": "IPY_MODEL_f55aede0cae54a689749cd844a0b877b"
          }
        },
        "059bac1cabb945e5aec525b166600dc1": {
          "model_module": "@jupyter-widgets/controls",
          "model_module_version": "1.5.0",
          "model_name": "HTMLModel",
          "state": {
            "_dom_classes": [],
            "_model_module": "@jupyter-widgets/controls",
            "_model_module_version": "1.5.0",
            "_model_name": "HTMLModel",
            "_view_count": null,
            "_view_module": "@jupyter-widgets/controls",
            "_view_module_version": "1.5.0",
            "_view_name": "HTMLView",
            "description": "",
            "description_tooltip": null,
            "layout": "IPY_MODEL_b5d32470559242cca78144c7f6dacdf8",
            "placeholder": "​",
            "style": "IPY_MODEL_93e907f0692a43cdac29badfdd0094d4",
            "value": "vocab.txt: 100%"
          }
        },
        "0682980863a249d5a929386f2f5eb746": {
          "model_module": "@jupyter-widgets/base",
          "model_module_version": "1.2.0",
          "model_name": "LayoutModel",
          "state": {
            "_model_module": "@jupyter-widgets/base",
            "_model_module_version": "1.2.0",
            "_model_name": "LayoutModel",
            "_view_count": null,
            "_view_module": "@jupyter-widgets/base",
            "_view_module_version": "1.2.0",
            "_view_name": "LayoutView",
            "align_content": null,
            "align_items": null,
            "align_self": null,
            "border": null,
            "bottom": null,
            "display": null,
            "flex": null,
            "flex_flow": null,
            "grid_area": null,
            "grid_auto_columns": null,
            "grid_auto_flow": null,
            "grid_auto_rows": null,
            "grid_column": null,
            "grid_gap": null,
            "grid_row": null,
            "grid_template_areas": null,
            "grid_template_columns": null,
            "grid_template_rows": null,
            "height": null,
            "justify_content": null,
            "justify_items": null,
            "left": null,
            "margin": null,
            "max_height": null,
            "max_width": null,
            "min_height": null,
            "min_width": null,
            "object_fit": null,
            "object_position": null,
            "order": null,
            "overflow": null,
            "overflow_x": null,
            "overflow_y": null,
            "padding": null,
            "right": null,
            "top": null,
            "visibility": null,
            "width": null
          }
        },
        "08acbf85ccec42788d8cdada0af7dd94": {
          "model_module": "@jupyter-widgets/controls",
          "model_module_version": "1.5.0",
          "model_name": "DescriptionStyleModel",
          "state": {
            "_model_module": "@jupyter-widgets/controls",
            "_model_module_version": "1.5.0",
            "_model_name": "DescriptionStyleModel",
            "_view_count": null,
            "_view_module": "@jupyter-widgets/base",
            "_view_module_version": "1.2.0",
            "_view_name": "StyleView",
            "description_width": ""
          }
        },
        "0a987844b41a4ae091f1dd8c0f06ca9b": {
          "model_module": "@jupyter-widgets/controls",
          "model_module_version": "1.5.0",
          "model_name": "FloatProgressModel",
          "state": {
            "_dom_classes": [],
            "_model_module": "@jupyter-widgets/controls",
            "_model_module_version": "1.5.0",
            "_model_name": "FloatProgressModel",
            "_view_count": null,
            "_view_module": "@jupyter-widgets/controls",
            "_view_module_version": "1.5.0",
            "_view_name": "ProgressView",
            "bar_style": "success",
            "description": "",
            "description_tooltip": null,
            "layout": "IPY_MODEL_4cdad01f4aea4eee8a47bf9f85742037",
            "max": 466062,
            "min": 0,
            "orientation": "horizontal",
            "style": "IPY_MODEL_bf3efe63880c417f9f1e19290e2e9f00",
            "value": 466062
          }
        },
        "0b0b04ff21d14224a08ce59dd8eb153b": {
          "model_module": "@jupyter-widgets/controls",
          "model_module_version": "1.5.0",
          "model_name": "DescriptionStyleModel",
          "state": {
            "_model_module": "@jupyter-widgets/controls",
            "_model_module_version": "1.5.0",
            "_model_name": "DescriptionStyleModel",
            "_view_count": null,
            "_view_module": "@jupyter-widgets/base",
            "_view_module_version": "1.2.0",
            "_view_name": "StyleView",
            "description_width": ""
          }
        },
        "1776777b3bc642379cd1555ad94d98b2": {
          "model_module": "@jupyter-widgets/controls",
          "model_module_version": "1.5.0",
          "model_name": "HBoxModel",
          "state": {
            "_dom_classes": [],
            "_model_module": "@jupyter-widgets/controls",
            "_model_module_version": "1.5.0",
            "_model_name": "HBoxModel",
            "_view_count": null,
            "_view_module": "@jupyter-widgets/controls",
            "_view_module_version": "1.5.0",
            "_view_name": "HBoxView",
            "box_style": "",
            "children": [
              "IPY_MODEL_059bac1cabb945e5aec525b166600dc1",
              "IPY_MODEL_7b703d4565214116ac0b76c254821914",
              "IPY_MODEL_9ff88964803d44939562d7832672cde5"
            ],
            "layout": "IPY_MODEL_4ede0771fc544ea6a14966db1a6591f2"
          }
        },
        "1df26632960f4144bd426252f6520748": {
          "model_module": "@jupyter-widgets/base",
          "model_module_version": "1.2.0",
          "model_name": "LayoutModel",
          "state": {
            "_model_module": "@jupyter-widgets/base",
            "_model_module_version": "1.2.0",
            "_model_name": "LayoutModel",
            "_view_count": null,
            "_view_module": "@jupyter-widgets/base",
            "_view_module_version": "1.2.0",
            "_view_name": "LayoutView",
            "align_content": null,
            "align_items": null,
            "align_self": null,
            "border": null,
            "bottom": null,
            "display": null,
            "flex": null,
            "flex_flow": null,
            "grid_area": null,
            "grid_auto_columns": null,
            "grid_auto_flow": null,
            "grid_auto_rows": null,
            "grid_column": null,
            "grid_gap": null,
            "grid_row": null,
            "grid_template_areas": null,
            "grid_template_columns": null,
            "grid_template_rows": null,
            "height": null,
            "justify_content": null,
            "justify_items": null,
            "left": null,
            "margin": null,
            "max_height": null,
            "max_width": null,
            "min_height": null,
            "min_width": null,
            "object_fit": null,
            "object_position": null,
            "order": null,
            "overflow": null,
            "overflow_x": null,
            "overflow_y": null,
            "padding": null,
            "right": null,
            "top": null,
            "visibility": null,
            "width": null
          }
        },
        "1f3d0c990dde45fc8904fb5bf83caecf": {
          "model_module": "@jupyter-widgets/base",
          "model_module_version": "1.2.0",
          "model_name": "LayoutModel",
          "state": {
            "_model_module": "@jupyter-widgets/base",
            "_model_module_version": "1.2.0",
            "_model_name": "LayoutModel",
            "_view_count": null,
            "_view_module": "@jupyter-widgets/base",
            "_view_module_version": "1.2.0",
            "_view_name": "LayoutView",
            "align_content": null,
            "align_items": null,
            "align_self": null,
            "border": null,
            "bottom": null,
            "display": null,
            "flex": null,
            "flex_flow": null,
            "grid_area": null,
            "grid_auto_columns": null,
            "grid_auto_flow": null,
            "grid_auto_rows": null,
            "grid_column": null,
            "grid_gap": null,
            "grid_row": null,
            "grid_template_areas": null,
            "grid_template_columns": null,
            "grid_template_rows": null,
            "height": null,
            "justify_content": null,
            "justify_items": null,
            "left": null,
            "margin": null,
            "max_height": null,
            "max_width": null,
            "min_height": null,
            "min_width": null,
            "object_fit": null,
            "object_position": null,
            "order": null,
            "overflow": null,
            "overflow_x": null,
            "overflow_y": null,
            "padding": null,
            "right": null,
            "top": null,
            "visibility": null,
            "width": null
          }
        },
        "2ad1711a0c7b4608b4509ea81df81656": {
          "model_module": "@jupyter-widgets/controls",
          "model_module_version": "1.5.0",
          "model_name": "FloatProgressModel",
          "state": {
            "_dom_classes": [],
            "_model_module": "@jupyter-widgets/controls",
            "_model_module_version": "1.5.0",
            "_model_name": "FloatProgressModel",
            "_view_count": null,
            "_view_module": "@jupyter-widgets/controls",
            "_view_module_version": "1.5.0",
            "_view_name": "ProgressView",
            "bar_style": "success",
            "description": "",
            "description_tooltip": null,
            "layout": "IPY_MODEL_0682980863a249d5a929386f2f5eb746",
            "max": 440449768,
            "min": 0,
            "orientation": "horizontal",
            "style": "IPY_MODEL_6dde6b138f1040648ccd68b77894fc7a",
            "value": 440449768
          }
        },
        "36a5001b286a4db8901adf67ac7b3f51": {
          "model_module": "@jupyter-widgets/base",
          "model_module_version": "1.2.0",
          "model_name": "LayoutModel",
          "state": {
            "_model_module": "@jupyter-widgets/base",
            "_model_module_version": "1.2.0",
            "_model_name": "LayoutModel",
            "_view_count": null,
            "_view_module": "@jupyter-widgets/base",
            "_view_module_version": "1.2.0",
            "_view_name": "LayoutView",
            "align_content": null,
            "align_items": null,
            "align_self": null,
            "border": null,
            "bottom": null,
            "display": null,
            "flex": null,
            "flex_flow": null,
            "grid_area": null,
            "grid_auto_columns": null,
            "grid_auto_flow": null,
            "grid_auto_rows": null,
            "grid_column": null,
            "grid_gap": null,
            "grid_row": null,
            "grid_template_areas": null,
            "grid_template_columns": null,
            "grid_template_rows": null,
            "height": null,
            "justify_content": null,
            "justify_items": null,
            "left": null,
            "margin": null,
            "max_height": null,
            "max_width": null,
            "min_height": null,
            "min_width": null,
            "object_fit": null,
            "object_position": null,
            "order": null,
            "overflow": null,
            "overflow_x": null,
            "overflow_y": null,
            "padding": null,
            "right": null,
            "top": null,
            "visibility": null,
            "width": null
          }
        },
        "36ee177612934a3886ab1e854718e374": {
          "model_module": "@jupyter-widgets/controls",
          "model_module_version": "1.5.0",
          "model_name": "HTMLModel",
          "state": {
            "_dom_classes": [],
            "_model_module": "@jupyter-widgets/controls",
            "_model_module_version": "1.5.0",
            "_model_name": "HTMLModel",
            "_view_count": null,
            "_view_module": "@jupyter-widgets/controls",
            "_view_module_version": "1.5.0",
            "_view_name": "HTMLView",
            "description": "",
            "description_tooltip": null,
            "layout": "IPY_MODEL_3dbefb0385f04444b61196a6ac63bffa",
            "placeholder": "​",
            "style": "IPY_MODEL_0b0b04ff21d14224a08ce59dd8eb153b",
            "value": "tokenizer.json: 100%"
          }
        },
        "38bbc5a182b6444fad347444835ac8af": {
          "model_module": "@jupyter-widgets/controls",
          "model_module_version": "1.5.0",
          "model_name": "ProgressStyleModel",
          "state": {
            "_model_module": "@jupyter-widgets/controls",
            "_model_module_version": "1.5.0",
            "_model_name": "ProgressStyleModel",
            "_view_count": null,
            "_view_module": "@jupyter-widgets/base",
            "_view_module_version": "1.2.0",
            "_view_name": "StyleView",
            "bar_color": null,
            "description_width": ""
          }
        },
        "3941926d947b4aa68116a24bce2c9589": {
          "model_module": "@jupyter-widgets/controls",
          "model_module_version": "1.5.0",
          "model_name": "HTMLModel",
          "state": {
            "_dom_classes": [],
            "_model_module": "@jupyter-widgets/controls",
            "_model_module_version": "1.5.0",
            "_model_name": "HTMLModel",
            "_view_count": null,
            "_view_module": "@jupyter-widgets/controls",
            "_view_module_version": "1.5.0",
            "_view_name": "HTMLView",
            "description": "",
            "description_tooltip": null,
            "layout": "IPY_MODEL_b983cf354b594407907bf351344a0c00",
            "placeholder": "​",
            "style": "IPY_MODEL_eb066f16c4834541a6996673f52069c4",
            "value": "config.json: 100%"
          }
        },
        "3dbefb0385f04444b61196a6ac63bffa": {
          "model_module": "@jupyter-widgets/base",
          "model_module_version": "1.2.0",
          "model_name": "LayoutModel",
          "state": {
            "_model_module": "@jupyter-widgets/base",
            "_model_module_version": "1.2.0",
            "_model_name": "LayoutModel",
            "_view_count": null,
            "_view_module": "@jupyter-widgets/base",
            "_view_module_version": "1.2.0",
            "_view_name": "LayoutView",
            "align_content": null,
            "align_items": null,
            "align_self": null,
            "border": null,
            "bottom": null,
            "display": null,
            "flex": null,
            "flex_flow": null,
            "grid_area": null,
            "grid_auto_columns": null,
            "grid_auto_flow": null,
            "grid_auto_rows": null,
            "grid_column": null,
            "grid_gap": null,
            "grid_row": null,
            "grid_template_areas": null,
            "grid_template_columns": null,
            "grid_template_rows": null,
            "height": null,
            "justify_content": null,
            "justify_items": null,
            "left": null,
            "margin": null,
            "max_height": null,
            "max_width": null,
            "min_height": null,
            "min_width": null,
            "object_fit": null,
            "object_position": null,
            "order": null,
            "overflow": null,
            "overflow_x": null,
            "overflow_y": null,
            "padding": null,
            "right": null,
            "top": null,
            "visibility": null,
            "width": null
          }
        },
        "3eec97cec3a44ad0b923a0961bb1eb0d": {
          "model_module": "@jupyter-widgets/base",
          "model_module_version": "1.2.0",
          "model_name": "LayoutModel",
          "state": {
            "_model_module": "@jupyter-widgets/base",
            "_model_module_version": "1.2.0",
            "_model_name": "LayoutModel",
            "_view_count": null,
            "_view_module": "@jupyter-widgets/base",
            "_view_module_version": "1.2.0",
            "_view_name": "LayoutView",
            "align_content": null,
            "align_items": null,
            "align_self": null,
            "border": null,
            "bottom": null,
            "display": null,
            "flex": null,
            "flex_flow": null,
            "grid_area": null,
            "grid_auto_columns": null,
            "grid_auto_flow": null,
            "grid_auto_rows": null,
            "grid_column": null,
            "grid_gap": null,
            "grid_row": null,
            "grid_template_areas": null,
            "grid_template_columns": null,
            "grid_template_rows": null,
            "height": null,
            "justify_content": null,
            "justify_items": null,
            "left": null,
            "margin": null,
            "max_height": null,
            "max_width": null,
            "min_height": null,
            "min_width": null,
            "object_fit": null,
            "object_position": null,
            "order": null,
            "overflow": null,
            "overflow_x": null,
            "overflow_y": null,
            "padding": null,
            "right": null,
            "top": null,
            "visibility": null,
            "width": null
          }
        },
        "43489ad194574a37b2f478b700d1b3d0": {
          "model_module": "@jupyter-widgets/base",
          "model_module_version": "1.2.0",
          "model_name": "LayoutModel",
          "state": {
            "_model_module": "@jupyter-widgets/base",
            "_model_module_version": "1.2.0",
            "_model_name": "LayoutModel",
            "_view_count": null,
            "_view_module": "@jupyter-widgets/base",
            "_view_module_version": "1.2.0",
            "_view_name": "LayoutView",
            "align_content": null,
            "align_items": null,
            "align_self": null,
            "border": null,
            "bottom": null,
            "display": null,
            "flex": null,
            "flex_flow": null,
            "grid_area": null,
            "grid_auto_columns": null,
            "grid_auto_flow": null,
            "grid_auto_rows": null,
            "grid_column": null,
            "grid_gap": null,
            "grid_row": null,
            "grid_template_areas": null,
            "grid_template_columns": null,
            "grid_template_rows": null,
            "height": null,
            "justify_content": null,
            "justify_items": null,
            "left": null,
            "margin": null,
            "max_height": null,
            "max_width": null,
            "min_height": null,
            "min_width": null,
            "object_fit": null,
            "object_position": null,
            "order": null,
            "overflow": null,
            "overflow_x": null,
            "overflow_y": null,
            "padding": null,
            "right": null,
            "top": null,
            "visibility": null,
            "width": null
          }
        },
        "47161f6c92034f459622338a891cb551": {
          "model_module": "@jupyter-widgets/controls",
          "model_module_version": "1.5.0",
          "model_name": "FloatProgressModel",
          "state": {
            "_dom_classes": [],
            "_model_module": "@jupyter-widgets/controls",
            "_model_module_version": "1.5.0",
            "_model_name": "FloatProgressModel",
            "_view_count": null,
            "_view_module": "@jupyter-widgets/controls",
            "_view_module_version": "1.5.0",
            "_view_name": "ProgressView",
            "bar_style": "success",
            "description": "",
            "description_tooltip": null,
            "layout": "IPY_MODEL_3eec97cec3a44ad0b923a0961bb1eb0d",
            "max": 570,
            "min": 0,
            "orientation": "horizontal",
            "style": "IPY_MODEL_85f0ba4da0b94dd1b2e49a8c47674c2e",
            "value": 570
          }
        },
        "4748c6e3e6024784b1e1fd57b6608483": {
          "model_module": "@jupyter-widgets/controls",
          "model_module_version": "1.5.0",
          "model_name": "HTMLModel",
          "state": {
            "_dom_classes": [],
            "_model_module": "@jupyter-widgets/controls",
            "_model_module_version": "1.5.0",
            "_model_name": "HTMLModel",
            "_view_count": null,
            "_view_module": "@jupyter-widgets/controls",
            "_view_module_version": "1.5.0",
            "_view_name": "HTMLView",
            "description": "",
            "description_tooltip": null,
            "layout": "IPY_MODEL_ba9954c0ccb14b4387bfef34b4508126",
            "placeholder": "​",
            "style": "IPY_MODEL_08acbf85ccec42788d8cdada0af7dd94",
            "value": " 570/570 [00:00&lt;00:00, 29.1kB/s]"
          }
        },
        "4cdad01f4aea4eee8a47bf9f85742037": {
          "model_module": "@jupyter-widgets/base",
          "model_module_version": "1.2.0",
          "model_name": "LayoutModel",
          "state": {
            "_model_module": "@jupyter-widgets/base",
            "_model_module_version": "1.2.0",
            "_model_name": "LayoutModel",
            "_view_count": null,
            "_view_module": "@jupyter-widgets/base",
            "_view_module_version": "1.2.0",
            "_view_name": "LayoutView",
            "align_content": null,
            "align_items": null,
            "align_self": null,
            "border": null,
            "bottom": null,
            "display": null,
            "flex": null,
            "flex_flow": null,
            "grid_area": null,
            "grid_auto_columns": null,
            "grid_auto_flow": null,
            "grid_auto_rows": null,
            "grid_column": null,
            "grid_gap": null,
            "grid_row": null,
            "grid_template_areas": null,
            "grid_template_columns": null,
            "grid_template_rows": null,
            "height": null,
            "justify_content": null,
            "justify_items": null,
            "left": null,
            "margin": null,
            "max_height": null,
            "max_width": null,
            "min_height": null,
            "min_width": null,
            "object_fit": null,
            "object_position": null,
            "order": null,
            "overflow": null,
            "overflow_x": null,
            "overflow_y": null,
            "padding": null,
            "right": null,
            "top": null,
            "visibility": null,
            "width": null
          }
        },
        "4ede0771fc544ea6a14966db1a6591f2": {
          "model_module": "@jupyter-widgets/base",
          "model_module_version": "1.2.0",
          "model_name": "LayoutModel",
          "state": {
            "_model_module": "@jupyter-widgets/base",
            "_model_module_version": "1.2.0",
            "_model_name": "LayoutModel",
            "_view_count": null,
            "_view_module": "@jupyter-widgets/base",
            "_view_module_version": "1.2.0",
            "_view_name": "LayoutView",
            "align_content": null,
            "align_items": null,
            "align_self": null,
            "border": null,
            "bottom": null,
            "display": null,
            "flex": null,
            "flex_flow": null,
            "grid_area": null,
            "grid_auto_columns": null,
            "grid_auto_flow": null,
            "grid_auto_rows": null,
            "grid_column": null,
            "grid_gap": null,
            "grid_row": null,
            "grid_template_areas": null,
            "grid_template_columns": null,
            "grid_template_rows": null,
            "height": null,
            "justify_content": null,
            "justify_items": null,
            "left": null,
            "margin": null,
            "max_height": null,
            "max_width": null,
            "min_height": null,
            "min_width": null,
            "object_fit": null,
            "object_position": null,
            "order": null,
            "overflow": null,
            "overflow_x": null,
            "overflow_y": null,
            "padding": null,
            "right": null,
            "top": null,
            "visibility": null,
            "width": null
          }
        },
        "4ef870f50fde4690a1eca917da0247c8": {
          "model_module": "@jupyter-widgets/controls",
          "model_module_version": "1.5.0",
          "model_name": "DescriptionStyleModel",
          "state": {
            "_model_module": "@jupyter-widgets/controls",
            "_model_module_version": "1.5.0",
            "_model_name": "DescriptionStyleModel",
            "_view_count": null,
            "_view_module": "@jupyter-widgets/base",
            "_view_module_version": "1.2.0",
            "_view_name": "StyleView",
            "description_width": ""
          }
        },
        "6dde6b138f1040648ccd68b77894fc7a": {
          "model_module": "@jupyter-widgets/controls",
          "model_module_version": "1.5.0",
          "model_name": "ProgressStyleModel",
          "state": {
            "_model_module": "@jupyter-widgets/controls",
            "_model_module_version": "1.5.0",
            "_model_name": "ProgressStyleModel",
            "_view_count": null,
            "_view_module": "@jupyter-widgets/base",
            "_view_module_version": "1.2.0",
            "_view_name": "StyleView",
            "bar_color": null,
            "description_width": ""
          }
        },
        "6f1b2b282f6e4f1fb2115c77a600a577": {
          "model_module": "@jupyter-widgets/controls",
          "model_module_version": "1.5.0",
          "model_name": "HTMLModel",
          "state": {
            "_dom_classes": [],
            "_model_module": "@jupyter-widgets/controls",
            "_model_module_version": "1.5.0",
            "_model_name": "HTMLModel",
            "_view_count": null,
            "_view_module": "@jupyter-widgets/controls",
            "_view_module_version": "1.5.0",
            "_view_name": "HTMLView",
            "description": "",
            "description_tooltip": null,
            "layout": "IPY_MODEL_36a5001b286a4db8901adf67ac7b3f51",
            "placeholder": "​",
            "style": "IPY_MODEL_9b0a9589d30445238e09850361614108",
            "value": " 440M/440M [00:15&lt;00:00, 23.4MB/s]"
          }
        },
        "70f613400bae4f4abefa48e82507ff06": {
          "model_module": "@jupyter-widgets/controls",
          "model_module_version": "1.5.0",
          "model_name": "DescriptionStyleModel",
          "state": {
            "_model_module": "@jupyter-widgets/controls",
            "_model_module_version": "1.5.0",
            "_model_name": "DescriptionStyleModel",
            "_view_count": null,
            "_view_module": "@jupyter-widgets/base",
            "_view_module_version": "1.2.0",
            "_view_name": "StyleView",
            "description_width": ""
          }
        },
        "76cc20e6caa14c48b76cae16ef496cd2": {
          "model_module": "@jupyter-widgets/base",
          "model_module_version": "1.2.0",
          "model_name": "LayoutModel",
          "state": {
            "_model_module": "@jupyter-widgets/base",
            "_model_module_version": "1.2.0",
            "_model_name": "LayoutModel",
            "_view_count": null,
            "_view_module": "@jupyter-widgets/base",
            "_view_module_version": "1.2.0",
            "_view_name": "LayoutView",
            "align_content": null,
            "align_items": null,
            "align_self": null,
            "border": null,
            "bottom": null,
            "display": null,
            "flex": null,
            "flex_flow": null,
            "grid_area": null,
            "grid_auto_columns": null,
            "grid_auto_flow": null,
            "grid_auto_rows": null,
            "grid_column": null,
            "grid_gap": null,
            "grid_row": null,
            "grid_template_areas": null,
            "grid_template_columns": null,
            "grid_template_rows": null,
            "height": null,
            "justify_content": null,
            "justify_items": null,
            "left": null,
            "margin": null,
            "max_height": null,
            "max_width": null,
            "min_height": null,
            "min_width": null,
            "object_fit": null,
            "object_position": null,
            "order": null,
            "overflow": null,
            "overflow_x": null,
            "overflow_y": null,
            "padding": null,
            "right": null,
            "top": null,
            "visibility": null,
            "width": null
          }
        },
        "7b703d4565214116ac0b76c254821914": {
          "model_module": "@jupyter-widgets/controls",
          "model_module_version": "1.5.0",
          "model_name": "FloatProgressModel",
          "state": {
            "_dom_classes": [],
            "_model_module": "@jupyter-widgets/controls",
            "_model_module_version": "1.5.0",
            "_model_name": "FloatProgressModel",
            "_view_count": null,
            "_view_module": "@jupyter-widgets/controls",
            "_view_module_version": "1.5.0",
            "_view_name": "ProgressView",
            "bar_style": "success",
            "description": "",
            "description_tooltip": null,
            "layout": "IPY_MODEL_c06b617c01994334be3f75f68cbe631f",
            "max": 231508,
            "min": 0,
            "orientation": "horizontal",
            "style": "IPY_MODEL_38bbc5a182b6444fad347444835ac8af",
            "value": 231508
          }
        },
        "84fa2e853bd4438e97f364ad11ad2111": {
          "model_module": "@jupyter-widgets/controls",
          "model_module_version": "1.5.0",
          "model_name": "HBoxModel",
          "state": {
            "_dom_classes": [],
            "_model_module": "@jupyter-widgets/controls",
            "_model_module_version": "1.5.0",
            "_model_name": "HBoxModel",
            "_view_count": null,
            "_view_module": "@jupyter-widgets/controls",
            "_view_module_version": "1.5.0",
            "_view_name": "HBoxView",
            "box_style": "",
            "children": [
              "IPY_MODEL_36ee177612934a3886ab1e854718e374",
              "IPY_MODEL_0a987844b41a4ae091f1dd8c0f06ca9b",
              "IPY_MODEL_bc67fddfd6c3494c80aa6abbba95f099"
            ],
            "layout": "IPY_MODEL_43489ad194574a37b2f478b700d1b3d0"
          }
        },
        "85f0ba4da0b94dd1b2e49a8c47674c2e": {
          "model_module": "@jupyter-widgets/controls",
          "model_module_version": "1.5.0",
          "model_name": "ProgressStyleModel",
          "state": {
            "_model_module": "@jupyter-widgets/controls",
            "_model_module_version": "1.5.0",
            "_model_name": "ProgressStyleModel",
            "_view_count": null,
            "_view_module": "@jupyter-widgets/base",
            "_view_module_version": "1.2.0",
            "_view_name": "StyleView",
            "bar_color": null,
            "description_width": ""
          }
        },
        "93e907f0692a43cdac29badfdd0094d4": {
          "model_module": "@jupyter-widgets/controls",
          "model_module_version": "1.5.0",
          "model_name": "DescriptionStyleModel",
          "state": {
            "_model_module": "@jupyter-widgets/controls",
            "_model_module_version": "1.5.0",
            "_model_name": "DescriptionStyleModel",
            "_view_count": null,
            "_view_module": "@jupyter-widgets/base",
            "_view_module_version": "1.2.0",
            "_view_name": "StyleView",
            "description_width": ""
          }
        },
        "99294f0327524bb5b201dc259507b057": {
          "model_module": "@jupyter-widgets/controls",
          "model_module_version": "1.5.0",
          "model_name": "HTMLModel",
          "state": {
            "_dom_classes": [],
            "_model_module": "@jupyter-widgets/controls",
            "_model_module_version": "1.5.0",
            "_model_name": "HTMLModel",
            "_view_count": null,
            "_view_module": "@jupyter-widgets/controls",
            "_view_module_version": "1.5.0",
            "_view_name": "HTMLView",
            "description": "",
            "description_tooltip": null,
            "layout": "IPY_MODEL_1df26632960f4144bd426252f6520748",
            "placeholder": "​",
            "style": "IPY_MODEL_70f613400bae4f4abefa48e82507ff06",
            "value": " 28.0/28.0 [00:00&lt;00:00, 1.39kB/s]"
          }
        },
        "99b51a63cf7145868d96c6ab7b652b63": {
          "model_module": "@jupyter-widgets/controls",
          "model_module_version": "1.5.0",
          "model_name": "HBoxModel",
          "state": {
            "_dom_classes": [],
            "_model_module": "@jupyter-widgets/controls",
            "_model_module_version": "1.5.0",
            "_model_name": "HBoxModel",
            "_view_count": null,
            "_view_module": "@jupyter-widgets/controls",
            "_view_module_version": "1.5.0",
            "_view_name": "HBoxView",
            "box_style": "",
            "children": [
              "IPY_MODEL_e5254ec845604f4a937ed6db7856fe2d",
              "IPY_MODEL_2ad1711a0c7b4608b4509ea81df81656",
              "IPY_MODEL_6f1b2b282f6e4f1fb2115c77a600a577"
            ],
            "layout": "IPY_MODEL_1f3d0c990dde45fc8904fb5bf83caecf"
          }
        },
        "9b0a9589d30445238e09850361614108": {
          "model_module": "@jupyter-widgets/controls",
          "model_module_version": "1.5.0",
          "model_name": "DescriptionStyleModel",
          "state": {
            "_model_module": "@jupyter-widgets/controls",
            "_model_module_version": "1.5.0",
            "_model_name": "DescriptionStyleModel",
            "_view_count": null,
            "_view_module": "@jupyter-widgets/base",
            "_view_module_version": "1.2.0",
            "_view_name": "StyleView",
            "description_width": ""
          }
        },
        "9f436b7629024520b4bd78aa3f1e52a7": {
          "model_module": "@jupyter-widgets/base",
          "model_module_version": "1.2.0",
          "model_name": "LayoutModel",
          "state": {
            "_model_module": "@jupyter-widgets/base",
            "_model_module_version": "1.2.0",
            "_model_name": "LayoutModel",
            "_view_count": null,
            "_view_module": "@jupyter-widgets/base",
            "_view_module_version": "1.2.0",
            "_view_name": "LayoutView",
            "align_content": null,
            "align_items": null,
            "align_self": null,
            "border": null,
            "bottom": null,
            "display": null,
            "flex": null,
            "flex_flow": null,
            "grid_area": null,
            "grid_auto_columns": null,
            "grid_auto_flow": null,
            "grid_auto_rows": null,
            "grid_column": null,
            "grid_gap": null,
            "grid_row": null,
            "grid_template_areas": null,
            "grid_template_columns": null,
            "grid_template_rows": null,
            "height": null,
            "justify_content": null,
            "justify_items": null,
            "left": null,
            "margin": null,
            "max_height": null,
            "max_width": null,
            "min_height": null,
            "min_width": null,
            "object_fit": null,
            "object_position": null,
            "order": null,
            "overflow": null,
            "overflow_x": null,
            "overflow_y": null,
            "padding": null,
            "right": null,
            "top": null,
            "visibility": null,
            "width": null
          }
        },
        "9ff88964803d44939562d7832672cde5": {
          "model_module": "@jupyter-widgets/controls",
          "model_module_version": "1.5.0",
          "model_name": "HTMLModel",
          "state": {
            "_dom_classes": [],
            "_model_module": "@jupyter-widgets/controls",
            "_model_module_version": "1.5.0",
            "_model_name": "HTMLModel",
            "_view_count": null,
            "_view_module": "@jupyter-widgets/controls",
            "_view_module_version": "1.5.0",
            "_view_name": "HTMLView",
            "description": "",
            "description_tooltip": null,
            "layout": "IPY_MODEL_ee1d3fc1cdb445489ecf0623e90f7196",
            "placeholder": "​",
            "style": "IPY_MODEL_e3a2e3f97d9441cd832965f81af8e7ee",
            "value": " 232k/232k [00:00&lt;00:00, 11.3MB/s]"
          }
        },
        "a1a2158fee834b29998d490eb5183b40": {
          "model_module": "@jupyter-widgets/controls",
          "model_module_version": "1.5.0",
          "model_name": "DescriptionStyleModel",
          "state": {
            "_model_module": "@jupyter-widgets/controls",
            "_model_module_version": "1.5.0",
            "_model_name": "DescriptionStyleModel",
            "_view_count": null,
            "_view_module": "@jupyter-widgets/base",
            "_view_module_version": "1.2.0",
            "_view_name": "StyleView",
            "description_width": ""
          }
        },
        "a6d1cf8719614c908721201ea5da75d6": {
          "model_module": "@jupyter-widgets/base",
          "model_module_version": "1.2.0",
          "model_name": "LayoutModel",
          "state": {
            "_model_module": "@jupyter-widgets/base",
            "_model_module_version": "1.2.0",
            "_model_name": "LayoutModel",
            "_view_count": null,
            "_view_module": "@jupyter-widgets/base",
            "_view_module_version": "1.2.0",
            "_view_name": "LayoutView",
            "align_content": null,
            "align_items": null,
            "align_self": null,
            "border": null,
            "bottom": null,
            "display": null,
            "flex": null,
            "flex_flow": null,
            "grid_area": null,
            "grid_auto_columns": null,
            "grid_auto_flow": null,
            "grid_auto_rows": null,
            "grid_column": null,
            "grid_gap": null,
            "grid_row": null,
            "grid_template_areas": null,
            "grid_template_columns": null,
            "grid_template_rows": null,
            "height": null,
            "justify_content": null,
            "justify_items": null,
            "left": null,
            "margin": null,
            "max_height": null,
            "max_width": null,
            "min_height": null,
            "min_width": null,
            "object_fit": null,
            "object_position": null,
            "order": null,
            "overflow": null,
            "overflow_x": null,
            "overflow_y": null,
            "padding": null,
            "right": null,
            "top": null,
            "visibility": null,
            "width": null
          }
        },
        "b5d32470559242cca78144c7f6dacdf8": {
          "model_module": "@jupyter-widgets/base",
          "model_module_version": "1.2.0",
          "model_name": "LayoutModel",
          "state": {
            "_model_module": "@jupyter-widgets/base",
            "_model_module_version": "1.2.0",
            "_model_name": "LayoutModel",
            "_view_count": null,
            "_view_module": "@jupyter-widgets/base",
            "_view_module_version": "1.2.0",
            "_view_name": "LayoutView",
            "align_content": null,
            "align_items": null,
            "align_self": null,
            "border": null,
            "bottom": null,
            "display": null,
            "flex": null,
            "flex_flow": null,
            "grid_area": null,
            "grid_auto_columns": null,
            "grid_auto_flow": null,
            "grid_auto_rows": null,
            "grid_column": null,
            "grid_gap": null,
            "grid_row": null,
            "grid_template_areas": null,
            "grid_template_columns": null,
            "grid_template_rows": null,
            "height": null,
            "justify_content": null,
            "justify_items": null,
            "left": null,
            "margin": null,
            "max_height": null,
            "max_width": null,
            "min_height": null,
            "min_width": null,
            "object_fit": null,
            "object_position": null,
            "order": null,
            "overflow": null,
            "overflow_x": null,
            "overflow_y": null,
            "padding": null,
            "right": null,
            "top": null,
            "visibility": null,
            "width": null
          }
        },
        "b983cf354b594407907bf351344a0c00": {
          "model_module": "@jupyter-widgets/base",
          "model_module_version": "1.2.0",
          "model_name": "LayoutModel",
          "state": {
            "_model_module": "@jupyter-widgets/base",
            "_model_module_version": "1.2.0",
            "_model_name": "LayoutModel",
            "_view_count": null,
            "_view_module": "@jupyter-widgets/base",
            "_view_module_version": "1.2.0",
            "_view_name": "LayoutView",
            "align_content": null,
            "align_items": null,
            "align_self": null,
            "border": null,
            "bottom": null,
            "display": null,
            "flex": null,
            "flex_flow": null,
            "grid_area": null,
            "grid_auto_columns": null,
            "grid_auto_flow": null,
            "grid_auto_rows": null,
            "grid_column": null,
            "grid_gap": null,
            "grid_row": null,
            "grid_template_areas": null,
            "grid_template_columns": null,
            "grid_template_rows": null,
            "height": null,
            "justify_content": null,
            "justify_items": null,
            "left": null,
            "margin": null,
            "max_height": null,
            "max_width": null,
            "min_height": null,
            "min_width": null,
            "object_fit": null,
            "object_position": null,
            "order": null,
            "overflow": null,
            "overflow_x": null,
            "overflow_y": null,
            "padding": null,
            "right": null,
            "top": null,
            "visibility": null,
            "width": null
          }
        },
        "ba9954c0ccb14b4387bfef34b4508126": {
          "model_module": "@jupyter-widgets/base",
          "model_module_version": "1.2.0",
          "model_name": "LayoutModel",
          "state": {
            "_model_module": "@jupyter-widgets/base",
            "_model_module_version": "1.2.0",
            "_model_name": "LayoutModel",
            "_view_count": null,
            "_view_module": "@jupyter-widgets/base",
            "_view_module_version": "1.2.0",
            "_view_name": "LayoutView",
            "align_content": null,
            "align_items": null,
            "align_self": null,
            "border": null,
            "bottom": null,
            "display": null,
            "flex": null,
            "flex_flow": null,
            "grid_area": null,
            "grid_auto_columns": null,
            "grid_auto_flow": null,
            "grid_auto_rows": null,
            "grid_column": null,
            "grid_gap": null,
            "grid_row": null,
            "grid_template_areas": null,
            "grid_template_columns": null,
            "grid_template_rows": null,
            "height": null,
            "justify_content": null,
            "justify_items": null,
            "left": null,
            "margin": null,
            "max_height": null,
            "max_width": null,
            "min_height": null,
            "min_width": null,
            "object_fit": null,
            "object_position": null,
            "order": null,
            "overflow": null,
            "overflow_x": null,
            "overflow_y": null,
            "padding": null,
            "right": null,
            "top": null,
            "visibility": null,
            "width": null
          }
        },
        "bc67fddfd6c3494c80aa6abbba95f099": {
          "model_module": "@jupyter-widgets/controls",
          "model_module_version": "1.5.0",
          "model_name": "HTMLModel",
          "state": {
            "_dom_classes": [],
            "_model_module": "@jupyter-widgets/controls",
            "_model_module_version": "1.5.0",
            "_model_name": "HTMLModel",
            "_view_count": null,
            "_view_module": "@jupyter-widgets/controls",
            "_view_module_version": "1.5.0",
            "_view_name": "HTMLView",
            "description": "",
            "description_tooltip": null,
            "layout": "IPY_MODEL_9f436b7629024520b4bd78aa3f1e52a7",
            "placeholder": "​",
            "style": "IPY_MODEL_cd0e18a17d8f4dac8d901472308edc27",
            "value": " 466k/466k [00:00&lt;00:00, 24.0MB/s]"
          }
        },
        "bf3efe63880c417f9f1e19290e2e9f00": {
          "model_module": "@jupyter-widgets/controls",
          "model_module_version": "1.5.0",
          "model_name": "ProgressStyleModel",
          "state": {
            "_model_module": "@jupyter-widgets/controls",
            "_model_module_version": "1.5.0",
            "_model_name": "ProgressStyleModel",
            "_view_count": null,
            "_view_module": "@jupyter-widgets/base",
            "_view_module_version": "1.2.0",
            "_view_name": "StyleView",
            "bar_color": null,
            "description_width": ""
          }
        },
        "c06b617c01994334be3f75f68cbe631f": {
          "model_module": "@jupyter-widgets/base",
          "model_module_version": "1.2.0",
          "model_name": "LayoutModel",
          "state": {
            "_model_module": "@jupyter-widgets/base",
            "_model_module_version": "1.2.0",
            "_model_name": "LayoutModel",
            "_view_count": null,
            "_view_module": "@jupyter-widgets/base",
            "_view_module_version": "1.2.0",
            "_view_name": "LayoutView",
            "align_content": null,
            "align_items": null,
            "align_self": null,
            "border": null,
            "bottom": null,
            "display": null,
            "flex": null,
            "flex_flow": null,
            "grid_area": null,
            "grid_auto_columns": null,
            "grid_auto_flow": null,
            "grid_auto_rows": null,
            "grid_column": null,
            "grid_gap": null,
            "grid_row": null,
            "grid_template_areas": null,
            "grid_template_columns": null,
            "grid_template_rows": null,
            "height": null,
            "justify_content": null,
            "justify_items": null,
            "left": null,
            "margin": null,
            "max_height": null,
            "max_width": null,
            "min_height": null,
            "min_width": null,
            "object_fit": null,
            "object_position": null,
            "order": null,
            "overflow": null,
            "overflow_x": null,
            "overflow_y": null,
            "padding": null,
            "right": null,
            "top": null,
            "visibility": null,
            "width": null
          }
        },
        "c53410d5953a4d758e22d866fbb74898": {
          "model_module": "@jupyter-widgets/controls",
          "model_module_version": "1.5.0",
          "model_name": "HBoxModel",
          "state": {
            "_dom_classes": [],
            "_model_module": "@jupyter-widgets/controls",
            "_model_module_version": "1.5.0",
            "_model_name": "HBoxModel",
            "_view_count": null,
            "_view_module": "@jupyter-widgets/controls",
            "_view_module_version": "1.5.0",
            "_view_name": "HBoxView",
            "box_style": "",
            "children": [
              "IPY_MODEL_3941926d947b4aa68116a24bce2c9589",
              "IPY_MODEL_47161f6c92034f459622338a891cb551",
              "IPY_MODEL_4748c6e3e6024784b1e1fd57b6608483"
            ],
            "layout": "IPY_MODEL_a6d1cf8719614c908721201ea5da75d6"
          }
        },
        "cd0e18a17d8f4dac8d901472308edc27": {
          "model_module": "@jupyter-widgets/controls",
          "model_module_version": "1.5.0",
          "model_name": "DescriptionStyleModel",
          "state": {
            "_model_module": "@jupyter-widgets/controls",
            "_model_module_version": "1.5.0",
            "_model_name": "DescriptionStyleModel",
            "_view_count": null,
            "_view_module": "@jupyter-widgets/base",
            "_view_module_version": "1.2.0",
            "_view_name": "StyleView",
            "description_width": ""
          }
        },
        "daa1ac839fbb43018129b6c74876d378": {
          "model_module": "@jupyter-widgets/controls",
          "model_module_version": "1.5.0",
          "model_name": "HTMLModel",
          "state": {
            "_dom_classes": [],
            "_model_module": "@jupyter-widgets/controls",
            "_model_module_version": "1.5.0",
            "_model_name": "HTMLModel",
            "_view_count": null,
            "_view_module": "@jupyter-widgets/controls",
            "_view_module_version": "1.5.0",
            "_view_name": "HTMLView",
            "description": "",
            "description_tooltip": null,
            "layout": "IPY_MODEL_e195439df28946ae8dac6f20bbb52f79",
            "placeholder": "​",
            "style": "IPY_MODEL_a1a2158fee834b29998d490eb5183b40",
            "value": "tokenizer_config.json: 100%"
          }
        },
        "db837e4d2c4448aabb6d4204ee26e647": {
          "model_module": "@jupyter-widgets/base",
          "model_module_version": "1.2.0",
          "model_name": "LayoutModel",
          "state": {
            "_model_module": "@jupyter-widgets/base",
            "_model_module_version": "1.2.0",
            "_model_name": "LayoutModel",
            "_view_count": null,
            "_view_module": "@jupyter-widgets/base",
            "_view_module_version": "1.2.0",
            "_view_name": "LayoutView",
            "align_content": null,
            "align_items": null,
            "align_self": null,
            "border": null,
            "bottom": null,
            "display": null,
            "flex": null,
            "flex_flow": null,
            "grid_area": null,
            "grid_auto_columns": null,
            "grid_auto_flow": null,
            "grid_auto_rows": null,
            "grid_column": null,
            "grid_gap": null,
            "grid_row": null,
            "grid_template_areas": null,
            "grid_template_columns": null,
            "grid_template_rows": null,
            "height": null,
            "justify_content": null,
            "justify_items": null,
            "left": null,
            "margin": null,
            "max_height": null,
            "max_width": null,
            "min_height": null,
            "min_width": null,
            "object_fit": null,
            "object_position": null,
            "order": null,
            "overflow": null,
            "overflow_x": null,
            "overflow_y": null,
            "padding": null,
            "right": null,
            "top": null,
            "visibility": null,
            "width": null
          }
        },
        "e195439df28946ae8dac6f20bbb52f79": {
          "model_module": "@jupyter-widgets/base",
          "model_module_version": "1.2.0",
          "model_name": "LayoutModel",
          "state": {
            "_model_module": "@jupyter-widgets/base",
            "_model_module_version": "1.2.0",
            "_model_name": "LayoutModel",
            "_view_count": null,
            "_view_module": "@jupyter-widgets/base",
            "_view_module_version": "1.2.0",
            "_view_name": "LayoutView",
            "align_content": null,
            "align_items": null,
            "align_self": null,
            "border": null,
            "bottom": null,
            "display": null,
            "flex": null,
            "flex_flow": null,
            "grid_area": null,
            "grid_auto_columns": null,
            "grid_auto_flow": null,
            "grid_auto_rows": null,
            "grid_column": null,
            "grid_gap": null,
            "grid_row": null,
            "grid_template_areas": null,
            "grid_template_columns": null,
            "grid_template_rows": null,
            "height": null,
            "justify_content": null,
            "justify_items": null,
            "left": null,
            "margin": null,
            "max_height": null,
            "max_width": null,
            "min_height": null,
            "min_width": null,
            "object_fit": null,
            "object_position": null,
            "order": null,
            "overflow": null,
            "overflow_x": null,
            "overflow_y": null,
            "padding": null,
            "right": null,
            "top": null,
            "visibility": null,
            "width": null
          }
        },
        "e3a2e3f97d9441cd832965f81af8e7ee": {
          "model_module": "@jupyter-widgets/controls",
          "model_module_version": "1.5.0",
          "model_name": "DescriptionStyleModel",
          "state": {
            "_model_module": "@jupyter-widgets/controls",
            "_model_module_version": "1.5.0",
            "_model_name": "DescriptionStyleModel",
            "_view_count": null,
            "_view_module": "@jupyter-widgets/base",
            "_view_module_version": "1.2.0",
            "_view_name": "StyleView",
            "description_width": ""
          }
        },
        "e4f269ab48f54438ae8bc741dc7a941f": {
          "model_module": "@jupyter-widgets/controls",
          "model_module_version": "1.5.0",
          "model_name": "ProgressStyleModel",
          "state": {
            "_model_module": "@jupyter-widgets/controls",
            "_model_module_version": "1.5.0",
            "_model_name": "ProgressStyleModel",
            "_view_count": null,
            "_view_module": "@jupyter-widgets/base",
            "_view_module_version": "1.2.0",
            "_view_name": "StyleView",
            "bar_color": null,
            "description_width": ""
          }
        },
        "e5254ec845604f4a937ed6db7856fe2d": {
          "model_module": "@jupyter-widgets/controls",
          "model_module_version": "1.5.0",
          "model_name": "HTMLModel",
          "state": {
            "_dom_classes": [],
            "_model_module": "@jupyter-widgets/controls",
            "_model_module_version": "1.5.0",
            "_model_name": "HTMLModel",
            "_view_count": null,
            "_view_module": "@jupyter-widgets/controls",
            "_view_module_version": "1.5.0",
            "_view_name": "HTMLView",
            "description": "",
            "description_tooltip": null,
            "layout": "IPY_MODEL_76cc20e6caa14c48b76cae16ef496cd2",
            "placeholder": "​",
            "style": "IPY_MODEL_4ef870f50fde4690a1eca917da0247c8",
            "value": "model.safetensors: 100%"
          }
        },
        "eb066f16c4834541a6996673f52069c4": {
          "model_module": "@jupyter-widgets/controls",
          "model_module_version": "1.5.0",
          "model_name": "DescriptionStyleModel",
          "state": {
            "_model_module": "@jupyter-widgets/controls",
            "_model_module_version": "1.5.0",
            "_model_name": "DescriptionStyleModel",
            "_view_count": null,
            "_view_module": "@jupyter-widgets/base",
            "_view_module_version": "1.2.0",
            "_view_name": "StyleView",
            "description_width": ""
          }
        },
        "ee1d3fc1cdb445489ecf0623e90f7196": {
          "model_module": "@jupyter-widgets/base",
          "model_module_version": "1.2.0",
          "model_name": "LayoutModel",
          "state": {
            "_model_module": "@jupyter-widgets/base",
            "_model_module_version": "1.2.0",
            "_model_name": "LayoutModel",
            "_view_count": null,
            "_view_module": "@jupyter-widgets/base",
            "_view_module_version": "1.2.0",
            "_view_name": "LayoutView",
            "align_content": null,
            "align_items": null,
            "align_self": null,
            "border": null,
            "bottom": null,
            "display": null,
            "flex": null,
            "flex_flow": null,
            "grid_area": null,
            "grid_auto_columns": null,
            "grid_auto_flow": null,
            "grid_auto_rows": null,
            "grid_column": null,
            "grid_gap": null,
            "grid_row": null,
            "grid_template_areas": null,
            "grid_template_columns": null,
            "grid_template_rows": null,
            "height": null,
            "justify_content": null,
            "justify_items": null,
            "left": null,
            "margin": null,
            "max_height": null,
            "max_width": null,
            "min_height": null,
            "min_width": null,
            "object_fit": null,
            "object_position": null,
            "order": null,
            "overflow": null,
            "overflow_x": null,
            "overflow_y": null,
            "padding": null,
            "right": null,
            "top": null,
            "visibility": null,
            "width": null
          }
        },
        "ee223a163ada4f1ca0156ee85a7b2a17": {
          "model_module": "@jupyter-widgets/controls",
          "model_module_version": "1.5.0",
          "model_name": "FloatProgressModel",
          "state": {
            "_dom_classes": [],
            "_model_module": "@jupyter-widgets/controls",
            "_model_module_version": "1.5.0",
            "_model_name": "FloatProgressModel",
            "_view_count": null,
            "_view_module": "@jupyter-widgets/controls",
            "_view_module_version": "1.5.0",
            "_view_name": "ProgressView",
            "bar_style": "success",
            "description": "",
            "description_tooltip": null,
            "layout": "IPY_MODEL_db837e4d2c4448aabb6d4204ee26e647",
            "max": 28,
            "min": 0,
            "orientation": "horizontal",
            "style": "IPY_MODEL_e4f269ab48f54438ae8bc741dc7a941f",
            "value": 28
          }
        },
        "f55aede0cae54a689749cd844a0b877b": {
          "model_module": "@jupyter-widgets/base",
          "model_module_version": "1.2.0",
          "model_name": "LayoutModel",
          "state": {
            "_model_module": "@jupyter-widgets/base",
            "_model_module_version": "1.2.0",
            "_model_name": "LayoutModel",
            "_view_count": null,
            "_view_module": "@jupyter-widgets/base",
            "_view_module_version": "1.2.0",
            "_view_name": "LayoutView",
            "align_content": null,
            "align_items": null,
            "align_self": null,
            "border": null,
            "bottom": null,
            "display": null,
            "flex": null,
            "flex_flow": null,
            "grid_area": null,
            "grid_auto_columns": null,
            "grid_auto_flow": null,
            "grid_auto_rows": null,
            "grid_column": null,
            "grid_gap": null,
            "grid_row": null,
            "grid_template_areas": null,
            "grid_template_columns": null,
            "grid_template_rows": null,
            "height": null,
            "justify_content": null,
            "justify_items": null,
            "left": null,
            "margin": null,
            "max_height": null,
            "max_width": null,
            "min_height": null,
            "min_width": null,
            "object_fit": null,
            "object_position": null,
            "order": null,
            "overflow": null,
            "overflow_x": null,
            "overflow_y": null,
            "padding": null,
            "right": null,
            "top": null,
            "visibility": null,
            "width": null
          }
        }
      }
    }
  },
  "nbformat": 4,
  "nbformat_minor": 0
}
