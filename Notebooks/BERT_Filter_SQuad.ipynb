{
  "cells": [
    {
      "cell_type": "markdown",
      "metadata": {},
      "source": [
        "The Notebook for training BERT base model on the dataset made by Filtering Comparative Questions from SQuAD dataset"
      ]
    },
    {
      "cell_type": "code",
      "execution_count": null,
      "metadata": {
        "colab": {
          "base_uri": "https://localhost:8080/"
        },
        "id": "pAeyEM5vZsDW",
        "outputId": "67ad6200-5324-40d1-cf64-8ad1ac3a23fa"
      },
      "outputs": [
        {
          "name": "stdout",
          "output_type": "stream",
          "text": [
            "Requirement already satisfied: transformers in /usr/local/lib/python3.10/dist-packages (4.35.2)\n",
            "Requirement already satisfied: filelock in /usr/local/lib/python3.10/dist-packages (from transformers) (3.13.1)\n",
            "Requirement already satisfied: huggingface-hub<1.0,>=0.16.4 in /usr/local/lib/python3.10/dist-packages (from transformers) (0.19.4)\n",
            "Requirement already satisfied: numpy>=1.17 in /usr/local/lib/python3.10/dist-packages (from transformers) (1.23.5)\n",
            "Requirement already satisfied: packaging>=20.0 in /usr/local/lib/python3.10/dist-packages (from transformers) (23.2)\n",
            "Requirement already satisfied: pyyaml>=5.1 in /usr/local/lib/python3.10/dist-packages (from transformers) (6.0.1)\n",
            "Requirement already satisfied: regex!=2019.12.17 in /usr/local/lib/python3.10/dist-packages (from transformers) (2023.6.3)\n",
            "Requirement already satisfied: requests in /usr/local/lib/python3.10/dist-packages (from transformers) (2.31.0)\n",
            "Requirement already satisfied: tokenizers<0.19,>=0.14 in /usr/local/lib/python3.10/dist-packages (from transformers) (0.15.0)\n",
            "Requirement already satisfied: safetensors>=0.3.1 in /usr/local/lib/python3.10/dist-packages (from transformers) (0.4.1)\n",
            "Requirement already satisfied: tqdm>=4.27 in /usr/local/lib/python3.10/dist-packages (from transformers) (4.66.1)\n",
            "Requirement already satisfied: fsspec>=2023.5.0 in /usr/local/lib/python3.10/dist-packages (from huggingface-hub<1.0,>=0.16.4->transformers) (2023.6.0)\n",
            "Requirement already satisfied: typing-extensions>=3.7.4.3 in /usr/local/lib/python3.10/dist-packages (from huggingface-hub<1.0,>=0.16.4->transformers) (4.5.0)\n",
            "Requirement already satisfied: charset-normalizer<4,>=2 in /usr/local/lib/python3.10/dist-packages (from requests->transformers) (3.3.2)\n",
            "Requirement already satisfied: idna<4,>=2.5 in /usr/local/lib/python3.10/dist-packages (from requests->transformers) (3.6)\n",
            "Requirement already satisfied: urllib3<3,>=1.21.1 in /usr/local/lib/python3.10/dist-packages (from requests->transformers) (2.0.7)\n",
            "Requirement already satisfied: certifi>=2017.4.17 in /usr/local/lib/python3.10/dist-packages (from requests->transformers) (2023.11.17)\n"
          ]
        }
      ],
      "source": [
        " pip install transformers"
      ]
    },
    {
      "cell_type": "code",
      "execution_count": null,
      "metadata": {
        "id": "7pFPiabyb4v7"
      },
      "outputs": [],
      "source": [
        "import requests\n",
        "import json\n",
        "import torch\n",
        "import torch.nn as nn\n",
        "import os\n",
        "from tqdm import tqdm\n",
        "from transformers import BertModel, BertTokenizerFast, AdamW\n",
        "from torch.utils.data import Dataset, DataLoader\n",
        "from torch.optim.lr_scheduler import ExponentialLR\n",
        "import matplotlib.pyplot as plt"
      ]
    },
    {
      "cell_type": "code",
      "execution_count": null,
      "metadata": {
        "id": "uxKoHik0j7Gb"
      },
      "outputs": [],
      "source": [
        "MODEL_PATH = \"bert-base-uncased\""
      ]
    },
    {
      "cell_type": "code",
      "execution_count": null,
      "metadata": {
        "colab": {
          "base_uri": "https://localhost:8080/"
        },
        "id": "7ygaYPc8j9u8",
        "outputId": "473f93e8-2a00-4816-c396-c88f33dbd76e"
      },
      "outputs": [
        {
          "name": "stdout",
          "output_type": "stream",
          "text": [
            "--2023-12-01 20:37:01--  https://rajpurkar.github.io/SQuAD-explorer/dataset/train-v2.0.json\n",
            "Resolving rajpurkar.github.io (rajpurkar.github.io)... 185.199.111.153, 185.199.109.153, 185.199.108.153, ...\n",
            "Connecting to rajpurkar.github.io (rajpurkar.github.io)|185.199.111.153|:443... connected.\n",
            "HTTP request sent, awaiting response... 200 OK\n",
            "Length: 42123633 (40M) [application/json]\n",
            "Saving to: ‘train-v2.0.json’\n",
            "\n",
            "train-v2.0.json     100%[===================>]  40.17M   239MB/s    in 0.2s    \n",
            "\n",
            "2023-12-01 20:37:02 (239 MB/s) - ‘train-v2.0.json’ saved [42123633/42123633]\n",
            "\n",
            "--2023-12-01 20:37:02--  https://rajpurkar.github.io/SQuAD-explorer/dataset/dev-v2.0.json\n",
            "Resolving rajpurkar.github.io (rajpurkar.github.io)... 185.199.111.153, 185.199.109.153, 185.199.108.153, ...\n",
            "Connecting to rajpurkar.github.io (rajpurkar.github.io)|185.199.111.153|:443... connected.\n",
            "HTTP request sent, awaiting response... 200 OK\n",
            "Length: 4370528 (4.2M) [application/json]\n",
            "Saving to: ‘dev-v2.0.json’\n",
            "\n",
            "dev-v2.0.json       100%[===================>]   4.17M  --.-KB/s    in 0.06s   \n",
            "\n",
            "2023-12-01 20:37:02 (71.8 MB/s) - ‘dev-v2.0.json’ saved [4370528/4370528]\n",
            "\n"
          ]
        }
      ],
      "source": [
        "!wget -nc https://rajpurkar.github.io/SQuAD-explorer/dataset/train-v2.0.json\n",
        "!wget -nc https://rajpurkar.github.io/SQuAD-explorer/dataset/dev-v2.0.json"
      ]
    },
    {
      "cell_type": "code",
      "execution_count": null,
      "metadata": {
        "id": "aUYaqLEHkCad"
      },
      "outputs": [],
      "source": [
        "num_questions = 0\n",
        "num_posible = 0\n",
        "num_imposible = 0"
      ]
    },
    {
      "cell_type": "code",
      "execution_count": null,
      "metadata": {
        "id": "LgdX6xATkHKy"
      },
      "outputs": [],
      "source": [
        "def get_data(path):\n",
        "  with open(path, 'rb') as f:\n",
        "    raw_data = json.load(f)\n",
        "\n",
        "  contexts = []\n",
        "  questions = []\n",
        "  answers = []\n",
        "  num_q = 0\n",
        "  num_pos = 0\n",
        "  num_imp = 0\n",
        "\n",
        "  for group in raw_data['data']:\n",
        "    for paragraph in group['paragraphs']:\n",
        "      context = paragraph['context']\n",
        "      for qa in paragraph['qas']:\n",
        "        question = qa['question']\n",
        "        num_q  = num_q  +1\n",
        "        if qa['is_impossible'] == True:\n",
        "            num_imp = num_imp +1\n",
        "        else:\n",
        "            num_pos = num_pos +1\n",
        "        for answer in qa['answers']:\n",
        "          contexts.append(context.lower())\n",
        "          questions.append(question.lower())\n",
        "          answers.append(answer)\n",
        "\n",
        "  return num_q, num_pos, num_imp, contexts, questions, answers"
      ]
    },
    {
      "cell_type": "code",
      "execution_count": null,
      "metadata": {
        "colab": {
          "base_uri": "https://localhost:8080/"
        },
        "id": "mTo6DG-z3LFy",
        "outputId": "98d0a5d8-3363-45be-aa24-e444b1ce7798"
      },
      "outputs": [
        {
          "name": "stdout",
          "output_type": "stream",
          "text": [
            "Mounted at /content/drive\n"
          ]
        }
      ],
      "source": [
        "from google.colab import drive\n",
        "drive.mount('/content/drive')"
      ]
    },
    {
      "cell_type": "code",
      "execution_count": null,
      "metadata": {
        "id": "oxvoxUaG3BzP"
      },
      "outputs": [],
      "source": [
        "dataset_file = open('/content/drive/MyDrive/OELP_BERT/BERT_SQuad/new_squad_train_w_valid.json')\n",
        "\n",
        "new_data = json.load(dataset_file)"
      ]
    },
    {
      "cell_type": "code",
      "execution_count": null,
      "metadata": {
        "id": "IiewPFdq6HNO"
      },
      "outputs": [],
      "source": [
        "num_q = 0\n",
        "num_pos = 0\n",
        "num_imp = 0\n",
        "train_contexts = []\n",
        "train_questions = []\n",
        "train_answers = []\n",
        "new_answers = []\n",
        "new_answer_start = []\n",
        "\n",
        "for i in range(len(new_data)):\n",
        "  train_contexts.append(new_data[i][\"sentence\"])\n",
        "  train_questions.append(new_data[i]['question'])\n",
        "  new_answers.append(new_data[i]['answer'])\n",
        "  new_answer_start.append(new_data[i]['answer_start'])\n",
        "  train_answers.append({ 'text': new_answers[-1], 'answer_start': new_answer_start[-1]})\n",
        "\n",
        "  num_q += 1\n",
        "  if(0):\n",
        "    num_imp += 1\n",
        "  else:\n",
        "    num_pos += 1\n",
        "\n",
        "num_questions = num_q\n",
        "num_posible = num_pos\n",
        "num_impossible = num_imp\n"
      ]
    },
    {
      "cell_type": "code",
      "execution_count": null,
      "metadata": {
        "colab": {
          "base_uri": "https://localhost:8080/"
        },
        "id": "sDggE9a4kLU7",
        "outputId": "bda27fb6-e567-4dfa-9bbd-c2b56fdbae02"
      },
      "outputs": [
        {
          "name": "stdout",
          "output_type": "stream",
          "text": [
            "numq is 243\n",
            "num_pos is 243\n",
            "num_imp is 0\n"
          ]
        }
      ],
      "source": [
        "print(f\"numq is {num_q}\")\n",
        "print(f\"num_pos is {num_pos}\")\n",
        "print(f\"num_imp is {num_imp}\")"
      ]
    },
    {
      "cell_type": "code",
      "execution_count": null,
      "metadata": {
        "colab": {
          "base_uri": "https://localhost:8080/"
        },
        "id": "79_n1J9nkPnG",
        "outputId": "a45e1283-7a0e-439f-ed35-f618e4fcfc5d"
      },
      "outputs": [
        {
          "name": "stdout",
          "output_type": "stream",
          "text": [
            "['when did jay z and beyoncé become the first music couple worth over a billion dollars?', \"only a few of chopin's pieces involve more than the piano, including piano concertos, songs and what?\", 'in the 1930s, new york city had more than 10 million people becoming the first what in history?', 'how many buildings located in nyc are at least 330 feet in height?', 'in what year did the city have less than 500 homicides?', 'what drives the plot of the book more than the characters?', \"less than 1% of the world's total grid electricity was generated by solar energy in what year?\", 'a program in los angeles believes that with $1 billion, city temperatures could be reduced by approximately how many degrees in celsius?', 'which celebrity sued west in 2006 for trademark infrigement?', 'what buddhist movement has linked more than 12 million people?']\n",
            "[{'text': '2013', 'answer_start': 1204}, {'text': 'chamber music.', 'answer_start': 210}, {'text': 'megacity', 'answer_start': 192}, {'text': '550', 'answer_start': 218}, {'text': '2007', 'answer_start': 599}, {'text': 'The South itself', 'answer_start': 1197}, {'text': '2013', 'answer_start': 686}, {'text': '3', 'answer_start': 597}, {'text': 'Robert Evel Knievel', 'answer_start': 18}, {'text': 'Soka Gakkai International', 'answer_start': 172}]\n"
          ]
        }
      ],
      "source": [
        "print(train_questions[0:10])\n",
        "print(train_answers[0:10])"
      ]
    },
    {
      "cell_type": "code",
      "execution_count": null,
      "metadata": {
        "colab": {
          "base_uri": "https://localhost:8080/"
        },
        "id": "KpGV3IHlkSRv",
        "outputId": "eaecc759-9673-46a8-a8ed-4a9581c76aa4"
      },
      "outputs": [
        {
          "name": "stdout",
          "output_type": "stream",
          "text": [
            "Total number of questions: 12116\n",
            "Total number of Answerable questions: 6171\n",
            "Total number of impossible questions: 5945\n"
          ]
        }
      ],
      "source": [
        "num_q, num_pos, num_imp, valid_contexts, valid_questions, valid_answers = get_data('dev-v2.0.json')\n",
        "num_questions  = num_questions + num_q\n",
        "num_posible = num_posible + num_pos\n",
        "num_imposible = num_imposible  + num_imp\n",
        "\n",
        "print(f\"Total number of questions: {num_questions}\")\n",
        "print(f\"Total number of Answerable questions: {num_posible}\")\n",
        "print(f\"Total number of impossible questions: {num_imposible}\")"
      ]
    },
    {
      "cell_type": "code",
      "execution_count": null,
      "metadata": {
        "colab": {
          "base_uri": "https://localhost:8080/"
        },
        "id": "5qFdRidLkVOx",
        "outputId": "7547a97b-84ed-4cd8-84eb-4e17c1038611"
      },
      "outputs": [
        {
          "name": "stdout",
          "output_type": "stream",
          "text": [
            "['in what country is normandy located?', 'in what country is normandy located?', 'in what country is normandy located?', 'in what country is normandy located?', 'when were the normans in normandy?', 'when were the normans in normandy?', 'when were the normans in normandy?', 'when were the normans in normandy?', 'from which countries did the norse originate?', 'from which countries did the norse originate?']\n",
            "[{'text': 'France', 'answer_start': 159}, {'text': 'France', 'answer_start': 159}, {'text': 'France', 'answer_start': 159}, {'text': 'France', 'answer_start': 159}, {'text': '10th and 11th centuries', 'answer_start': 94}, {'text': 'in the 10th and 11th centuries', 'answer_start': 87}, {'text': '10th and 11th centuries', 'answer_start': 94}, {'text': '10th and 11th centuries', 'answer_start': 94}, {'text': 'Denmark, Iceland and Norway', 'answer_start': 256}, {'text': 'Denmark, Iceland and Norway', 'answer_start': 256}]\n"
          ]
        }
      ],
      "source": [
        "print(valid_questions[0:10])\n",
        "print(valid_answers[0:10])"
      ]
    },
    {
      "cell_type": "code",
      "execution_count": null,
      "metadata": {
        "id": "OtQM2RAqkX2m"
      },
      "outputs": [],
      "source": [
        "def add_answer_end(answers, contexts):\n",
        "  for answer, context in zip(answers, contexts):\n",
        "    answer['text'] = answer['text'].lower()\n",
        "    answer['answer_end'] = answer['answer_start'] + len(answer['text'])\n",
        "\n",
        "add_answer_end(train_answers, train_contexts)\n",
        "add_answer_end(valid_answers, valid_contexts)"
      ]
    },
    {
      "cell_type": "code",
      "execution_count": null,
      "metadata": {
        "colab": {
          "base_uri": "https://localhost:8080/"
        },
        "id": "b40RW25Ckazs",
        "outputId": "cc7b1d1e-f9c9-4d77-d1cd-98bd4b2e6170"
      },
      "outputs": [
        {
          "name": "stdout",
          "output_type": "stream",
          "text": [
            "Context: forbes magazine began reporting on beyoncé's earnings in 2008, calculating that the $80 million earned between june 2007 to june 2008, for her music, tour, films and clothing line made her the world's best-paid music personality at the time, above madonna and celine dion. they placed her fourth on the celebrity 100 list in 2009 and ninth on the most powerful women in the world list in 2010. the following year, forbes placed her eighth on the best-paid celebrities under 30 list, having earned $35 million in the past year for her clothing line and endorsement deals. in 2012, forbes placed beyoncé at number 16 on the celebrity 100 list, twelve places lower than three years ago yet still having earned $40 million in the past year for her album 4, clothing line and endorsement deals. in the same year, beyoncé and jay z placed at number one on the world's highest-paid celebrity couples, for collectively earning $78 million. the couple made it into the previous year's guinness world records as the highest-earning power couple for collectively earning $122 million in 2009. for the years 2009 to 2011, beyoncé earned an average of $70 million per year, and earned $40 million in 2012. in 2013, beyoncé's endorsements of pepsi and h&m made her and jay z the world's first billion dollar couple in the music industry. that year, beyoncé was published as the fourth most-powerful celebrity in the forbes rankings. mtv estimated that by the end of 2014, beyoncé would become the highest-paid black musician in history; she succeeded to do so in april 2014. in june 2014, beyoncé ranked at #1 on the forbes celebrity 100 list, earning an estimated $115 million throughout june 2013 – june 2014. this in turn was the first time she had topped the celebrity 100 list as well as being her highest yearly earnings to date. as of may 2015, her net worth is estimated to be $250 million.\n",
            "Question: when did jay z and beyoncé become the first music couple worth over a billion dollars?\n",
            "Answer: {'text': '2013', 'answer_start': 1204, 'answer_end': 1208}\n"
          ]
        }
      ],
      "source": [
        "\n",
        "print(f\"Context: {train_contexts[0]}\")\n",
        "print(f\"Question: {train_questions[0]}\")\n",
        "print(f\"Answer: {train_answers[0]}\")"
      ]
    },
    {
      "cell_type": "code",
      "execution_count": null,
      "metadata": {
        "colab": {
          "base_uri": "https://localhost:8080/"
        },
        "id": "fVeLhpHakdsf",
        "outputId": "696ae7b1-8ec4-4f75-eae1-d23370cc4e20"
      },
      "outputs": [
        {
          "name": "stdout",
          "output_type": "stream",
          "text": [
            "Context: the english name \"normans\" comes from the french words normans/normanz, plural of normant, modern french normand, which is itself borrowed from old low franconian nortmann \"northman\" or directly from old norse norðmaðr, latinized variously as nortmannus, normannus, or nordmannus (recorded in medieval latin, 9th century) to mean \"norseman, viking\".\n",
            "Question: what is the original meaning of the word norman?\n",
            "Answer: {'text': 'norseman, viking', 'answer_start': 331, 'answer_end': 347}\n"
          ]
        }
      ],
      "source": [
        "test_rec = 30\n",
        "print(f\"Context: {valid_contexts[test_rec]}\")\n",
        "print(f\"Question: {valid_questions[test_rec]}\")\n",
        "print(f\"Answer: {valid_answers[test_rec]}\")"
      ]
    },
    {
      "cell_type": "code",
      "execution_count": null,
      "metadata": {
        "colab": {
          "base_uri": "https://localhost:8080/",
          "height": 489
        },
        "id": "TyX7L_pEkf2i",
        "outputId": "ed0f25ba-5467-4969-b0c6-bf2dff19d612"
      },
      "outputs": [
        {
          "name": "stdout",
          "output_type": "stream",
          "text": [
            "356\n"
          ]
        },
        {
          "data": {
            "image/png": "[encoded data removed]",
            "text/plain": [
              "<Figure size 640x480 with 1 Axes>"
            ]
          },
          "metadata": {},
          "output_type": "display_data"
        }
      ],
      "source": [
        "token_lens = []\n",
        "\n",
        "for txt in train_contexts:\n",
        "    txt = txt.strip()\n",
        "    token_lens.append(len(txt.split(' ')))\n",
        "\n",
        "\n",
        "print(max(token_lens))\n",
        "\n",
        "plt.hist(token_lens,  bins=20)\n",
        "plt.ylabel('Count')\n",
        "plt.xlabel('Length')\n",
        "plt.title('Distribution of Context Lengths');"
      ]
    },
    {
      "cell_type": "code",
      "execution_count": null,
      "metadata": {
        "colab": {
          "base_uri": "https://localhost:8080/",
          "height": 507
        },
        "id": "65A9nUQYkjU_",
        "outputId": "e8e5abcf-4a50-4b59-ece0-8d85b68f4592"
      },
      "outputs": [
        {
          "name": "stdout",
          "output_type": "stream",
          "text": [
            "31\n",
            "243\n"
          ]
        },
        {
          "data": {
            "image/png": "[encoded data removed]",
            "text/plain": [
              "<Figure size 640x480 with 1 Axes>"
            ]
          },
          "metadata": {},
          "output_type": "display_data"
        }
      ],
      "source": [
        "token_lens2 = []\n",
        "\n",
        "for txt in train_questions:\n",
        "    txt = txt.strip()\n",
        "    token_lens2.append(len(txt.split(' ')))\n",
        "\n",
        "\n",
        "print(max(token_lens2))\n",
        "print(len(token_lens2))\n",
        "\n",
        "plt.hist(token_lens2,  bins=20)\n",
        "plt.ylabel('Count')\n",
        "plt.xlabel('Length')\n",
        "plt.title('Distribution of Question Lengths');"
      ]
    },
    {
      "cell_type": "code",
      "execution_count": null,
      "metadata": {
        "id": "33d6F50UkmnS"
      },
      "outputs": [],
      "source": [
        "MAX_LENGTH = 250"
      ]
    },
    {
      "cell_type": "code",
      "execution_count": null,
      "metadata": {
        "colab": {
          "base_uri": "https://localhost:8080/",
          "height": 145,
          "referenced_widgets": [
            "9532f9b364e64ac58ed95b5b48c682e7",
            "7385490a1dc142bca9e4d7892a38e00e",
            "e54d7cb190f044d8b492074234bd6941",
            "5d8097b2ce144be0a56f79514c5b431c",
            "056ad562342e4bfb88c014807a53c901",
            "921fcde4ec2b49f78ebc16cd9bde9584",
            "c91f6ed74fd44f0abc4a0e49b25f6d92",
            "4dac79cda2ee4792b86893f1855bc012",
            "2419f31cd998447585da6a72b0dc948b",
            "0ca4b8ce498e4547bad0205ff51eb6b9",
            "e5b3d0dd215848adaa54d79eda17657c",
            "7239b7bd876f4cd79f3def8c644cfdec",
            "fe2d517394344ac6992e63ba1795ebd0",
            "fd7269acfa6b48b78517f4177f2cfd6f",
            "29c13644d50a43168af2e9595083b8ab",
            "59d5f8f491c84ecc9edc30a41e984144",
            "4a0440111ae5492c96b052399dc2e485",
            "7f7285825ccd4b91a30a6317fad19e07",
            "33cf2c2931f9405b94d39b24c7ee505b",
            "79e4e3e551c34c10a5abc7d9f2706e9f",
            "8082ca95b90f452487f8342fc93931d7",
            "04826fef599b4bad863bcbb274f3c68a",
            "bd17fb73b44344cfaf6631510b639e41",
            "78ba8dd56062492b860cf533902333c6",
            "413854b108b34422b5292bac731153d4",
            "3a8d31312948417ba46e9596c957e2c8",
            "009171bf535145cab7e2d2c65f8345c7",
            "8f25558f0efe48988367d94dabd25395",
            "14f99b2b6728466382b77078948d5251",
            "f1e0ba88819f42219626ca5980b07e8b",
            "0be1cc1467b3416bb97bbdb4ef02170b",
            "64c63e7e60a249b48a6c989001d0b2be",
            "f34633d126b74bad802f968b95ac0fdb",
            "028d33780a654f57a9e63574dd632211",
            "9ce63a6e3f3541b6b6d0733c60ee3b41",
            "2a656b10f97941b598e64e58835c5976",
            "e63fedd0f44c433b8f2b2e6d795b2565",
            "e0a32c84a8594095920df28639142540",
            "318e39a8beeb45e2851dfdd55a80accf",
            "a07cce4c159f4990a794443b30405191",
            "631fdd70d131484ca430989420ebc411",
            "bd5ff9477bef4ae3a03d91a9d462d9ae",
            "7940511267ea4bebaa4085d865895dcf",
            "6aa5860922b448b48e8542c4679c5c22"
          ]
        },
        "id": "3qUR1jDhksC_",
        "outputId": "87e57575-0276-4efd-d01c-74632cfdcb47"
      },
      "outputs": [
        {
          "data": {
            "application/vnd.jupyter.widget-view+json": {
              "model_id": "9532f9b364e64ac58ed95b5b48c682e7",
              "version_major": 2,
              "version_minor": 0
            },
            "text/plain": [
              "tokenizer_config.json:   0%|          | 0.00/28.0 [00:00<?, ?B/s]"
            ]
          },
          "metadata": {},
          "output_type": "display_data"
        },
        {
          "data": {
            "application/vnd.jupyter.widget-view+json": {
              "model_id": "7239b7bd876f4cd79f3def8c644cfdec",
              "version_major": 2,
              "version_minor": 0
            },
            "text/plain": [
              "vocab.txt:   0%|          | 0.00/232k [00:00<?, ?B/s]"
            ]
          },
          "metadata": {},
          "output_type": "display_data"
        },
        {
          "data": {
            "application/vnd.jupyter.widget-view+json": {
              "model_id": "bd17fb73b44344cfaf6631510b639e41",
              "version_major": 2,
              "version_minor": 0
            },
            "text/plain": [
              "tokenizer.json:   0%|          | 0.00/466k [00:00<?, ?B/s]"
            ]
          },
          "metadata": {},
          "output_type": "display_data"
        },
        {
          "data": {
            "application/vnd.jupyter.widget-view+json": {
              "model_id": "028d33780a654f57a9e63574dd632211",
              "version_major": 2,
              "version_minor": 0
            },
            "text/plain": [
              "config.json:   0%|          | 0.00/570 [00:00<?, ?B/s]"
            ]
          },
          "metadata": {},
          "output_type": "display_data"
        }
      ],
      "source": [
        "tokenizerFast = BertTokenizerFast.from_pretrained(MODEL_PATH)\n",
        "\n",
        "train_encodings_fast = tokenizerFast(train_questions, train_contexts,  max_length = MAX_LENGTH, truncation=True, padding=True)\n",
        "valid_encodings_fast = tokenizerFast(valid_questions,valid_contexts,  max_length = MAX_LENGTH, truncation=True, padding=True)"
      ]
    },
    {
      "cell_type": "code",
      "execution_count": null,
      "metadata": {
        "colab": {
          "base_uri": "https://localhost:8080/"
        },
        "id": "tTiNbyLRkxt2",
        "outputId": "decb15c7-7918-41d5-e87c-d25c92d82d5f"
      },
      "outputs": [
        {
          "data": {
            "text/plain": [
              "transformers.tokenization_utils_base.BatchEncoding"
            ]
          },
          "execution_count": 21,
          "metadata": {},
          "output_type": "execute_result"
        }
      ],
      "source": [
        "type(train_encodings_fast)"
      ]
    },
    {
      "cell_type": "code",
      "execution_count": null,
      "metadata": {
        "colab": {
          "base_uri": "https://localhost:8080/"
        },
        "id": "mpNXi7L3lMzu",
        "outputId": "96d1ba8b-bd5e-4711-8c99-abba5eb67a98"
      },
      "outputs": [
        {
          "name": "stdout",
          "output_type": "stream",
          "text": [
            "dict_keys(['input_ids', 'token_type_ids', 'attention_mask'])\n",
            "dict_keys(['input_ids', 'token_type_ids', 'attention_mask'])\n",
            "243\n",
            "250\n"
          ]
        }
      ],
      "source": [
        "print(train_encodings_fast.keys())\n",
        "print(valid_encodings_fast.keys())\n",
        "print(len(train_encodings_fast['input_ids']))\n",
        "print(len(train_encodings_fast['input_ids'][1]))"
      ]
    },
    {
      "cell_type": "code",
      "execution_count": null,
      "metadata": {
        "colab": {
          "base_uri": "https://localhost:8080/"
        },
        "id": "rv-kQTYClNdT",
        "outputId": "b9d6d905-62d0-4c71-8ed4-4effe8291516"
      },
      "outputs": [
        {
          "name": "stdout",
          "output_type": "stream",
          "text": [
            "[101, 2069, 1037, 2261, 1997, 25479, 1005, 1055, 4109, 9125, 2062, 2084, 1996, 3682, 1010, 2164, 3682, 10405, 2015, 1010, 2774, 1998, 2054, 1029, 102, 2058, 11816, 2573, 1997, 25479, 5788, 1025, 2070, 9265, 2013, 2220, 5593, 2031, 2042, 2439, 1012, 2035, 2010, 2124, 2573, 9125, 1996, 3682, 1010, 1998, 2069, 1037, 2261, 2846, 3458, 3948, 3682, 2189, 1010, 2004, 2593, 3682, 10405, 2015, 1010, 2774, 2030, 4574, 2189, 1012, 102, 0, 0, 0, 0, 0, 0, 0, 0, 0, 0, 0, 0, 0, 0, 0, 0, 0, 0, 0, 0, 0, 0, 0, 0, 0, 0, 0, 0, 0, 0, 0, 0, 0, 0, 0, 0, 0, 0, 0, 0, 0, 0, 0, 0, 0, 0, 0, 0, 0, 0, 0, 0, 0, 0, 0, 0, 0, 0, 0, 0, 0, 0, 0, 0, 0, 0, 0, 0, 0, 0, 0, 0, 0, 0, 0, 0, 0, 0, 0, 0, 0, 0, 0, 0, 0, 0, 0, 0, 0, 0, 0, 0, 0, 0, 0, 0, 0, 0, 0, 0, 0, 0, 0, 0, 0, 0, 0, 0, 0, 0, 0, 0, 0, 0, 0, 0, 0, 0, 0, 0, 0, 0, 0, 0, 0, 0, 0, 0, 0, 0, 0, 0, 0, 0, 0, 0, 0, 0, 0, 0, 0, 0, 0, 0, 0, 0, 0, 0, 0, 0, 0, 0, 0, 0, 0, 0, 0, 0, 0, 0, 0, 0, 0, 0, 0, 0, 0, 0, 0, 0, 0, 0, 0, 0, 0, 0, 0, 0, 0]\n",
            "[CLS] only a few of chopin ' s pieces involve more than the piano, including piano concertos, songs and what? [SEP] over 230 works of chopin survive ; some compositions from early childhood have been lost. all his known works involve the piano, and only a few range beyond solo piano music, as either piano concertos, songs or chamber music. [SEP] [PAD] [PAD] [PAD] [PAD] [PAD] [PAD] [PAD] [PAD] [PAD] [PAD] [PAD] [PAD] [PAD] [PAD] [PAD] [PAD] [PAD] [PAD] [PAD] [PAD] [PAD] [PAD] [PAD] [PAD] [PAD] [PAD] [PAD] [PAD] [PAD] [PAD] [PAD] [PAD] [PAD] [PAD] [PAD] [PAD] [PAD] [PAD] [PAD] [PAD] [PAD] [PAD] [PAD] [PAD] [PAD] [PAD] [PAD] [PAD] [PAD] [PAD] [PAD] [PAD] [PAD] [PAD] [PAD] [PAD] [PAD] [PAD] [PAD] [PAD] [PAD] [PAD] [PAD] [PAD] [PAD] [PAD] [PAD] [PAD] [PAD] [PAD] [PAD] [PAD] [PAD] [PAD] [PAD] [PAD] [PAD] [PAD] [PAD] [PAD] [PAD] [PAD] [PAD] [PAD] [PAD] [PAD] [PAD] [PAD] [PAD] [PAD] [PAD] [PAD] [PAD] [PAD] [PAD] [PAD] [PAD] [PAD] [PAD] [PAD] [PAD] [PAD] [PAD] [PAD] [PAD] [PAD] [PAD] [PAD] [PAD] [PAD] [PAD] [PAD] [PAD] [PAD] [PAD] [PAD] [PAD] [PAD] [PAD] [PAD] [PAD] [PAD] [PAD] [PAD] [PAD] [PAD] [PAD] [PAD] [PAD] [PAD] [PAD] [PAD] [PAD] [PAD] [PAD] [PAD] [PAD] [PAD] [PAD] [PAD] [PAD] [PAD] [PAD] [PAD] [PAD] [PAD] [PAD] [PAD] [PAD] [PAD] [PAD] [PAD] [PAD] [PAD] [PAD] [PAD] [PAD] [PAD] [PAD] [PAD] [PAD] [PAD] [PAD] [PAD] [PAD] [PAD] [PAD] [PAD] [PAD] [PAD] [PAD] [PAD] [PAD] [PAD] [PAD] [PAD] [PAD] [PAD] [PAD]\n"
          ]
        }
      ],
      "source": [
        "print(train_encodings_fast['input_ids'][1])\n",
        "print(tokenizerFast.convert_tokens_to_string(tokenizerFast.convert_ids_to_tokens(train_encodings_fast['input_ids'][1])))"
      ]
    },
    {
      "cell_type": "code",
      "execution_count": null,
      "metadata": {
        "colab": {
          "base_uri": "https://localhost:8080/"
        },
        "id": "r1DOaH8SlQPZ",
        "outputId": "fc9ac4f6-4002-4ecc-aebc-5fdc379fdb5c"
      },
      "outputs": [
        {
          "data": {
            "text/plain": [
              "dict_keys(['text', 'answer_start', 'answer_end'])"
            ]
          },
          "execution_count": 24,
          "metadata": {},
          "output_type": "execute_result"
        }
      ],
      "source": [
        "type(train_answers[0]['text'])\n",
        "train_answers[0].keys()"
      ]
    },
    {
      "cell_type": "code",
      "execution_count": null,
      "metadata": {
        "id": "vUsop3DylWt7"
      },
      "outputs": [],
      "source": [
        "def ret_Answer_start_and_end_train(idx):\n",
        "    ret_start = 0\n",
        "    ret_end = 0\n",
        "    answer_encoding_fast = tokenizerFast(train_answers[idx]['text'],  max_length = MAX_LENGTH, truncation=True, padding=True)\n",
        "    for a in range( len(train_encodings_fast['input_ids'][idx]) -  len(answer_encoding_fast['input_ids']) ):\n",
        "        match = True\n",
        "        for i in range(1,len(answer_encoding_fast['input_ids']) - 1):\n",
        "\n",
        "            if (answer_encoding_fast['input_ids'][i] != train_encodings_fast['input_ids'][idx][a + i]):\n",
        "                match = False\n",
        "                break\n",
        "        if match:\n",
        "            ret_start = a+1\n",
        "            ret_end = a+i+1\n",
        "            break\n",
        "    return(ret_start, ret_end)"
      ]
    },
    {
      "cell_type": "code",
      "execution_count": null,
      "metadata": {
        "colab": {
          "base_uri": "https://localhost:8080/"
        },
        "id": "_jCxI7Q3lbAX",
        "outputId": "0e0ce6fe-9dbf-4644-b56d-e9851f6a2c72"
      },
      "outputs": [
        {
          "name": "stdout",
          "output_type": "stream",
          "text": [
            "z and x are\n",
            "57 61\n",
            "the cathars\n",
            "the cathars\n",
            "[CLS] who did prior diego admire more than the holy church? [SEP] prior diego saw immediately one of the paramount reasons for the spread of the unorthodox movement : the representatives of the holy church acted and moved with an offensive amount of pomp and ceremony. on the other hand, the cathars lived in a state of self - sacrifice that was widely appealing. for these reasons, prior diego suggested that the papal legates begin to live a reformed apostolic life. the legates agreed to change if they could find a strong leader. the prior took up the challenge, and he and dominic dedicated themselves to the conversion of the albigensians. despite this particular mission, in winning the albigensians over by persuasion dominic met limited success, for though in his ten years of preaching a large number of converts were made, it has to be said that the results were not such as had been hoped for. [SEP] [PAD] [PAD] [PAD] [PAD] [PAD] [PAD] [PAD] [PAD] [PAD] [PAD] [PAD] [PAD] [PAD] [PAD] [PAD] [PAD] [PAD] [PAD] [PAD] [PAD] [PAD] [PAD] [PAD] [PAD] [PAD] [PAD] [PAD] [PAD] [PAD] [PAD] [PAD] [PAD] [PAD] [PAD] [PAD] [PAD] [PAD] [PAD] [PAD] [PAD] [PAD] [PAD] [PAD] [PAD] [PAD] [PAD] [PAD] [PAD] [PAD] [PAD] [PAD] [PAD] [PAD] [PAD] [PAD] [PAD] [PAD] [PAD] [PAD] [PAD] [PAD] [PAD] [PAD] [PAD] [PAD]\n"
          ]
        }
      ],
      "source": [
        "test_rec=92\n",
        "\n",
        "z,x = ret_Answer_start_and_end_train(test_rec)\n",
        "print(\"z and x are\")\n",
        "print(z, x)\n",
        "\n",
        "predict_answer_tokens = train_encodings_fast.input_ids[test_rec][z : x]\n",
        "print(tokenizerFast.decode(predict_answer_tokens))\n",
        "print(train_answers[test_rec]['text'])\n",
        "print(tokenizerFast.decode(train_encodings_fast['input_ids'][test_rec]))"
      ]
    },
    {
      "cell_type": "code",
      "execution_count": null,
      "metadata": {
        "colab": {
          "base_uri": "https://localhost:8080/"
        },
        "id": "unmxFQSEKAUC",
        "outputId": "8bf71446-1013-4a66-bdaa-861e94bb6265"
      },
      "outputs": [
        {
          "name": "stdout",
          "output_type": "stream",
          "text": [
            "z and x are\n",
            "67 70\n",
            "chamber music.\n",
            "chamber music.\n",
            "[CLS] only a few of chopin's pieces involve more than the piano, including piano concertos, songs and what? [SEP] over 230 works of chopin survive ; some compositions from early childhood have been lost. all his known works involve the piano, and only a few range beyond solo piano music, as either piano concertos, songs or chamber music. [SEP] [PAD] [PAD] [PAD] [PAD] [PAD] [PAD] [PAD] [PAD] [PAD] [PAD] [PAD] [PAD] [PAD] [PAD] [PAD] [PAD] [PAD] [PAD] [PAD] [PAD] [PAD] [PAD] [PAD] [PAD] [PAD] [PAD] [PAD] [PAD] [PAD] [PAD] [PAD] [PAD] [PAD] [PAD] [PAD] [PAD] [PAD] [PAD] [PAD] [PAD] [PAD] [PAD] [PAD] [PAD] [PAD] [PAD] [PAD] [PAD] [PAD] [PAD] [PAD] [PAD] [PAD] [PAD] [PAD] [PAD] [PAD] [PAD] [PAD] [PAD] [PAD] [PAD] [PAD] [PAD] [PAD] [PAD] [PAD] [PAD] [PAD] [PAD] [PAD] [PAD] [PAD] [PAD] [PAD] [PAD] [PAD] [PAD] [PAD] [PAD] [PAD] [PAD] [PAD] [PAD] [PAD] [PAD] [PAD] [PAD] [PAD] [PAD] [PAD] [PAD] [PAD] [PAD] [PAD] [PAD] [PAD] [PAD] [PAD] [PAD] [PAD] [PAD] [PAD] [PAD] [PAD] [PAD] [PAD] [PAD] [PAD] [PAD] [PAD] [PAD] [PAD] [PAD] [PAD] [PAD] [PAD] [PAD] [PAD] [PAD] [PAD] [PAD] [PAD] [PAD] [PAD] [PAD] [PAD] [PAD] [PAD] [PAD] [PAD] [PAD] [PAD] [PAD] [PAD] [PAD] [PAD] [PAD] [PAD] [PAD] [PAD] [PAD] [PAD] [PAD] [PAD] [PAD] [PAD] [PAD] [PAD] [PAD] [PAD] [PAD] [PAD] [PAD] [PAD] [PAD] [PAD] [PAD] [PAD] [PAD] [PAD] [PAD] [PAD] [PAD] [PAD] [PAD] [PAD] [PAD] [PAD] [PAD] [PAD] [PAD] [PAD] [PAD] [PAD] [PAD] [PAD] [PAD] [PAD]\n"
          ]
        }
      ],
      "source": [
        "test_rec=1\n",
        "\n",
        "z,x = ret_Answer_start_and_end_train(test_rec)\n",
        "print(\"z and x are\")\n",
        "print(z, x)\n",
        "\n",
        "predict_answer_tokens = train_encodings_fast.input_ids[test_rec][z : x]\n",
        "print(tokenizerFast.decode(predict_answer_tokens))\n",
        "print(train_answers[test_rec]['text'])\n",
        "print(tokenizerFast.decode(train_encodings_fast['input_ids'][test_rec]))"
      ]
    },
    {
      "cell_type": "code",
      "execution_count": null,
      "metadata": {
        "colab": {
          "base_uri": "https://localhost:8080/"
        },
        "id": "PtIxLyd_lkQw",
        "outputId": "ca861510-f4fc-42c6-8d04-05afdb73beef"
      },
      "outputs": [
        {
          "name": "stdout",
          "output_type": "stream",
          "text": [
            "dict_keys(['input_ids', 'token_type_ids', 'attention_mask'])\n",
            "dict_keys(['input_ids', 'token_type_ids', 'attention_mask'])\n",
            "243\n"
          ]
        }
      ],
      "source": [
        "print(train_encodings_fast.keys())\n",
        "print(valid_encodings_fast.keys())\n",
        "print(len(train_encodings_fast['input_ids']))"
      ]
    },
    {
      "cell_type": "code",
      "execution_count": null,
      "metadata": {
        "colab": {
          "base_uri": "https://localhost:8080/"
        },
        "id": "ICYD6IbZlmSe",
        "outputId": "849e8fe4-0c88-43b7-a587-434edba2d493"
      },
      "outputs": [
        {
          "name": "stdout",
          "output_type": "stream",
          "text": [
            "5\n"
          ]
        }
      ],
      "source": [
        "start_positions = []\n",
        "end_positions = []\n",
        "ctr = 0\n",
        "for h in range(len(train_encodings_fast['input_ids'])):\n",
        "    s, e = ret_Answer_start_and_end_train(h)\n",
        "    start_positions.append(s)\n",
        "    end_positions.append(e)\n",
        "    if s==0:\n",
        "        ctr = ctr + 1\n",
        "\n",
        "\n",
        "train_encodings_fast.update({'start_positions': start_positions, 'end_positions': end_positions})\n",
        "print(ctr)"
      ]
    },
    {
      "cell_type": "code",
      "execution_count": null,
      "metadata": {
        "colab": {
          "base_uri": "https://localhost:8080/"
        },
        "id": "JiTddrQNlozS",
        "outputId": "8ed268d1-b7eb-4ca8-8268-1e4a13bb3142"
      },
      "outputs": [
        {
          "name": "stdout",
          "output_type": "stream",
          "text": [
            "dict_keys(['input_ids', 'token_type_ids', 'attention_mask', 'start_positions', 'end_positions'])\n",
            "dict_keys(['input_ids', 'token_type_ids', 'attention_mask'])\n",
            "243\n"
          ]
        }
      ],
      "source": [
        "print(train_encodings_fast.keys())\n",
        "print(valid_encodings_fast.keys())\n",
        "print(len(train_encodings_fast['input_ids']))"
      ]
    },
    {
      "cell_type": "code",
      "execution_count": null,
      "metadata": {
        "colab": {
          "base_uri": "https://localhost:8080/"
        },
        "id": "6q2u3OwTlrSu",
        "outputId": "6090dce8-ce85-4220-cc8c-acd85f3b56c8"
      },
      "outputs": [
        {
          "name": "stdout",
          "output_type": "stream",
          "text": [
            "67\n",
            "70\n",
            "chamber music.\n",
            "chamber music.\n",
            "[CLS] only a few of chopin's pieces involve more than the piano, including piano concertos, songs and what? [SEP] over 230 works of chopin survive ; some compositions from early childhood have been lost. all his known works involve the piano, and only a few range beyond solo piano music, as either piano concertos, songs or chamber music. [SEP] [PAD] [PAD] [PAD] [PAD] [PAD] [PAD] [PAD] [PAD] [PAD] [PAD] [PAD] [PAD] [PAD] [PAD] [PAD] [PAD] [PAD] [PAD] [PAD] [PAD] [PAD] [PAD] [PAD] [PAD] [PAD] [PAD] [PAD] [PAD] [PAD] [PAD] [PAD] [PAD] [PAD] [PAD] [PAD] [PAD] [PAD] [PAD] [PAD] [PAD] [PAD] [PAD] [PAD] [PAD] [PAD] [PAD] [PAD] [PAD] [PAD] [PAD] [PAD] [PAD] [PAD] [PAD] [PAD] [PAD] [PAD] [PAD] [PAD] [PAD] [PAD] [PAD] [PAD] [PAD] [PAD] [PAD] [PAD] [PAD] [PAD] [PAD] [PAD] [PAD] [PAD] [PAD] [PAD] [PAD] [PAD] [PAD] [PAD] [PAD] [PAD] [PAD] [PAD] [PAD] [PAD] [PAD] [PAD] [PAD] [PAD] [PAD] [PAD] [PAD] [PAD] [PAD] [PAD] [PAD] [PAD] [PAD] [PAD] [PAD] [PAD] [PAD] [PAD] [PAD] [PAD] [PAD] [PAD] [PAD] [PAD] [PAD] [PAD] [PAD] [PAD] [PAD] [PAD] [PAD] [PAD] [PAD] [PAD] [PAD] [PAD] [PAD] [PAD] [PAD] [PAD] [PAD] [PAD] [PAD] [PAD] [PAD] [PAD] [PAD] [PAD] [PAD] [PAD] [PAD] [PAD] [PAD] [PAD] [PAD] [PAD] [PAD] [PAD] [PAD] [PAD] [PAD] [PAD] [PAD] [PAD] [PAD] [PAD] [PAD] [PAD] [PAD] [PAD] [PAD] [PAD] [PAD] [PAD] [PAD] [PAD] [PAD] [PAD] [PAD] [PAD] [PAD] [PAD] [PAD] [PAD] [PAD] [PAD] [PAD] [PAD] [PAD] [PAD] [PAD] [PAD] [PAD] [PAD]\n"
          ]
        }
      ],
      "source": [
        "test_rec = 1\n",
        "print(train_encodings_fast['start_positions'][test_rec])\n",
        "print(train_encodings_fast['end_positions'][test_rec])\n",
        "predict_answer_tokens = train_encodings_fast.input_ids[test_rec][train_encodings_fast['start_positions'][test_rec] : train_encodings_fast['end_positions'][test_rec]]\n",
        "print(tokenizerFast.decode(predict_answer_tokens))\n",
        "print(train_answers[test_rec]['text'])\n",
        "print(tokenizerFast.decode(train_encodings_fast['input_ids'][test_rec]))"
      ]
    },
    {
      "cell_type": "code",
      "execution_count": null,
      "metadata": {
        "id": "Sjm1WSLtl5vK"
      },
      "outputs": [],
      "source": [
        "def ret_Answer_start_and_end_valid(idx):\n",
        "    ret_start = 0\n",
        "    ret_end = 0\n",
        "    answer_encoding_fast = tokenizerFast(valid_answers[idx]['text'],  max_length = MAX_LENGTH, truncation=True, padding=True)\n",
        "    for a in range( len(valid_encodings_fast['input_ids'][idx])  -  len(answer_encoding_fast['input_ids'])   ):\n",
        "        match = True\n",
        "        for i in range(1,len(answer_encoding_fast['input_ids']) - 1):\n",
        "            if (answer_encoding_fast['input_ids'][i] != valid_encodings_fast['input_ids'][idx][a + i]):\n",
        "                match = False\n",
        "                break\n",
        "        if match:\n",
        "            ret_start = a+1\n",
        "            ret_end = a+i+1\n",
        "            break\n",
        "    return(ret_start, ret_end)"
      ]
    },
    {
      "cell_type": "code",
      "execution_count": null,
      "metadata": {
        "colab": {
          "base_uri": "https://localhost:8080/"
        },
        "id": "QE7W5LfQl6cm",
        "outputId": "3f57e826-1bda-45be-e526-198777129897"
      },
      "outputs": [
        {
          "name": "stdout",
          "output_type": "stream",
          "text": [
            "393\n"
          ]
        }
      ],
      "source": [
        "start_positions = []\n",
        "end_positions = []\n",
        "ctr = 0\n",
        "for h in range(len(valid_encodings_fast['input_ids']) ):\n",
        "    s, e = ret_Answer_start_and_end_valid(h)\n",
        "    start_positions.append(s)\n",
        "    end_positions.append(e)\n",
        "    if s==0:\n",
        "        ctr = ctr + 1\n",
        "\n",
        "\n",
        "valid_encodings_fast.update({'start_positions': start_positions, 'end_positions': end_positions})\n",
        "print(ctr)"
      ]
    },
    {
      "cell_type": "code",
      "execution_count": null,
      "metadata": {
        "colab": {
          "base_uri": "https://localhost:8080/"
        },
        "id": "gzERCNesl80M",
        "outputId": "8287d5f1-0f94-4fe7-f664-255ba2fa2d71"
      },
      "outputs": [
        {
          "name": "stdout",
          "output_type": "stream",
          "text": [
            "france\n",
            "france\n",
            "[CLS] in what country is normandy located? [SEP] the normans ( norman : nourmands ; french : normands ; latin : normanni ) were the people who in the 10th and 11th centuries gave their name to normandy, a region in france. they were descended from norse ( \" norman \" comes from \" norseman \" ) raiders and pirates from denmark, iceland and norway who, under their leader rollo, agreed to swear fealty to king charles iii of west francia. through generations of assimilation and mixing with the native frankish and roman - gaulish populations, their descendants would gradually merge with the carolingian - based cultures of west francia. the distinct cultural and ethnic identity of the normans emerged initially in the first half of the 10th century, and it continued to evolve over the succeeding centuries. [SEP] [PAD] [PAD] [PAD] [PAD] [PAD] [PAD] [PAD] [PAD] [PAD] [PAD] [PAD] [PAD] [PAD] [PAD] [PAD] [PAD] [PAD] [PAD] [PAD] [PAD] [PAD] [PAD] [PAD] [PAD] [PAD] [PAD] [PAD] [PAD] [PAD] [PAD] [PAD] [PAD] [PAD] [PAD] [PAD] [PAD] [PAD] [PAD] [PAD] [PAD] [PAD] [PAD] [PAD] [PAD] [PAD] [PAD] [PAD] [PAD] [PAD] [PAD] [PAD] [PAD] [PAD] [PAD] [PAD] [PAD] [PAD] [PAD] [PAD] [PAD] [PAD] [PAD] [PAD] [PAD] [PAD] [PAD] [PAD] [PAD] [PAD] [PAD] [PAD] [PAD] [PAD] [PAD] [PAD] [PAD] [PAD] [PAD] [PAD] [PAD] [PAD] [PAD] [PAD] [PAD]\n"
          ]
        }
      ],
      "source": [
        "test_rec=2\n",
        "\n",
        "z,x = ret_Answer_start_and_end_valid(test_rec)\n",
        "\n",
        "predict_answer_tokens = valid_encodings_fast.input_ids[test_rec][z : x]\n",
        "print(tokenizerFast.decode(predict_answer_tokens))\n",
        "print(valid_answers[test_rec]['text'])\n",
        "print(tokenizerFast.decode(valid_encodings_fast['input_ids'][test_rec]))"
      ]
    },
    {
      "cell_type": "code",
      "execution_count": null,
      "metadata": {
        "colab": {
          "base_uri": "https://localhost:8080/"
        },
        "id": "1J8qhacPl_j2",
        "outputId": "b2ff39b7-2d06-44f7-fda2-84a22c86cae2"
      },
      "outputs": [
        {
          "name": "stdout",
          "output_type": "stream",
          "text": [
            "dict_keys(['input_ids', 'token_type_ids', 'attention_mask', 'start_positions', 'end_positions'])\n",
            "dict_keys(['input_ids', 'token_type_ids', 'attention_mask', 'start_positions', 'end_positions'])\n",
            "243\n",
            "243\n",
            "243\n",
            "20302\n",
            "20302\n",
            "20302\n"
          ]
        }
      ],
      "source": [
        "print(train_encodings_fast.keys())\n",
        "print(valid_encodings_fast.keys())\n",
        "print(len(train_encodings_fast['input_ids']))\n",
        "print(len(train_encodings_fast['start_positions']))\n",
        "print(len(train_encodings_fast['end_positions']))\n",
        "print(len(valid_encodings_fast['input_ids']))\n",
        "print(len(valid_encodings_fast['start_positions']))\n",
        "print(len(valid_encodings_fast['end_positions']))"
      ]
    },
    {
      "cell_type": "code",
      "execution_count": null,
      "metadata": {
        "colab": {
          "base_uri": "https://localhost:8080/",
          "height": 123
        },
        "id": "P946Tcm8mCG8",
        "outputId": "3ad82413-4939-4187-f68e-169425931b71"
      },
      "outputs": [
        {
          "data": {
            "application/vnd.google.colaboratory.intrinsic+json": {
              "type": "string"
            },
            "text/plain": [
              "\"[CLS] when did jay z and beyonce become the first music couple worth over a billion dollars? [SEP] forbes magazine began reporting on beyonce's earnings in 2008, calculating that the $ 80 million earned between june 2007 to june 2008, for her music, tour, films and clothing line made her the world's best - paid music personality at the time, above madonna and celine dion. they placed her fourth on the celebrity 100 list in 2009 and ninth on the most powerful women in the world list in 2010. the following year, forbes placed her eighth on the best - paid celebrities under 30 list, having earned $ 35 million in the past year for her clothing line and endorsement deals. in 2012, forbes placed beyonce at number 16 on the celebrity 100 list, twelve places lower than three years ago yet still having earned $ 40 million in the past year for her album 4, clothing line and endorsement deals. in the same year, beyonce and jay z placed at number one on the world's highest - paid celebrity couples, for collectively earning $ 78 million. the couple made it into the previous year's guinness world records as the highest - earning power couple for collectively earning $ 122 million in 2009. for the years 2009 to 2011, beyonce earned [SEP]\""
            ]
          },
          "execution_count": 36,
          "metadata": {},
          "output_type": "execute_result"
        }
      ],
      "source": [
        "tokenizerFast.decode(train_encodings_fast['input_ids'][0])"
      ]
    },
    {
      "cell_type": "code",
      "execution_count": null,
      "metadata": {
        "colab": {
          "base_uri": "https://localhost:8080/"
        },
        "id": "vWtneUXXmFiw",
        "outputId": "4476de23-8a77-443b-c4c3-24a1b4ab3ba5"
      },
      "outputs": [
        {
          "name": "stdout",
          "output_type": "stream",
          "text": [
            "yonc\n"
          ]
        }
      ],
      "source": [
        "test_row= 0\n",
        "print(train_contexts[test_row][train_answers[test_row]['answer_start']:train_answers[test_row]['answer_end']])"
      ]
    },
    {
      "cell_type": "code",
      "execution_count": null,
      "metadata": {
        "colab": {
          "base_uri": "https://localhost:8080/",
          "height": 70
        },
        "id": "1rhLm8BEmPNF",
        "outputId": "9145a627-cb84-4158-f09a-7a8646d71f0d"
      },
      "outputs": [
        {
          "data": {
            "application/vnd.google.colaboratory.intrinsic+json": {
              "type": "string"
            },
            "text/plain": [
              "\"[CLS] when did jay z and beyonce become the first music couple worth over a billion dollars? [SEP] forbes magazine began reporting on beyonce's earnings in 2008, calculating that the $ 80 million earned between june 2007 to june 2008, for her music, tour, films and clothing line made her the world's best - paid music personality at the time, above madonna and celine dion. they placed her fourth on the celebrity 100 list in 2009 and ninth on the most powerful women in the world list in 2010\""
            ]
          },
          "execution_count": 38,
          "metadata": {},
          "output_type": "execute_result"
        }
      ],
      "source": [
        "answer_start_index = 0\n",
        "answer_end_index = 100\n",
        "\n",
        "predict_answer_tokens = train_encodings_fast.input_ids[0][answer_start_index : answer_end_index]\n",
        "tokenizerFast.decode(predict_answer_tokens)"
      ]
    },
    {
      "cell_type": "code",
      "execution_count": null,
      "metadata": {
        "id": "af6KAyJOmQHH"
      },
      "outputs": [],
      "source": [
        "class InputDataset(Dataset):\n",
        "    def __init__(self, encodings):\n",
        "        self.encodings = encodings\n",
        "    def __getitem__(self, i):\n",
        "        return {\n",
        "            'input_ids': torch.tensor(self.encodings['input_ids'][i]),\n",
        "            'token_type_ids': torch.tensor(self.encodings['token_type_ids'][i]),\n",
        "            'attention_mask': torch.tensor(self.encodings['attention_mask'][i]),\n",
        "            'start_positions': torch.tensor(self.encodings['start_positions'][i]),\n",
        "            'end_positions': torch.tensor(self.encodings['end_positions'][i])\n",
        "        }\n",
        "    def __len__(self):\n",
        "        return len(self.encodings['input_ids'])"
      ]
    },
    {
      "cell_type": "code",
      "execution_count": null,
      "metadata": {
        "id": "CYs3C1ZTmVYj"
      },
      "outputs": [],
      "source": [
        "train_dataset = InputDataset(train_encodings_fast)\n",
        "valid_dataset = InputDataset(valid_encodings_fast)"
      ]
    },
    {
      "cell_type": "code",
      "execution_count": null,
      "metadata": {
        "id": "AXp-NSeqnZZi"
      },
      "outputs": [],
      "source": [
        "train_data_loader = DataLoader(train_dataset, batch_size=16, shuffle=True)\n",
        "valid_data_loader = DataLoader(valid_dataset, batch_size=32)"
      ]
    },
    {
      "cell_type": "code",
      "execution_count": null,
      "metadata": {
        "colab": {
          "base_uri": "https://localhost:8080/"
        },
        "id": "eQ_EDDEFmYLw",
        "outputId": "e9138198-7a8e-443d-bc29-5699f4e3e8bd"
      },
      "outputs": [
        {
          "name": "stdout",
          "output_type": "stream",
          "text": [
            "243\n",
            "dict_keys(['input_ids', 'token_type_ids', 'attention_mask', 'start_positions', 'end_positions'])\n"
          ]
        }
      ],
      "source": [
        "print(len(train_dataset))\n",
        "print(train_dataset[0].keys())"
      ]
    },
    {
      "cell_type": "code",
      "execution_count": null,
      "metadata": {
        "colab": {
          "base_uri": "https://localhost:8080/",
          "height": 49,
          "referenced_widgets": [
            "d7cfd5abc3ec45a2b19a4673bd611aa0",
            "55efe5e8c52c4f70ae2c48b250364fe4",
            "65b4aa807dd940d2b31080e885a67216",
            "87cd83eed9974df2a4ee3592ff69e2f0",
            "c4026a154b6e43c9af05691b2c070da8",
            "e2902720f48a44e8ae94a7d0ebd678d5",
            "6ae1963fb75540e0b3ef033cc0d85081",
            "613483e1a23d4b7bab0b2c02f3258384",
            "e0e431100762406388991dd12143528a",
            "0cd6a1d15a354915a6e8a2826607bcfa",
            "96f53efc644a4ca19a4bab74ff1720f5"
          ]
        },
        "id": "mCRrZhGymbRy",
        "outputId": "13ef5fb7-96df-4cb0-991f-182ca02bb496"
      },
      "outputs": [
        {
          "data": {
            "application/vnd.jupyter.widget-view+json": {
              "model_id": "d7cfd5abc3ec45a2b19a4673bd611aa0",
              "version_major": 2,
              "version_minor": 0
            },
            "text/plain": [
              "model.safetensors:   0%|          | 0.00/440M [00:00<?, ?B/s]"
            ]
          },
          "metadata": {},
          "output_type": "display_data"
        }
      ],
      "source": [
        "bert_model = BertModel.from_pretrained(MODEL_PATH)\n",
        "class QAModel(nn.Module):\n",
        "    def __init__(self):\n",
        "        super(QAModel, self).__init__()\n",
        "        self.bert = bert_model\n",
        "        self.drop_out = nn.Dropout(0.1)\n",
        "        self.l1 = nn.Linear(768 * 2, 768 * 2)\n",
        "        self.l2 = nn.Linear(768 * 2, 2)\n",
        "        self.linear_relu_stack = nn.Sequential(\n",
        "            self.drop_out,\n",
        "            self.l1,\n",
        "            nn.LeakyReLU(),\n",
        "            self.l2\n",
        "        )\n",
        "\n",
        "    def forward(self, input_ids, attention_mask, token_type_ids):\n",
        "        model_output = self.bert(input_ids, attention_mask=attention_mask, token_type_ids=token_type_ids, output_hidden_states=True)\n",
        "        hidden_states = model_output[2]\n",
        "        out = torch.cat((hidden_states[-1], hidden_states[-3]), dim=-1)\n",
        "        logits = self.linear_relu_stack(out)\n",
        "\n",
        "        start_logits, end_logits = logits.split(1, dim=-1)\n",
        "\n",
        "        start_logits = start_logits.squeeze(-1)\n",
        "        end_logits = end_logits.squeeze(-1)\n",
        "\n",
        "        return start_logits, end_logits"
      ]
    },
    {
      "cell_type": "code",
      "execution_count": null,
      "metadata": {
        "id": "LEpjEiWTmmWA"
      },
      "outputs": [],
      "source": [
        "model = QAModel()"
      ]
    },
    {
      "cell_type": "code",
      "execution_count": null,
      "metadata": {
        "colab": {
          "base_uri": "https://localhost:8080/"
        },
        "id": "bU7z9HGymnpt",
        "outputId": "d1a9c282-c79e-4930-e574-6d7e1c2a095e"
      },
      "outputs": [
        {
          "name": "stdout",
          "output_type": "stream",
          "text": [
            "cuda\n"
          ]
        }
      ],
      "source": [
        "device = torch.device('cuda') if torch.cuda.is_available() else torch.device('cpu')\n",
        "print(device)"
      ]
    },
    {
      "cell_type": "code",
      "execution_count": null,
      "metadata": {
        "id": "VqZ1wlH6mrL2"
      },
      "outputs": [],
      "source": [
        "def loss_fn(start_logits, end_logits, start_positions, end_positions):\n",
        "    loss_fct = nn.CrossEntropyLoss()\n",
        "    start_loss = loss_fct(start_logits, start_positions)\n",
        "    end_loss = loss_fct(end_logits, end_positions)\n",
        "    total_loss = (start_loss + end_loss)/2\n",
        "    return total_loss"
      ]
    },
    {
      "cell_type": "code",
      "execution_count": null,
      "metadata": {
        "id": "QXPeNiHHmtYN"
      },
      "outputs": [],
      "source": [
        "def focal_loss_fn(start_logits, end_logits, start_positions, end_positions, gamma):\n",
        "\n",
        "    smax = nn.Softmax(dim=1)\n",
        "    probs_start = smax(start_logits)\n",
        "    inv_probs_start = 1 - probs_start\n",
        "    probs_end = smax(end_logits)\n",
        "    inv_probs_end = 1 - probs_end\n",
        "\n",
        "    lsmax = nn.LogSoftmax(dim=1)\n",
        "    log_probs_start = lsmax(start_logits)\n",
        "    log_probs_end = lsmax(end_logits)\n",
        "\n",
        "    nll = nn.NLLLoss()\n",
        "\n",
        "    fl_start = nll(torch.pow(inv_probs_start, gamma)* log_probs_start, start_positions)\n",
        "    fl_end = nll(torch.pow(inv_probs_end, gamma)*log_probs_end, end_positions)\n",
        "\n",
        "    return ((fl_start + fl_end)/2)"
      ]
    },
    {
      "cell_type": "code",
      "execution_count": null,
      "metadata": {
        "colab": {
          "base_uri": "https://localhost:8080/"
        },
        "id": "0eRAb9xgmvm2",
        "outputId": "1f1d19ea-ba2c-41fa-e5ea-53b61d9bca86"
      },
      "outputs": [
        {
          "name": "stderr",
          "output_type": "stream",
          "text": [
            "/usr/local/lib/python3.10/dist-packages/transformers/optimization.py:411: FutureWarning: This implementation of AdamW is deprecated and will be removed in a future version. Use the PyTorch implementation torch.optim.AdamW instead, or set `no_deprecation_warning=True` to disable this warning\n",
            "  warnings.warn(\n"
          ]
        }
      ],
      "source": [
        "optim = AdamW(model.parameters(), lr=2e-5, weight_decay=2e-2)\n",
        "scheduler = ExponentialLR(optim, gamma=0.9)\n",
        "total_acc = []\n",
        "total_loss = []"
      ]
    },
    {
      "cell_type": "code",
      "execution_count": null,
      "metadata": {
        "id": "DIyurgP5mx3n"
      },
      "outputs": [],
      "source": [
        "def train_epoch(model, dataloader, epoch):\n",
        "    model = model.train()\n",
        "    losses = []\n",
        "    acc = []\n",
        "    ctr = 0\n",
        "    batch_tracker = 0\n",
        "    for batch in tqdm(dataloader, desc = 'Running Epoch '):\n",
        "        optim.zero_grad()\n",
        "        input_ids = batch['input_ids'].to(device)\n",
        "        attention_mask = batch['attention_mask'].to(device)\n",
        "        token_type_ids = batch['token_type_ids'].to(device)\n",
        "        start_positions = batch['start_positions'].to(device)\n",
        "        end_positions = batch['end_positions'].to(device)\n",
        "        out_start, out_end = model(input_ids=input_ids,\n",
        "                attention_mask=attention_mask,\n",
        "                token_type_ids=token_type_ids)\n",
        "        loss = focal_loss_fn(out_start, out_end, start_positions, end_positions,1)\n",
        "        losses.append(loss.item())\n",
        "        loss.backward()\n",
        "        optim.step()\n",
        "        #print(out_start)\n",
        "\n",
        "        # for iter in range(16):\n",
        "        #   print(tokenizerFast.decode(input_ids[iter]))\n",
        "\n",
        "        # print(out_start.size())\n",
        "        start_pred = torch.argmax(out_start, dim=1)\n",
        "        end_pred = torch.argmax(out_end, dim=1)\n",
        "        #print(\"\\n\")\n",
        "        #print((type(start_positions)))\n",
        "        #print(type(start_pred))\n",
        "\n",
        "        # for iter in range(16):\n",
        "        #   print(\"pred\")\n",
        "        #   print(tokenizerFast.convert_tokens_to_string(tokenizerFast.convert_ids_to_tokens(input_ids[iter][start_pred[iter] : end_pred[iter]])))\n",
        "        #   print(\"true ans\")\n",
        "        #   print(tokenizerFast.convert_tokens_to_string(tokenizerFast.convert_ids_to_tokens(input_ids[iter][start_positions[iter] : end_positions[iter]])))\n",
        "\n",
        "        #print(start_pred)\n",
        "        #print(start_positions)\n",
        "\n",
        "        acc.append(((start_pred == start_positions).sum()/len(start_pred)).item())\n",
        "        acc.append(((end_pred == end_positions).sum()/len(end_pred)).item())\n",
        "\n",
        "        #print(f\"acc1 is {acc[-2]} acc2 is {acc[-1]}\")\n",
        "        #print(\"\\n\")\n",
        "\n",
        "        batch_tracker = batch_tracker + 1\n",
        "        if batch_tracker==250 and epoch==1:\n",
        "            total_acc.append(sum(acc)/len(acc))\n",
        "            loss_avg = sum(losses)/len(losses)\n",
        "            total_loss.append(loss_avg)\n",
        "            batch_tracker = 0\n",
        "    scheduler.step()\n",
        "    ret_acc = sum(acc)/len(acc)\n",
        "    ret_loss = sum(losses)/len(losses)\n",
        "    return(ret_acc, ret_loss)"
      ]
    },
    {
      "cell_type": "code",
      "execution_count": null,
      "metadata": {
        "id": "9QbM2afLm59c"
      },
      "outputs": [],
      "source": [
        "def eval_model(model, dataloader):\n",
        "    model = model.eval()\n",
        "    losses = []\n",
        "    acc = []\n",
        "    ctr = 0\n",
        "    with torch.no_grad():\n",
        "        for batch in tqdm(dataloader, desc = 'Running Evaluation'):\n",
        "            input_ids = batch['input_ids'].to(device)\n",
        "            attention_mask = batch['attention_mask'].to(device)\n",
        "            token_type_ids = batch['token_type_ids'].to(device)\n",
        "            start_true = batch['start_positions'].to(device)\n",
        "            end_true = batch['end_positions'].to(device)\n",
        "\n",
        "            out_start, out_end = model(input_ids=input_ids,\n",
        "                attention_mask=attention_mask,\n",
        "                token_type_ids=token_type_ids)\n",
        "\n",
        "            start_pred = torch.argmax(out_start, dim=1)\n",
        "            end_pred = torch.argmax(out_end, dim=1)\n",
        "\n",
        "            acc.append(((start_pred == start_true).sum()/len(start_pred)).item())\n",
        "            acc.append(((end_pred == end_true).sum()/len(end_pred)).item())\n",
        "        ret_acc = sum(acc)/len(acc)\n",
        "        ret_loss = 0\n",
        "    return(ret_acc)"
      ]
    },
    {
      "cell_type": "code",
      "execution_count": null,
      "metadata": {
        "colab": {
          "base_uri": "https://localhost:8080/"
        },
        "id": "Lngqw5atm_ro",
        "outputId": "8b0a43fa-748e-43d9-c7c4-e2d6e464a7d8"
      },
      "outputs": [
        {
          "name": "stdout",
          "output_type": "stream",
          "text": [
            "current epoch is 1\n"
          ]
        },
        {
          "name": "stderr",
          "output_type": "stream",
          "text": [
            "Running Epoch : 100%|██████████| 16/16 [00:12<00:00,  1.27it/s]\n"
          ]
        },
        {
          "name": "stdout",
          "output_type": "stream",
          "text": [
            "Train Accuracy: 0.057291666977107525      Train Loss: 5.236577183008194\n"
          ]
        },
        {
          "name": "stderr",
          "output_type": "stream",
          "text": [
            "Running Evaluation: 100%|██████████| 635/635 [04:52<00:00,  2.17it/s]\n"
          ]
        },
        {
          "name": "stdout",
          "output_type": "stream",
          "text": [
            "Validation Accuracy: 0.04822483128450048\n",
            "current epoch is 2\n"
          ]
        },
        {
          "name": "stderr",
          "output_type": "stream",
          "text": [
            "Running Epoch : 100%|██████████| 16/16 [00:11<00:00,  1.42it/s]\n"
          ]
        },
        {
          "name": "stdout",
          "output_type": "stream",
          "text": [
            "Train Accuracy: 0.140625      Train Loss: 4.605100333690643\n"
          ]
        },
        {
          "name": "stderr",
          "output_type": "stream",
          "text": [
            "Running Evaluation: 100%|██████████| 635/635 [05:05<00:00,  2.08it/s]\n"
          ]
        },
        {
          "name": "stdout",
          "output_type": "stream",
          "text": [
            "Validation Accuracy: 0.05841183915851623\n",
            "current epoch is 3\n"
          ]
        },
        {
          "name": "stderr",
          "output_type": "stream",
          "text": [
            "Running Epoch : 100%|██████████| 16/16 [00:11<00:00,  1.43it/s]\n"
          ]
        },
        {
          "name": "stdout",
          "output_type": "stream",
          "text": [
            "Train Accuracy: 0.16471354197710752      Train Loss: 4.0873734056949615\n"
          ]
        },
        {
          "name": "stderr",
          "output_type": "stream",
          "text": [
            "Running Evaluation: 100%|██████████| 635/635 [05:05<00:00,  2.08it/s]\n"
          ]
        },
        {
          "name": "stdout",
          "output_type": "stream",
          "text": [
            "Validation Accuracy: 0.07108408325300442\n",
            "current epoch is 4\n"
          ]
        },
        {
          "name": "stderr",
          "output_type": "stream",
          "text": [
            "Running Epoch : 100%|██████████| 16/16 [00:11<00:00,  1.43it/s]\n"
          ]
        },
        {
          "name": "stdout",
          "output_type": "stream",
          "text": [
            "Train Accuracy: 0.2968750009313226      Train Loss: 3.3536973148584366\n"
          ]
        },
        {
          "name": "stderr",
          "output_type": "stream",
          "text": [
            "Running Evaluation: 100%|██████████| 635/635 [05:05<00:00,  2.08it/s]\n"
          ]
        },
        {
          "name": "stdout",
          "output_type": "stream",
          "text": [
            "Validation Accuracy: 0.09856931947347686\n",
            "current epoch is 5\n"
          ]
        },
        {
          "name": "stderr",
          "output_type": "stream",
          "text": [
            "Running Epoch : 100%|██████████| 16/16 [00:11<00:00,  1.43it/s]\n"
          ]
        },
        {
          "name": "stdout",
          "output_type": "stream",
          "text": [
            "Train Accuracy: 0.43684895895421505      Train Loss: 2.434608466923237\n"
          ]
        },
        {
          "name": "stderr",
          "output_type": "stream",
          "text": [
            "Running Evaluation: 100%|██████████| 635/635 [05:05<00:00,  2.08it/s]\n"
          ]
        },
        {
          "name": "stdout",
          "output_type": "stream",
          "text": [
            "Validation Accuracy: 0.14246695726875244\n",
            "current epoch is 6\n"
          ]
        },
        {
          "name": "stderr",
          "output_type": "stream",
          "text": [
            "Running Epoch : 100%|██████████| 16/16 [00:11<00:00,  1.43it/s]\n"
          ]
        },
        {
          "name": "stdout",
          "output_type": "stream",
          "text": [
            "Train Accuracy: 0.5703125      Train Loss: 1.577261082828045\n"
          ]
        },
        {
          "name": "stderr",
          "output_type": "stream",
          "text": [
            "Running Evaluation: 100%|██████████| 635/635 [05:05<00:00,  2.08it/s]\n"
          ]
        },
        {
          "name": "stdout",
          "output_type": "stream",
          "text": [
            "Validation Accuracy: 0.14790846456692913\n",
            "current epoch is 7\n"
          ]
        },
        {
          "name": "stderr",
          "output_type": "stream",
          "text": [
            "Running Epoch : 100%|██████████| 16/16 [00:11<00:00,  1.43it/s]\n"
          ]
        },
        {
          "name": "stdout",
          "output_type": "stream",
          "text": [
            "Train Accuracy: 0.657552083954215      Train Loss: 1.167620413005352\n"
          ]
        },
        {
          "name": "stderr",
          "output_type": "stream",
          "text": [
            "Running Evaluation: 100%|██████████| 635/635 [05:05<00:00,  2.08it/s]\n"
          ]
        },
        {
          "name": "stdout",
          "output_type": "stream",
          "text": [
            "Validation Accuracy: 0.16035925196850392\n",
            "current epoch is 8\n"
          ]
        },
        {
          "name": "stderr",
          "output_type": "stream",
          "text": [
            "Running Epoch : 100%|██████████| 16/16 [00:11<00:00,  1.43it/s]\n"
          ]
        },
        {
          "name": "stdout",
          "output_type": "stream",
          "text": [
            "Train Accuracy: 0.6796875009313226      Train Loss: 0.9086306355893612\n"
          ]
        },
        {
          "name": "stderr",
          "output_type": "stream",
          "text": [
            "Running Evaluation: 100%|██████████| 635/635 [05:04<00:00,  2.08it/s]\n"
          ]
        },
        {
          "name": "stdout",
          "output_type": "stream",
          "text": [
            "Validation Accuracy: 0.16001476377952756\n",
            "current epoch is 9\n"
          ]
        },
        {
          "name": "stderr",
          "output_type": "stream",
          "text": [
            "Running Epoch : 100%|██████████| 16/16 [00:11<00:00,  1.43it/s]\n"
          ]
        },
        {
          "name": "stdout",
          "output_type": "stream",
          "text": [
            "Train Accuracy: 0.7506510429084301      Train Loss: 0.7358317747712135\n"
          ]
        },
        {
          "name": "stderr",
          "output_type": "stream",
          "text": [
            "Running Evaluation: 100%|██████████| 635/635 [05:04<00:00,  2.09it/s]\n"
          ]
        },
        {
          "name": "stdout",
          "output_type": "stream",
          "text": [
            "Validation Accuracy: 0.14032972440944882\n",
            "current epoch is 10\n"
          ]
        },
        {
          "name": "stderr",
          "output_type": "stream",
          "text": [
            "Running Epoch : 100%|██████████| 16/16 [00:11<00:00,  1.44it/s]\n"
          ]
        },
        {
          "name": "stdout",
          "output_type": "stream",
          "text": [
            "Train Accuracy: 0.78515625      Train Loss: 0.5761222862638533\n"
          ]
        },
        {
          "name": "stderr",
          "output_type": "stream",
          "text": [
            "Running Evaluation: 100%|██████████| 635/635 [05:04<00:00,  2.09it/s]\n"
          ]
        },
        {
          "name": "stdout",
          "output_type": "stream",
          "text": [
            "Validation Accuracy: 0.14628444881889763\n",
            "current epoch is 11\n"
          ]
        },
        {
          "name": "stderr",
          "output_type": "stream",
          "text": [
            "Running Epoch : 100%|██████████| 16/16 [00:11<00:00,  1.43it/s]\n"
          ]
        },
        {
          "name": "stdout",
          "output_type": "stream",
          "text": [
            "Train Accuracy: 0.7897135429084301      Train Loss: 0.5551589950919151\n"
          ]
        },
        {
          "name": "stderr",
          "output_type": "stream",
          "text": [
            "Running Evaluation: 100%|██████████| 635/635 [05:05<00:00,  2.08it/s]\n"
          ]
        },
        {
          "name": "stdout",
          "output_type": "stream",
          "text": [
            "Validation Accuracy: 0.15391240157480315\n",
            "current epoch is 12\n"
          ]
        },
        {
          "name": "stderr",
          "output_type": "stream",
          "text": [
            "Running Epoch : 100%|██████████| 16/16 [00:11<00:00,  1.43it/s]\n"
          ]
        },
        {
          "name": "stdout",
          "output_type": "stream",
          "text": [
            "Train Accuracy: 0.8131510429084301      Train Loss: 0.4736660160124302\n"
          ]
        },
        {
          "name": "stderr",
          "output_type": "stream",
          "text": [
            "Running Evaluation: 100%|██████████| 635/635 [05:04<00:00,  2.09it/s]\n"
          ]
        },
        {
          "name": "stdout",
          "output_type": "stream",
          "text": [
            "Validation Accuracy: 0.14936023622047245\n",
            "current epoch is 13\n"
          ]
        },
        {
          "name": "stderr",
          "output_type": "stream",
          "text": [
            "Running Epoch : 100%|██████████| 16/16 [00:11<00:00,  1.43it/s]\n"
          ]
        },
        {
          "name": "stdout",
          "output_type": "stream",
          "text": [
            "Train Accuracy: 0.8268229169771075      Train Loss: 0.4551453161984682\n"
          ]
        },
        {
          "name": "stderr",
          "output_type": "stream",
          "text": [
            "Running Evaluation: 100%|██████████| 635/635 [05:04<00:00,  2.08it/s]"
          ]
        },
        {
          "name": "stdout",
          "output_type": "stream",
          "text": [
            "Validation Accuracy: 0.14092027559055118\n"
          ]
        },
        {
          "name": "stderr",
          "output_type": "stream",
          "text": [
            "\n"
          ]
        }
      ],
      "source": [
        "EPOCHS = 13\n",
        "\n",
        "model.to(device)\n",
        "curr_epoch = 0\n",
        "for epoch in range(EPOCHS):\n",
        "    curr_epoch += 1\n",
        "    print(f\"current epoch is {curr_epoch}\")\n",
        "    train_acc, train_loss = train_epoch(model, train_data_loader, epoch+1)\n",
        "    print(f\"Train Accuracy: {train_acc}      Train Loss: {train_loss}\")\n",
        "    val_acc = eval_model(model, valid_data_loader)\n",
        "    print(f\"Validation Accuracy: {val_acc}\")"
      ]
    },
    {
      "cell_type": "code",
      "execution_count": null,
      "metadata": {
        "id": "v9sAnwXAgvUD"
      },
      "outputs": [],
      "source": [
        "from google.colab import output\n",
        "output.eval_js('new Audio(\"https://upload.wikimedia.org/wikipedia/commons/0/05/Beep-09.ogg\").play()')"
      ]
    },
    {
      "cell_type": "code",
      "execution_count": null,
      "metadata": {
        "colab": {
          "base_uri": "https://localhost:8080/"
        },
        "id": "_zIDBgcWnWSw",
        "outputId": "f1d9c5ed-61ff-4b52-e4fb-4e7f97fecc19"
      },
      "outputs": [
        {
          "data": {
            "text/plain": [
              "[5.083731656658001e-06]"
            ]
          },
          "execution_count": 53,
          "metadata": {},
          "output_type": "execute_result"
        }
      ],
      "source": [
        "scheduler.get_last_lr()"
      ]
    },
    {
      "cell_type": "code",
      "execution_count": null,
      "metadata": {
        "colab": {
          "base_uri": "https://localhost:8080/"
        },
        "id": "kuuuXjtcftH6",
        "outputId": "1f554686-7706-41ac-976a-79b9a5c85f44"
      },
      "outputs": [
        {
          "name": "stdout",
          "output_type": "stream",
          "text": [
            "0.8268229169771075\n"
          ]
        }
      ],
      "source": [
        "print(train_acc)"
      ]
    },
    {
      "cell_type": "code",
      "execution_count": null,
      "metadata": {
        "colab": {
          "base_uri": "https://localhost:8080/",
          "height": 472
        },
        "id": "VAZyuRRMPYQ2",
        "outputId": "7584c3d1-b376-430b-c39d-cb1e4d69a4f0"
      },
      "outputs": [
        {
          "data": {
            "image/png": "[encoded data removed]",
            "text/plain": [
              "<Figure size 640x480 with 1 Axes>"
            ]
          },
          "metadata": {},
          "output_type": "display_data"
        }
      ],
      "source": [
        "plt.plot(total_acc, color='blue')\n",
        "plt.ylabel('Accuracy')\n",
        "plt.xlabel('Runs->')\n",
        "plt.title(\"Total Train Accuracy over time\");"
      ]
    },
    {
      "cell_type": "code",
      "execution_count": null,
      "metadata": {
        "colab": {
          "base_uri": "https://localhost:8080/",
          "height": 472
        },
        "id": "_eMzxdQwPZPu",
        "outputId": "f75a8ccc-809b-4032-a61e-64b74cf4ba3b"
      },
      "outputs": [
        {
          "data": {
            "image/png": "[encoded data removed]",
            "text/plain": [
              "<Figure size 640x480 with 1 Axes>"
            ]
          },
          "metadata": {},
          "output_type": "display_data"
        }
      ],
      "source": [
        "plt.plot(total_loss, color='red')\n",
        "plt.ylabel('Loss')\n",
        "plt.xlabel('Runs->')\n",
        "plt.title(\"Total Train Loss over time\");"
      ]
    },
    {
      "cell_type": "code",
      "execution_count": null,
      "metadata": {
        "id": "_IaYHoq6P3k6"
      },
      "outputs": [],
      "source": [
        "def get_answer(question, context):\n",
        "    inputs = tokenizerFast.encode_plus(question, context, return_tensors='pt').to(device)\n",
        "    with torch.no_grad():\n",
        "        output_start, output_end = model(**inputs)\n",
        "\n",
        "        answer_start = torch.argmax(output_start)\n",
        "        answer_end = torch.argmax(output_end)\n",
        "\n",
        "        answer = tokenizerFast.convert_tokens_to_string(tokenizerFast.convert_ids_to_tokens(inputs['input_ids'][0][answer_start:answer_end]))\n",
        "\n",
        "        return(answer)"
      ]
    },
    {
      "cell_type": "code",
      "execution_count": null,
      "metadata": {
        "colab": {
          "base_uri": "https://localhost:8080/"
        },
        "id": "FOdm7O7SP9Nq",
        "outputId": "1c185c04-9d51-479a-c0a5-4c00ab0afb1d"
      },
      "outputs": [
        {
          "name": "stdout",
          "output_type": "stream",
          "text": [
            "Context: the normans (norman: nourmands; french: normands; latin: normanni) were the people who in the 10th and 11th centuries gave their name to normandy, a region in france. they were descended from norse (\"norman\" comes from \"norseman\") raiders and pirates from denmark, iceland and norway who, under their leader rollo, agreed to swear fealty to king charles iii of west francia. through generations of assimilation and mixing with the native frankish and roman-gaulish populations, their descendants would gradually merge with the carolingian-based cultures of west francia. the distinct cultural and ethnic identity of the normans emerged initially in the first half of the 10th century, and it continued to evolve over the succeeding centuries.\n",
            "Question: in what country is normandy located?\n",
            "Expected Answer: {'text': 'france', 'answer_start': 159, 'answer_end': 165}\n",
            "Predicted Answer: nourmands ; french : normands ; latin : normanni ) were the people who in the 10th and 11th centuries gave their name to normandy, a region in france\n"
          ]
        }
      ],
      "source": [
        "test_rec = 0\n",
        "\n",
        "print(f\"Context: {valid_contexts[test_rec]}\")\n",
        "print(f\"Question: {valid_questions[test_rec]}\")\n",
        "print(f\"Expected Answer: {valid_answers[test_rec]}\")\n",
        "\n",
        "context = valid_contexts[test_rec]\n",
        "question = valid_questions[test_rec]\n",
        "\n",
        "print(f\"Predicted Answer: {get_answer(question, context)}\")"
      ]
    },
    {
      "cell_type": "code",
      "execution_count": null,
      "metadata": {
        "colab": {
          "base_uri": "https://localhost:8080/"
        },
        "id": "Sx6eFMHHP-6T",
        "outputId": "f4ea30a1-7ffd-4d26-9af9-66cccc4505df"
      },
      "outputs": [
        {
          "name": "stdout",
          "output_type": "stream",
          "text": [
            "Context: the normans (norman: nourmands; french: normands; latin: normanni) were the people who in the 10th and 11th centuries gave their name to normandy, a region in france. they were descended from norse (\"norman\" comes from \"norseman\") raiders and pirates from denmark, iceland and norway who, under their leader rollo, agreed to swear fealty to king charles iii of west francia. through generations of assimilation and mixing with the native frankish and roman-gaulish populations, their descendants would gradually merge with the carolingian-based cultures of west francia. the distinct cultural and ethnic identity of the normans emerged initially in the first half of the 10th century, and it continued to evolve over the succeeding centuries.\n",
            "Question: who was the norse leader?\n",
            "Expected Answer: {'text': 'rollo', 'answer_start': 308, 'answer_end': 313}\n",
            "Predicted Answer: nourmands ; french : normands ; latin : normanni ) were the people who in the 10th and 11th centuries gave their name to normandy, a region in france\n"
          ]
        }
      ],
      "source": [
        "test_rec = 15\n",
        "\n",
        "print(f\"Context: {valid_contexts[test_rec]}\")\n",
        "print(f\"Question: {valid_questions[test_rec]}\")\n",
        "print(f\"Expected Answer: {valid_answers[test_rec]}\")\n",
        "\n",
        "context = valid_contexts[test_rec]\n",
        "question = valid_questions[test_rec]\n",
        "\n",
        "print(f\"Predicted Answer: {get_answer(question, context)}\")"
      ]
    },
    {
      "cell_type": "code",
      "execution_count": null,
      "metadata": {
        "colab": {
          "base_uri": "https://localhost:8080/"
        },
        "id": "MLMMxYTqQDQz",
        "outputId": "407999b9-07f2-495b-cf6a-b6821f71c01a"
      },
      "outputs": [
        {
          "name": "stdout",
          "output_type": "stream",
          "text": [
            "Context: the norman dynasty had a major political, cultural and military impact on medieval europe and even the near east. the normans were famed for their martial spirit and eventually for their christian piety, becoming exponents of the catholic orthodoxy into which they assimilated. they adopted the gallo-romance language of the frankish land they settled, their dialect becoming known as norman, normaund or norman french, an important literary language. the duchy of normandy, which they formed by treaty with the french crown, was a great fief of medieval france, and under richard i of normandy was forged into a cohesive and formidable principality in feudal tenure. the normans are noted both for their culture, such as their unique romanesque architecture and musical traditions, and for their significant military accomplishments and innovations. norman adventurers founded the kingdom of sicily under roger ii after conquering southern italy on the saracens and byzantines, and an expedition on behalf of their duke, william the conqueror, led to the norman conquest of england at the battle of hastings in 1066. norman cultural and military influence spread from these new european centres to the crusader states of the near east, where their prince bohemond i founded the principality of antioch in the levant, to scotland and wales in great britain, to ireland, and to the coasts of north africa and the canary islands.\n",
            "Question: what religion were the normans\n",
            "Expected Answer: {'text': 'catholic', 'answer_start': 230, 'answer_end': 238}\n",
            "Predicted Answer: \n"
          ]
        }
      ],
      "source": [
        "test_rec = 28\n",
        "\n",
        "print(f\"Context: {valid_contexts[test_rec]}\")\n",
        "print(f\"Question: {valid_questions[test_rec]}\")\n",
        "print(f\"Expected Answer: {valid_answers[test_rec]}\")\n",
        "\n",
        "context = valid_contexts[test_rec]\n",
        "question = valid_questions[test_rec]\n",
        "\n",
        "print(f\"Predicted Answer: {get_answer(question, context)}\")"
      ]
    },
    {
      "cell_type": "code",
      "execution_count": null,
      "metadata": {
        "colab": {
          "base_uri": "https://localhost:8080/"
        },
        "id": "yKUxRysGQFpF",
        "outputId": "ab4964f2-08e5-48aa-8bba-3801ff9796c5"
      },
      "outputs": [
        {
          "name": "stdout",
          "output_type": "stream",
          "text": [
            "Context: as of august 2010, victoria had 1,548 public schools, 489 catholic schools and 214 independent schools. just under 540,800 students were enrolled in public schools, and just over 311,800 in private schools. over 61 per cent of private students attend catholic schools. more than 462,000 students were enrolled in primary schools and more than 390,000 in secondary schools. retention rates for the final two years of secondary school were 77 per cent for public school students and 90 per cent for private school students. victoria has about 63,519 full-time teachers.\n",
            "Question: how many full time teachers does victoria have?\n",
            "Expected Answer: {'text': '63,519', 'answer_start': 541, 'answer_end': 547}\n",
            "Predicted Answer: 63, 519 full - time teachers\n"
          ]
        }
      ],
      "source": [
        "test_rec = 2000\n",
        "\n",
        "print(f\"Context: {valid_contexts[test_rec]}\")\n",
        "print(f\"Question: {valid_questions[test_rec]}\")\n",
        "print(f\"Expected Answer: {valid_answers[test_rec]}\")\n",
        "\n",
        "context = valid_contexts[test_rec]\n",
        "question = valid_questions[test_rec]\n",
        "\n",
        "print(f\"Predicted Answer: {get_answer(question, context)}\")"
      ]
    },
    {
      "cell_type": "code",
      "execution_count": null,
      "metadata": {
        "colab": {
          "base_uri": "https://localhost:8080/"
        },
        "id": "nJZldSLQQJAk",
        "outputId": "5cf33ed7-c516-4e61-da8a-3f2f8ab072d2"
      },
      "outputs": [
        {
          "name": "stdout",
          "output_type": "stream",
          "text": [
            "Context: oxygen is more soluble in water than nitrogen is. water in equilibrium with air contains approximately 1 molecule of dissolved o\n",
            "2 for every 2 molecules of n\n",
            "2, compared to an atmospheric ratio of approximately 1:4. the solubility of oxygen in water is temperature-dependent, and about twice as much (14.6 mg·l−1) dissolves at 0 °c than at 20 °c (7.6 mg·l−1). at 25 °c and 1 standard atmosphere (101.3 kpa) of air, freshwater contains about 6.04 milliliters (ml) of oxygen per liter, whereas seawater contains about 4.95 ml per liter. at 5 °c the solubility increases to 9.0 ml (50% more than at 25 °c) per liter for water and 7.2 ml (45% more) per liter for sea water.\n",
            "Question: how much oxygen is found is a liter of fresh water under normal conditions?\n",
            "Expected Answer: {'text': '6.04 milliliters', 'answer_start': 441, 'answer_end': 457}\n",
            "Predicted Answer: nitrogen is\n"
          ]
        }
      ],
      "source": [
        "test_rec = 4000\n",
        "\n",
        "print(f\"Context: {valid_contexts[test_rec]}\")\n",
        "print(f\"Question: {valid_questions[test_rec]}\")\n",
        "print(f\"Expected Answer: {valid_answers[test_rec]}\")\n",
        "\n",
        "context = valid_contexts[test_rec]\n",
        "question = valid_questions[test_rec]\n",
        "\n",
        "print(f\"Predicted Answer: {get_answer(question, context)}\")"
      ]
    },
    {
      "cell_type": "code",
      "execution_count": null,
      "metadata": {
        "colab": {
          "base_uri": "https://localhost:8080/"
        },
        "id": "zKKKlWTTS5Ks",
        "outputId": "20e3a488-2014-42d4-e5b2-60fc0f19f60b"
      },
      "outputs": [
        {
          "name": "stdout",
          "output_type": "stream",
          "text": [
            "Predicted Answer: \n"
          ]
        }
      ],
      "source": [
        "context = \"I am Utsav Patel. I just completed my fine-tuning of the BERT base uncased model. I am glad that it works after 5 attempts.\"\n",
        "question = \"How many attempts did it take to fine-tune ?\"\n",
        "print(f\"Predicted Answer: {get_answer(question, context)}\")"
      ]
    },
    {
      "cell_type": "code",
      "execution_count": null,
      "metadata": {
        "id": "iangeHojQKXs"
      },
      "outputs": [],
      "source": [
        "torch.save(model.state_dict(), '/content/drive/MyDrive/OELP_BERT/BERT_SQuad/OELP_Filter_13E.hdf5')"
      ]
    },
    {
      "cell_type": "code",
      "execution_count": null,
      "metadata": {
        "id": "840QI1g0Y_Ui"
      },
      "outputs": [],
      "source": [
        "from google.colab import output\n",
        "output.eval_js('new Audio(\"https://upload.wikimedia.org/wikipedia/commons/0/05/Beep-09.ogg\").play()')"
      ]
    }
  ],
  "metadata": {
    "accelerator": "GPU",
    "colab": {
      "provenance": []
    },
    "kernelspec": {
      "display_name": "Python 3",
      "name": "python3"
    },
    "language_info": {
      "name": "python"
    },
    "widgets": {
      "application/vnd.jupyter.widget-state+json": {
        "009171bf535145cab7e2d2c65f8345c7": {
          "model_module": "@jupyter-widgets/base",
          "model_module_version": "1.2.0",
          "model_name": "LayoutModel",
          "state": {
            "_model_module": "@jupyter-widgets/base",
            "_model_module_version": "1.2.0",
            "_model_name": "LayoutModel",
            "_view_count": null,
            "_view_module": "@jupyter-widgets/base",
            "_view_module_version": "1.2.0",
            "_view_name": "LayoutView",
            "align_content": null,
            "align_items": null,
            "align_self": null,
            "border": null,
            "bottom": null,
            "display": null,
            "flex": null,
            "flex_flow": null,
            "grid_area": null,
            "grid_auto_columns": null,
            "grid_auto_flow": null,
            "grid_auto_rows": null,
            "grid_column": null,
            "grid_gap": null,
            "grid_row": null,
            "grid_template_areas": null,
            "grid_template_columns": null,
            "grid_template_rows": null,
            "height": null,
            "justify_content": null,
            "justify_items": null,
            "left": null,
            "margin": null,
            "max_height": null,
            "max_width": null,
            "min_height": null,
            "min_width": null,
            "object_fit": null,
            "object_position": null,
            "order": null,
            "overflow": null,
            "overflow_x": null,
            "overflow_y": null,
            "padding": null,
            "right": null,
            "top": null,
            "visibility": null,
            "width": null
          }
        },
        "028d33780a654f57a9e63574dd632211": {
          "model_module": "@jupyter-widgets/controls",
          "model_module_version": "1.5.0",
          "model_name": "HBoxModel",
          "state": {
            "_dom_classes": [],
            "_model_module": "@jupyter-widgets/controls",
            "_model_module_version": "1.5.0",
            "_model_name": "HBoxModel",
            "_view_count": null,
            "_view_module": "@jupyter-widgets/controls",
            "_view_module_version": "1.5.0",
            "_view_name": "HBoxView",
            "box_style": "",
            "children": [
              "IPY_MODEL_9ce63a6e3f3541b6b6d0733c60ee3b41",
              "IPY_MODEL_2a656b10f97941b598e64e58835c5976",
              "IPY_MODEL_e63fedd0f44c433b8f2b2e6d795b2565"
            ],
            "layout": "IPY_MODEL_e0a32c84a8594095920df28639142540"
          }
        },
        "04826fef599b4bad863bcbb274f3c68a": {
          "model_module": "@jupyter-widgets/controls",
          "model_module_version": "1.5.0",
          "model_name": "DescriptionStyleModel",
          "state": {
            "_model_module": "@jupyter-widgets/controls",
            "_model_module_version": "1.5.0",
            "_model_name": "DescriptionStyleModel",
            "_view_count": null,
            "_view_module": "@jupyter-widgets/base",
            "_view_module_version": "1.2.0",
            "_view_name": "StyleView",
            "description_width": ""
          }
        },
        "056ad562342e4bfb88c014807a53c901": {
          "model_module": "@jupyter-widgets/base",
          "model_module_version": "1.2.0",
          "model_name": "LayoutModel",
          "state": {
            "_model_module": "@jupyter-widgets/base",
            "_model_module_version": "1.2.0",
            "_model_name": "LayoutModel",
            "_view_count": null,
            "_view_module": "@jupyter-widgets/base",
            "_view_module_version": "1.2.0",
            "_view_name": "LayoutView",
            "align_content": null,
            "align_items": null,
            "align_self": null,
            "border": null,
            "bottom": null,
            "display": null,
            "flex": null,
            "flex_flow": null,
            "grid_area": null,
            "grid_auto_columns": null,
            "grid_auto_flow": null,
            "grid_auto_rows": null,
            "grid_column": null,
            "grid_gap": null,
            "grid_row": null,
            "grid_template_areas": null,
            "grid_template_columns": null,
            "grid_template_rows": null,
            "height": null,
            "justify_content": null,
            "justify_items": null,
            "left": null,
            "margin": null,
            "max_height": null,
            "max_width": null,
            "min_height": null,
            "min_width": null,
            "object_fit": null,
            "object_position": null,
            "order": null,
            "overflow": null,
            "overflow_x": null,
            "overflow_y": null,
            "padding": null,
            "right": null,
            "top": null,
            "visibility": null,
            "width": null
          }
        },
        "0be1cc1467b3416bb97bbdb4ef02170b": {
          "model_module": "@jupyter-widgets/controls",
          "model_module_version": "1.5.0",
          "model_name": "ProgressStyleModel",
          "state": {
            "_model_module": "@jupyter-widgets/controls",
            "_model_module_version": "1.5.0",
            "_model_name": "ProgressStyleModel",
            "_view_count": null,
            "_view_module": "@jupyter-widgets/base",
            "_view_module_version": "1.2.0",
            "_view_name": "StyleView",
            "bar_color": null,
            "description_width": ""
          }
        },
        "0ca4b8ce498e4547bad0205ff51eb6b9": {
          "model_module": "@jupyter-widgets/base",
          "model_module_version": "1.2.0",
          "model_name": "LayoutModel",
          "state": {
            "_model_module": "@jupyter-widgets/base",
            "_model_module_version": "1.2.0",
            "_model_name": "LayoutModel",
            "_view_count": null,
            "_view_module": "@jupyter-widgets/base",
            "_view_module_version": "1.2.0",
            "_view_name": "LayoutView",
            "align_content": null,
            "align_items": null,
            "align_self": null,
            "border": null,
            "bottom": null,
            "display": null,
            "flex": null,
            "flex_flow": null,
            "grid_area": null,
            "grid_auto_columns": null,
            "grid_auto_flow": null,
            "grid_auto_rows": null,
            "grid_column": null,
            "grid_gap": null,
            "grid_row": null,
            "grid_template_areas": null,
            "grid_template_columns": null,
            "grid_template_rows": null,
            "height": null,
            "justify_content": null,
            "justify_items": null,
            "left": null,
            "margin": null,
            "max_height": null,
            "max_width": null,
            "min_height": null,
            "min_width": null,
            "object_fit": null,
            "object_position": null,
            "order": null,
            "overflow": null,
            "overflow_x": null,
            "overflow_y": null,
            "padding": null,
            "right": null,
            "top": null,
            "visibility": null,
            "width": null
          }
        },
        "0cd6a1d15a354915a6e8a2826607bcfa": {
          "model_module": "@jupyter-widgets/base",
          "model_module_version": "1.2.0",
          "model_name": "LayoutModel",
          "state": {
            "_model_module": "@jupyter-widgets/base",
            "_model_module_version": "1.2.0",
            "_model_name": "LayoutModel",
            "_view_count": null,
            "_view_module": "@jupyter-widgets/base",
            "_view_module_version": "1.2.0",
            "_view_name": "LayoutView",
            "align_content": null,
            "align_items": null,
            "align_self": null,
            "border": null,
            "bottom": null,
            "display": null,
            "flex": null,
            "flex_flow": null,
            "grid_area": null,
            "grid_auto_columns": null,
            "grid_auto_flow": null,
            "grid_auto_rows": null,
            "grid_column": null,
            "grid_gap": null,
            "grid_row": null,
            "grid_template_areas": null,
            "grid_template_columns": null,
            "grid_template_rows": null,
            "height": null,
            "justify_content": null,
            "justify_items": null,
            "left": null,
            "margin": null,
            "max_height": null,
            "max_width": null,
            "min_height": null,
            "min_width": null,
            "object_fit": null,
            "object_position": null,
            "order": null,
            "overflow": null,
            "overflow_x": null,
            "overflow_y": null,
            "padding": null,
            "right": null,
            "top": null,
            "visibility": null,
            "width": null
          }
        },
        "14f99b2b6728466382b77078948d5251": {
          "model_module": "@jupyter-widgets/controls",
          "model_module_version": "1.5.0",
          "model_name": "DescriptionStyleModel",
          "state": {
            "_model_module": "@jupyter-widgets/controls",
            "_model_module_version": "1.5.0",
            "_model_name": "DescriptionStyleModel",
            "_view_count": null,
            "_view_module": "@jupyter-widgets/base",
            "_view_module_version": "1.2.0",
            "_view_name": "StyleView",
            "description_width": ""
          }
        },
        "2419f31cd998447585da6a72b0dc948b": {
          "model_module": "@jupyter-widgets/controls",
          "model_module_version": "1.5.0",
          "model_name": "ProgressStyleModel",
          "state": {
            "_model_module": "@jupyter-widgets/controls",
            "_model_module_version": "1.5.0",
            "_model_name": "ProgressStyleModel",
            "_view_count": null,
            "_view_module": "@jupyter-widgets/base",
            "_view_module_version": "1.2.0",
            "_view_name": "StyleView",
            "bar_color": null,
            "description_width": ""
          }
        },
        "29c13644d50a43168af2e9595083b8ab": {
          "model_module": "@jupyter-widgets/controls",
          "model_module_version": "1.5.0",
          "model_name": "HTMLModel",
          "state": {
            "_dom_classes": [],
            "_model_module": "@jupyter-widgets/controls",
            "_model_module_version": "1.5.0",
            "_model_name": "HTMLModel",
            "_view_count": null,
            "_view_module": "@jupyter-widgets/controls",
            "_view_module_version": "1.5.0",
            "_view_name": "HTMLView",
            "description": "",
            "description_tooltip": null,
            "layout": "IPY_MODEL_8082ca95b90f452487f8342fc93931d7",
            "placeholder": "​",
            "style": "IPY_MODEL_04826fef599b4bad863bcbb274f3c68a",
            "value": " 232k/232k [00:00&lt;00:00, 5.18MB/s]"
          }
        },
        "2a656b10f97941b598e64e58835c5976": {
          "model_module": "@jupyter-widgets/controls",
          "model_module_version": "1.5.0",
          "model_name": "FloatProgressModel",
          "state": {
            "_dom_classes": [],
            "_model_module": "@jupyter-widgets/controls",
            "_model_module_version": "1.5.0",
            "_model_name": "FloatProgressModel",
            "_view_count": null,
            "_view_module": "@jupyter-widgets/controls",
            "_view_module_version": "1.5.0",
            "_view_name": "ProgressView",
            "bar_style": "success",
            "description": "",
            "description_tooltip": null,
            "layout": "IPY_MODEL_631fdd70d131484ca430989420ebc411",
            "max": 570,
            "min": 0,
            "orientation": "horizontal",
            "style": "IPY_MODEL_bd5ff9477bef4ae3a03d91a9d462d9ae",
            "value": 570
          }
        },
        "318e39a8beeb45e2851dfdd55a80accf": {
          "model_module": "@jupyter-widgets/base",
          "model_module_version": "1.2.0",
          "model_name": "LayoutModel",
          "state": {
            "_model_module": "@jupyter-widgets/base",
            "_model_module_version": "1.2.0",
            "_model_name": "LayoutModel",
            "_view_count": null,
            "_view_module": "@jupyter-widgets/base",
            "_view_module_version": "1.2.0",
            "_view_name": "LayoutView",
            "align_content": null,
            "align_items": null,
            "align_self": null,
            "border": null,
            "bottom": null,
            "display": null,
            "flex": null,
            "flex_flow": null,
            "grid_area": null,
            "grid_auto_columns": null,
            "grid_auto_flow": null,
            "grid_auto_rows": null,
            "grid_column": null,
            "grid_gap": null,
            "grid_row": null,
            "grid_template_areas": null,
            "grid_template_columns": null,
            "grid_template_rows": null,
            "height": null,
            "justify_content": null,
            "justify_items": null,
            "left": null,
            "margin": null,
            "max_height": null,
            "max_width": null,
            "min_height": null,
            "min_width": null,
            "object_fit": null,
            "object_position": null,
            "order": null,
            "overflow": null,
            "overflow_x": null,
            "overflow_y": null,
            "padding": null,
            "right": null,
            "top": null,
            "visibility": null,
            "width": null
          }
        },
        "33cf2c2931f9405b94d39b24c7ee505b": {
          "model_module": "@jupyter-widgets/base",
          "model_module_version": "1.2.0",
          "model_name": "LayoutModel",
          "state": {
            "_model_module": "@jupyter-widgets/base",
            "_model_module_version": "1.2.0",
            "_model_name": "LayoutModel",
            "_view_count": null,
            "_view_module": "@jupyter-widgets/base",
            "_view_module_version": "1.2.0",
            "_view_name": "LayoutView",
            "align_content": null,
            "align_items": null,
            "align_self": null,
            "border": null,
            "bottom": null,
            "display": null,
            "flex": null,
            "flex_flow": null,
            "grid_area": null,
            "grid_auto_columns": null,
            "grid_auto_flow": null,
            "grid_auto_rows": null,
            "grid_column": null,
            "grid_gap": null,
            "grid_row": null,
            "grid_template_areas": null,
            "grid_template_columns": null,
            "grid_template_rows": null,
            "height": null,
            "justify_content": null,
            "justify_items": null,
            "left": null,
            "margin": null,
            "max_height": null,
            "max_width": null,
            "min_height": null,
            "min_width": null,
            "object_fit": null,
            "object_position": null,
            "order": null,
            "overflow": null,
            "overflow_x": null,
            "overflow_y": null,
            "padding": null,
            "right": null,
            "top": null,
            "visibility": null,
            "width": null
          }
        },
        "3a8d31312948417ba46e9596c957e2c8": {
          "model_module": "@jupyter-widgets/controls",
          "model_module_version": "1.5.0",
          "model_name": "HTMLModel",
          "state": {
            "_dom_classes": [],
            "_model_module": "@jupyter-widgets/controls",
            "_model_module_version": "1.5.0",
            "_model_name": "HTMLModel",
            "_view_count": null,
            "_view_module": "@jupyter-widgets/controls",
            "_view_module_version": "1.5.0",
            "_view_name": "HTMLView",
            "description": "",
            "description_tooltip": null,
            "layout": "IPY_MODEL_64c63e7e60a249b48a6c989001d0b2be",
            "placeholder": "​",
            "style": "IPY_MODEL_f34633d126b74bad802f968b95ac0fdb",
            "value": " 466k/466k [00:00&lt;00:00, 15.1MB/s]"
          }
        },
        "413854b108b34422b5292bac731153d4": {
          "model_module": "@jupyter-widgets/controls",
          "model_module_version": "1.5.0",
          "model_name": "FloatProgressModel",
          "state": {
            "_dom_classes": [],
            "_model_module": "@jupyter-widgets/controls",
            "_model_module_version": "1.5.0",
            "_model_name": "FloatProgressModel",
            "_view_count": null,
            "_view_module": "@jupyter-widgets/controls",
            "_view_module_version": "1.5.0",
            "_view_name": "ProgressView",
            "bar_style": "success",
            "description": "",
            "description_tooltip": null,
            "layout": "IPY_MODEL_f1e0ba88819f42219626ca5980b07e8b",
            "max": 466062,
            "min": 0,
            "orientation": "horizontal",
            "style": "IPY_MODEL_0be1cc1467b3416bb97bbdb4ef02170b",
            "value": 466062
          }
        },
        "4a0440111ae5492c96b052399dc2e485": {
          "model_module": "@jupyter-widgets/base",
          "model_module_version": "1.2.0",
          "model_name": "LayoutModel",
          "state": {
            "_model_module": "@jupyter-widgets/base",
            "_model_module_version": "1.2.0",
            "_model_name": "LayoutModel",
            "_view_count": null,
            "_view_module": "@jupyter-widgets/base",
            "_view_module_version": "1.2.0",
            "_view_name": "LayoutView",
            "align_content": null,
            "align_items": null,
            "align_self": null,
            "border": null,
            "bottom": null,
            "display": null,
            "flex": null,
            "flex_flow": null,
            "grid_area": null,
            "grid_auto_columns": null,
            "grid_auto_flow": null,
            "grid_auto_rows": null,
            "grid_column": null,
            "grid_gap": null,
            "grid_row": null,
            "grid_template_areas": null,
            "grid_template_columns": null,
            "grid_template_rows": null,
            "height": null,
            "justify_content": null,
            "justify_items": null,
            "left": null,
            "margin": null,
            "max_height": null,
            "max_width": null,
            "min_height": null,
            "min_width": null,
            "object_fit": null,
            "object_position": null,
            "order": null,
            "overflow": null,
            "overflow_x": null,
            "overflow_y": null,
            "padding": null,
            "right": null,
            "top": null,
            "visibility": null,
            "width": null
          }
        },
        "4dac79cda2ee4792b86893f1855bc012": {
          "model_module": "@jupyter-widgets/base",
          "model_module_version": "1.2.0",
          "model_name": "LayoutModel",
          "state": {
            "_model_module": "@jupyter-widgets/base",
            "_model_module_version": "1.2.0",
            "_model_name": "LayoutModel",
            "_view_count": null,
            "_view_module": "@jupyter-widgets/base",
            "_view_module_version": "1.2.0",
            "_view_name": "LayoutView",
            "align_content": null,
            "align_items": null,
            "align_self": null,
            "border": null,
            "bottom": null,
            "display": null,
            "flex": null,
            "flex_flow": null,
            "grid_area": null,
            "grid_auto_columns": null,
            "grid_auto_flow": null,
            "grid_auto_rows": null,
            "grid_column": null,
            "grid_gap": null,
            "grid_row": null,
            "grid_template_areas": null,
            "grid_template_columns": null,
            "grid_template_rows": null,
            "height": null,
            "justify_content": null,
            "justify_items": null,
            "left": null,
            "margin": null,
            "max_height": null,
            "max_width": null,
            "min_height": null,
            "min_width": null,
            "object_fit": null,
            "object_position": null,
            "order": null,
            "overflow": null,
            "overflow_x": null,
            "overflow_y": null,
            "padding": null,
            "right": null,
            "top": null,
            "visibility": null,
            "width": null
          }
        },
        "55efe5e8c52c4f70ae2c48b250364fe4": {
          "model_module": "@jupyter-widgets/controls",
          "model_module_version": "1.5.0",
          "model_name": "HTMLModel",
          "state": {
            "_dom_classes": [],
            "_model_module": "@jupyter-widgets/controls",
            "_model_module_version": "1.5.0",
            "_model_name": "HTMLModel",
            "_view_count": null,
            "_view_module": "@jupyter-widgets/controls",
            "_view_module_version": "1.5.0",
            "_view_name": "HTMLView",
            "description": "",
            "description_tooltip": null,
            "layout": "IPY_MODEL_e2902720f48a44e8ae94a7d0ebd678d5",
            "placeholder": "​",
            "style": "IPY_MODEL_6ae1963fb75540e0b3ef033cc0d85081",
            "value": "model.safetensors: 100%"
          }
        },
        "59d5f8f491c84ecc9edc30a41e984144": {
          "model_module": "@jupyter-widgets/base",
          "model_module_version": "1.2.0",
          "model_name": "LayoutModel",
          "state": {
            "_model_module": "@jupyter-widgets/base",
            "_model_module_version": "1.2.0",
            "_model_name": "LayoutModel",
            "_view_count": null,
            "_view_module": "@jupyter-widgets/base",
            "_view_module_version": "1.2.0",
            "_view_name": "LayoutView",
            "align_content": null,
            "align_items": null,
            "align_self": null,
            "border": null,
            "bottom": null,
            "display": null,
            "flex": null,
            "flex_flow": null,
            "grid_area": null,
            "grid_auto_columns": null,
            "grid_auto_flow": null,
            "grid_auto_rows": null,
            "grid_column": null,
            "grid_gap": null,
            "grid_row": null,
            "grid_template_areas": null,
            "grid_template_columns": null,
            "grid_template_rows": null,
            "height": null,
            "justify_content": null,
            "justify_items": null,
            "left": null,
            "margin": null,
            "max_height": null,
            "max_width": null,
            "min_height": null,
            "min_width": null,
            "object_fit": null,
            "object_position": null,
            "order": null,
            "overflow": null,
            "overflow_x": null,
            "overflow_y": null,
            "padding": null,
            "right": null,
            "top": null,
            "visibility": null,
            "width": null
          }
        },
        "5d8097b2ce144be0a56f79514c5b431c": {
          "model_module": "@jupyter-widgets/controls",
          "model_module_version": "1.5.0",
          "model_name": "HTMLModel",
          "state": {
            "_dom_classes": [],
            "_model_module": "@jupyter-widgets/controls",
            "_model_module_version": "1.5.0",
            "_model_name": "HTMLModel",
            "_view_count": null,
            "_view_module": "@jupyter-widgets/controls",
            "_view_module_version": "1.5.0",
            "_view_name": "HTMLView",
            "description": "",
            "description_tooltip": null,
            "layout": "IPY_MODEL_0ca4b8ce498e4547bad0205ff51eb6b9",
            "placeholder": "​",
            "style": "IPY_MODEL_e5b3d0dd215848adaa54d79eda17657c",
            "value": " 28.0/28.0 [00:00&lt;00:00, 1.31kB/s]"
          }
        },
        "613483e1a23d4b7bab0b2c02f3258384": {
          "model_module": "@jupyter-widgets/base",
          "model_module_version": "1.2.0",
          "model_name": "LayoutModel",
          "state": {
            "_model_module": "@jupyter-widgets/base",
            "_model_module_version": "1.2.0",
            "_model_name": "LayoutModel",
            "_view_count": null,
            "_view_module": "@jupyter-widgets/base",
            "_view_module_version": "1.2.0",
            "_view_name": "LayoutView",
            "align_content": null,
            "align_items": null,
            "align_self": null,
            "border": null,
            "bottom": null,
            "display": null,
            "flex": null,
            "flex_flow": null,
            "grid_area": null,
            "grid_auto_columns": null,
            "grid_auto_flow": null,
            "grid_auto_rows": null,
            "grid_column": null,
            "grid_gap": null,
            "grid_row": null,
            "grid_template_areas": null,
            "grid_template_columns": null,
            "grid_template_rows": null,
            "height": null,
            "justify_content": null,
            "justify_items": null,
            "left": null,
            "margin": null,
            "max_height": null,
            "max_width": null,
            "min_height": null,
            "min_width": null,
            "object_fit": null,
            "object_position": null,
            "order": null,
            "overflow": null,
            "overflow_x": null,
            "overflow_y": null,
            "padding": null,
            "right": null,
            "top": null,
            "visibility": null,
            "width": null
          }
        },
        "631fdd70d131484ca430989420ebc411": {
          "model_module": "@jupyter-widgets/base",
          "model_module_version": "1.2.0",
          "model_name": "LayoutModel",
          "state": {
            "_model_module": "@jupyter-widgets/base",
            "_model_module_version": "1.2.0",
            "_model_name": "LayoutModel",
            "_view_count": null,
            "_view_module": "@jupyter-widgets/base",
            "_view_module_version": "1.2.0",
            "_view_name": "LayoutView",
            "align_content": null,
            "align_items": null,
            "align_self": null,
            "border": null,
            "bottom": null,
            "display": null,
            "flex": null,
            "flex_flow": null,
            "grid_area": null,
            "grid_auto_columns": null,
            "grid_auto_flow": null,
            "grid_auto_rows": null,
            "grid_column": null,
            "grid_gap": null,
            "grid_row": null,
            "grid_template_areas": null,
            "grid_template_columns": null,
            "grid_template_rows": null,
            "height": null,
            "justify_content": null,
            "justify_items": null,
            "left": null,
            "margin": null,
            "max_height": null,
            "max_width": null,
            "min_height": null,
            "min_width": null,
            "object_fit": null,
            "object_position": null,
            "order": null,
            "overflow": null,
            "overflow_x": null,
            "overflow_y": null,
            "padding": null,
            "right": null,
            "top": null,
            "visibility": null,
            "width": null
          }
        },
        "64c63e7e60a249b48a6c989001d0b2be": {
          "model_module": "@jupyter-widgets/base",
          "model_module_version": "1.2.0",
          "model_name": "LayoutModel",
          "state": {
            "_model_module": "@jupyter-widgets/base",
            "_model_module_version": "1.2.0",
            "_model_name": "LayoutModel",
            "_view_count": null,
            "_view_module": "@jupyter-widgets/base",
            "_view_module_version": "1.2.0",
            "_view_name": "LayoutView",
            "align_content": null,
            "align_items": null,
            "align_self": null,
            "border": null,
            "bottom": null,
            "display": null,
            "flex": null,
            "flex_flow": null,
            "grid_area": null,
            "grid_auto_columns": null,
            "grid_auto_flow": null,
            "grid_auto_rows": null,
            "grid_column": null,
            "grid_gap": null,
            "grid_row": null,
            "grid_template_areas": null,
            "grid_template_columns": null,
            "grid_template_rows": null,
            "height": null,
            "justify_content": null,
            "justify_items": null,
            "left": null,
            "margin": null,
            "max_height": null,
            "max_width": null,
            "min_height": null,
            "min_width": null,
            "object_fit": null,
            "object_position": null,
            "order": null,
            "overflow": null,
            "overflow_x": null,
            "overflow_y": null,
            "padding": null,
            "right": null,
            "top": null,
            "visibility": null,
            "width": null
          }
        },
        "65b4aa807dd940d2b31080e885a67216": {
          "model_module": "@jupyter-widgets/controls",
          "model_module_version": "1.5.0",
          "model_name": "FloatProgressModel",
          "state": {
            "_dom_classes": [],
            "_model_module": "@jupyter-widgets/controls",
            "_model_module_version": "1.5.0",
            "_model_name": "FloatProgressModel",
            "_view_count": null,
            "_view_module": "@jupyter-widgets/controls",
            "_view_module_version": "1.5.0",
            "_view_name": "ProgressView",
            "bar_style": "success",
            "description": "",
            "description_tooltip": null,
            "layout": "IPY_MODEL_613483e1a23d4b7bab0b2c02f3258384",
            "max": 440449768,
            "min": 0,
            "orientation": "horizontal",
            "style": "IPY_MODEL_e0e431100762406388991dd12143528a",
            "value": 440449768
          }
        },
        "6aa5860922b448b48e8542c4679c5c22": {
          "model_module": "@jupyter-widgets/controls",
          "model_module_version": "1.5.0",
          "model_name": "DescriptionStyleModel",
          "state": {
            "_model_module": "@jupyter-widgets/controls",
            "_model_module_version": "1.5.0",
            "_model_name": "DescriptionStyleModel",
            "_view_count": null,
            "_view_module": "@jupyter-widgets/base",
            "_view_module_version": "1.2.0",
            "_view_name": "StyleView",
            "description_width": ""
          }
        },
        "6ae1963fb75540e0b3ef033cc0d85081": {
          "model_module": "@jupyter-widgets/controls",
          "model_module_version": "1.5.0",
          "model_name": "DescriptionStyleModel",
          "state": {
            "_model_module": "@jupyter-widgets/controls",
            "_model_module_version": "1.5.0",
            "_model_name": "DescriptionStyleModel",
            "_view_count": null,
            "_view_module": "@jupyter-widgets/base",
            "_view_module_version": "1.2.0",
            "_view_name": "StyleView",
            "description_width": ""
          }
        },
        "7239b7bd876f4cd79f3def8c644cfdec": {
          "model_module": "@jupyter-widgets/controls",
          "model_module_version": "1.5.0",
          "model_name": "HBoxModel",
          "state": {
            "_dom_classes": [],
            "_model_module": "@jupyter-widgets/controls",
            "_model_module_version": "1.5.0",
            "_model_name": "HBoxModel",
            "_view_count": null,
            "_view_module": "@jupyter-widgets/controls",
            "_view_module_version": "1.5.0",
            "_view_name": "HBoxView",
            "box_style": "",
            "children": [
              "IPY_MODEL_fe2d517394344ac6992e63ba1795ebd0",
              "IPY_MODEL_fd7269acfa6b48b78517f4177f2cfd6f",
              "IPY_MODEL_29c13644d50a43168af2e9595083b8ab"
            ],
            "layout": "IPY_MODEL_59d5f8f491c84ecc9edc30a41e984144"
          }
        },
        "7385490a1dc142bca9e4d7892a38e00e": {
          "model_module": "@jupyter-widgets/controls",
          "model_module_version": "1.5.0",
          "model_name": "HTMLModel",
          "state": {
            "_dom_classes": [],
            "_model_module": "@jupyter-widgets/controls",
            "_model_module_version": "1.5.0",
            "_model_name": "HTMLModel",
            "_view_count": null,
            "_view_module": "@jupyter-widgets/controls",
            "_view_module_version": "1.5.0",
            "_view_name": "HTMLView",
            "description": "",
            "description_tooltip": null,
            "layout": "IPY_MODEL_921fcde4ec2b49f78ebc16cd9bde9584",
            "placeholder": "​",
            "style": "IPY_MODEL_c91f6ed74fd44f0abc4a0e49b25f6d92",
            "value": "tokenizer_config.json: 100%"
          }
        },
        "78ba8dd56062492b860cf533902333c6": {
          "model_module": "@jupyter-widgets/controls",
          "model_module_version": "1.5.0",
          "model_name": "HTMLModel",
          "state": {
            "_dom_classes": [],
            "_model_module": "@jupyter-widgets/controls",
            "_model_module_version": "1.5.0",
            "_model_name": "HTMLModel",
            "_view_count": null,
            "_view_module": "@jupyter-widgets/controls",
            "_view_module_version": "1.5.0",
            "_view_name": "HTMLView",
            "description": "",
            "description_tooltip": null,
            "layout": "IPY_MODEL_8f25558f0efe48988367d94dabd25395",
            "placeholder": "​",
            "style": "IPY_MODEL_14f99b2b6728466382b77078948d5251",
            "value": "tokenizer.json: 100%"
          }
        },
        "7940511267ea4bebaa4085d865895dcf": {
          "model_module": "@jupyter-widgets/base",
          "model_module_version": "1.2.0",
          "model_name": "LayoutModel",
          "state": {
            "_model_module": "@jupyter-widgets/base",
            "_model_module_version": "1.2.0",
            "_model_name": "LayoutModel",
            "_view_count": null,
            "_view_module": "@jupyter-widgets/base",
            "_view_module_version": "1.2.0",
            "_view_name": "LayoutView",
            "align_content": null,
            "align_items": null,
            "align_self": null,
            "border": null,
            "bottom": null,
            "display": null,
            "flex": null,
            "flex_flow": null,
            "grid_area": null,
            "grid_auto_columns": null,
            "grid_auto_flow": null,
            "grid_auto_rows": null,
            "grid_column": null,
            "grid_gap": null,
            "grid_row": null,
            "grid_template_areas": null,
            "grid_template_columns": null,
            "grid_template_rows": null,
            "height": null,
            "justify_content": null,
            "justify_items": null,
            "left": null,
            "margin": null,
            "max_height": null,
            "max_width": null,
            "min_height": null,
            "min_width": null,
            "object_fit": null,
            "object_position": null,
            "order": null,
            "overflow": null,
            "overflow_x": null,
            "overflow_y": null,
            "padding": null,
            "right": null,
            "top": null,
            "visibility": null,
            "width": null
          }
        },
        "79e4e3e551c34c10a5abc7d9f2706e9f": {
          "model_module": "@jupyter-widgets/controls",
          "model_module_version": "1.5.0",
          "model_name": "ProgressStyleModel",
          "state": {
            "_model_module": "@jupyter-widgets/controls",
            "_model_module_version": "1.5.0",
            "_model_name": "ProgressStyleModel",
            "_view_count": null,
            "_view_module": "@jupyter-widgets/base",
            "_view_module_version": "1.2.0",
            "_view_name": "StyleView",
            "bar_color": null,
            "description_width": ""
          }
        },
        "7f7285825ccd4b91a30a6317fad19e07": {
          "model_module": "@jupyter-widgets/controls",
          "model_module_version": "1.5.0",
          "model_name": "DescriptionStyleModel",
          "state": {
            "_model_module": "@jupyter-widgets/controls",
            "_model_module_version": "1.5.0",
            "_model_name": "DescriptionStyleModel",
            "_view_count": null,
            "_view_module": "@jupyter-widgets/base",
            "_view_module_version": "1.2.0",
            "_view_name": "StyleView",
            "description_width": ""
          }
        },
        "8082ca95b90f452487f8342fc93931d7": {
          "model_module": "@jupyter-widgets/base",
          "model_module_version": "1.2.0",
          "model_name": "LayoutModel",
          "state": {
            "_model_module": "@jupyter-widgets/base",
            "_model_module_version": "1.2.0",
            "_model_name": "LayoutModel",
            "_view_count": null,
            "_view_module": "@jupyter-widgets/base",
            "_view_module_version": "1.2.0",
            "_view_name": "LayoutView",
            "align_content": null,
            "align_items": null,
            "align_self": null,
            "border": null,
            "bottom": null,
            "display": null,
            "flex": null,
            "flex_flow": null,
            "grid_area": null,
            "grid_auto_columns": null,
            "grid_auto_flow": null,
            "grid_auto_rows": null,
            "grid_column": null,
            "grid_gap": null,
            "grid_row": null,
            "grid_template_areas": null,
            "grid_template_columns": null,
            "grid_template_rows": null,
            "height": null,
            "justify_content": null,
            "justify_items": null,
            "left": null,
            "margin": null,
            "max_height": null,
            "max_width": null,
            "min_height": null,
            "min_width": null,
            "object_fit": null,
            "object_position": null,
            "order": null,
            "overflow": null,
            "overflow_x": null,
            "overflow_y": null,
            "padding": null,
            "right": null,
            "top": null,
            "visibility": null,
            "width": null
          }
        },
        "87cd83eed9974df2a4ee3592ff69e2f0": {
          "model_module": "@jupyter-widgets/controls",
          "model_module_version": "1.5.0",
          "model_name": "HTMLModel",
          "state": {
            "_dom_classes": [],
            "_model_module": "@jupyter-widgets/controls",
            "_model_module_version": "1.5.0",
            "_model_name": "HTMLModel",
            "_view_count": null,
            "_view_module": "@jupyter-widgets/controls",
            "_view_module_version": "1.5.0",
            "_view_name": "HTMLView",
            "description": "",
            "description_tooltip": null,
            "layout": "IPY_MODEL_0cd6a1d15a354915a6e8a2826607bcfa",
            "placeholder": "​",
            "style": "IPY_MODEL_96f53efc644a4ca19a4bab74ff1720f5",
            "value": " 440M/440M [00:02&lt;00:00, 235MB/s]"
          }
        },
        "8f25558f0efe48988367d94dabd25395": {
          "model_module": "@jupyter-widgets/base",
          "model_module_version": "1.2.0",
          "model_name": "LayoutModel",
          "state": {
            "_model_module": "@jupyter-widgets/base",
            "_model_module_version": "1.2.0",
            "_model_name": "LayoutModel",
            "_view_count": null,
            "_view_module": "@jupyter-widgets/base",
            "_view_module_version": "1.2.0",
            "_view_name": "LayoutView",
            "align_content": null,
            "align_items": null,
            "align_self": null,
            "border": null,
            "bottom": null,
            "display": null,
            "flex": null,
            "flex_flow": null,
            "grid_area": null,
            "grid_auto_columns": null,
            "grid_auto_flow": null,
            "grid_auto_rows": null,
            "grid_column": null,
            "grid_gap": null,
            "grid_row": null,
            "grid_template_areas": null,
            "grid_template_columns": null,
            "grid_template_rows": null,
            "height": null,
            "justify_content": null,
            "justify_items": null,
            "left": null,
            "margin": null,
            "max_height": null,
            "max_width": null,
            "min_height": null,
            "min_width": null,
            "object_fit": null,
            "object_position": null,
            "order": null,
            "overflow": null,
            "overflow_x": null,
            "overflow_y": null,
            "padding": null,
            "right": null,
            "top": null,
            "visibility": null,
            "width": null
          }
        },
        "921fcde4ec2b49f78ebc16cd9bde9584": {
          "model_module": "@jupyter-widgets/base",
          "model_module_version": "1.2.0",
          "model_name": "LayoutModel",
          "state": {
            "_model_module": "@jupyter-widgets/base",
            "_model_module_version": "1.2.0",
            "_model_name": "LayoutModel",
            "_view_count": null,
            "_view_module": "@jupyter-widgets/base",
            "_view_module_version": "1.2.0",
            "_view_name": "LayoutView",
            "align_content": null,
            "align_items": null,
            "align_self": null,
            "border": null,
            "bottom": null,
            "display": null,
            "flex": null,
            "flex_flow": null,
            "grid_area": null,
            "grid_auto_columns": null,
            "grid_auto_flow": null,
            "grid_auto_rows": null,
            "grid_column": null,
            "grid_gap": null,
            "grid_row": null,
            "grid_template_areas": null,
            "grid_template_columns": null,
            "grid_template_rows": null,
            "height": null,
            "justify_content": null,
            "justify_items": null,
            "left": null,
            "margin": null,
            "max_height": null,
            "max_width": null,
            "min_height": null,
            "min_width": null,
            "object_fit": null,
            "object_position": null,
            "order": null,
            "overflow": null,
            "overflow_x": null,
            "overflow_y": null,
            "padding": null,
            "right": null,
            "top": null,
            "visibility": null,
            "width": null
          }
        },
        "9532f9b364e64ac58ed95b5b48c682e7": {
          "model_module": "@jupyter-widgets/controls",
          "model_module_version": "1.5.0",
          "model_name": "HBoxModel",
          "state": {
            "_dom_classes": [],
            "_model_module": "@jupyter-widgets/controls",
            "_model_module_version": "1.5.0",
            "_model_name": "HBoxModel",
            "_view_count": null,
            "_view_module": "@jupyter-widgets/controls",
            "_view_module_version": "1.5.0",
            "_view_name": "HBoxView",
            "box_style": "",
            "children": [
              "IPY_MODEL_7385490a1dc142bca9e4d7892a38e00e",
              "IPY_MODEL_e54d7cb190f044d8b492074234bd6941",
              "IPY_MODEL_5d8097b2ce144be0a56f79514c5b431c"
            ],
            "layout": "IPY_MODEL_056ad562342e4bfb88c014807a53c901"
          }
        },
        "96f53efc644a4ca19a4bab74ff1720f5": {
          "model_module": "@jupyter-widgets/controls",
          "model_module_version": "1.5.0",
          "model_name": "DescriptionStyleModel",
          "state": {
            "_model_module": "@jupyter-widgets/controls",
            "_model_module_version": "1.5.0",
            "_model_name": "DescriptionStyleModel",
            "_view_count": null,
            "_view_module": "@jupyter-widgets/base",
            "_view_module_version": "1.2.0",
            "_view_name": "StyleView",
            "description_width": ""
          }
        },
        "9ce63a6e3f3541b6b6d0733c60ee3b41": {
          "model_module": "@jupyter-widgets/controls",
          "model_module_version": "1.5.0",
          "model_name": "HTMLModel",
          "state": {
            "_dom_classes": [],
            "_model_module": "@jupyter-widgets/controls",
            "_model_module_version": "1.5.0",
            "_model_name": "HTMLModel",
            "_view_count": null,
            "_view_module": "@jupyter-widgets/controls",
            "_view_module_version": "1.5.0",
            "_view_name": "HTMLView",
            "description": "",
            "description_tooltip": null,
            "layout": "IPY_MODEL_318e39a8beeb45e2851dfdd55a80accf",
            "placeholder": "​",
            "style": "IPY_MODEL_a07cce4c159f4990a794443b30405191",
            "value": "config.json: 100%"
          }
        },
        "a07cce4c159f4990a794443b30405191": {
          "model_module": "@jupyter-widgets/controls",
          "model_module_version": "1.5.0",
          "model_name": "DescriptionStyleModel",
          "state": {
            "_model_module": "@jupyter-widgets/controls",
            "_model_module_version": "1.5.0",
            "_model_name": "DescriptionStyleModel",
            "_view_count": null,
            "_view_module": "@jupyter-widgets/base",
            "_view_module_version": "1.2.0",
            "_view_name": "StyleView",
            "description_width": ""
          }
        },
        "bd17fb73b44344cfaf6631510b639e41": {
          "model_module": "@jupyter-widgets/controls",
          "model_module_version": "1.5.0",
          "model_name": "HBoxModel",
          "state": {
            "_dom_classes": [],
            "_model_module": "@jupyter-widgets/controls",
            "_model_module_version": "1.5.0",
            "_model_name": "HBoxModel",
            "_view_count": null,
            "_view_module": "@jupyter-widgets/controls",
            "_view_module_version": "1.5.0",
            "_view_name": "HBoxView",
            "box_style": "",
            "children": [
              "IPY_MODEL_78ba8dd56062492b860cf533902333c6",
              "IPY_MODEL_413854b108b34422b5292bac731153d4",
              "IPY_MODEL_3a8d31312948417ba46e9596c957e2c8"
            ],
            "layout": "IPY_MODEL_009171bf535145cab7e2d2c65f8345c7"
          }
        },
        "bd5ff9477bef4ae3a03d91a9d462d9ae": {
          "model_module": "@jupyter-widgets/controls",
          "model_module_version": "1.5.0",
          "model_name": "ProgressStyleModel",
          "state": {
            "_model_module": "@jupyter-widgets/controls",
            "_model_module_version": "1.5.0",
            "_model_name": "ProgressStyleModel",
            "_view_count": null,
            "_view_module": "@jupyter-widgets/base",
            "_view_module_version": "1.2.0",
            "_view_name": "StyleView",
            "bar_color": null,
            "description_width": ""
          }
        },
        "c4026a154b6e43c9af05691b2c070da8": {
          "model_module": "@jupyter-widgets/base",
          "model_module_version": "1.2.0",
          "model_name": "LayoutModel",
          "state": {
            "_model_module": "@jupyter-widgets/base",
            "_model_module_version": "1.2.0",
            "_model_name": "LayoutModel",
            "_view_count": null,
            "_view_module": "@jupyter-widgets/base",
            "_view_module_version": "1.2.0",
            "_view_name": "LayoutView",
            "align_content": null,
            "align_items": null,
            "align_self": null,
            "border": null,
            "bottom": null,
            "display": null,
            "flex": null,
            "flex_flow": null,
            "grid_area": null,
            "grid_auto_columns": null,
            "grid_auto_flow": null,
            "grid_auto_rows": null,
            "grid_column": null,
            "grid_gap": null,
            "grid_row": null,
            "grid_template_areas": null,
            "grid_template_columns": null,
            "grid_template_rows": null,
            "height": null,
            "justify_content": null,
            "justify_items": null,
            "left": null,
            "margin": null,
            "max_height": null,
            "max_width": null,
            "min_height": null,
            "min_width": null,
            "object_fit": null,
            "object_position": null,
            "order": null,
            "overflow": null,
            "overflow_x": null,
            "overflow_y": null,
            "padding": null,
            "right": null,
            "top": null,
            "visibility": null,
            "width": null
          }
        },
        "c91f6ed74fd44f0abc4a0e49b25f6d92": {
          "model_module": "@jupyter-widgets/controls",
          "model_module_version": "1.5.0",
          "model_name": "DescriptionStyleModel",
          "state": {
            "_model_module": "@jupyter-widgets/controls",
            "_model_module_version": "1.5.0",
            "_model_name": "DescriptionStyleModel",
            "_view_count": null,
            "_view_module": "@jupyter-widgets/base",
            "_view_module_version": "1.2.0",
            "_view_name": "StyleView",
            "description_width": ""
          }
        },
        "d7cfd5abc3ec45a2b19a4673bd611aa0": {
          "model_module": "@jupyter-widgets/controls",
          "model_module_version": "1.5.0",
          "model_name": "HBoxModel",
          "state": {
            "_dom_classes": [],
            "_model_module": "@jupyter-widgets/controls",
            "_model_module_version": "1.5.0",
            "_model_name": "HBoxModel",
            "_view_count": null,
            "_view_module": "@jupyter-widgets/controls",
            "_view_module_version": "1.5.0",
            "_view_name": "HBoxView",
            "box_style": "",
            "children": [
              "IPY_MODEL_55efe5e8c52c4f70ae2c48b250364fe4",
              "IPY_MODEL_65b4aa807dd940d2b31080e885a67216",
              "IPY_MODEL_87cd83eed9974df2a4ee3592ff69e2f0"
            ],
            "layout": "IPY_MODEL_c4026a154b6e43c9af05691b2c070da8"
          }
        },
        "e0a32c84a8594095920df28639142540": {
          "model_module": "@jupyter-widgets/base",
          "model_module_version": "1.2.0",
          "model_name": "LayoutModel",
          "state": {
            "_model_module": "@jupyter-widgets/base",
            "_model_module_version": "1.2.0",
            "_model_name": "LayoutModel",
            "_view_count": null,
            "_view_module": "@jupyter-widgets/base",
            "_view_module_version": "1.2.0",
            "_view_name": "LayoutView",
            "align_content": null,
            "align_items": null,
            "align_self": null,
            "border": null,
            "bottom": null,
            "display": null,
            "flex": null,
            "flex_flow": null,
            "grid_area": null,
            "grid_auto_columns": null,
            "grid_auto_flow": null,
            "grid_auto_rows": null,
            "grid_column": null,
            "grid_gap": null,
            "grid_row": null,
            "grid_template_areas": null,
            "grid_template_columns": null,
            "grid_template_rows": null,
            "height": null,
            "justify_content": null,
            "justify_items": null,
            "left": null,
            "margin": null,
            "max_height": null,
            "max_width": null,
            "min_height": null,
            "min_width": null,
            "object_fit": null,
            "object_position": null,
            "order": null,
            "overflow": null,
            "overflow_x": null,
            "overflow_y": null,
            "padding": null,
            "right": null,
            "top": null,
            "visibility": null,
            "width": null
          }
        },
        "e0e431100762406388991dd12143528a": {
          "model_module": "@jupyter-widgets/controls",
          "model_module_version": "1.5.0",
          "model_name": "ProgressStyleModel",
          "state": {
            "_model_module": "@jupyter-widgets/controls",
            "_model_module_version": "1.5.0",
            "_model_name": "ProgressStyleModel",
            "_view_count": null,
            "_view_module": "@jupyter-widgets/base",
            "_view_module_version": "1.2.0",
            "_view_name": "StyleView",
            "bar_color": null,
            "description_width": ""
          }
        },
        "e2902720f48a44e8ae94a7d0ebd678d5": {
          "model_module": "@jupyter-widgets/base",
          "model_module_version": "1.2.0",
          "model_name": "LayoutModel",
          "state": {
            "_model_module": "@jupyter-widgets/base",
            "_model_module_version": "1.2.0",
            "_model_name": "LayoutModel",
            "_view_count": null,
            "_view_module": "@jupyter-widgets/base",
            "_view_module_version": "1.2.0",
            "_view_name": "LayoutView",
            "align_content": null,
            "align_items": null,
            "align_self": null,
            "border": null,
            "bottom": null,
            "display": null,
            "flex": null,
            "flex_flow": null,
            "grid_area": null,
            "grid_auto_columns": null,
            "grid_auto_flow": null,
            "grid_auto_rows": null,
            "grid_column": null,
            "grid_gap": null,
            "grid_row": null,
            "grid_template_areas": null,
            "grid_template_columns": null,
            "grid_template_rows": null,
            "height": null,
            "justify_content": null,
            "justify_items": null,
            "left": null,
            "margin": null,
            "max_height": null,
            "max_width": null,
            "min_height": null,
            "min_width": null,
            "object_fit": null,
            "object_position": null,
            "order": null,
            "overflow": null,
            "overflow_x": null,
            "overflow_y": null,
            "padding": null,
            "right": null,
            "top": null,
            "visibility": null,
            "width": null
          }
        },
        "e54d7cb190f044d8b492074234bd6941": {
          "model_module": "@jupyter-widgets/controls",
          "model_module_version": "1.5.0",
          "model_name": "FloatProgressModel",
          "state": {
            "_dom_classes": [],
            "_model_module": "@jupyter-widgets/controls",
            "_model_module_version": "1.5.0",
            "_model_name": "FloatProgressModel",
            "_view_count": null,
            "_view_module": "@jupyter-widgets/controls",
            "_view_module_version": "1.5.0",
            "_view_name": "ProgressView",
            "bar_style": "success",
            "description": "",
            "description_tooltip": null,
            "layout": "IPY_MODEL_4dac79cda2ee4792b86893f1855bc012",
            "max": 28,
            "min": 0,
            "orientation": "horizontal",
            "style": "IPY_MODEL_2419f31cd998447585da6a72b0dc948b",
            "value": 28
          }
        },
        "e5b3d0dd215848adaa54d79eda17657c": {
          "model_module": "@jupyter-widgets/controls",
          "model_module_version": "1.5.0",
          "model_name": "DescriptionStyleModel",
          "state": {
            "_model_module": "@jupyter-widgets/controls",
            "_model_module_version": "1.5.0",
            "_model_name": "DescriptionStyleModel",
            "_view_count": null,
            "_view_module": "@jupyter-widgets/base",
            "_view_module_version": "1.2.0",
            "_view_name": "StyleView",
            "description_width": ""
          }
        },
        "e63fedd0f44c433b8f2b2e6d795b2565": {
          "model_module": "@jupyter-widgets/controls",
          "model_module_version": "1.5.0",
          "model_name": "HTMLModel",
          "state": {
            "_dom_classes": [],
            "_model_module": "@jupyter-widgets/controls",
            "_model_module_version": "1.5.0",
            "_model_name": "HTMLModel",
            "_view_count": null,
            "_view_module": "@jupyter-widgets/controls",
            "_view_module_version": "1.5.0",
            "_view_name": "HTMLView",
            "description": "",
            "description_tooltip": null,
            "layout": "IPY_MODEL_7940511267ea4bebaa4085d865895dcf",
            "placeholder": "​",
            "style": "IPY_MODEL_6aa5860922b448b48e8542c4679c5c22",
            "value": " 570/570 [00:00&lt;00:00, 21.0kB/s]"
          }
        },
        "f1e0ba88819f42219626ca5980b07e8b": {
          "model_module": "@jupyter-widgets/base",
          "model_module_version": "1.2.0",
          "model_name": "LayoutModel",
          "state": {
            "_model_module": "@jupyter-widgets/base",
            "_model_module_version": "1.2.0",
            "_model_name": "LayoutModel",
            "_view_count": null,
            "_view_module": "@jupyter-widgets/base",
            "_view_module_version": "1.2.0",
            "_view_name": "LayoutView",
            "align_content": null,
            "align_items": null,
            "align_self": null,
            "border": null,
            "bottom": null,
            "display": null,
            "flex": null,
            "flex_flow": null,
            "grid_area": null,
            "grid_auto_columns": null,
            "grid_auto_flow": null,
            "grid_auto_rows": null,
            "grid_column": null,
            "grid_gap": null,
            "grid_row": null,
            "grid_template_areas": null,
            "grid_template_columns": null,
            "grid_template_rows": null,
            "height": null,
            "justify_content": null,
            "justify_items": null,
            "left": null,
            "margin": null,
            "max_height": null,
            "max_width": null,
            "min_height": null,
            "min_width": null,
            "object_fit": null,
            "object_position": null,
            "order": null,
            "overflow": null,
            "overflow_x": null,
            "overflow_y": null,
            "padding": null,
            "right": null,
            "top": null,
            "visibility": null,
            "width": null
          }
        },
        "f34633d126b74bad802f968b95ac0fdb": {
          "model_module": "@jupyter-widgets/controls",
          "model_module_version": "1.5.0",
          "model_name": "DescriptionStyleModel",
          "state": {
            "_model_module": "@jupyter-widgets/controls",
            "_model_module_version": "1.5.0",
            "_model_name": "DescriptionStyleModel",
            "_view_count": null,
            "_view_module": "@jupyter-widgets/base",
            "_view_module_version": "1.2.0",
            "_view_name": "StyleView",
            "description_width": ""
          }
        },
        "fd7269acfa6b48b78517f4177f2cfd6f": {
          "model_module": "@jupyter-widgets/controls",
          "model_module_version": "1.5.0",
          "model_name": "FloatProgressModel",
          "state": {
            "_dom_classes": [],
            "_model_module": "@jupyter-widgets/controls",
            "_model_module_version": "1.5.0",
            "_model_name": "FloatProgressModel",
            "_view_count": null,
            "_view_module": "@jupyter-widgets/controls",
            "_view_module_version": "1.5.0",
            "_view_name": "ProgressView",
            "bar_style": "success",
            "description": "",
            "description_tooltip": null,
            "layout": "IPY_MODEL_33cf2c2931f9405b94d39b24c7ee505b",
            "max": 231508,
            "min": 0,
            "orientation": "horizontal",
            "style": "IPY_MODEL_79e4e3e551c34c10a5abc7d9f2706e9f",
            "value": 231508
          }
        },
        "fe2d517394344ac6992e63ba1795ebd0": {
          "model_module": "@jupyter-widgets/controls",
          "model_module_version": "1.5.0",
          "model_name": "HTMLModel",
          "state": {
            "_dom_classes": [],
            "_model_module": "@jupyter-widgets/controls",
            "_model_module_version": "1.5.0",
            "_model_name": "HTMLModel",
            "_view_count": null,
            "_view_module": "@jupyter-widgets/controls",
            "_view_module_version": "1.5.0",
            "_view_name": "HTMLView",
            "description": "",
            "description_tooltip": null,
            "layout": "IPY_MODEL_4a0440111ae5492c96b052399dc2e485",
            "placeholder": "​",
            "style": "IPY_MODEL_7f7285825ccd4b91a30a6317fad19e07",
            "value": "vocab.txt: 100%"
          }
        }
      }
    }
  },
  "nbformat": 4,
  "nbformat_minor": 0
}
