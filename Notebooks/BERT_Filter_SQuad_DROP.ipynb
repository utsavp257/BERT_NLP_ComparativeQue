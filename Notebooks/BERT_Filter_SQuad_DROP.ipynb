{
  "cells": [
    {
      "cell_type": "markdown",
      "metadata": {},
      "source": [
        "The Notebook for training BERT base model on the dataset made by Filtering Comparative Questions from SQuAD and DROP dataset or any other dataset in the required format"
      ]
    },
    {
      "cell_type": "code",
      "execution_count": null,
      "metadata": {
        "colab": {
          "base_uri": "https://localhost:8080/"
        },
        "id": "pAeyEM5vZsDW",
        "outputId": "ad1d2694-2ee5-4a68-c8db-04484b8fd2f3"
      },
      "outputs": [
        {
          "name": "stdout",
          "output_type": "stream",
          "text": [
            "Requirement already satisfied: transformers in /usr/local/lib/python3.10/dist-packages (4.35.2)\n",
            "Requirement already satisfied: filelock in /usr/local/lib/python3.10/dist-packages (from transformers) (3.13.1)\n",
            "Requirement already satisfied: huggingface-hub<1.0,>=0.16.4 in /usr/local/lib/python3.10/dist-packages (from transformers) (0.19.4)\n",
            "Requirement already satisfied: numpy>=1.17 in /usr/local/lib/python3.10/dist-packages (from transformers) (1.23.5)\n",
            "Requirement already satisfied: packaging>=20.0 in /usr/local/lib/python3.10/dist-packages (from transformers) (23.2)\n",
            "Requirement already satisfied: pyyaml>=5.1 in /usr/local/lib/python3.10/dist-packages (from transformers) (6.0.1)\n",
            "Requirement already satisfied: regex!=2019.12.17 in /usr/local/lib/python3.10/dist-packages (from transformers) (2023.6.3)\n",
            "Requirement already satisfied: requests in /usr/local/lib/python3.10/dist-packages (from transformers) (2.31.0)\n",
            "Requirement already satisfied: tokenizers<0.19,>=0.14 in /usr/local/lib/python3.10/dist-packages (from transformers) (0.15.0)\n",
            "Requirement already satisfied: safetensors>=0.3.1 in /usr/local/lib/python3.10/dist-packages (from transformers) (0.4.1)\n",
            "Requirement already satisfied: tqdm>=4.27 in /usr/local/lib/python3.10/dist-packages (from transformers) (4.66.1)\n",
            "Requirement already satisfied: fsspec>=2023.5.0 in /usr/local/lib/python3.10/dist-packages (from huggingface-hub<1.0,>=0.16.4->transformers) (2023.6.0)\n",
            "Requirement already satisfied: typing-extensions>=3.7.4.3 in /usr/local/lib/python3.10/dist-packages (from huggingface-hub<1.0,>=0.16.4->transformers) (4.5.0)\n",
            "Requirement already satisfied: charset-normalizer<4,>=2 in /usr/local/lib/python3.10/dist-packages (from requests->transformers) (3.3.2)\n",
            "Requirement already satisfied: idna<4,>=2.5 in /usr/local/lib/python3.10/dist-packages (from requests->transformers) (3.6)\n",
            "Requirement already satisfied: urllib3<3,>=1.21.1 in /usr/local/lib/python3.10/dist-packages (from requests->transformers) (2.0.7)\n",
            "Requirement already satisfied: certifi>=2017.4.17 in /usr/local/lib/python3.10/dist-packages (from requests->transformers) (2023.11.17)\n"
          ]
        }
      ],
      "source": [
        "pip install transformers"
      ]
    },
    {
      "cell_type": "code",
      "execution_count": null,
      "metadata": {
        "id": "7pFPiabyb4v7"
      },
      "outputs": [],
      "source": [
        "import requests\n",
        "import json\n",
        "import torch\n",
        "import torch.nn as nn\n",
        "import os\n",
        "from tqdm import tqdm\n",
        "from transformers import BertModel, BertTokenizerFast, AdamW\n",
        "from torch.utils.data import Dataset, DataLoader\n",
        "from torch.optim.lr_scheduler import ExponentialLR\n",
        "import matplotlib.pyplot as plt"
      ]
    },
    {
      "cell_type": "code",
      "execution_count": null,
      "metadata": {
        "id": "uxKoHik0j7Gb"
      },
      "outputs": [],
      "source": [
        "MODEL_PATH = \"bert-base-uncased\""
      ]
    },
    {
      "cell_type": "code",
      "execution_count": null,
      "metadata": {
        "colab": {
          "base_uri": "https://localhost:8080/"
        },
        "id": "7ygaYPc8j9u8",
        "outputId": "3d3ad0bb-7bdd-4b57-a3f9-699688a2e4fd"
      },
      "outputs": [
        {
          "name": "stdout",
          "output_type": "stream",
          "text": [
            "File ‘train-v2.0.json’ already there; not retrieving.\n",
            "\n",
            "File ‘dev-v2.0.json’ already there; not retrieving.\n",
            "\n"
          ]
        }
      ],
      "source": [
        "!wget -nc https://rajpurkar.github.io/SQuAD-explorer/dataset/train-v2.0.json\n",
        "!wget -nc https://rajpurkar.github.io/SQuAD-explorer/dataset/dev-v2.0.json"
      ]
    },
    {
      "cell_type": "code",
      "execution_count": null,
      "metadata": {
        "id": "aUYaqLEHkCad"
      },
      "outputs": [],
      "source": [
        "num_questions = 0\n",
        "num_posible = 0\n",
        "num_imposible = 0"
      ]
    },
    {
      "cell_type": "code",
      "execution_count": null,
      "metadata": {
        "id": "LgdX6xATkHKy"
      },
      "outputs": [],
      "source": [
        "def get_data(path):\n",
        "  with open(path, 'rb') as f:\n",
        "    raw_data = json.load(f)\n",
        "\n",
        "  contexts = []\n",
        "  questions = []\n",
        "  answers = []\n",
        "  num_q = 0\n",
        "  num_pos = 0\n",
        "  num_imp = 0\n",
        "\n",
        "  for group in raw_data['data']:\n",
        "    for paragraph in group['paragraphs']:\n",
        "      context = paragraph['context']\n",
        "      for qa in paragraph['qas']:\n",
        "        question = qa['question']\n",
        "        num_q  = num_q  +1\n",
        "        if qa['is_impossible'] == True:\n",
        "            num_imp = num_imp +1\n",
        "        else:\n",
        "            num_pos = num_pos +1\n",
        "        for answer in qa['answers']:\n",
        "          contexts.append(context.lower())\n",
        "          questions.append(question.lower())\n",
        "          answers.append(answer)\n",
        "\n",
        "  return num_q, num_pos, num_imp, contexts, questions, answers"
      ]
    },
    {
      "cell_type": "code",
      "execution_count": null,
      "metadata": {
        "colab": {
          "base_uri": "https://localhost:8080/"
        },
        "id": "mTo6DG-z3LFy",
        "outputId": "d44d87f7-5141-4f2d-f22b-19827d5ff623"
      },
      "outputs": [
        {
          "name": "stdout",
          "output_type": "stream",
          "text": [
            "Drive already mounted at /content/drive; to attempt to forcibly remount, call drive.mount(\"/content/drive\", force_remount=True).\n"
          ]
        }
      ],
      "source": [
        "from google.colab import drive\n",
        "drive.mount('/content/drive')"
      ]
    },
    {
      "cell_type": "code",
      "execution_count": null,
      "metadata": {
        "id": "oxvoxUaG3BzP"
      },
      "outputs": [],
      "source": [
        "dataset_file = open('/content/drive/MyDrive/OELP_BERT/BERT_SQuad/combined_train_final.json')\n",
        "\n",
        "new_data = json.load(dataset_file)"
      ]
    },
    {
      "cell_type": "code",
      "execution_count": null,
      "metadata": {
        "id": "IiewPFdq6HNO"
      },
      "outputs": [],
      "source": [
        "num_q = 0\n",
        "num_pos = 0\n",
        "num_imp = 0\n",
        "train_contexts = []\n",
        "train_questions = []\n",
        "train_answers = []\n",
        "new_answers = []\n",
        "new_answer_start = []\n",
        "\n",
        "for i in range(len(new_data)):\n",
        "  train_contexts.append(new_data[i][\"sentence\"])\n",
        "  train_questions.append(new_data[i]['question'])\n",
        "  new_answers.append(new_data[i]['answer'])\n",
        "  new_answer_start.append(new_data[i]['answer_start'])\n",
        "  train_answers.append({ 'text': new_answers[-1], 'answer_start': new_answer_start[-1]})\n",
        "\n",
        "  num_q += 1\n",
        "  if(0):\n",
        "    num_imp += 1\n",
        "  else:\n",
        "    num_pos += 1\n",
        "\n",
        "num_questions = num_q\n",
        "num_posible = num_pos\n",
        "num_impossible = num_imp\n"
      ]
    },
    {
      "cell_type": "code",
      "execution_count": null,
      "metadata": {
        "colab": {
          "base_uri": "https://localhost:8080/"
        },
        "id": "sDggE9a4kLU7",
        "outputId": "68084f3b-95f0-4212-9756-578353fb60f0"
      },
      "outputs": [
        {
          "name": "stdout",
          "output_type": "stream",
          "text": [
            "numq is 3502\n",
            "num_pos is 3502\n",
            "num_imp is 0\n"
          ]
        }
      ],
      "source": [
        "print(f\"numq is {num_q}\")\n",
        "print(f\"num_pos is {num_pos}\")\n",
        "print(f\"num_imp is {num_imp}\")"
      ]
    },
    {
      "cell_type": "code",
      "execution_count": null,
      "metadata": {
        "colab": {
          "base_uri": "https://localhost:8080/"
        },
        "id": "79_n1J9nkPnG",
        "outputId": "b82f49bf-6b49-417a-8459-3b7ed839a4fe"
      },
      "outputs": [
        {
          "name": "stdout",
          "output_type": "stream",
          "text": [
            "['When did Beyonce start becoming popular?', 'What areas did Beyonce compete in when she was growing up?', \"When did Beyonce leave Destiny's Child and become a solo singer?\", 'In what city and state did Beyonce  grow up? ', 'In which decade did Beyonce become famous?', 'In what R&B group was she the lead singer?', 'What album made her a worldwide known artist?', \"Who managed the Destiny's Child group?\", 'When did Beyoncé rise to fame?', \"What role did Beyoncé have in Destiny's Child?\"]\n",
            "[{'text': 'in the late 1990s', 'answer_start': 269}, {'text': 'singing and dancing', 'answer_start': 207}, {'text': '2003', 'answer_start': 526}, {'text': 'Houston, Texas', 'answer_start': 166}, {'text': 'late 1990s', 'answer_start': 276}, {'text': \"Destiny's Child\", 'answer_start': 320}, {'text': 'Dangerously in Love', 'answer_start': 505}, {'text': 'Mathew Knowles', 'answer_start': 360}, {'text': 'late 1990s', 'answer_start': 276}, {'text': 'lead singer', 'answer_start': 290}]\n"
          ]
        }
      ],
      "source": [
        "print(train_questions[0:10])\n",
        "print(train_answers[0:10])"
      ]
    },
    {
      "cell_type": "code",
      "execution_count": null,
      "metadata": {
        "colab": {
          "base_uri": "https://localhost:8080/"
        },
        "id": "KpGV3IHlkSRv",
        "outputId": "5caec188-fb44-4582-83c9-5e6a1728d0e4"
      },
      "outputs": [
        {
          "name": "stdout",
          "output_type": "stream",
          "text": [
            "Total number of questions: 15375\n",
            "Total number of Answerable questions: 9430\n",
            "Total number of impossible questions: 5945\n"
          ]
        }
      ],
      "source": [
        "num_q, num_pos, num_imp, valid_contexts, valid_questions, valid_answers = get_data('dev-v2.0.json')\n",
        "num_questions  = num_questions + num_q\n",
        "num_posible = num_posible + num_pos\n",
        "num_imposible = num_imposible  + num_imp\n",
        "\n",
        "print(f\"Total number of questions: {num_questions}\")\n",
        "print(f\"Total number of Answerable questions: {num_posible}\")\n",
        "print(f\"Total number of impossible questions: {num_imposible}\")"
      ]
    },
    {
      "cell_type": "code",
      "execution_count": null,
      "metadata": {
        "colab": {
          "base_uri": "https://localhost:8080/"
        },
        "id": "5qFdRidLkVOx",
        "outputId": "83edc027-38b9-4af4-c143-01f029a3c39b"
      },
      "outputs": [
        {
          "name": "stdout",
          "output_type": "stream",
          "text": [
            "['in what country is normandy located?', 'in what country is normandy located?', 'in what country is normandy located?', 'in what country is normandy located?', 'when were the normans in normandy?', 'when were the normans in normandy?', 'when were the normans in normandy?', 'when were the normans in normandy?', 'from which countries did the norse originate?', 'from which countries did the norse originate?']\n",
            "[{'text': 'France', 'answer_start': 159}, {'text': 'France', 'answer_start': 159}, {'text': 'France', 'answer_start': 159}, {'text': 'France', 'answer_start': 159}, {'text': '10th and 11th centuries', 'answer_start': 94}, {'text': 'in the 10th and 11th centuries', 'answer_start': 87}, {'text': '10th and 11th centuries', 'answer_start': 94}, {'text': '10th and 11th centuries', 'answer_start': 94}, {'text': 'Denmark, Iceland and Norway', 'answer_start': 256}, {'text': 'Denmark, Iceland and Norway', 'answer_start': 256}]\n"
          ]
        }
      ],
      "source": [
        "print(valid_questions[0:10])\n",
        "print(valid_answers[0:10])"
      ]
    },
    {
      "cell_type": "code",
      "execution_count": null,
      "metadata": {
        "id": "OtQM2RAqkX2m"
      },
      "outputs": [],
      "source": [
        "def add_answer_end(answers, contexts):\n",
        "  for answer, context in zip(answers, contexts):\n",
        "    answer['text'] = answer['text'].lower()\n",
        "    answer['answer_end'] = answer['answer_start'] + len(answer['text'])\n",
        "\n",
        "add_answer_end(train_answers, train_contexts)\n",
        "add_answer_end(valid_answers, valid_contexts)"
      ]
    },
    {
      "cell_type": "code",
      "execution_count": null,
      "metadata": {
        "colab": {
          "base_uri": "https://localhost:8080/"
        },
        "id": "b40RW25Ckazs",
        "outputId": "70dce0f2-40b9-4033-f231-615c93f012e0"
      },
      "outputs": [
        {
          "name": "stdout",
          "output_type": "stream",
          "text": [
            "Context: Beyoncé Giselle Knowles-Carter (/biːˈjɒnseɪ/ bee-YON-say) (born September 4, 1981) is an American singer, songwriter, record producer and actress. Born and raised in Houston, Texas, she performed in various singing and dancing competitions as a child, and rose to fame in the late 1990s as lead singer of R&B girl-group Destiny's Child. Managed by her father, Mathew Knowles, the group became one of the world's best-selling girl groups of all time. Their hiatus saw the release of Beyoncé's debut album, Dangerously in Love (2003), which established her as a solo artist worldwide, earned five Grammy Awards and featured the Billboard Hot 100 number-one singles Crazy in Love and Baby Boy.\n",
            "Question: When did Beyonce start becoming popular?\n",
            "Answer: {'text': 'in the late 1990s', 'answer_start': 269, 'answer_end': 286}\n"
          ]
        }
      ],
      "source": [
        "\n",
        "print(f\"Context: {train_contexts[0]}\")\n",
        "print(f\"Question: {train_questions[0]}\")\n",
        "print(f\"Answer: {train_answers[0]}\")"
      ]
    },
    {
      "cell_type": "code",
      "execution_count": null,
      "metadata": {
        "colab": {
          "base_uri": "https://localhost:8080/"
        },
        "id": "fVeLhpHakdsf",
        "outputId": "1bcdde9e-945e-4a9c-d78c-470252382e5e"
      },
      "outputs": [
        {
          "name": "stdout",
          "output_type": "stream",
          "text": [
            "Context: the english name \"normans\" comes from the french words normans/normanz, plural of normant, modern french normand, which is itself borrowed from old low franconian nortmann \"northman\" or directly from old norse norðmaðr, latinized variously as nortmannus, normannus, or nordmannus (recorded in medieval latin, 9th century) to mean \"norseman, viking\".\n",
            "Question: what is the original meaning of the word norman?\n",
            "Answer: {'text': 'norseman, viking', 'answer_start': 331, 'answer_end': 347}\n"
          ]
        }
      ],
      "source": [
        "test_rec = 30\n",
        "print(f\"Context: {valid_contexts[test_rec]}\")\n",
        "print(f\"Question: {valid_questions[test_rec]}\")\n",
        "print(f\"Answer: {valid_answers[test_rec]}\")"
      ]
    },
    {
      "cell_type": "code",
      "execution_count": null,
      "metadata": {
        "colab": {
          "base_uri": "https://localhost:8080/",
          "height": 489
        },
        "id": "TyX7L_pEkf2i",
        "outputId": "a79a065a-1c42-4434-f772-c4fae33288a7"
      },
      "outputs": [
        {
          "name": "stdout",
          "output_type": "stream",
          "text": [
            "907\n"
          ]
        },
        {
          "data": {
            "image/png": "[encoded data removed]",
            "text/plain": [
              "<Figure size 640x480 with 1 Axes>"
            ]
          },
          "metadata": {},
          "output_type": "display_data"
        }
      ],
      "source": [
        "token_lens = []\n",
        "\n",
        "for txt in train_contexts:\n",
        "    txt = txt.strip()\n",
        "    token_lens.append(len(txt.split(' ')))\n",
        "\n",
        "\n",
        "print(max(token_lens))\n",
        "\n",
        "plt.hist(token_lens,  bins=20)\n",
        "plt.ylabel('Count')\n",
        "plt.xlabel('Length')\n",
        "plt.title('Distribution of Context Lengths');"
      ]
    },
    {
      "cell_type": "code",
      "execution_count": null,
      "metadata": {
        "colab": {
          "base_uri": "https://localhost:8080/",
          "height": 507
        },
        "id": "65A9nUQYkjU_",
        "outputId": "ac603ec1-73a6-48b0-c7cf-99233f870dd5"
      },
      "outputs": [
        {
          "name": "stdout",
          "output_type": "stream",
          "text": [
            "56\n",
            "3502\n"
          ]
        },
        {
          "data": {
            "image/png": "[encoded data removed]",
            "text/plain": [
              "<Figure size 640x480 with 1 Axes>"
            ]
          },
          "metadata": {},
          "output_type": "display_data"
        }
      ],
      "source": [
        "token_lens2 = []\n",
        "\n",
        "for txt in train_questions:\n",
        "    txt = txt.strip()\n",
        "    token_lens2.append(len(txt.split(' ')))\n",
        "\n",
        "\n",
        "print(max(token_lens2))\n",
        "print(len(token_lens2))\n",
        "\n",
        "plt.hist(token_lens2,  bins=20)\n",
        "plt.ylabel('Count')\n",
        "plt.xlabel('Length')\n",
        "plt.title('Distribution of Question Lengths');"
      ]
    },
    {
      "cell_type": "code",
      "execution_count": null,
      "metadata": {
        "id": "33d6F50UkmnS"
      },
      "outputs": [],
      "source": [
        "MAX_LENGTH = 250"
      ]
    },
    {
      "cell_type": "code",
      "execution_count": null,
      "metadata": {
        "id": "3qUR1jDhksC_"
      },
      "outputs": [],
      "source": [
        "tokenizerFast = BertTokenizerFast.from_pretrained(MODEL_PATH)\n",
        "\n",
        "train_encodings_fast = tokenizerFast(train_questions, train_contexts,  max_length = MAX_LENGTH, truncation=True, padding=True)\n",
        "valid_encodings_fast = tokenizerFast(valid_questions,valid_contexts,  max_length = MAX_LENGTH, truncation=True, padding=True)"
      ]
    },
    {
      "cell_type": "code",
      "execution_count": null,
      "metadata": {
        "colab": {
          "base_uri": "https://localhost:8080/"
        },
        "id": "tTiNbyLRkxt2",
        "outputId": "a347eb7c-6d4c-4ce8-bbd9-cc3071938d12"
      },
      "outputs": [
        {
          "data": {
            "text/plain": [
              "transformers.tokenization_utils_base.BatchEncoding"
            ]
          },
          "execution_count": 21,
          "metadata": {},
          "output_type": "execute_result"
        }
      ],
      "source": [
        "type(train_encodings_fast)"
      ]
    },
    {
      "cell_type": "code",
      "execution_count": null,
      "metadata": {
        "colab": {
          "base_uri": "https://localhost:8080/"
        },
        "id": "mpNXi7L3lMzu",
        "outputId": "c8ea9458-639c-4677-d106-3f202f9d76ba"
      },
      "outputs": [
        {
          "name": "stdout",
          "output_type": "stream",
          "text": [
            "dict_keys(['input_ids', 'token_type_ids', 'attention_mask'])\n",
            "dict_keys(['input_ids', 'token_type_ids', 'attention_mask'])\n",
            "3502\n",
            "250\n"
          ]
        }
      ],
      "source": [
        "print(train_encodings_fast.keys())\n",
        "print(valid_encodings_fast.keys())\n",
        "print(len(train_encodings_fast['input_ids']))\n",
        "print(len(train_encodings_fast['input_ids'][1]))"
      ]
    },
    {
      "cell_type": "code",
      "execution_count": null,
      "metadata": {
        "colab": {
          "base_uri": "https://localhost:8080/"
        },
        "id": "rv-kQTYClNdT",
        "outputId": "5d296705-c165-471a-e5ff-e47ee05202b3"
      },
      "outputs": [
        {
          "name": "stdout",
          "output_type": "stream",
          "text": [
            "[101, 2054, 2752, 2106, 20773, 5566, 1999, 2043, 2016, 2001, 3652, 2039, 1029, 102, 20773, 21025, 19358, 22815, 1011, 5708, 1006, 1013, 12170, 23432, 29715, 3501, 29678, 12325, 29685, 1013, 10506, 1011, 10930, 2078, 1011, 2360, 1007, 1006, 2141, 2244, 1018, 1010, 3261, 1007, 2003, 2019, 2137, 3220, 1010, 6009, 1010, 2501, 3135, 1998, 3883, 1012, 2141, 1998, 2992, 1999, 5395, 1010, 3146, 1010, 2016, 2864, 1999, 2536, 4823, 1998, 5613, 6479, 2004, 1037, 2775, 1010, 1998, 3123, 2000, 4476, 1999, 1996, 2397, 4134, 2004, 2599, 3220, 1997, 1054, 1004, 1038, 2611, 1011, 2177, 10461, 1005, 1055, 2775, 1012, 3266, 2011, 2014, 2269, 1010, 25436, 22815, 1010, 1996, 2177, 2150, 2028, 1997, 1996, 2088, 1005, 1055, 2190, 1011, 4855, 2611, 2967, 1997, 2035, 2051, 1012, 2037, 14221, 2387, 1996, 2713, 1997, 20773, 1005, 1055, 2834, 2201, 1010, 20754, 1999, 2293, 1006, 2494, 1007, 1010, 2029, 2511, 2014, 2004, 1037, 3948, 3063, 4969, 1010, 3687, 2274, 8922, 2982, 1998, 2956, 1996, 4908, 2980, 2531, 2193, 1011, 2028, 3895, 4689, 1999, 2293, 1998, 3336, 2879, 1012, 102, 0, 0, 0, 0, 0, 0, 0, 0, 0, 0, 0, 0, 0, 0, 0, 0, 0, 0, 0, 0, 0, 0, 0, 0, 0, 0, 0, 0, 0, 0, 0, 0, 0, 0, 0, 0, 0, 0, 0, 0, 0, 0, 0, 0, 0, 0, 0, 0, 0, 0, 0, 0, 0, 0, 0, 0, 0, 0, 0, 0, 0, 0, 0, 0, 0, 0, 0, 0, 0, 0, 0, 0, 0, 0, 0]\n",
            "[CLS] what areas did beyonce compete in when she was growing up? [SEP] beyonce giselle knowles - carter ( / biːˈjɒnseɪ / bee - yon - say ) ( born september 4, 1981 ) is an american singer, songwriter, record producer and actress. born and raised in houston, texas, she performed in various singing and dancing competitions as a child, and rose to fame in the late 1990s as lead singer of r & b girl - group destiny ' s child. managed by her father, mathew knowles, the group became one of the world ' s best - selling girl groups of all time. their hiatus saw the release of beyonce ' s debut album, dangerously in love ( 2003 ), which established her as a solo artist worldwide, earned five grammy awards and featured the billboard hot 100 number - one singles crazy in love and baby boy. [SEP] [PAD] [PAD] [PAD] [PAD] [PAD] [PAD] [PAD] [PAD] [PAD] [PAD] [PAD] [PAD] [PAD] [PAD] [PAD] [PAD] [PAD] [PAD] [PAD] [PAD] [PAD] [PAD] [PAD] [PAD] [PAD] [PAD] [PAD] [PAD] [PAD] [PAD] [PAD] [PAD] [PAD] [PAD] [PAD] [PAD] [PAD] [PAD] [PAD] [PAD] [PAD] [PAD] [PAD] [PAD] [PAD] [PAD] [PAD] [PAD] [PAD] [PAD] [PAD] [PAD] [PAD] [PAD] [PAD] [PAD] [PAD] [PAD] [PAD] [PAD] [PAD] [PAD] [PAD] [PAD] [PAD] [PAD] [PAD] [PAD] [PAD] [PAD] [PAD] [PAD] [PAD] [PAD] [PAD]\n"
          ]
        }
      ],
      "source": [
        "print(train_encodings_fast['input_ids'][1])\n",
        "print(tokenizerFast.convert_tokens_to_string(tokenizerFast.convert_ids_to_tokens(train_encodings_fast['input_ids'][1])))"
      ]
    },
    {
      "cell_type": "code",
      "execution_count": null,
      "metadata": {
        "colab": {
          "base_uri": "https://localhost:8080/"
        },
        "id": "r1DOaH8SlQPZ",
        "outputId": "e37d768e-861b-4599-cad3-a653b20e4892"
      },
      "outputs": [
        {
          "data": {
            "text/plain": [
              "dict_keys(['text', 'answer_start', 'answer_end'])"
            ]
          },
          "execution_count": 24,
          "metadata": {},
          "output_type": "execute_result"
        }
      ],
      "source": [
        "type(train_answers[0]['text'])\n",
        "train_answers[0].keys()"
      ]
    },
    {
      "cell_type": "code",
      "execution_count": null,
      "metadata": {
        "id": "vUsop3DylWt7"
      },
      "outputs": [],
      "source": [
        "def ret_Answer_start_and_end_train(idx):\n",
        "    ret_start = 0\n",
        "    ret_end = 0\n",
        "    answer_encoding_fast = tokenizerFast(train_answers[idx]['text'],  max_length = MAX_LENGTH, truncation=True, padding=True)\n",
        "    for a in range( len(train_encodings_fast['input_ids'][idx]) -  len(answer_encoding_fast['input_ids']) ):\n",
        "        match = True\n",
        "        for i in range(1,len(answer_encoding_fast['input_ids']) - 1):\n",
        "\n",
        "            if (answer_encoding_fast['input_ids'][i] != train_encodings_fast['input_ids'][idx][a + i]):\n",
        "                match = False\n",
        "                break\n",
        "        if match:\n",
        "            ret_start = a+1\n",
        "            ret_end = a+i+1\n",
        "            break\n",
        "    return(ret_start, ret_end)"
      ]
    },
    {
      "cell_type": "code",
      "execution_count": null,
      "metadata": {
        "colab": {
          "base_uri": "https://localhost:8080/"
        },
        "id": "_jCxI7Q3lbAX",
        "outputId": "f7e53549-1d0f-4965-819b-bde79ac8b1d9"
      },
      "outputs": [
        {
          "name": "stdout",
          "output_type": "stream",
          "text": [
            "z and x are\n",
            "0 0\n",
            "\n",
            "split with luckett and rober\n",
            "[CLS] what event caused beyonce's depression? [SEP] letoya luckett and roberson became unhappy with mathew's managing of the band and eventually were replaced by farrah franklin and michelle williams. beyonce experienced depression following the split with luckett and roberson after being publicly blamed by the media, critics, and blogs for its cause. her long - standing boyfriend left her at this time. the depression was so severe it lasted for a couple of years, during which she occasionally kept herself in her bedroom for days and refused to eat anything. beyonce stated that she struggled to speak about her depression because destiny's child had just won their first grammy award and she feared no one would take her seriously. beyonce would later speak of her mother as the person who helped her fight it. franklin was dismissed, leaving just beyonce, rowland, and williams. [SEP] [PAD] [PAD] [PAD] [PAD] [PAD] [PAD] [PAD] [PAD] [PAD] [PAD] [PAD] [PAD] [PAD] [PAD] [PAD] [PAD] [PAD] [PAD] [PAD] [PAD] [PAD] [PAD] [PAD] [PAD] [PAD] [PAD] [PAD] [PAD] [PAD] [PAD] [PAD] [PAD] [PAD] [PAD] [PAD] [PAD] [PAD] [PAD] [PAD] [PAD] [PAD] [PAD] [PAD] [PAD] [PAD] [PAD] [PAD] [PAD] [PAD] [PAD] [PAD] [PAD] [PAD] [PAD] [PAD] [PAD] [PAD] [PAD] [PAD] [PAD] [PAD] [PAD] [PAD] [PAD] [PAD] [PAD] [PAD] [PAD] [PAD] [PAD] [PAD] [PAD] [PAD] [PAD] [PAD] [PAD] [PAD] [PAD] [PAD] [PAD]\n"
          ]
        }
      ],
      "source": [
        "test_rec=92\n",
        "\n",
        "z,x = ret_Answer_start_and_end_train(test_rec)\n",
        "print(\"z and x are\")\n",
        "print(z, x)\n",
        "\n",
        "predict_answer_tokens = train_encodings_fast.input_ids[test_rec][z : x]\n",
        "print(tokenizerFast.decode(predict_answer_tokens))\n",
        "print(train_answers[test_rec]['text'])\n",
        "print(tokenizerFast.decode(train_encodings_fast['input_ids'][test_rec]))"
      ]
    },
    {
      "cell_type": "code",
      "execution_count": null,
      "metadata": {
        "colab": {
          "base_uri": "https://localhost:8080/"
        },
        "id": "unmxFQSEKAUC",
        "outputId": "2aad19e1-041d-4f2b-e845-a18eeec6868d"
      },
      "outputs": [
        {
          "name": "stdout",
          "output_type": "stream",
          "text": [
            "z and x are\n",
            "68 71\n",
            "singing and dancing\n",
            "singing and dancing\n",
            "[CLS] what areas did beyonce compete in when she was growing up? [SEP] beyonce giselle knowles - carter ( / biːˈjɒnseɪ / bee - yon - say ) ( born september 4, 1981 ) is an american singer, songwriter, record producer and actress. born and raised in houston, texas, she performed in various singing and dancing competitions as a child, and rose to fame in the late 1990s as lead singer of r & b girl - group destiny's child. managed by her father, mathew knowles, the group became one of the world's best - selling girl groups of all time. their hiatus saw the release of beyonce's debut album, dangerously in love ( 2003 ), which established her as a solo artist worldwide, earned five grammy awards and featured the billboard hot 100 number - one singles crazy in love and baby boy. [SEP] [PAD] [PAD] [PAD] [PAD] [PAD] [PAD] [PAD] [PAD] [PAD] [PAD] [PAD] [PAD] [PAD] [PAD] [PAD] [PAD] [PAD] [PAD] [PAD] [PAD] [PAD] [PAD] [PAD] [PAD] [PAD] [PAD] [PAD] [PAD] [PAD] [PAD] [PAD] [PAD] [PAD] [PAD] [PAD] [PAD] [PAD] [PAD] [PAD] [PAD] [PAD] [PAD] [PAD] [PAD] [PAD] [PAD] [PAD] [PAD] [PAD] [PAD] [PAD] [PAD] [PAD] [PAD] [PAD] [PAD] [PAD] [PAD] [PAD] [PAD] [PAD] [PAD] [PAD] [PAD] [PAD] [PAD] [PAD] [PAD] [PAD] [PAD] [PAD] [PAD] [PAD] [PAD] [PAD]\n"
          ]
        }
      ],
      "source": [
        "test_rec=1\n",
        "\n",
        "z,x = ret_Answer_start_and_end_train(test_rec)\n",
        "print(\"z and x are\")\n",
        "print(z, x)\n",
        "\n",
        "predict_answer_tokens = train_encodings_fast.input_ids[test_rec][z : x]\n",
        "print(tokenizerFast.decode(predict_answer_tokens))\n",
        "print(train_answers[test_rec]['text'])\n",
        "print(tokenizerFast.decode(train_encodings_fast['input_ids'][test_rec]))"
      ]
    },
    {
      "cell_type": "code",
      "execution_count": null,
      "metadata": {
        "colab": {
          "base_uri": "https://localhost:8080/"
        },
        "id": "PtIxLyd_lkQw",
        "outputId": "978c2e89-3f03-48f1-9a07-2ceb5a254b09"
      },
      "outputs": [
        {
          "name": "stdout",
          "output_type": "stream",
          "text": [
            "dict_keys(['input_ids', 'token_type_ids', 'attention_mask'])\n",
            "dict_keys(['input_ids', 'token_type_ids', 'attention_mask'])\n",
            "3502\n"
          ]
        }
      ],
      "source": [
        "print(train_encodings_fast.keys())\n",
        "print(valid_encodings_fast.keys())\n",
        "print(len(train_encodings_fast['input_ids']))"
      ]
    },
    {
      "cell_type": "code",
      "execution_count": null,
      "metadata": {
        "colab": {
          "base_uri": "https://localhost:8080/"
        },
        "id": "ICYD6IbZlmSe",
        "outputId": "0915c8eb-c7d2-4d7c-9695-194b14ccda17"
      },
      "outputs": [
        {
          "name": "stdout",
          "output_type": "stream",
          "text": [
            "540\n"
          ]
        }
      ],
      "source": [
        "start_positions = []\n",
        "end_positions = []\n",
        "ctr = 0\n",
        "for h in range(len(train_encodings_fast['input_ids'])):\n",
        "    s, e = ret_Answer_start_and_end_train(h)\n",
        "    start_positions.append(s)\n",
        "    end_positions.append(e)\n",
        "    if s==0:\n",
        "        ctr = ctr + 1\n",
        "\n",
        "\n",
        "train_encodings_fast.update({'start_positions': start_positions, 'end_positions': end_positions})\n",
        "print(ctr)"
      ]
    },
    {
      "cell_type": "code",
      "execution_count": null,
      "metadata": {
        "colab": {
          "base_uri": "https://localhost:8080/"
        },
        "id": "JiTddrQNlozS",
        "outputId": "c0b8c385-baad-4f9e-d1ab-99dd60393f0d"
      },
      "outputs": [
        {
          "name": "stdout",
          "output_type": "stream",
          "text": [
            "dict_keys(['input_ids', 'token_type_ids', 'attention_mask', 'start_positions', 'end_positions'])\n",
            "dict_keys(['input_ids', 'token_type_ids', 'attention_mask'])\n",
            "3502\n"
          ]
        }
      ],
      "source": [
        "print(train_encodings_fast.keys())\n",
        "print(valid_encodings_fast.keys())\n",
        "print(len(train_encodings_fast['input_ids']))"
      ]
    },
    {
      "cell_type": "code",
      "execution_count": null,
      "metadata": {
        "colab": {
          "base_uri": "https://localhost:8080/"
        },
        "id": "6q2u3OwTlrSu",
        "outputId": "3d8ca6e4-b56f-4405-da73-ec98773e8122"
      },
      "outputs": [
        {
          "name": "stdout",
          "output_type": "stream",
          "text": [
            "68\n",
            "71\n",
            "singing and dancing\n",
            "singing and dancing\n",
            "[CLS] what areas did beyonce compete in when she was growing up? [SEP] beyonce giselle knowles - carter ( / biːˈjɒnseɪ / bee - yon - say ) ( born september 4, 1981 ) is an american singer, songwriter, record producer and actress. born and raised in houston, texas, she performed in various singing and dancing competitions as a child, and rose to fame in the late 1990s as lead singer of r & b girl - group destiny's child. managed by her father, mathew knowles, the group became one of the world's best - selling girl groups of all time. their hiatus saw the release of beyonce's debut album, dangerously in love ( 2003 ), which established her as a solo artist worldwide, earned five grammy awards and featured the billboard hot 100 number - one singles crazy in love and baby boy. [SEP] [PAD] [PAD] [PAD] [PAD] [PAD] [PAD] [PAD] [PAD] [PAD] [PAD] [PAD] [PAD] [PAD] [PAD] [PAD] [PAD] [PAD] [PAD] [PAD] [PAD] [PAD] [PAD] [PAD] [PAD] [PAD] [PAD] [PAD] [PAD] [PAD] [PAD] [PAD] [PAD] [PAD] [PAD] [PAD] [PAD] [PAD] [PAD] [PAD] [PAD] [PAD] [PAD] [PAD] [PAD] [PAD] [PAD] [PAD] [PAD] [PAD] [PAD] [PAD] [PAD] [PAD] [PAD] [PAD] [PAD] [PAD] [PAD] [PAD] [PAD] [PAD] [PAD] [PAD] [PAD] [PAD] [PAD] [PAD] [PAD] [PAD] [PAD] [PAD] [PAD] [PAD] [PAD] [PAD]\n"
          ]
        }
      ],
      "source": [
        "test_rec = 1\n",
        "print(train_encodings_fast['start_positions'][test_rec])\n",
        "print(train_encodings_fast['end_positions'][test_rec])\n",
        "predict_answer_tokens = train_encodings_fast.input_ids[test_rec][train_encodings_fast['start_positions'][test_rec] : train_encodings_fast['end_positions'][test_rec]]\n",
        "print(tokenizerFast.decode(predict_answer_tokens))\n",
        "print(train_answers[test_rec]['text'])\n",
        "print(tokenizerFast.decode(train_encodings_fast['input_ids'][test_rec]))"
      ]
    },
    {
      "cell_type": "code",
      "execution_count": null,
      "metadata": {
        "id": "Sjm1WSLtl5vK"
      },
      "outputs": [],
      "source": [
        "def ret_Answer_start_and_end_valid(idx):\n",
        "    ret_start = 0\n",
        "    ret_end = 0\n",
        "    answer_encoding_fast = tokenizerFast(valid_answers[idx]['text'],  max_length = MAX_LENGTH, truncation=True, padding=True)\n",
        "    for a in range( len(valid_encodings_fast['input_ids'][idx])  -  len(answer_encoding_fast['input_ids'])   ):\n",
        "        match = True\n",
        "        for i in range(1,len(answer_encoding_fast['input_ids']) - 1):\n",
        "            if (answer_encoding_fast['input_ids'][i] != valid_encodings_fast['input_ids'][idx][a + i]):\n",
        "                match = False\n",
        "                break\n",
        "        if match:\n",
        "            ret_start = a+1\n",
        "            ret_end = a+i+1\n",
        "            break\n",
        "    return(ret_start, ret_end)"
      ]
    },
    {
      "cell_type": "code",
      "execution_count": null,
      "metadata": {
        "colab": {
          "base_uri": "https://localhost:8080/"
        },
        "id": "QE7W5LfQl6cm",
        "outputId": "6154b88f-86ab-4eb7-e4dd-2f9b3add85cb"
      },
      "outputs": [
        {
          "name": "stdout",
          "output_type": "stream",
          "text": [
            "393\n"
          ]
        }
      ],
      "source": [
        "start_positions = []\n",
        "end_positions = []\n",
        "ctr = 0\n",
        "for h in range(len(valid_encodings_fast['input_ids']) ):\n",
        "    s, e = ret_Answer_start_and_end_valid(h)\n",
        "    start_positions.append(s)\n",
        "    end_positions.append(e)\n",
        "    if s==0:\n",
        "        ctr = ctr + 1\n",
        "\n",
        "\n",
        "valid_encodings_fast.update({'start_positions': start_positions, 'end_positions': end_positions})\n",
        "print(ctr)"
      ]
    },
    {
      "cell_type": "code",
      "execution_count": null,
      "metadata": {
        "colab": {
          "base_uri": "https://localhost:8080/"
        },
        "id": "gzERCNesl80M",
        "outputId": "6ff5d427-d638-4d8f-9d49-980589ee0364"
      },
      "outputs": [
        {
          "name": "stdout",
          "output_type": "stream",
          "text": [
            "france\n",
            "france\n",
            "[CLS] in what country is normandy located? [SEP] the normans ( norman : nourmands ; french : normands ; latin : normanni ) were the people who in the 10th and 11th centuries gave their name to normandy, a region in france. they were descended from norse ( \" norman \" comes from \" norseman \" ) raiders and pirates from denmark, iceland and norway who, under their leader rollo, agreed to swear fealty to king charles iii of west francia. through generations of assimilation and mixing with the native frankish and roman - gaulish populations, their descendants would gradually merge with the carolingian - based cultures of west francia. the distinct cultural and ethnic identity of the normans emerged initially in the first half of the 10th century, and it continued to evolve over the succeeding centuries. [SEP] [PAD] [PAD] [PAD] [PAD] [PAD] [PAD] [PAD] [PAD] [PAD] [PAD] [PAD] [PAD] [PAD] [PAD] [PAD] [PAD] [PAD] [PAD] [PAD] [PAD] [PAD] [PAD] [PAD] [PAD] [PAD] [PAD] [PAD] [PAD] [PAD] [PAD] [PAD] [PAD] [PAD] [PAD] [PAD] [PAD] [PAD] [PAD] [PAD] [PAD] [PAD] [PAD] [PAD] [PAD] [PAD] [PAD] [PAD] [PAD] [PAD] [PAD] [PAD] [PAD] [PAD] [PAD] [PAD] [PAD] [PAD] [PAD] [PAD] [PAD] [PAD] [PAD] [PAD] [PAD] [PAD] [PAD] [PAD] [PAD] [PAD] [PAD] [PAD] [PAD] [PAD] [PAD] [PAD] [PAD] [PAD] [PAD] [PAD] [PAD] [PAD] [PAD] [PAD] [PAD]\n"
          ]
        }
      ],
      "source": [
        "test_rec=2\n",
        "\n",
        "z,x = ret_Answer_start_and_end_valid(test_rec)\n",
        "\n",
        "predict_answer_tokens = valid_encodings_fast.input_ids[test_rec][z : x]\n",
        "print(tokenizerFast.decode(predict_answer_tokens))\n",
        "print(valid_answers[test_rec]['text'])\n",
        "print(tokenizerFast.decode(valid_encodings_fast['input_ids'][test_rec]))"
      ]
    },
    {
      "cell_type": "code",
      "execution_count": null,
      "metadata": {
        "colab": {
          "base_uri": "https://localhost:8080/"
        },
        "id": "1J8qhacPl_j2",
        "outputId": "039a21e1-2e42-43e6-b030-229d0569a4bf"
      },
      "outputs": [
        {
          "name": "stdout",
          "output_type": "stream",
          "text": [
            "dict_keys(['input_ids', 'token_type_ids', 'attention_mask', 'start_positions', 'end_positions'])\n",
            "dict_keys(['input_ids', 'token_type_ids', 'attention_mask', 'start_positions', 'end_positions'])\n",
            "3502\n",
            "3502\n",
            "3502\n",
            "20302\n",
            "20302\n",
            "20302\n"
          ]
        }
      ],
      "source": [
        "print(train_encodings_fast.keys())\n",
        "print(valid_encodings_fast.keys())\n",
        "print(len(train_encodings_fast['input_ids']))\n",
        "print(len(train_encodings_fast['start_positions']))\n",
        "print(len(train_encodings_fast['end_positions']))\n",
        "print(len(valid_encodings_fast['input_ids']))\n",
        "print(len(valid_encodings_fast['start_positions']))\n",
        "print(len(valid_encodings_fast['end_positions']))"
      ]
    },
    {
      "cell_type": "code",
      "execution_count": null,
      "metadata": {
        "colab": {
          "base_uri": "https://localhost:8080/",
          "height": 192
        },
        "id": "P946Tcm8mCG8",
        "outputId": "b809986f-919a-4a1f-edce-929c89c8906d"
      },
      "outputs": [
        {
          "data": {
            "application/vnd.google.colaboratory.intrinsic+json": {
              "type": "string"
            },
            "text/plain": [
              "\"[CLS] when did beyonce start becoming popular? [SEP] beyonce giselle knowles - carter ( / biːˈjɒnseɪ / bee - yon - say ) ( born september 4, 1981 ) is an american singer, songwriter, record producer and actress. born and raised in houston, texas, she performed in various singing and dancing competitions as a child, and rose to fame in the late 1990s as lead singer of r & b girl - group destiny's child. managed by her father, mathew knowles, the group became one of the world's best - selling girl groups of all time. their hiatus saw the release of beyonce's debut album, dangerously in love ( 2003 ), which established her as a solo artist worldwide, earned five grammy awards and featured the billboard hot 100 number - one singles crazy in love and baby boy. [SEP] [PAD] [PAD] [PAD] [PAD] [PAD] [PAD] [PAD] [PAD] [PAD] [PAD] [PAD] [PAD] [PAD] [PAD] [PAD] [PAD] [PAD] [PAD] [PAD] [PAD] [PAD] [PAD] [PAD] [PAD] [PAD] [PAD] [PAD] [PAD] [PAD] [PAD] [PAD] [PAD] [PAD] [PAD] [PAD] [PAD] [PAD] [PAD] [PAD] [PAD] [PAD] [PAD] [PAD] [PAD] [PAD] [PAD] [PAD] [PAD] [PAD] [PAD] [PAD] [PAD] [PAD] [PAD] [PAD] [PAD] [PAD] [PAD] [PAD] [PAD] [PAD] [PAD] [PAD] [PAD] [PAD] [PAD] [PAD] [PAD] [PAD] [PAD] [PAD] [PAD] [PAD] [PAD] [PAD] [PAD] [PAD] [PAD] [PAD] [PAD]\""
            ]
          },
          "execution_count": 36,
          "metadata": {},
          "output_type": "execute_result"
        }
      ],
      "source": [
        "tokenizerFast.decode(train_encodings_fast['input_ids'][0])"
      ]
    },
    {
      "cell_type": "code",
      "execution_count": null,
      "metadata": {
        "colab": {
          "base_uri": "https://localhost:8080/"
        },
        "id": "vWtneUXXmFiw",
        "outputId": "1e2a4e7f-51ea-4b66-9352-dcb7e8e23f9c"
      },
      "outputs": [
        {
          "name": "stdout",
          "output_type": "stream",
          "text": [
            "in the late 1990s\n"
          ]
        }
      ],
      "source": [
        "test_row= 0\n",
        "print(train_contexts[test_row][train_answers[test_row]['answer_start']:train_answers[test_row]['answer_end']])"
      ]
    },
    {
      "cell_type": "code",
      "execution_count": null,
      "metadata": {
        "colab": {
          "base_uri": "https://localhost:8080/",
          "height": 88
        },
        "id": "1rhLm8BEmPNF",
        "outputId": "dba4456d-d568-486a-9ac4-250c885d6420"
      },
      "outputs": [
        {
          "data": {
            "application/vnd.google.colaboratory.intrinsic+json": {
              "type": "string"
            },
            "text/plain": [
              "\"[CLS] when did beyonce start becoming popular? [SEP] beyonce giselle knowles - carter ( / biːˈjɒnseɪ / bee - yon - say ) ( born september 4, 1981 ) is an american singer, songwriter, record producer and actress. born and raised in houston, texas, she performed in various singing and dancing competitions as a child, and rose to fame in the late 1990s as lead singer of r & b girl - group destiny's child. managed by her father, mathew\""
            ]
          },
          "execution_count": 38,
          "metadata": {},
          "output_type": "execute_result"
        }
      ],
      "source": [
        "answer_start_index = 0\n",
        "answer_end_index = 100\n",
        "\n",
        "predict_answer_tokens = train_encodings_fast.input_ids[0][answer_start_index : answer_end_index]\n",
        "tokenizerFast.decode(predict_answer_tokens)"
      ]
    },
    {
      "cell_type": "code",
      "execution_count": null,
      "metadata": {
        "id": "af6KAyJOmQHH"
      },
      "outputs": [],
      "source": [
        "class InputDataset(Dataset):\n",
        "    def __init__(self, encodings):\n",
        "        self.encodings = encodings\n",
        "    def __getitem__(self, i):\n",
        "        return {\n",
        "            'input_ids': torch.tensor(self.encodings['input_ids'][i]),\n",
        "            'token_type_ids': torch.tensor(self.encodings['token_type_ids'][i]),\n",
        "            'attention_mask': torch.tensor(self.encodings['attention_mask'][i]),\n",
        "            'start_positions': torch.tensor(self.encodings['start_positions'][i]),\n",
        "            'end_positions': torch.tensor(self.encodings['end_positions'][i])\n",
        "        }\n",
        "    def __len__(self):\n",
        "        return len(self.encodings['input_ids'])"
      ]
    },
    {
      "cell_type": "code",
      "execution_count": null,
      "metadata": {
        "id": "CYs3C1ZTmVYj"
      },
      "outputs": [],
      "source": [
        "train_dataset = InputDataset(train_encodings_fast)\n",
        "valid_dataset = InputDataset(valid_encodings_fast)"
      ]
    },
    {
      "cell_type": "code",
      "execution_count": null,
      "metadata": {
        "id": "aCbDXOonn8tL"
      },
      "outputs": [],
      "source": [
        "batch_1 = 2\n",
        "batch_2 = 2\n",
        "dropout_val = 0.001\n",
        "learnin_rate = 9*2e-6\n",
        "weight_decay_val = 9*2e-3\n",
        "no_of_epochs = 11"
      ]
    },
    {
      "cell_type": "code",
      "execution_count": null,
      "metadata": {
        "id": "AXp-NSeqnZZi"
      },
      "outputs": [],
      "source": [
        "train_data_loader = DataLoader(train_dataset, batch_size=batch_1, shuffle=True)   #from 16 and 32 to 2 and 4\n",
        "valid_data_loader = DataLoader(valid_dataset, batch_size=batch_2)"
      ]
    },
    {
      "cell_type": "code",
      "execution_count": null,
      "metadata": {
        "colab": {
          "base_uri": "https://localhost:8080/"
        },
        "id": "eQ_EDDEFmYLw",
        "outputId": "08d351d3-6898-4f4c-f368-6a90e8b7c328"
      },
      "outputs": [
        {
          "name": "stdout",
          "output_type": "stream",
          "text": [
            "3502\n",
            "dict_keys(['input_ids', 'token_type_ids', 'attention_mask', 'start_positions', 'end_positions'])\n"
          ]
        }
      ],
      "source": [
        "print(len(train_dataset))\n",
        "print(train_dataset[0].keys())"
      ]
    },
    {
      "cell_type": "code",
      "execution_count": null,
      "metadata": {
        "id": "mCRrZhGymbRy"
      },
      "outputs": [],
      "source": [
        "bert_model = BertModel.from_pretrained(MODEL_PATH)\n",
        "class QAModel(nn.Module):\n",
        "    def __init__(self):\n",
        "        super(QAModel, self).__init__()\n",
        "        self.bert = bert_model\n",
        "        self.drop_out = nn.Dropout(dropout_val)    #changed from 0.1 to 0.2\n",
        "        self.l1 = nn.Linear(768 * 2, 768 * 2)\n",
        "        self.l2 = nn.Linear(768 * 2, 2)\n",
        "        self.linear_relu_stack = nn.Sequential(\n",
        "            self.drop_out,\n",
        "            self.l1,\n",
        "            nn.LeakyReLU(),\n",
        "            self.l2\n",
        "        )\n",
        "\n",
        "    def forward(self, input_ids, attention_mask, token_type_ids):\n",
        "        model_output = self.bert(input_ids, attention_mask=attention_mask, token_type_ids=token_type_ids, output_hidden_states=True)\n",
        "        hidden_states = model_output[2]\n",
        "        out = torch.cat((hidden_states[-1], hidden_states[-3]), dim=-1)\n",
        "        logits = self.linear_relu_stack(out)\n",
        "\n",
        "        start_logits, end_logits = logits.split(1, dim=-1)\n",
        "\n",
        "        start_logits = start_logits.squeeze(-1)\n",
        "        end_logits = end_logits.squeeze(-1)\n",
        "\n",
        "        return start_logits, end_logits"
      ]
    },
    {
      "cell_type": "code",
      "execution_count": null,
      "metadata": {
        "id": "LEpjEiWTmmWA"
      },
      "outputs": [],
      "source": [
        "model = QAModel()"
      ]
    },
    {
      "cell_type": "code",
      "execution_count": null,
      "metadata": {
        "colab": {
          "base_uri": "https://localhost:8080/"
        },
        "id": "bU7z9HGymnpt",
        "outputId": "0d0472ea-52f1-41c1-d956-ef5afb4e1735"
      },
      "outputs": [
        {
          "name": "stdout",
          "output_type": "stream",
          "text": [
            "cuda\n"
          ]
        }
      ],
      "source": [
        "device = torch.device('cuda') if torch.cuda.is_available() else torch.device('cpu')\n",
        "print(device)"
      ]
    },
    {
      "cell_type": "code",
      "execution_count": null,
      "metadata": {
        "id": "VqZ1wlH6mrL2"
      },
      "outputs": [],
      "source": [
        "def loss_fn(start_logits, end_logits, start_positions, end_positions):\n",
        "    loss_fct = nn.CrossEntropyLoss()\n",
        "    start_loss = loss_fct(start_logits, start_positions)\n",
        "    end_loss = loss_fct(end_logits, end_positions)\n",
        "    total_loss = (start_loss + end_loss)/2\n",
        "    return total_loss"
      ]
    },
    {
      "cell_type": "code",
      "execution_count": null,
      "metadata": {
        "id": "QXPeNiHHmtYN"
      },
      "outputs": [],
      "source": [
        "def focal_loss_fn(start_logits, end_logits, start_positions, end_positions, gamma):\n",
        "\n",
        "    smax = nn.Softmax(dim=1)\n",
        "    probs_start = smax(start_logits)\n",
        "    inv_probs_start = 1 - probs_start\n",
        "    probs_end = smax(end_logits)\n",
        "    inv_probs_end = 1 - probs_end\n",
        "\n",
        "    lsmax = nn.LogSoftmax(dim=1)\n",
        "    log_probs_start = lsmax(start_logits)\n",
        "    log_probs_end = lsmax(end_logits)\n",
        "\n",
        "    nll = nn.NLLLoss()\n",
        "\n",
        "    fl_start = nll(torch.pow(inv_probs_start, gamma)* log_probs_start, start_positions)\n",
        "    fl_end = nll(torch.pow(inv_probs_end, gamma)*log_probs_end, end_positions)\n",
        "\n",
        "    return ((fl_start + fl_end)/2)"
      ]
    },
    {
      "cell_type": "code",
      "execution_count": null,
      "metadata": {
        "colab": {
          "base_uri": "https://localhost:8080/"
        },
        "id": "0eRAb9xgmvm2",
        "outputId": "040eb691-e257-4a7e-dda0-65c3f0e4a06e"
      },
      "outputs": [
        {
          "name": "stderr",
          "output_type": "stream",
          "text": [
            "/usr/local/lib/python3.10/dist-packages/transformers/optimization.py:411: FutureWarning: This implementation of AdamW is deprecated and will be removed in a future version. Use the PyTorch implementation torch.optim.AdamW instead, or set `no_deprecation_warning=True` to disable this warning\n",
            "  warnings.warn(\n"
          ]
        }
      ],
      "source": [
        "optim = AdamW(model.parameters(), lr=learnin_rate, weight_decay=weight_decay_val)    #changed from 2e-5 to 2e-6 and from 2e-2 to 2e-3\n",
        "scheduler = ExponentialLR(optim, gamma=0.9)\n",
        "total_acc = []\n",
        "total_loss = []"
      ]
    },
    {
      "cell_type": "code",
      "execution_count": null,
      "metadata": {
        "id": "DIyurgP5mx3n"
      },
      "outputs": [],
      "source": [
        "def train_epoch(model, dataloader, epoch):\n",
        "    model = model.train()\n",
        "    losses = []\n",
        "    acc = []\n",
        "    ctr = 0\n",
        "    batch_tracker = 0\n",
        "    for batch in tqdm(dataloader, desc = 'Running Epoch '):\n",
        "        optim.zero_grad()\n",
        "        input_ids = batch['input_ids'].to(device)\n",
        "        attention_mask = batch['attention_mask'].to(device)\n",
        "        token_type_ids = batch['token_type_ids'].to(device)\n",
        "        start_positions = batch['start_positions'].to(device)\n",
        "        end_positions = batch['end_positions'].to(device)\n",
        "        out_start, out_end = model(input_ids=input_ids,\n",
        "                attention_mask=attention_mask,\n",
        "                token_type_ids=token_type_ids)\n",
        "        loss = focal_loss_fn(out_start, out_end, start_positions, end_positions,1)\n",
        "        losses.append(loss.item())\n",
        "        loss.backward()\n",
        "        optim.step()\n",
        "        #print(out_start)\n",
        "\n",
        "        # for iter in range(16):\n",
        "        #   print(tokenizerFast.decode(input_ids[iter]))\n",
        "\n",
        "        # print(out_start.size())\n",
        "        start_pred = torch.argmax(out_start, dim=1)\n",
        "        end_pred = torch.argmax(out_end, dim=1)\n",
        "        #print(\"\\n\")\n",
        "        #print((type(start_positions)))\n",
        "        #print(type(start_pred))\n",
        "\n",
        "        # for iter in range(16):\n",
        "        #   print(\"pred\")\n",
        "        #   print(tokenizerFast.convert_tokens_to_string(tokenizerFast.convert_ids_to_tokens(input_ids[iter][start_pred[iter] : end_pred[iter]])))\n",
        "        #   print(\"true ans\")\n",
        "        #   print(tokenizerFast.convert_tokens_to_string(tokenizerFast.convert_ids_to_tokens(input_ids[iter][start_positions[iter] : end_positions[iter]])))\n",
        "\n",
        "        #print(start_pred)\n",
        "        #print(start_positions)\n",
        "\n",
        "        acc.append(((start_pred == start_positions).sum()/len(start_pred)).item())\n",
        "        acc.append(((end_pred == end_positions).sum()/len(end_pred)).item())\n",
        "\n",
        "        #print(f\"acc1 is {acc[-2]} acc2 is {acc[-1]}\")\n",
        "        #print(\"\\n\")\n",
        "\n",
        "        batch_tracker = batch_tracker + 1\n",
        "        if batch_tracker==250 and epoch==1:\n",
        "            total_acc.append(sum(acc)/len(acc))\n",
        "            loss_avg = sum(losses)/len(losses)\n",
        "            total_loss.append(loss_avg)\n",
        "            batch_tracker = 0\n",
        "    scheduler.step()\n",
        "    ret_acc = sum(acc)/len(acc)\n",
        "    ret_loss = sum(losses)/len(losses)\n",
        "    return(ret_acc, ret_loss)"
      ]
    },
    {
      "cell_type": "code",
      "execution_count": null,
      "metadata": {
        "id": "9QbM2afLm59c"
      },
      "outputs": [],
      "source": [
        "def eval_model(model, dataloader):\n",
        "    model = model.eval()\n",
        "    losses = []\n",
        "    acc = []\n",
        "    ctr = 0\n",
        "    with torch.no_grad():\n",
        "        for batch in tqdm(dataloader, desc = 'Running Evaluation'):\n",
        "            input_ids = batch['input_ids'].to(device)\n",
        "            attention_mask = batch['attention_mask'].to(device)\n",
        "            token_type_ids = batch['token_type_ids'].to(device)\n",
        "            start_true = batch['start_positions'].to(device)\n",
        "            end_true = batch['end_positions'].to(device)\n",
        "\n",
        "            out_start, out_end = model(input_ids=input_ids,\n",
        "                attention_mask=attention_mask,\n",
        "                token_type_ids=token_type_ids)\n",
        "\n",
        "            start_pred = torch.argmax(out_start, dim=1)\n",
        "            end_pred = torch.argmax(out_end, dim=1)\n",
        "\n",
        "            acc.append(((start_pred == start_true).sum()/len(start_pred)).item())\n",
        "            acc.append(((end_pred == end_true).sum()/len(end_pred)).item())\n",
        "        ret_acc = sum(acc)/len(acc)\n",
        "        ret_loss = 0\n",
        "    return(ret_acc)"
      ]
    },
    {
      "cell_type": "code",
      "execution_count": null,
      "metadata": {
        "colab": {
          "base_uri": "https://localhost:8080/"
        },
        "id": "Lngqw5atm_ro",
        "outputId": "4590a201-392f-4070-a8eb-053c8a1411c0"
      },
      "outputs": [
        {
          "name": "stdout",
          "output_type": "stream",
          "text": [
            "current epoch is 1\n"
          ]
        },
        {
          "name": "stderr",
          "output_type": "stream",
          "text": [
            "Running Epoch : 100%|██████████| 1751/1751 [03:35<00:00,  8.13it/s]\n"
          ]
        },
        {
          "name": "stdout",
          "output_type": "stream",
          "text": [
            "Train Accuracy: 0.4368932038834951      Train Loss: 2.11873659923745\n"
          ]
        },
        {
          "name": "stderr",
          "output_type": "stream",
          "text": [
            "Running Evaluation: 100%|██████████| 10151/10151 [05:49<00:00, 29.04it/s]\n"
          ]
        },
        {
          "name": "stdout",
          "output_type": "stream",
          "text": [
            "Validation Accuracy: 0.48524775884149346\n",
            "current epoch is 2\n"
          ]
        },
        {
          "name": "stderr",
          "output_type": "stream",
          "text": [
            "Running Epoch : 100%|██████████| 1751/1751 [03:42<00:00,  7.88it/s]\n"
          ]
        },
        {
          "name": "stdout",
          "output_type": "stream",
          "text": [
            "Train Accuracy: 0.6866076527698458      Train Loss: 0.8502418120456623\n"
          ]
        },
        {
          "name": "stderr",
          "output_type": "stream",
          "text": [
            "Running Evaluation: 100%|██████████| 10151/10151 [05:51<00:00, 28.90it/s]\n"
          ]
        },
        {
          "name": "stdout",
          "output_type": "stream",
          "text": [
            "Validation Accuracy: 0.5020195054674417\n",
            "current epoch is 3\n"
          ]
        },
        {
          "name": "stderr",
          "output_type": "stream",
          "text": [
            "Running Epoch : 100%|██████████| 1751/1751 [03:42<00:00,  7.88it/s]\n"
          ]
        },
        {
          "name": "stdout",
          "output_type": "stream",
          "text": [
            "Train Accuracy: 0.7925471159337522      Train Loss: 0.45170621054659954\n"
          ]
        },
        {
          "name": "stderr",
          "output_type": "stream",
          "text": [
            "Running Evaluation: 100%|██████████| 10151/10151 [05:50<00:00, 28.99it/s]\n"
          ]
        },
        {
          "name": "stdout",
          "output_type": "stream",
          "text": [
            "Validation Accuracy: 0.4881538764653729\n",
            "current epoch is 4\n"
          ]
        },
        {
          "name": "stderr",
          "output_type": "stream",
          "text": [
            "Running Epoch : 100%|██████████| 1751/1751 [03:41<00:00,  7.89it/s]\n"
          ]
        },
        {
          "name": "stdout",
          "output_type": "stream",
          "text": [
            "Train Accuracy: 0.8349514563106796      Train Loss: 0.3060661618406196\n"
          ]
        },
        {
          "name": "stderr",
          "output_type": "stream",
          "text": [
            "Running Evaluation: 100%|██████████| 10151/10151 [05:51<00:00, 28.87it/s]\n"
          ]
        },
        {
          "name": "stdout",
          "output_type": "stream",
          "text": [
            "Validation Accuracy: 0.4787951925918629\n",
            "current epoch is 5\n"
          ]
        },
        {
          "name": "stderr",
          "output_type": "stream",
          "text": [
            "Running Epoch : 100%|██████████| 1751/1751 [03:40<00:00,  7.93it/s]\n"
          ]
        },
        {
          "name": "stdout",
          "output_type": "stream",
          "text": [
            "Train Accuracy: 0.8692175899486008      Train Loss: 0.23756470023762077\n"
          ]
        },
        {
          "name": "stderr",
          "output_type": "stream",
          "text": [
            "Running Evaluation: 100%|██████████| 10151/10151 [05:50<00:00, 28.99it/s]\n"
          ]
        },
        {
          "name": "stdout",
          "output_type": "stream",
          "text": [
            "Validation Accuracy: 0.49665057629790166\n",
            "current epoch is 6\n"
          ]
        },
        {
          "name": "stderr",
          "output_type": "stream",
          "text": [
            "Running Epoch : 100%|██████████| 1751/1751 [03:40<00:00,  7.93it/s]\n"
          ]
        },
        {
          "name": "stdout",
          "output_type": "stream",
          "text": [
            "Train Accuracy: 0.8923472301541976      Train Loss: 0.17727114768040517\n"
          ]
        },
        {
          "name": "stderr",
          "output_type": "stream",
          "text": [
            "Running Evaluation: 100%|██████████| 10151/10151 [05:50<00:00, 28.97it/s]\n"
          ]
        },
        {
          "name": "stdout",
          "output_type": "stream",
          "text": [
            "Validation Accuracy: 0.49857156930351687\n",
            "current epoch is 7\n"
          ]
        },
        {
          "name": "stderr",
          "output_type": "stream",
          "text": [
            "Running Epoch : 100%|██████████| 1751/1751 [03:41<00:00,  7.91it/s]\n"
          ]
        },
        {
          "name": "stdout",
          "output_type": "stream",
          "text": [
            "Train Accuracy: 0.9066247858366647      Train Loss: 0.14509804058499864\n"
          ]
        },
        {
          "name": "stderr",
          "output_type": "stream",
          "text": [
            "Running Evaluation: 100%|██████████| 10151/10151 [05:50<00:00, 28.96it/s]\n"
          ]
        },
        {
          "name": "stdout",
          "output_type": "stream",
          "text": [
            "Validation Accuracy: 0.5010836370800906\n",
            "current epoch is 8\n"
          ]
        },
        {
          "name": "stderr",
          "output_type": "stream",
          "text": [
            "Running Epoch : 100%|██████████| 1751/1751 [03:41<00:00,  7.91it/s]\n"
          ]
        },
        {
          "name": "stdout",
          "output_type": "stream",
          "text": [
            "Train Accuracy: 0.9249000571102227      Train Loss: 0.121558213819697\n"
          ]
        },
        {
          "name": "stderr",
          "output_type": "stream",
          "text": [
            "Running Evaluation: 100%|██████████| 10151/10151 [05:49<00:00, 29.04it/s]\n"
          ]
        },
        {
          "name": "stdout",
          "output_type": "stream",
          "text": [
            "Validation Accuracy: 0.47970643286375725\n",
            "current epoch is 9\n"
          ]
        },
        {
          "name": "stderr",
          "output_type": "stream",
          "text": [
            "Running Epoch : 100%|██████████| 1751/1751 [03:41<00:00,  7.89it/s]\n"
          ]
        },
        {
          "name": "stdout",
          "output_type": "stream",
          "text": [
            "Train Accuracy: 0.9274700171330669      Train Loss: 0.10656259522838435\n"
          ]
        },
        {
          "name": "stderr",
          "output_type": "stream",
          "text": [
            "Running Evaluation: 100%|██████████| 10151/10151 [05:49<00:00, 29.06it/s]\n"
          ]
        },
        {
          "name": "stdout",
          "output_type": "stream",
          "text": [
            "Validation Accuracy: 0.5007634715791548\n",
            "current epoch is 10\n"
          ]
        },
        {
          "name": "stderr",
          "output_type": "stream",
          "text": [
            "Running Epoch : 100%|██████████| 1751/1751 [03:41<00:00,  7.91it/s]\n"
          ]
        },
        {
          "name": "stdout",
          "output_type": "stream",
          "text": [
            "Train Accuracy: 0.9466019417475728      Train Loss: 0.0748632810551429\n"
          ]
        },
        {
          "name": "stderr",
          "output_type": "stream",
          "text": [
            "Running Evaluation: 100%|██████████| 10151/10151 [05:51<00:00, 28.91it/s]\n"
          ]
        },
        {
          "name": "stdout",
          "output_type": "stream",
          "text": [
            "Validation Accuracy: 0.5015515712737662\n",
            "current epoch is 11\n"
          ]
        },
        {
          "name": "stderr",
          "output_type": "stream",
          "text": [
            "Running Epoch : 100%|██████████| 1751/1751 [03:41<00:00,  7.91it/s]\n"
          ]
        },
        {
          "name": "stdout",
          "output_type": "stream",
          "text": [
            "Train Accuracy: 0.953026841804683      Train Loss: 0.07538000241913517\n"
          ]
        },
        {
          "name": "stderr",
          "output_type": "stream",
          "text": [
            "Running Evaluation: 100%|██████████| 10151/10151 [05:50<00:00, 28.96it/s]"
          ]
        },
        {
          "name": "stdout",
          "output_type": "stream",
          "text": [
            "Validation Accuracy: 0.4718254359176436\n"
          ]
        },
        {
          "name": "stderr",
          "output_type": "stream",
          "text": [
            "\n"
          ]
        }
      ],
      "source": [
        "EPOCHS = no_of_epochs\n",
        "\n",
        "model.to(device)\n",
        "curr_epoch = 0\n",
        "for epoch in range(EPOCHS):\n",
        "    curr_epoch += 1\n",
        "    print(f\"current epoch is {curr_epoch}\")\n",
        "    train_acc, train_loss = train_epoch(model, train_data_loader, epoch+1)\n",
        "    print(f\"Train Accuracy: {train_acc}      Train Loss: {train_loss}\")\n",
        "    val_acc = eval_model(model, valid_data_loader)\n",
        "    print(f\"Validation Accuracy: {val_acc}\")"
      ]
    },
    {
      "cell_type": "code",
      "execution_count": null,
      "metadata": {
        "id": "v9sAnwXAgvUD"
      },
      "outputs": [],
      "source": [
        "from google.colab import output\n",
        "output.eval_js('new Audio(\"https://upload.wikimedia.org/wikipedia/commons/0/05/Beep-09.ogg\").play()')"
      ]
    },
    {
      "cell_type": "code",
      "execution_count": null,
      "metadata": {
        "colab": {
          "base_uri": "https://localhost:8080/"
        },
        "id": "_zIDBgcWnWSw",
        "outputId": "b4ee2155-a10d-4366-dd4e-47f63114a965"
      },
      "outputs": [
        {
          "data": {
            "text/plain": [
              "[5.648590729620001e-06]"
            ]
          },
          "execution_count": 54,
          "metadata": {},
          "output_type": "execute_result"
        }
      ],
      "source": [
        "scheduler.get_last_lr()"
      ]
    },
    {
      "cell_type": "code",
      "execution_count": null,
      "metadata": {
        "colab": {
          "base_uri": "https://localhost:8080/"
        },
        "id": "kuuuXjtcftH6",
        "outputId": "7bae68f2-9a11-4d31-b859-2019909f8f64"
      },
      "outputs": [
        {
          "name": "stdout",
          "output_type": "stream",
          "text": [
            "0.953026841804683\n"
          ]
        }
      ],
      "source": [
        "print(train_acc)"
      ]
    },
    {
      "cell_type": "code",
      "execution_count": null,
      "metadata": {
        "colab": {
          "base_uri": "https://localhost:8080/",
          "height": 472
        },
        "id": "VAZyuRRMPYQ2",
        "outputId": "9ef16a14-cf50-4d1d-bf59-2bf59fabacfc"
      },
      "outputs": [
        {
          "data": {
            "image/png": "[encoded data removed]",
            "text/plain": [
              "<Figure size 640x480 with 1 Axes>"
            ]
          },
          "metadata": {},
          "output_type": "display_data"
        }
      ],
      "source": [
        "plt.plot(total_acc, color='blue')\n",
        "plt.ylabel('Accuracy')\n",
        "plt.xlabel('Runs->')\n",
        "plt.title(\"Total Train Accuracy over time\");"
      ]
    },
    {
      "cell_type": "code",
      "execution_count": null,
      "metadata": {
        "colab": {
          "base_uri": "https://localhost:8080/",
          "height": 472
        },
        "id": "_eMzxdQwPZPu",
        "outputId": "cb360639-23de-49dd-cb25-02d4b5689e40"
      },
      "outputs": [
        {
          "data": {
            "image/png": "[encoded data removed]",
            "text/plain": [
              "<Figure size 640x480 with 1 Axes>"
            ]
          },
          "metadata": {},
          "output_type": "display_data"
        }
      ],
      "source": [
        "plt.plot(total_loss, color='red')\n",
        "plt.ylabel('Loss')\n",
        "plt.xlabel('Runs->')\n",
        "plt.title(\"Total Train Loss over time\");"
      ]
    },
    {
      "cell_type": "code",
      "execution_count": null,
      "metadata": {
        "id": "_IaYHoq6P3k6"
      },
      "outputs": [],
      "source": [
        "def get_answer(question, context):\n",
        "    inputs = tokenizerFast.encode_plus(question, context, return_tensors='pt').to(device)\n",
        "    with torch.no_grad():\n",
        "        output_start, output_end = model(**inputs)\n",
        "\n",
        "        answer_start = torch.argmax(output_start)\n",
        "        answer_end = torch.argmax(output_end)\n",
        "\n",
        "        answer = tokenizerFast.convert_tokens_to_string(tokenizerFast.convert_ids_to_tokens(inputs['input_ids'][0][answer_start:answer_end]))\n",
        "\n",
        "        return(answer)"
      ]
    },
    {
      "cell_type": "code",
      "execution_count": null,
      "metadata": {
        "colab": {
          "base_uri": "https://localhost:8080/"
        },
        "id": "FOdm7O7SP9Nq",
        "outputId": "442dde69-0a16-4e22-e590-0bc1b5c7758f"
      },
      "outputs": [
        {
          "name": "stdout",
          "output_type": "stream",
          "text": [
            "Context: the normans (norman: nourmands; french: normands; latin: normanni) were the people who in the 10th and 11th centuries gave their name to normandy, a region in france. they were descended from norse (\"norman\" comes from \"norseman\") raiders and pirates from denmark, iceland and norway who, under their leader rollo, agreed to swear fealty to king charles iii of west francia. through generations of assimilation and mixing with the native frankish and roman-gaulish populations, their descendants would gradually merge with the carolingian-based cultures of west francia. the distinct cultural and ethnic identity of the normans emerged initially in the first half of the 10th century, and it continued to evolve over the succeeding centuries.\n",
            "Question: in what country is normandy located?\n",
            "Expected Answer: {'text': 'france', 'answer_start': 159, 'answer_end': 165}\n",
            "Predicted Answer: france\n"
          ]
        }
      ],
      "source": [
        "test_rec = 0\n",
        "\n",
        "print(f\"Context: {valid_contexts[test_rec]}\")\n",
        "print(f\"Question: {valid_questions[test_rec]}\")\n",
        "print(f\"Expected Answer: {valid_answers[test_rec]}\")\n",
        "\n",
        "context = valid_contexts[test_rec]\n",
        "question = valid_questions[test_rec]\n",
        "\n",
        "print(f\"Predicted Answer: {get_answer(question, context)}\")"
      ]
    },
    {
      "cell_type": "code",
      "execution_count": null,
      "metadata": {
        "colab": {
          "base_uri": "https://localhost:8080/"
        },
        "id": "Sx6eFMHHP-6T",
        "outputId": "a9ebd5ae-484e-41ba-e9bf-e18b3852d578"
      },
      "outputs": [
        {
          "name": "stdout",
          "output_type": "stream",
          "text": [
            "Context: the normans (norman: nourmands; french: normands; latin: normanni) were the people who in the 10th and 11th centuries gave their name to normandy, a region in france. they were descended from norse (\"norman\" comes from \"norseman\") raiders and pirates from denmark, iceland and norway who, under their leader rollo, agreed to swear fealty to king charles iii of west francia. through generations of assimilation and mixing with the native frankish and roman-gaulish populations, their descendants would gradually merge with the carolingian-based cultures of west francia. the distinct cultural and ethnic identity of the normans emerged initially in the first half of the 10th century, and it continued to evolve over the succeeding centuries.\n",
            "Question: who was the norse leader?\n",
            "Expected Answer: {'text': 'rollo', 'answer_start': 308, 'answer_end': 313}\n",
            "Predicted Answer: rollo\n"
          ]
        }
      ],
      "source": [
        "test_rec = 15\n",
        "\n",
        "print(f\"Context: {valid_contexts[test_rec]}\")\n",
        "print(f\"Question: {valid_questions[test_rec]}\")\n",
        "print(f\"Expected Answer: {valid_answers[test_rec]}\")\n",
        "\n",
        "context = valid_contexts[test_rec]\n",
        "question = valid_questions[test_rec]\n",
        "\n",
        "print(f\"Predicted Answer: {get_answer(question, context)}\")"
      ]
    },
    {
      "cell_type": "code",
      "execution_count": null,
      "metadata": {
        "colab": {
          "base_uri": "https://localhost:8080/"
        },
        "id": "MLMMxYTqQDQz",
        "outputId": "ac3a1fe4-17ab-4923-e19e-51b92f1e7fcc"
      },
      "outputs": [
        {
          "name": "stdout",
          "output_type": "stream",
          "text": [
            "Context: the norman dynasty had a major political, cultural and military impact on medieval europe and even the near east. the normans were famed for their martial spirit and eventually for their christian piety, becoming exponents of the catholic orthodoxy into which they assimilated. they adopted the gallo-romance language of the frankish land they settled, their dialect becoming known as norman, normaund or norman french, an important literary language. the duchy of normandy, which they formed by treaty with the french crown, was a great fief of medieval france, and under richard i of normandy was forged into a cohesive and formidable principality in feudal tenure. the normans are noted both for their culture, such as their unique romanesque architecture and musical traditions, and for their significant military accomplishments and innovations. norman adventurers founded the kingdom of sicily under roger ii after conquering southern italy on the saracens and byzantines, and an expedition on behalf of their duke, william the conqueror, led to the norman conquest of england at the battle of hastings in 1066. norman cultural and military influence spread from these new european centres to the crusader states of the near east, where their prince bohemond i founded the principality of antioch in the levant, to scotland and wales in great britain, to ireland, and to the coasts of north africa and the canary islands.\n",
            "Question: what religion were the normans\n",
            "Expected Answer: {'text': 'catholic', 'answer_start': 230, 'answer_end': 238}\n",
            "Predicted Answer: \n"
          ]
        }
      ],
      "source": [
        "test_rec = 28\n",
        "\n",
        "print(f\"Context: {valid_contexts[test_rec]}\")\n",
        "print(f\"Question: {valid_questions[test_rec]}\")\n",
        "print(f\"Expected Answer: {valid_answers[test_rec]}\")\n",
        "\n",
        "context = valid_contexts[test_rec]\n",
        "question = valid_questions[test_rec]\n",
        "\n",
        "print(f\"Predicted Answer: {get_answer(question, context)}\")"
      ]
    },
    {
      "cell_type": "code",
      "execution_count": null,
      "metadata": {
        "colab": {
          "base_uri": "https://localhost:8080/"
        },
        "id": "yKUxRysGQFpF",
        "outputId": "5256dadf-e165-4b2a-93b8-2c8487fa6dcd"
      },
      "outputs": [
        {
          "name": "stdout",
          "output_type": "stream",
          "text": [
            "Context: as of august 2010, victoria had 1,548 public schools, 489 catholic schools and 214 independent schools. just under 540,800 students were enrolled in public schools, and just over 311,800 in private schools. over 61 per cent of private students attend catholic schools. more than 462,000 students were enrolled in primary schools and more than 390,000 in secondary schools. retention rates for the final two years of secondary school were 77 per cent for public school students and 90 per cent for private school students. victoria has about 63,519 full-time teachers.\n",
            "Question: how many full time teachers does victoria have?\n",
            "Expected Answer: {'text': '63,519', 'answer_start': 541, 'answer_end': 547}\n",
            "Predicted Answer: \n"
          ]
        }
      ],
      "source": [
        "test_rec = 2000\n",
        "\n",
        "print(f\"Context: {valid_contexts[test_rec]}\")\n",
        "print(f\"Question: {valid_questions[test_rec]}\")\n",
        "print(f\"Expected Answer: {valid_answers[test_rec]}\")\n",
        "\n",
        "context = valid_contexts[test_rec]\n",
        "question = valid_questions[test_rec]\n",
        "\n",
        "print(f\"Predicted Answer: {get_answer(question, context)}\")"
      ]
    },
    {
      "cell_type": "code",
      "execution_count": null,
      "metadata": {
        "colab": {
          "base_uri": "https://localhost:8080/"
        },
        "id": "nJZldSLQQJAk",
        "outputId": "dc6b4847-d883-4527-8b73-7052696ac45d"
      },
      "outputs": [
        {
          "name": "stdout",
          "output_type": "stream",
          "text": [
            "Context: oxygen is more soluble in water than nitrogen is. water in equilibrium with air contains approximately 1 molecule of dissolved o\n",
            "2 for every 2 molecules of n\n",
            "2, compared to an atmospheric ratio of approximately 1:4. the solubility of oxygen in water is temperature-dependent, and about twice as much (14.6 mg·l−1) dissolves at 0 °c than at 20 °c (7.6 mg·l−1). at 25 °c and 1 standard atmosphere (101.3 kpa) of air, freshwater contains about 6.04 milliliters (ml) of oxygen per liter, whereas seawater contains about 4.95 ml per liter. at 5 °c the solubility increases to 9.0 ml (50% more than at 25 °c) per liter for water and 7.2 ml (45% more) per liter for sea water.\n",
            "Question: how much oxygen is found is a liter of fresh water under normal conditions?\n",
            "Expected Answer: {'text': '6.04 milliliters', 'answer_start': 441, 'answer_end': 457}\n",
            "Predicted Answer: \n"
          ]
        }
      ],
      "source": [
        "test_rec = 4000\n",
        "\n",
        "print(f\"Context: {valid_contexts[test_rec]}\")\n",
        "print(f\"Question: {valid_questions[test_rec]}\")\n",
        "print(f\"Expected Answer: {valid_answers[test_rec]}\")\n",
        "\n",
        "context = valid_contexts[test_rec]\n",
        "question = valid_questions[test_rec]\n",
        "\n",
        "print(f\"Predicted Answer: {get_answer(question, context)}\")"
      ]
    },
    {
      "cell_type": "code",
      "execution_count": null,
      "metadata": {
        "colab": {
          "base_uri": "https://localhost:8080/"
        },
        "id": "zKKKlWTTS5Ks",
        "outputId": "06a4a228-90f6-42ba-a78d-a9e1e539c99c"
      },
      "outputs": [
        {
          "name": "stdout",
          "output_type": "stream",
          "text": [
            "Predicted Answer: 5\n"
          ]
        }
      ],
      "source": [
        "context = \"I am Utsav Patel. I just completed my fine-tuning of the BERT base uncased model. I am glad that it works after 5 attempts.\"\n",
        "question = \"How many attempts did it take to fine-tune ?\"\n",
        "print(f\"Predicted Answer: {get_answer(question, context)}\")"
      ]
    },
    {
      "cell_type": "code",
      "execution_count": null,
      "metadata": {
        "id": "iangeHojQKXs"
      },
      "outputs": [],
      "source": [
        "torch.save(model.state_dict(), '/content/drive/MyDrive/OELP_BERT/BERT_SQuad/OELP_combined_v3.hdf5')"
      ]
    },
    {
      "cell_type": "code",
      "execution_count": null,
      "metadata": {
        "id": "840QI1g0Y_Ui"
      },
      "outputs": [],
      "source": [
        "from google.colab import output\n",
        "output.eval_js('new Audio(\"https://upload.wikimedia.org/wikipedia/commons/0/05/Beep-09.ogg\").play()')"
      ]
    }
  ],
  "metadata": {
    "accelerator": "GPU",
    "colab": {
      "provenance": []
    },
    "kernelspec": {
      "display_name": "Python 3",
      "name": "python3"
    },
    "language_info": {
      "name": "python"
    }
  },
  "nbformat": 4,
  "nbformat_minor": 0
}
