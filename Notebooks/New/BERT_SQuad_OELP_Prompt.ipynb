{
  "cells": [
    {
      "cell_type": "code",
      "execution_count": null,
      "metadata": {
        "id": "pAeyEM5vZsDW"
      },
      "outputs": [],
      "source": [
        "#pip install transformers"
      ]
    },
    {
      "cell_type": "code",
      "execution_count": null,
      "metadata": {
        "id": "7pFPiabyb4v7"
      },
      "outputs": [],
      "source": [
        "import requests\n",
        "import json\n",
        "import torch\n",
        "import torch.nn as nn\n",
        "import os\n",
        "from tqdm import tqdm\n",
        "from transformers import BertModel, BertTokenizerFast, AdamW\n",
        "from torch.utils.data import Dataset, DataLoader\n",
        "from torch.optim.lr_scheduler import ExponentialLR\n",
        "import matplotlib.pyplot as plt\n",
        "import nltk"
      ]
    },
    {
      "cell_type": "code",
      "execution_count": null,
      "metadata": {
        "id": "uxKoHik0j7Gb"
      },
      "outputs": [],
      "source": [
        "MODEL_PATH = \"bert-base-uncased\""
      ]
    },
    {
      "cell_type": "code",
      "execution_count": null,
      "metadata": {
        "colab": {
          "base_uri": "https://localhost:8080/"
        },
        "id": "7ygaYPc8j9u8",
        "outputId": "4605bc79-54fd-4ff5-ec18-2f0649c2cc54"
      },
      "outputs": [
        {
          "output_type": "stream",
          "name": "stdout",
          "text": [
            "--2024-05-22 09:30:13--  https://rajpurkar.github.io/SQuAD-explorer/dataset/train-v2.0.json\n",
            "Resolving rajpurkar.github.io (rajpurkar.github.io)... 185.199.108.153, 185.199.109.153, 185.199.110.153, ...\n",
            "Connecting to rajpurkar.github.io (rajpurkar.github.io)|185.199.108.153|:443... connected.\n",
            "HTTP request sent, awaiting response... 200 OK\n",
            "Length: 42123633 (40M) [application/json]\n",
            "Saving to: ‘train-v2.0.json’\n",
            "\n",
            "train-v2.0.json     100%[===================>]  40.17M   143MB/s    in 0.3s    \n",
            "\n",
            "2024-05-22 09:30:15 (143 MB/s) - ‘train-v2.0.json’ saved [42123633/42123633]\n",
            "\n",
            "--2024-05-22 09:30:15--  https://rajpurkar.github.io/SQuAD-explorer/dataset/dev-v2.0.json\n",
            "Resolving rajpurkar.github.io (rajpurkar.github.io)... 185.199.108.153, 185.199.109.153, 185.199.110.153, ...\n",
            "Connecting to rajpurkar.github.io (rajpurkar.github.io)|185.199.108.153|:443... connected.\n",
            "HTTP request sent, awaiting response... 200 OK\n",
            "Length: 4370528 (4.2M) [application/json]\n",
            "Saving to: ‘dev-v2.0.json’\n",
            "\n",
            "dev-v2.0.json       100%[===================>]   4.17M  --.-KB/s    in 0.06s   \n",
            "\n",
            "2024-05-22 09:30:15 (70.4 MB/s) - ‘dev-v2.0.json’ saved [4370528/4370528]\n",
            "\n"
          ]
        }
      ],
      "source": [
        "!wget -nc https://rajpurkar.github.io/SQuAD-explorer/dataset/train-v2.0.json\n",
        "!wget -nc https://rajpurkar.github.io/SQuAD-explorer/dataset/dev-v2.0.json"
      ]
    },
    {
      "cell_type": "code",
      "execution_count": null,
      "metadata": {
        "id": "aUYaqLEHkCad"
      },
      "outputs": [],
      "source": [
        "num_questions = 0\n",
        "num_posible = 0\n",
        "num_imposible = 0"
      ]
    },
    {
      "cell_type": "code",
      "execution_count": null,
      "metadata": {
        "id": "LgdX6xATkHKy"
      },
      "outputs": [],
      "source": [
        "def get_data(path):\n",
        "  with open(path, 'rb') as f:\n",
        "    raw_data = json.load(f)\n",
        "\n",
        "  contexts = []\n",
        "  questions = []\n",
        "  answers = []\n",
        "  num_q = 0\n",
        "  num_pos = 0\n",
        "  num_imp = 0\n",
        "\n",
        "  for group in raw_data['data']:\n",
        "    for paragraph in group['paragraphs']:\n",
        "      context = paragraph['context']\n",
        "      for qa in paragraph['qas']:\n",
        "        question = qa['question']\n",
        "        num_q  = num_q  +1\n",
        "        if qa['is_impossible'] == True:\n",
        "            num_imp = num_imp +1\n",
        "        else:\n",
        "            num_pos = num_pos +1\n",
        "        if qa['is_impossible'] == True:\n",
        "          contexts.append(context.lower())\n",
        "          questions.append(question.lower())\n",
        "          answers.append({'text': '', 'answer_start':-1, 'answer_end':-1})\n",
        "        else:\n",
        "            for answer in qa['answers']:\n",
        "              contexts.append(context.lower())\n",
        "              questions.append(question.lower())\n",
        "              answers.append(answer)\n",
        "\n",
        "  return num_q, num_pos, num_imp, contexts, questions, answers"
      ]
    },
    {
      "cell_type": "code",
      "execution_count": null,
      "metadata": {
        "colab": {
          "base_uri": "https://localhost:8080/"
        },
        "id": "F5t-jih4NkgA",
        "outputId": "9b98395b-9a26-4f18-d438-54fc75d3bd2e"
      },
      "outputs": [
        {
          "output_type": "stream",
          "name": "stdout",
          "text": [
            "Mounted at /content/drive\n"
          ]
        }
      ],
      "source": [
        "from google.colab import drive\n",
        "drive.mount('/content/drive')"
      ]
    },
    {
      "cell_type": "code",
      "source": [
        "num_q = 0\n",
        "num_pos = 0\n",
        "num_imp = 0\n",
        "train_contexts = []\n",
        "train_questions = []\n",
        "train_answers = []"
      ],
      "metadata": {
        "id": "_IBTjP5VSJFu"
      },
      "execution_count": null,
      "outputs": []
    },
    {
      "cell_type": "code",
      "execution_count": null,
      "metadata": {
        "id": "sDggE9a4kLU7",
        "colab": {
          "base_uri": "https://localhost:8080/",
          "height": 315
        },
        "outputId": "ef2f2f02-995e-478b-89c7-67af26ae4f21"
      },
      "outputs": [
        {
          "output_type": "error",
          "ename": "TypeError",
          "evalue": "list indices must be integers or slices, not str",
          "traceback": [
            "\u001b[0;31m---------------------------------------------------------------------------\u001b[0m",
            "\u001b[0;31mTypeError\u001b[0m                                 Traceback (most recent call last)",
            "\u001b[0;32m<ipython-input-8-c017233a301f>\u001b[0m in \u001b[0;36m<cell line: 1>\u001b[0;34m()\u001b[0m\n\u001b[0;32m----> 1\u001b[0;31m \u001b[0mnum_q\u001b[0m\u001b[0;34m,\u001b[0m \u001b[0mnum_pos\u001b[0m\u001b[0;34m,\u001b[0m \u001b[0mnum_imp\u001b[0m\u001b[0;34m,\u001b[0m \u001b[0mtrain_contexts\u001b[0m\u001b[0;34m,\u001b[0m \u001b[0mtrain_questions\u001b[0m\u001b[0;34m,\u001b[0m \u001b[0mtrain_answers\u001b[0m \u001b[0;34m=\u001b[0m \u001b[0mget_data\u001b[0m\u001b[0;34m(\u001b[0m\u001b[0;34m'/content/drive/MyDrive/OELP_BERT/BERT_SQuad/squad+15k.json'\u001b[0m\u001b[0;34m)\u001b[0m\u001b[0;34m\u001b[0m\u001b[0;34m\u001b[0m\u001b[0m\n\u001b[0m\u001b[1;32m      2\u001b[0m \u001b[0mnum_questions\u001b[0m  \u001b[0;34m=\u001b[0m \u001b[0mnum_q\u001b[0m\u001b[0;34m\u001b[0m\u001b[0;34m\u001b[0m\u001b[0m\n\u001b[1;32m      3\u001b[0m \u001b[0mnum_posible\u001b[0m \u001b[0;34m=\u001b[0m \u001b[0mnum_pos\u001b[0m\u001b[0;34m\u001b[0m\u001b[0;34m\u001b[0m\u001b[0m\n\u001b[1;32m      4\u001b[0m \u001b[0mnum_imposible\u001b[0m  \u001b[0;34m=\u001b[0m \u001b[0mnum_imp\u001b[0m\u001b[0;34m\u001b[0m\u001b[0;34m\u001b[0m\u001b[0m\n",
            "\u001b[0;32m<ipython-input-5-ba8f847839f7>\u001b[0m in \u001b[0;36mget_data\u001b[0;34m(path)\u001b[0m\n\u001b[1;32m     10\u001b[0m   \u001b[0mnum_imp\u001b[0m \u001b[0;34m=\u001b[0m \u001b[0;36m0\u001b[0m\u001b[0;34m\u001b[0m\u001b[0;34m\u001b[0m\u001b[0m\n\u001b[1;32m     11\u001b[0m \u001b[0;34m\u001b[0m\u001b[0m\n\u001b[0;32m---> 12\u001b[0;31m   \u001b[0;32mfor\u001b[0m \u001b[0mgroup\u001b[0m \u001b[0;32min\u001b[0m \u001b[0mraw_data\u001b[0m\u001b[0;34m[\u001b[0m\u001b[0;34m'data'\u001b[0m\u001b[0;34m]\u001b[0m\u001b[0;34m:\u001b[0m\u001b[0;34m\u001b[0m\u001b[0;34m\u001b[0m\u001b[0m\n\u001b[0m\u001b[1;32m     13\u001b[0m     \u001b[0;32mfor\u001b[0m \u001b[0mparagraph\u001b[0m \u001b[0;32min\u001b[0m \u001b[0mgroup\u001b[0m\u001b[0;34m[\u001b[0m\u001b[0;34m'paragraphs'\u001b[0m\u001b[0;34m]\u001b[0m\u001b[0;34m:\u001b[0m\u001b[0;34m\u001b[0m\u001b[0;34m\u001b[0m\u001b[0m\n\u001b[1;32m     14\u001b[0m       \u001b[0mcontext\u001b[0m \u001b[0;34m=\u001b[0m \u001b[0mparagraph\u001b[0m\u001b[0;34m[\u001b[0m\u001b[0;34m'context'\u001b[0m\u001b[0;34m]\u001b[0m\u001b[0;34m\u001b[0m\u001b[0;34m\u001b[0m\u001b[0m\n",
            "\u001b[0;31mTypeError\u001b[0m: list indices must be integers or slices, not str"
          ]
        }
      ],
      "source": [
        "num_q, num_pos, num_imp, train_contexts, train_questions, train_answers = get_data('/content/drive/MyDrive/OELP_BERT/BERT_SQuad/squad+15k.json')\n",
        "num_questions  = num_q\n",
        "num_posible = num_pos\n",
        "num_imposible  = num_imp"
      ]
    },
    {
      "cell_type": "code",
      "execution_count": null,
      "metadata": {
        "id": "qYF68L4PNfnY"
      },
      "outputs": [],
      "source": [
        "def get_data_2(path):\n",
        "  with open(path, 'rb') as f:\n",
        "    raw_data = json.load(f)\n",
        "\n",
        "  contexts = []\n",
        "  questions = []\n",
        "  answers = []\n",
        "  num_q = 0\n",
        "  num_pos = 0\n",
        "  num_imp = 0\n",
        "\n",
        "  for group in raw_data['data']:\n",
        "    for paragraph in group['paragraphs']:\n",
        "      context = paragraph['context']\n",
        "      for qa in paragraph['qas']:\n",
        "        question = qa['question']\n",
        "        num_q  = num_q  +1\n",
        "        if qa['is_impossible'] == True:\n",
        "            num_imp = num_imp +1\n",
        "        else:\n",
        "            num_pos = num_pos +1\n",
        "        for answer in qa['answers']:\n",
        "          contexts.append(context.lower())\n",
        "          questions.append(question.lower())\n",
        "          answers.append(answer)\n",
        "\n",
        "  return num_q, num_pos, num_imp, contexts, questions, answers"
      ]
    },
    {
      "cell_type": "code",
      "source": [],
      "metadata": {
        "id": "TR5koSifonRE"
      },
      "execution_count": null,
      "outputs": []
    },
    {
      "cell_type": "code",
      "execution_count": null,
      "metadata": {
        "id": "M7uyj7RzNmrn"
      },
      "outputs": [],
      "source": [
        "dataset_file = open('train-v2.0.json')\n",
        "\n",
        "new_data = json.load(dataset_file)"
      ]
    },
    {
      "cell_type": "code",
      "execution_count": null,
      "metadata": {
        "id": "tGpTXWjjNofX",
        "colab": {
          "base_uri": "https://localhost:8080/",
          "height": 211
        },
        "outputId": "74fc685d-9655-446a-8881-3ea4a3bfb5d7"
      },
      "outputs": [
        {
          "output_type": "error",
          "ename": "KeyError",
          "evalue": "0",
          "traceback": [
            "\u001b[0;31m---------------------------------------------------------------------------\u001b[0m",
            "\u001b[0;31mKeyError\u001b[0m                                  Traceback (most recent call last)",
            "\u001b[0;32m<ipython-input-10-891a84fbb0dd>\u001b[0m in \u001b[0;36m<cell line: 8>\u001b[0;34m()\u001b[0m\n\u001b[1;32m      7\u001b[0m \u001b[0;34m\u001b[0m\u001b[0m\n\u001b[1;32m      8\u001b[0m \u001b[0;32mfor\u001b[0m \u001b[0mi\u001b[0m \u001b[0;32min\u001b[0m \u001b[0mrange\u001b[0m\u001b[0;34m(\u001b[0m\u001b[0mlen\u001b[0m\u001b[0;34m(\u001b[0m\u001b[0mnew_data\u001b[0m\u001b[0;34m)\u001b[0m\u001b[0;34m)\u001b[0m\u001b[0;34m:\u001b[0m\u001b[0;34m\u001b[0m\u001b[0;34m\u001b[0m\u001b[0m\n\u001b[0;32m----> 9\u001b[0;31m   \u001b[0mtrain_contexts\u001b[0m\u001b[0;34m.\u001b[0m\u001b[0mappend\u001b[0m\u001b[0;34m(\u001b[0m\u001b[0mnew_data\u001b[0m\u001b[0;34m[\u001b[0m\u001b[0mi\u001b[0m\u001b[0;34m]\u001b[0m\u001b[0;34m[\u001b[0m\u001b[0;34m\"sentence\"\u001b[0m\u001b[0;34m]\u001b[0m\u001b[0;34m)\u001b[0m\u001b[0;34m\u001b[0m\u001b[0;34m\u001b[0m\u001b[0m\n\u001b[0m\u001b[1;32m     10\u001b[0m   \u001b[0mtrain_questions\u001b[0m\u001b[0;34m.\u001b[0m\u001b[0mappend\u001b[0m\u001b[0;34m(\u001b[0m\u001b[0mnew_data\u001b[0m\u001b[0;34m[\u001b[0m\u001b[0mi\u001b[0m\u001b[0;34m]\u001b[0m\u001b[0;34m[\u001b[0m\u001b[0;34m'question'\u001b[0m\u001b[0;34m]\u001b[0m\u001b[0;34m)\u001b[0m\u001b[0;34m\u001b[0m\u001b[0;34m\u001b[0m\u001b[0m\n\u001b[1;32m     11\u001b[0m   \u001b[0mnew_answers\u001b[0m\u001b[0;34m.\u001b[0m\u001b[0mappend\u001b[0m\u001b[0;34m(\u001b[0m\u001b[0mnew_data\u001b[0m\u001b[0;34m[\u001b[0m\u001b[0mi\u001b[0m\u001b[0;34m]\u001b[0m\u001b[0;34m[\u001b[0m\u001b[0;34m'answer'\u001b[0m\u001b[0;34m]\u001b[0m\u001b[0;34m)\u001b[0m\u001b[0;34m\u001b[0m\u001b[0;34m\u001b[0m\u001b[0m\n",
            "\u001b[0;31mKeyError\u001b[0m: 0"
          ]
        }
      ],
      "source": [
        "num_q = 0\n",
        "num_pos = 0\n",
        "num_imp = 0\n",
        "\n",
        "new_answers = []\n",
        "new_answer_start = []\n",
        "\n",
        "for i in range(len(new_data)):\n",
        "  train_contexts.append(new_data[i][\"sentence\"])\n",
        "  train_questions.append(new_data[i]['question'])\n",
        "  new_answers.append(new_data[i]['answer'])\n",
        "  new_answer_start.append(new_data[i]['answer_start'])\n",
        "  train_answers.append({ 'text': new_answers[-1], 'answer_start': new_answer_start[-1]})\n",
        "\n",
        "  num_q += 1\n",
        "  if(0):\n",
        "    num_imp += 1\n",
        "  else:\n",
        "    num_pos += 1\n",
        "\n",
        "num_questions += num_q\n",
        "num_posible += num_pos\n",
        "num_imposible += num_imp\n"
      ]
    },
    {
      "cell_type": "code",
      "execution_count": null,
      "metadata": {
        "colab": {
          "base_uri": "https://localhost:8080/"
        },
        "id": "79_n1J9nkPnG",
        "outputId": "c2993496-a322-48e5-ee61-dd11ab01d6b3"
      },
      "outputs": [
        {
          "output_type": "stream",
          "name": "stdout",
          "text": [
            "['when did beyonce start becoming popular?', 'what areas did beyonce compete in when she was growing up?', \"when did beyonce leave destiny's child and become a solo singer?\", 'in what city and state did beyonce  grow up? ', 'in which decade did beyonce become famous?', 'in what r&b group was she the lead singer?', 'what album made her a worldwide known artist?', \"who managed the destiny's child group?\", 'when did beyoncé rise to fame?', \"what role did beyoncé have in destiny's child?\"]\n",
            "[{'text': 'in the late 1990s', 'answer_start': 269}, {'text': 'singing and dancing', 'answer_start': 207}, {'text': '2003', 'answer_start': 526}, {'text': 'Houston, Texas', 'answer_start': 166}, {'text': 'late 1990s', 'answer_start': 276}, {'text': \"Destiny's Child\", 'answer_start': 320}, {'text': 'Dangerously in Love', 'answer_start': 505}, {'text': 'Mathew Knowles', 'answer_start': 360}, {'text': 'late 1990s', 'answer_start': 276}, {'text': 'lead singer', 'answer_start': 290}]\n"
          ]
        }
      ],
      "source": [
        "print(train_questions[0:10])\n",
        "print(train_answers[0:10])"
      ]
    },
    {
      "cell_type": "code",
      "execution_count": null,
      "metadata": {
        "id": "KpGV3IHlkSRv"
      },
      "outputs": [],
      "source": [
        "# num_q, num_pos, num_imp, valid_contexts, valid_questions, valid_answers = get_data('dev-v2.0.json')\n",
        "# num_questions  = num_questions + num_q\n",
        "# num_posible = num_posible + num_pos\n",
        "# num_imposible = num_imposible  + num_imp\n",
        "\n",
        "# print(f\"Total number of questions: {num_questions}\")\n",
        "# print(f\"Total number of Answerable questions: {num_posible}\")\n",
        "# print(f\"Total number of impossible questions: {num_imposible}\")"
      ]
    },
    {
      "cell_type": "code",
      "execution_count": null,
      "metadata": {
        "colab": {
          "base_uri": "https://localhost:8080/"
        },
        "id": "6TNtJR_lRLuV",
        "outputId": "7da06575-44c3-4861-88ab-2f6607751389"
      },
      "outputs": [
        {
          "output_type": "stream",
          "name": "stdout",
          "text": [
            "145936\n"
          ]
        }
      ],
      "source": [
        "print(len(train_answers))"
      ]
    },
    {
      "cell_type": "code",
      "source": [
        "for i in range(len(train_questions)):\n",
        "  tokens = nltk.word_tokenize(train_questions[i].lower())\n",
        "  tagged_tokens = nltk.pos_tag(tokens)\n",
        "\n",
        "  if \"when\" in train_questions[i]:\n",
        "    train_questions[i] += \"<Answer is time related>\"\n",
        "  if \"why\" in train_questions[i]:\n",
        "    train_questions[i] += \"<Answer is a reason>\"\n",
        "  if \"how much\" in train_questions[i]:\n",
        "    train_questions[i] += \"<Answer is a quantity>\"\n",
        "  if \"which\" in train_questions[i]:\n",
        "    train_questions[i] += \"<Answer is one of the objects>\"\n",
        "  if \"where\" in train_questions[i]:\n",
        "    train_questions[i] += \"<Answer is a place>\"\n",
        "  if \"percentage\" or \"amount\" in train_questions[i]:\n",
        "    train_questions[i] += \"<Answer is a quantity>\"\n",
        "  if \"who\" in train_questions[i]:\n",
        "    train_questions[i] += \"<Answer is a person>\"\n",
        "  if any(tag in [\"JJR\", \"JJS\", \"RBR\", \"RBS\"] for _, tag in tagged_tokens):\n",
        "    train_contexts[i] += \"(Answer involves a comparison or numerical aspect)\"\n",
        "  for j, (_, tag) in enumerate(tagged_tokens):\n",
        "    if tag in [\"JJR\", \"JJS\", \"RBR\", \"RBS\"]:\n",
        "      txt_split = train_questions[i].split()\n",
        "      txt_split.insert(j+1, '<comparative token>')\n",
        "      new_str = \"\"\n",
        "      new_str = new_str.join(txt_split)\n",
        "      train_question[i] = new_str\n",
        "\n",
        "# for i in range(len(valid_questions)):\n",
        "#   tokens = nltk.word_tokenize(valid_questions[i].lower())\n",
        "#   tagged_tokens = nltk.pos_tag(tokens)\n",
        "\n",
        "#   if \"when\" in valid_questions[i].lower():\n",
        "#     valid_contexts[i] += \"(Answer is time related)\"\n",
        "#   if \"why\" in valid_questions[i].lower():\n",
        "#     valid_contexts[i] += \"(Answer is a reason)\"\n",
        "#   if \"how much\" in valid_questions[i].lower():\n",
        "#     valid_contexts[i] += \"(Answer is a quantity)\"\n",
        "#   if \"which\" in valid_questions[i].lower():\n",
        "#     valid_contexts[i] += \"(Answer is one of the objects)\"\n",
        "#   if \"where\" in valid_questions[i].lower():\n",
        "#     valid_contexts[i] += \"(Answer is a place)\"\n",
        "#   if \"percentage\" or \"amount\" in valid_questions[i].lower():\n",
        "#     valid_contexts[i] += \"(Answer is a quantity)\"\n",
        "#   if \"who\" in valid_questions[i].lower():\n",
        "#     valid_contexts[i] += \"(Answer is a person)\"\n",
        "#   if any(tag in [\"JJR\", \"JJS\", \"RBR\", \"RBS\"] for _, tag in nltk.pos_tag(tokens)):\n",
        "#     valid_contexts[i] += \"(Answer involves a comparison or numerical aspect)\"\n"
      ],
      "metadata": {
        "id": "jL0A3-MDMjZq"
      },
      "execution_count": null,
      "outputs": []
    },
    {
      "cell_type": "code",
      "execution_count": null,
      "metadata": {
        "id": "5qFdRidLkVOx"
      },
      "outputs": [],
      "source": [
        "# print(valid_questions[0:10])\n",
        "# print(valid_answers[0:10])"
      ]
    },
    {
      "cell_type": "code",
      "execution_count": null,
      "metadata": {
        "id": "OtQM2RAqkX2m"
      },
      "outputs": [],
      "source": [
        "def add_answer_end(answers, contexts):\n",
        "  for answer, context in zip(answers, contexts):\n",
        "    answer['text'] = answer['text'].lower()\n",
        "    answer['answer_end'] = answer['answer_start'] + len(answer['text'])\n",
        "\n",
        "add_answer_end(train_answers, train_contexts)\n",
        "# add_answer_end(valid_answers, valid_contexts)"
      ]
    },
    {
      "cell_type": "code",
      "execution_count": null,
      "metadata": {
        "colab": {
          "base_uri": "https://localhost:8080/"
        },
        "id": "b40RW25Ckazs",
        "outputId": "3ad711ee-8e5a-44ea-c650-2102990839bf"
      },
      "outputs": [
        {
          "output_type": "stream",
          "name": "stdout",
          "text": [
            "Context: beyoncé giselle knowles-carter (/biːˈjɒnseɪ/ bee-yon-say) (born september 4, 1981) is an american singer, songwriter, record producer and actress. born and raised in houston, texas, she performed in various singing and dancing competitions as a child, and rose to fame in the late 1990s as lead singer of r&b girl-group destiny's child. managed by her father, mathew knowles, the group became one of the world's best-selling girl groups of all time. their hiatus saw the release of beyoncé's debut album, dangerously in love (2003), which established her as a solo artist worldwide, earned five grammy awards and featured the billboard hot 100 number-one singles \"crazy in love\" and \"baby boy\".\n",
            "Question: when did beyonce start becoming popular?\n",
            "Answer: {'text': 'in the late 1990s', 'answer_start': 269, 'answer_end': 286}\n"
          ]
        }
      ],
      "source": [
        "\n",
        "print(f\"Context: {train_contexts[0]}\")\n",
        "print(f\"Question: {train_questions[0]}\")\n",
        "print(f\"Answer: {train_answers[0]}\")"
      ]
    },
    {
      "cell_type": "code",
      "execution_count": null,
      "metadata": {
        "id": "fVeLhpHakdsf"
      },
      "outputs": [],
      "source": [
        "# test_rec = 30\n",
        "# print(f\"Context: {valid_contexts[test_rec]}\")\n",
        "# print(f\"Question: {valid_questions[test_rec]}\")\n",
        "# print(f\"Answer: {valid_answers[test_rec]}\")"
      ]
    },
    {
      "cell_type": "code",
      "execution_count": null,
      "metadata": {
        "colab": {
          "base_uri": "https://localhost:8080/",
          "height": 489
        },
        "id": "TyX7L_pEkf2i",
        "outputId": "db5dd7d0-9815-40c8-b6a8-b2b2cdaa89d7"
      },
      "outputs": [
        {
          "output_type": "stream",
          "name": "stdout",
          "text": [
            "851\n"
          ]
        },
        {
          "output_type": "display_data",
          "data": {
            "text/plain": [
              "<Figure size 640x480 with 1 Axes>"
            ],
            "image/png": "[encoded data removed]"
          },
          "metadata": {}
        }
      ],
      "source": [
        "token_lens = []\n",
        "\n",
        "for txt in train_contexts:\n",
        "    txt = txt.strip()\n",
        "    token_lens.append(len(txt.split(' ')))\n",
        "\n",
        "\n",
        "print(max(token_lens))\n",
        "\n",
        "plt.hist(token_lens,  bins=20)\n",
        "plt.ylabel('Count')\n",
        "plt.xlabel('Length')\n",
        "plt.title('Distribution of Context Lengths');"
      ]
    },
    {
      "cell_type": "code",
      "execution_count": null,
      "metadata": {
        "colab": {
          "base_uri": "https://localhost:8080/",
          "height": 507
        },
        "id": "65A9nUQYkjU_",
        "outputId": "5077682f-3bfb-4e85-c710-6f519b7b63a6"
      },
      "outputs": [
        {
          "output_type": "stream",
          "name": "stdout",
          "text": [
            "40\n",
            "135319\n"
          ]
        },
        {
          "output_type": "display_data",
          "data": {
            "text/plain": [
              "<Figure size 640x480 with 1 Axes>"
            ],
            "image/png": "[encoded data removed]"
          },
          "metadata": {}
        }
      ],
      "source": [
        "token_lens2 = []\n",
        "\n",
        "for txt in train_questions:\n",
        "    txt = txt.strip()\n",
        "    token_lens2.append(len(txt.split(' ')))\n",
        "\n",
        "\n",
        "print(max(token_lens2))\n",
        "print(len(token_lens2))\n",
        "\n",
        "plt.hist(token_lens2,  bins=20)\n",
        "plt.ylabel('Count')\n",
        "plt.xlabel('Length')\n",
        "plt.title('Distribution of Question Lengths');"
      ]
    },
    {
      "cell_type": "code",
      "execution_count": null,
      "metadata": {
        "id": "33d6F50UkmnS"
      },
      "outputs": [],
      "source": [
        "MAX_LENGTH = 250"
      ]
    },
    {
      "cell_type": "code",
      "execution_count": null,
      "metadata": {
        "colab": {
          "base_uri": "https://localhost:8080/",
          "height": 269,
          "referenced_widgets": [
            "2793dd1673a846a3916b5ce3f1a2ad34",
            "6905bcfe36014e82a658018b35fa0ebd",
            "4b6a80554962401cbfc37dfb5671a440",
            "cc4ddcf2526c43cf87646a707f8c2457",
            "d570f8a9ecc24755b109c5af8422e93a",
            "d9328f941a8b477b94e0beff232c6014",
            "46b907f4812b4532b22c121c1b8788f7",
            "7937ed9d7b9146c293ebf485f31ab754",
            "24ba31cd0bd34c7bbd407d1661c2fc33",
            "6ab01ece0d0e4e42a786e01b95c2eda7",
            "871512ba6b794de095ab7464fec49446",
            "cda5e4f8ce394079aaa0f9ebbf51363d",
            "b0374ffe1a994a7a9f556db1d4cc6c46",
            "80ef1e38c6ec4cf78be18fa50beaf258",
            "94a7d9fbbea04dfe99c203be07609ff8",
            "3659e1f457f34a9b8ea62659c37de312",
            "4668168aafa542bfb8e4009e5f1e5928",
            "9ab636a85bad4aed9758627128b19da7",
            "65711e05d168405ca51965d6df6891bb",
            "03f1b4fd1d954437adbf9c4393b4141d",
            "3fb597da076c4b2bbad41ac0e3db5f59",
            "29611a2c3b50498eae071c179af2a7b2",
            "610a2792c08c46af9b96140c7a33ff4e",
            "ed026df18b2c441e9b9b599ca761125f",
            "ceffb42df62c405ab91230e86b09434b",
            "7b2110738b554ab8ba5ed51908055a07",
            "2775618123f643f6a25ae8318377ad22",
            "d4286e8aa0ca4dd59f01e42ecc0acde2",
            "11416675de8d419da4445d6b906e6460",
            "31cf57df8942453f973566a8494b1145",
            "225a796f93984254b30f80e67c185aed",
            "ba77d493115f4c1a8c7b843c9be70150",
            "7011310abab84f5eaba43ad8aec30401",
            "1502b0586aea4bccb10bcd9ac114e4a2",
            "6571ec8fa7804dd7b68f544c1f7e1234",
            "50e4dd3ab1454b868cd481082ac74305",
            "2167444dcd9944da9e31100f3e7d4dea",
            "b578179c9a9647efb6c0a8a3d3702a77",
            "4af3a9f59277469fa39186a509da42b1",
            "6de5493ed4874f868a13374971ced349",
            "9fa5491cd05d482fb85f86206e1b9a32",
            "87c15b1be9ea464f897da98984f803c1",
            "d5992a30813e4d958c735d6d7878163b",
            "eec51714677b4bcdb34e10d66d79af94"
          ]
        },
        "id": "3qUR1jDhksC_",
        "outputId": "e5514791-dfed-4775-a767-db2fef827eea"
      },
      "outputs": [
        {
          "output_type": "stream",
          "name": "stderr",
          "text": [
            "/usr/local/lib/python3.10/dist-packages/huggingface_hub/utils/_token.py:88: UserWarning: \n",
            "The secret `HF_TOKEN` does not exist in your Colab secrets.\n",
            "To authenticate with the Hugging Face Hub, create a token in your settings tab (https://huggingface.co/settings/tokens), set it as secret in your Google Colab and restart your session.\n",
            "You will be able to reuse this secret in all of your notebooks.\n",
            "Please note that authentication is recommended but still optional to access public models or datasets.\n",
            "  warnings.warn(\n"
          ]
        },
        {
          "output_type": "display_data",
          "data": {
            "text/plain": [
              "tokenizer_config.json:   0%|          | 0.00/48.0 [00:00<?, ?B/s]"
            ],
            "application/vnd.jupyter.widget-view+json": {
              "version_major": 2,
              "version_minor": 0,
              "model_id": "2793dd1673a846a3916b5ce3f1a2ad34"
            }
          },
          "metadata": {}
        },
        {
          "output_type": "display_data",
          "data": {
            "text/plain": [
              "vocab.txt:   0%|          | 0.00/232k [00:00<?, ?B/s]"
            ],
            "application/vnd.jupyter.widget-view+json": {
              "version_major": 2,
              "version_minor": 0,
              "model_id": "cda5e4f8ce394079aaa0f9ebbf51363d"
            }
          },
          "metadata": {}
        },
        {
          "output_type": "display_data",
          "data": {
            "text/plain": [
              "tokenizer.json:   0%|          | 0.00/466k [00:00<?, ?B/s]"
            ],
            "application/vnd.jupyter.widget-view+json": {
              "version_major": 2,
              "version_minor": 0,
              "model_id": "610a2792c08c46af9b96140c7a33ff4e"
            }
          },
          "metadata": {}
        },
        {
          "output_type": "display_data",
          "data": {
            "text/plain": [
              "config.json:   0%|          | 0.00/570 [00:00<?, ?B/s]"
            ],
            "application/vnd.jupyter.widget-view+json": {
              "version_major": 2,
              "version_minor": 0,
              "model_id": "1502b0586aea4bccb10bcd9ac114e4a2"
            }
          },
          "metadata": {}
        }
      ],
      "source": [
        "tokenizerFast = BertTokenizerFast.from_pretrained(MODEL_PATH)\n",
        "\n",
        "train_encodings_fast = tokenizerFast(train_questions, train_contexts,  max_length = MAX_LENGTH, truncation=True, padding=True)\n",
        "# valid_encodings_fast = tokenizerFast(valid_questions,valid_contexts,  max_length = MAX_LENGTH, truncation=True, padding=True)"
      ]
    },
    {
      "cell_type": "code",
      "execution_count": null,
      "metadata": {
        "colab": {
          "base_uri": "https://localhost:8080/",
          "height": 221
        },
        "id": "tTiNbyLRkxt2",
        "outputId": "3376ee60-a784-458f-c72a-bdc9fa4fe70a"
      },
      "outputs": [
        {
          "output_type": "execute_result",
          "data": {
            "text/plain": [
              "transformers.tokenization_utils_base.BatchEncoding"
            ],
            "text/html": [
              "<div style=\"max-width:800px; border: 1px solid var(--colab-border-color);\"><style>\n",
              "      pre.function-repr-contents {\n",
              "        overflow-x: auto;\n",
              "        padding: 8px 12px;\n",
              "        max-height: 500px;\n",
              "      }\n",
              "\n",
              "      pre.function-repr-contents.function-repr-contents-collapsed {\n",
              "        cursor: pointer;\n",
              "        max-height: 100px;\n",
              "      }\n",
              "    </style>\n",
              "    <pre style=\"white-space: initial; background:\n",
              "         var(--colab-secondary-surface-color); padding: 8px 12px;\n",
              "         border-bottom: 1px solid var(--colab-border-color);\"><b>transformers.tokenization_utils_base.BatchEncoding</b><br/>def __init__(data: Optional[Dict[str, Any]]=None, encoding: Optional[Union[EncodingFast, Sequence[EncodingFast]]]=None, tensor_type: Union[None, str, TensorType]=None, prepend_batch_axis: bool=False, n_sequences: Optional[int]=None)</pre><pre class=\"function-repr-contents function-repr-contents-collapsed\" style=\"\"><a class=\"filepath\" style=\"display:none\" href=\"#\">/usr/local/lib/python3.10/dist-packages/transformers/tokenization_utils_base.py</a>Holds the output of the [`~tokenization_utils_base.PreTrainedTokenizerBase.__call__`],\n",
              "[`~tokenization_utils_base.PreTrainedTokenizerBase.encode_plus`] and\n",
              "[`~tokenization_utils_base.PreTrainedTokenizerBase.batch_encode_plus`] methods (tokens, attention_masks, etc).\n",
              "\n",
              "This class is derived from a python dictionary and can be used as a dictionary. In addition, this class exposes\n",
              "utility methods to map from word/character space to token space.\n",
              "\n",
              "Args:\n",
              "    data (`dict`, *optional*):\n",
              "        Dictionary of lists/arrays/tensors returned by the `__call__`/`encode_plus`/`batch_encode_plus` methods\n",
              "        (&#x27;input_ids&#x27;, &#x27;attention_mask&#x27;, etc.).\n",
              "    encoding (`tokenizers.Encoding` or `Sequence[tokenizers.Encoding]`, *optional*):\n",
              "        If the tokenizer is a fast tokenizer which outputs additional information like mapping from word/character\n",
              "        space to token space the `tokenizers.Encoding` instance or list of instance (for batches) hold this\n",
              "        information.\n",
              "    tensor_type (`Union[None, str, TensorType]`, *optional*):\n",
              "        You can give a tensor_type here to convert the lists of integers in PyTorch/TensorFlow/Numpy Tensors at\n",
              "        initialization.\n",
              "    prepend_batch_axis (`bool`, *optional*, defaults to `False`):\n",
              "        Whether or not to add a batch axis when converting to tensors (see `tensor_type` above).\n",
              "    n_sequences (`Optional[int]`, *optional*):\n",
              "        You can give a tensor_type here to convert the lists of integers in PyTorch/TensorFlow/Numpy Tensors at\n",
              "        initialization.</pre>\n",
              "      <script>\n",
              "      if (google.colab.kernel.accessAllowed && google.colab.files && google.colab.files.view) {\n",
              "        for (const element of document.querySelectorAll('.filepath')) {\n",
              "          element.style.display = 'block'\n",
              "          element.onclick = (event) => {\n",
              "            event.preventDefault();\n",
              "            event.stopPropagation();\n",
              "            google.colab.files.view(element.textContent, 176);\n",
              "          };\n",
              "        }\n",
              "      }\n",
              "      for (const element of document.querySelectorAll('.function-repr-contents')) {\n",
              "        element.onclick = (event) => {\n",
              "          event.preventDefault();\n",
              "          event.stopPropagation();\n",
              "          element.classList.toggle('function-repr-contents-collapsed');\n",
              "        };\n",
              "      }\n",
              "      </script>\n",
              "      </div>"
            ]
          },
          "metadata": {},
          "execution_count": 22
        }
      ],
      "source": [
        "type(train_encodings_fast)"
      ]
    },
    {
      "cell_type": "code",
      "execution_count": null,
      "metadata": {
        "colab": {
          "base_uri": "https://localhost:8080/"
        },
        "id": "mpNXi7L3lMzu",
        "outputId": "911490cf-12dc-4aee-df10-2e85ad69d4e1"
      },
      "outputs": [
        {
          "output_type": "stream",
          "name": "stdout",
          "text": [
            "135319\n",
            "250\n"
          ]
        }
      ],
      "source": [
        "# print(train_encodings_fast.keys())\n",
        "# print(valid_encodings_fast.keys())\n",
        "print(len(train_encodings_fast['input_ids']))\n",
        "print(len(train_encodings_fast['input_ids'][1]))"
      ]
    },
    {
      "cell_type": "code",
      "execution_count": null,
      "metadata": {
        "colab": {
          "base_uri": "https://localhost:8080/"
        },
        "id": "rv-kQTYClNdT",
        "outputId": "3bb7e97e-b6c6-4a46-f1d6-66ea2a94dcd5"
      },
      "outputs": [
        {
          "output_type": "stream",
          "name": "stdout",
          "text": [
            "[101, 2054, 2752, 2106, 20773, 5566, 1999, 2043, 2016, 2001, 3652, 2039, 1029, 102, 20773, 21025, 19358, 22815, 1011, 5708, 1006, 1013, 12170, 23432, 29715, 3501, 29678, 12325, 29685, 1013, 10506, 1011, 10930, 2078, 1011, 2360, 1007, 1006, 2141, 2244, 1018, 1010, 3261, 1007, 2003, 2019, 2137, 3220, 1010, 6009, 1010, 2501, 3135, 1998, 3883, 1012, 2141, 1998, 2992, 1999, 5395, 1010, 3146, 1010, 2016, 2864, 1999, 2536, 4823, 1998, 5613, 6479, 2004, 1037, 2775, 1010, 1998, 3123, 2000, 4476, 1999, 1996, 2397, 4134, 2004, 2599, 3220, 1997, 1054, 1004, 1038, 2611, 1011, 2177, 10461, 1005, 1055, 2775, 1012, 3266, 2011, 2014, 2269, 1010, 25436, 22815, 1010, 1996, 2177, 2150, 2028, 1997, 1996, 2088, 1005, 1055, 2190, 1011, 4855, 2611, 2967, 1997, 2035, 2051, 1012, 2037, 14221, 2387, 1996, 2713, 1997, 20773, 1005, 1055, 2834, 2201, 1010, 20754, 1999, 2293, 1006, 2494, 1007, 1010, 2029, 2511, 2014, 2004, 1037, 3948, 3063, 4969, 1010, 3687, 2274, 8922, 2982, 1998, 2956, 1996, 4908, 2980, 2531, 2193, 1011, 2028, 3895, 1000, 4689, 1999, 2293, 1000, 1998, 1000, 3336, 2879, 1000, 1012, 102, 0, 0, 0, 0, 0, 0, 0, 0, 0, 0, 0, 0, 0, 0, 0, 0, 0, 0, 0, 0, 0, 0, 0, 0, 0, 0, 0, 0, 0, 0, 0, 0, 0, 0, 0, 0, 0, 0, 0, 0, 0, 0, 0, 0, 0, 0, 0, 0, 0, 0, 0, 0, 0, 0, 0, 0, 0, 0, 0, 0, 0, 0, 0, 0, 0, 0, 0, 0, 0, 0, 0]\n",
            "[CLS] what areas did beyonce compete in when she was growing up? [SEP] beyonce giselle knowles - carter ( / biːˈjɒnseɪ / bee - yon - say ) ( born september 4, 1981 ) is an american singer, songwriter, record producer and actress. born and raised in houston, texas, she performed in various singing and dancing competitions as a child, and rose to fame in the late 1990s as lead singer of r & b girl - group destiny ' s child. managed by her father, mathew knowles, the group became one of the world ' s best - selling girl groups of all time. their hiatus saw the release of beyonce ' s debut album, dangerously in love ( 2003 ), which established her as a solo artist worldwide, earned five grammy awards and featured the billboard hot 100 number - one singles \" crazy in love \" and \" baby boy \". [SEP] [PAD] [PAD] [PAD] [PAD] [PAD] [PAD] [PAD] [PAD] [PAD] [PAD] [PAD] [PAD] [PAD] [PAD] [PAD] [PAD] [PAD] [PAD] [PAD] [PAD] [PAD] [PAD] [PAD] [PAD] [PAD] [PAD] [PAD] [PAD] [PAD] [PAD] [PAD] [PAD] [PAD] [PAD] [PAD] [PAD] [PAD] [PAD] [PAD] [PAD] [PAD] [PAD] [PAD] [PAD] [PAD] [PAD] [PAD] [PAD] [PAD] [PAD] [PAD] [PAD] [PAD] [PAD] [PAD] [PAD] [PAD] [PAD] [PAD] [PAD] [PAD] [PAD] [PAD] [PAD] [PAD] [PAD] [PAD] [PAD] [PAD] [PAD] [PAD]\n"
          ]
        }
      ],
      "source": [
        "print(train_encodings_fast['input_ids'][1])\n",
        "print(tokenizerFast.convert_tokens_to_string(tokenizerFast.convert_ids_to_tokens(train_encodings_fast['input_ids'][1])))"
      ]
    },
    {
      "cell_type": "code",
      "execution_count": null,
      "metadata": {
        "colab": {
          "base_uri": "https://localhost:8080/"
        },
        "id": "r1DOaH8SlQPZ",
        "outputId": "460ebc0e-5316-44d5-f4dc-f379bcddcf36"
      },
      "outputs": [
        {
          "output_type": "execute_result",
          "data": {
            "text/plain": [
              "dict_keys(['text', 'answer_start', 'answer_end'])"
            ]
          },
          "metadata": {},
          "execution_count": 25
        }
      ],
      "source": [
        "type(train_answers[0]['text'])\n",
        "train_answers[0].keys()"
      ]
    },
    {
      "cell_type": "code",
      "execution_count": null,
      "metadata": {
        "id": "vUsop3DylWt7"
      },
      "outputs": [],
      "source": [
        "def ret_Answer_start_and_end_train(idx):     #finds index of answer from context\n",
        "    ret_start = 0\n",
        "    ret_end = 0\n",
        "    answer_encoding_fast = tokenizerFast(train_answers[idx]['text'],  max_length = MAX_LENGTH, truncation=True, padding=True)\n",
        "    for a in range( len(train_encodings_fast['input_ids'][idx]) -  len(answer_encoding_fast['input_ids']) ):\n",
        "        match = True\n",
        "        i=0\n",
        "        for i in range(1,len(answer_encoding_fast['input_ids']) - 1):\n",
        "\n",
        "            if (answer_encoding_fast['input_ids'][i] != train_encodings_fast['input_ids'][idx][a + i]):\n",
        "                match = False\n",
        "                break\n",
        "        if match:\n",
        "            ret_start = a+1\n",
        "            ret_end = a+i+1\n",
        "            break\n",
        "    return(ret_start, ret_end)"
      ]
    },
    {
      "cell_type": "code",
      "execution_count": null,
      "metadata": {
        "colab": {
          "base_uri": "https://localhost:8080/"
        },
        "id": "_jCxI7Q3lbAX",
        "outputId": "ff3fd7fe-737a-41b3-e6d8-fba3f313eb9f"
      },
      "outputs": [
        {
          "output_type": "stream",
          "name": "stdout",
          "text": [
            "z and x are\n",
            "0 0\n",
            "\n",
            "split with luckett and rober\n",
            "[CLS] what event caused beyonce's depression? [SEP] letoya luckett and roberson became unhappy with mathew's managing of the band and eventually were replaced by farrah franklin and michelle williams. beyonce experienced depression following the split with luckett and roberson after being publicly blamed by the media, critics, and blogs for its cause. her long - standing boyfriend left her at this time. the depression was so severe it lasted for a couple of years, during which she occasionally kept herself in her bedroom for days and refused to eat anything. beyonce stated that she struggled to speak about her depression because destiny's child had just won their first grammy award and she feared no one would take her seriously. beyonce would later speak of her mother as the person who helped her fight it. franklin was dismissed, leaving just beyonce, rowland, and williams. [SEP] [PAD] [PAD] [PAD] [PAD] [PAD] [PAD] [PAD] [PAD] [PAD] [PAD] [PAD] [PAD] [PAD] [PAD] [PAD] [PAD] [PAD] [PAD] [PAD] [PAD] [PAD] [PAD] [PAD] [PAD] [PAD] [PAD] [PAD] [PAD] [PAD] [PAD] [PAD] [PAD] [PAD] [PAD] [PAD] [PAD] [PAD] [PAD] [PAD] [PAD] [PAD] [PAD] [PAD] [PAD] [PAD] [PAD] [PAD] [PAD] [PAD] [PAD] [PAD] [PAD] [PAD] [PAD] [PAD] [PAD] [PAD] [PAD] [PAD] [PAD] [PAD] [PAD] [PAD] [PAD] [PAD] [PAD] [PAD] [PAD] [PAD] [PAD] [PAD] [PAD] [PAD] [PAD] [PAD] [PAD] [PAD] [PAD] [PAD] [PAD]\n"
          ]
        }
      ],
      "source": [
        "test_rec=92\n",
        "\n",
        "z,x = ret_Answer_start_and_end_train(test_rec)\n",
        "print(\"z and x are\")\n",
        "print(z, x)\n",
        "\n",
        "predict_answer_tokens = train_encodings_fast.input_ids[test_rec][z : x]\n",
        "print(tokenizerFast.decode(predict_answer_tokens))\n",
        "print(train_answers[test_rec]['text'])\n",
        "print(tokenizerFast.decode(train_encodings_fast['input_ids'][test_rec]))"
      ]
    },
    {
      "cell_type": "code",
      "execution_count": null,
      "metadata": {
        "colab": {
          "base_uri": "https://localhost:8080/"
        },
        "id": "unmxFQSEKAUC",
        "outputId": "825da1ca-e79c-432d-acb4-e661641b7bb5"
      },
      "outputs": [
        {
          "output_type": "stream",
          "name": "stdout",
          "text": [
            "z and x are\n",
            "68 71\n",
            "singing and dancing\n",
            "singing and dancing\n",
            "[CLS] what areas did beyonce compete in when she was growing up? [SEP] beyonce giselle knowles - carter ( / biːˈjɒnseɪ / bee - yon - say ) ( born september 4, 1981 ) is an american singer, songwriter, record producer and actress. born and raised in houston, texas, she performed in various singing and dancing competitions as a child, and rose to fame in the late 1990s as lead singer of r & b girl - group destiny's child. managed by her father, mathew knowles, the group became one of the world's best - selling girl groups of all time. their hiatus saw the release of beyonce's debut album, dangerously in love ( 2003 ), which established her as a solo artist worldwide, earned five grammy awards and featured the billboard hot 100 number - one singles \" crazy in love \" and \" baby boy \". [SEP] [PAD] [PAD] [PAD] [PAD] [PAD] [PAD] [PAD] [PAD] [PAD] [PAD] [PAD] [PAD] [PAD] [PAD] [PAD] [PAD] [PAD] [PAD] [PAD] [PAD] [PAD] [PAD] [PAD] [PAD] [PAD] [PAD] [PAD] [PAD] [PAD] [PAD] [PAD] [PAD] [PAD] [PAD] [PAD] [PAD] [PAD] [PAD] [PAD] [PAD] [PAD] [PAD] [PAD] [PAD] [PAD] [PAD] [PAD] [PAD] [PAD] [PAD] [PAD] [PAD] [PAD] [PAD] [PAD] [PAD] [PAD] [PAD] [PAD] [PAD] [PAD] [PAD] [PAD] [PAD] [PAD] [PAD] [PAD] [PAD] [PAD] [PAD] [PAD]\n"
          ]
        }
      ],
      "source": [
        "test_rec=1\n",
        "\n",
        "z,x = ret_Answer_start_and_end_train(test_rec)\n",
        "print(\"z and x are\")\n",
        "print(z, x)\n",
        "\n",
        "predict_answer_tokens = train_encodings_fast.input_ids[test_rec][z : x]\n",
        "print(tokenizerFast.decode(predict_answer_tokens))\n",
        "print(train_answers[test_rec]['text'])\n",
        "print(tokenizerFast.decode(train_encodings_fast['input_ids'][test_rec]))"
      ]
    },
    {
      "cell_type": "code",
      "execution_count": null,
      "metadata": {
        "colab": {
          "base_uri": "https://localhost:8080/"
        },
        "id": "PtIxLyd_lkQw",
        "outputId": "443a38c0-52b3-4140-80af-447f984f3bd3"
      },
      "outputs": [
        {
          "output_type": "stream",
          "name": "stdout",
          "text": [
            "dict_keys(['input_ids', 'token_type_ids', 'attention_mask'])\n",
            "135319\n"
          ]
        }
      ],
      "source": [
        "print(train_encodings_fast.keys())\n",
        "# print(valid_encodings_fast.keys())\n",
        "print(len(train_encodings_fast['input_ids']))"
      ]
    },
    {
      "cell_type": "code",
      "execution_count": null,
      "metadata": {
        "colab": {
          "base_uri": "https://localhost:8080/"
        },
        "id": "ICYD6IbZlmSe",
        "outputId": "0650ee48-86f3-4d03-8c09-f61ad173893e"
      },
      "outputs": [
        {
          "output_type": "stream",
          "name": "stdout",
          "text": [
            "1379\n"
          ]
        }
      ],
      "source": [
        "start_positions = []\n",
        "end_positions = []\n",
        "ctr = 0\n",
        "for h in range(len(train_encodings_fast['input_ids'])):\n",
        "    s, e = ret_Answer_start_and_end_train(h)\n",
        "    start_positions.append(s)\n",
        "    end_positions.append(e)\n",
        "    if s==0:\n",
        "        ctr = ctr + 1\n",
        "\n",
        "\n",
        "train_encodings_fast.update({'start_positions': start_positions, 'end_positions': end_positions})\n",
        "print(ctr)"
      ]
    },
    {
      "cell_type": "code",
      "execution_count": null,
      "metadata": {
        "colab": {
          "base_uri": "https://localhost:8080/"
        },
        "id": "JiTddrQNlozS",
        "outputId": "109b2d4d-673d-48c7-b28a-64926d3cb9f6"
      },
      "outputs": [
        {
          "output_type": "stream",
          "name": "stdout",
          "text": [
            "dict_keys(['input_ids', 'token_type_ids', 'attention_mask', 'start_positions', 'end_positions'])\n",
            "135319\n"
          ]
        }
      ],
      "source": [
        "print(train_encodings_fast.keys())\n",
        "# print(valid_encodings_fast.keys())\n",
        "print(len(train_encodings_fast['input_ids']))"
      ]
    },
    {
      "cell_type": "code",
      "execution_count": null,
      "metadata": {
        "colab": {
          "base_uri": "https://localhost:8080/"
        },
        "id": "6q2u3OwTlrSu",
        "outputId": "a5968ea1-5262-47bb-c06a-2d20a4118f58"
      },
      "outputs": [
        {
          "output_type": "stream",
          "name": "stdout",
          "text": [
            "68\n",
            "71\n",
            "singing and dancing\n",
            "singing and dancing\n",
            "[CLS] what areas did beyonce compete in when she was growing up? [SEP] beyonce giselle knowles - carter ( / biːˈjɒnseɪ / bee - yon - say ) ( born september 4, 1981 ) is an american singer, songwriter, record producer and actress. born and raised in houston, texas, she performed in various singing and dancing competitions as a child, and rose to fame in the late 1990s as lead singer of r & b girl - group destiny's child. managed by her father, mathew knowles, the group became one of the world's best - selling girl groups of all time. their hiatus saw the release of beyonce's debut album, dangerously in love ( 2003 ), which established her as a solo artist worldwide, earned five grammy awards and featured the billboard hot 100 number - one singles \" crazy in love \" and \" baby boy \". [SEP] [PAD] [PAD] [PAD] [PAD] [PAD] [PAD] [PAD] [PAD] [PAD] [PAD] [PAD] [PAD] [PAD] [PAD] [PAD] [PAD] [PAD] [PAD] [PAD] [PAD] [PAD] [PAD] [PAD] [PAD] [PAD] [PAD] [PAD] [PAD] [PAD] [PAD] [PAD] [PAD] [PAD] [PAD] [PAD] [PAD] [PAD] [PAD] [PAD] [PAD] [PAD] [PAD] [PAD] [PAD] [PAD] [PAD] [PAD] [PAD] [PAD] [PAD] [PAD] [PAD] [PAD] [PAD] [PAD] [PAD] [PAD] [PAD] [PAD] [PAD] [PAD] [PAD] [PAD] [PAD] [PAD] [PAD] [PAD] [PAD] [PAD] [PAD] [PAD]\n"
          ]
        }
      ],
      "source": [
        "test_rec = 1\n",
        "print(train_encodings_fast['start_positions'][test_rec])\n",
        "print(train_encodings_fast['end_positions'][test_rec])\n",
        "predict_answer_tokens = train_encodings_fast.input_ids[test_rec][train_encodings_fast['start_positions'][test_rec] : train_encodings_fast['end_positions'][test_rec]]\n",
        "print(tokenizerFast.decode(predict_answer_tokens))\n",
        "print(train_answers[test_rec]['text'])\n",
        "print(tokenizerFast.decode(train_encodings_fast['input_ids'][test_rec]))"
      ]
    },
    {
      "cell_type": "code",
      "execution_count": null,
      "metadata": {
        "id": "Sjm1WSLtl5vK"
      },
      "outputs": [],
      "source": [
        "# def ret_Answer_start_and_end_valid(idx):         #finds index of answer from context\n",
        "#     ret_start = 0\n",
        "#     ret_end = 0\n",
        "#     answer_encoding_fast = tokenizerFast(valid_answers[idx]['text'],  max_length = MAX_LENGTH, truncation=True, padding=True)\n",
        "#     for a in range( len(valid_encodings_fast['input_ids'][idx])  -  len(answer_encoding_fast['input_ids'])   ):\n",
        "#         match = True\n",
        "#         for i in range(1,len(answer_encoding_fast['input_ids']) - 1):\n",
        "#             if (answer_encoding_fast['input_ids'][i] != valid_encodings_fast['input_ids'][idx][a + i]):\n",
        "#                 match = False\n",
        "#                 break\n",
        "#         if match:\n",
        "#             ret_start = a+1\n",
        "#             ret_end = a+i+1\n",
        "#             break\n",
        "#     return(ret_start, ret_end)"
      ]
    },
    {
      "cell_type": "code",
      "execution_count": null,
      "metadata": {
        "id": "QE7W5LfQl6cm"
      },
      "outputs": [],
      "source": [
        "# start_positions = []    #updating start and end positions\n",
        "# end_positions = []\n",
        "# ctr = 0\n",
        "# for h in range(len(valid_encodings_fast['input_ids']) ):\n",
        "#     s, e = ret_Answer_start_and_end_valid(h)\n",
        "#     start_positions.append(s)\n",
        "#     end_positions.append(e)\n",
        "#     if s==0:\n",
        "#         ctr = ctr + 1\n",
        "\n",
        "\n",
        "# valid_encodings_fast.update({'start_positions': start_positions, 'end_positions': end_positions})\n",
        "# print(ctr)"
      ]
    },
    {
      "cell_type": "code",
      "execution_count": null,
      "metadata": {
        "id": "gzERCNesl80M"
      },
      "outputs": [],
      "source": [
        "# test_rec=2\n",
        "\n",
        "# z,x = ret_Answer_start_and_end_valid(test_rec)\n",
        "\n",
        "# predict_answer_tokens = valid_encodings_fast.input_ids[test_rec][z : x]\n",
        "# print(tokenizerFast.decode(predict_answer_tokens))\n",
        "# print(valid_answers[test_rec]['text'])\n",
        "# print(tokenizerFast.decode(valid_encodings_fast['input_ids'][test_rec]))"
      ]
    },
    {
      "cell_type": "code",
      "execution_count": null,
      "metadata": {
        "colab": {
          "base_uri": "https://localhost:8080/"
        },
        "id": "1J8qhacPl_j2",
        "outputId": "5fbf73d3-476e-43f9-be6b-0c874f4e3985"
      },
      "outputs": [
        {
          "output_type": "stream",
          "name": "stdout",
          "text": [
            "dict_keys(['input_ids', 'token_type_ids', 'attention_mask', 'start_positions', 'end_positions'])\n",
            "135319\n",
            "135319\n",
            "135319\n"
          ]
        }
      ],
      "source": [
        "print(train_encodings_fast.keys())\n",
        "# print(valid_encodings_fast.keys())\n",
        "print(len(train_encodings_fast['input_ids']))\n",
        "print(len(train_encodings_fast['start_positions']))\n",
        "print(len(train_encodings_fast['end_positions']))\n",
        "# print(len(valid_encodings_fast['input_ids']))\n",
        "# print(len(valid_encodings_fast['start_positions']))\n",
        "# print(len(valid_encodings_fast['end_positions']))"
      ]
    },
    {
      "cell_type": "code",
      "execution_count": null,
      "metadata": {
        "colab": {
          "base_uri": "https://localhost:8080/",
          "height": 123
        },
        "id": "P946Tcm8mCG8",
        "outputId": "807cb8d5-ebbc-4662-eef9-5be2c46343c1"
      },
      "outputs": [
        {
          "output_type": "execute_result",
          "data": {
            "text/plain": [
              "'[CLS] when did beyonce start becoming popular? [SEP] beyonce giselle knowles - carter ( / biːˈjɒnseɪ / bee - yon - say ) ( born september 4, 1981 ) is an american singer, songwriter, record producer and actress. born and raised in houston, texas, she performed in various singing and dancing competitions as a child, and rose to fame in the late 1990s as lead singer of r & b girl - group destiny\\'s child. managed by her father, mathew knowles, the group became one of the world\\'s best - selling girl groups of all time. their hiatus saw the release of beyonce\\'s debut album, dangerously in love ( 2003 ), which established her as a solo artist worldwide, earned five grammy awards and featured the billboard hot 100 number - one singles \" crazy in love \" and \" baby boy \". [SEP] [PAD] [PAD] [PAD] [PAD] [PAD] [PAD] [PAD] [PAD] [PAD] [PAD] [PAD] [PAD] [PAD] [PAD] [PAD] [PAD] [PAD] [PAD] [PAD] [PAD] [PAD] [PAD] [PAD] [PAD] [PAD] [PAD] [PAD] [PAD] [PAD] [PAD] [PAD] [PAD] [PAD] [PAD] [PAD] [PAD] [PAD] [PAD] [PAD] [PAD] [PAD] [PAD] [PAD] [PAD] [PAD] [PAD] [PAD] [PAD] [PAD] [PAD] [PAD] [PAD] [PAD] [PAD] [PAD] [PAD] [PAD] [PAD] [PAD] [PAD] [PAD] [PAD] [PAD] [PAD] [PAD] [PAD] [PAD] [PAD] [PAD] [PAD] [PAD] [PAD] [PAD] [PAD] [PAD] [PAD]'"
            ],
            "application/vnd.google.colaboratory.intrinsic+json": {
              "type": "string"
            }
          },
          "metadata": {},
          "execution_count": 37
        }
      ],
      "source": [
        "tokenizerFast.decode(train_encodings_fast['input_ids'][0])"
      ]
    },
    {
      "cell_type": "code",
      "execution_count": null,
      "metadata": {
        "colab": {
          "base_uri": "https://localhost:8080/"
        },
        "id": "vWtneUXXmFiw",
        "outputId": "84cd5f88-ff3f-4e40-82c4-bf771bf5804e"
      },
      "outputs": [
        {
          "output_type": "stream",
          "name": "stdout",
          "text": [
            "in the late 1990s\n"
          ]
        }
      ],
      "source": [
        "test_row= 0\n",
        "print(train_contexts[test_row][train_answers[test_row]['answer_start']:train_answers[test_row]['answer_end']])"
      ]
    },
    {
      "cell_type": "code",
      "execution_count": null,
      "metadata": {
        "colab": {
          "base_uri": "https://localhost:8080/",
          "height": 70
        },
        "id": "1rhLm8BEmPNF",
        "outputId": "c741e6f3-dc3c-4093-9417-3091acda30f0"
      },
      "outputs": [
        {
          "output_type": "execute_result",
          "data": {
            "text/plain": [
              "\"[CLS] when did beyonce start becoming popular? [SEP] beyonce giselle knowles - carter ( / biːˈjɒnseɪ / bee - yon - say ) ( born september 4, 1981 ) is an american singer, songwriter, record producer and actress. born and raised in houston, texas, she performed in various singing and dancing competitions as a child, and rose to fame in the late 1990s as lead singer of r & b girl - group destiny's child. managed by her father, mathew\""
            ],
            "application/vnd.google.colaboratory.intrinsic+json": {
              "type": "string"
            }
          },
          "metadata": {},
          "execution_count": 39
        }
      ],
      "source": [
        "answer_start_index = 0\n",
        "answer_end_index = 100\n",
        "\n",
        "predict_answer_tokens = train_encodings_fast.input_ids[0][answer_start_index : answer_end_index]\n",
        "tokenizerFast.decode(predict_answer_tokens)"
      ]
    },
    {
      "cell_type": "code",
      "execution_count": null,
      "metadata": {
        "id": "af6KAyJOmQHH"
      },
      "outputs": [],
      "source": [
        "class InputDataset(Dataset):\n",
        "    def __init__(self, encodings):\n",
        "        self.encodings = encodings\n",
        "    def __getitem__(self, i):\n",
        "        return {\n",
        "            'input_ids': torch.tensor(self.encodings['input_ids'][i]),\n",
        "            'token_type_ids': torch.tensor(self.encodings['token_type_ids'][i]),\n",
        "            'attention_mask': torch.tensor(self.encodings['attention_mask'][i]),\n",
        "            'start_positions': torch.tensor(self.encodings['start_positions'][i]),\n",
        "            'end_positions': torch.tensor(self.encodings['end_positions'][i])\n",
        "        }\n",
        "    def __len__(self):\n",
        "        return len(self.encodings['input_ids'])"
      ]
    },
    {
      "cell_type": "code",
      "execution_count": null,
      "metadata": {
        "colab": {
          "base_uri": "https://localhost:8080/",
          "height": 49,
          "referenced_widgets": [
            "014617f929a447ddb9f87ca6f137ea70",
            "d33195177964431b9c2f3c8857850b36",
            "4ca874bb49634dd1bb5b9984bdf975e7",
            "cba133c39d814f83b9575a157c6014c9",
            "992381b26aba4c28be3805e6578de755",
            "a43a75ec98d446fb8517c292a4f22968",
            "76ff7033841541f885675d5b5630b87c",
            "80f90116122b409c89a5c38d7877759f",
            "95a189f80755451190a7d35b06185a5a",
            "b8c821a53b384dc18f32fc9960c995be",
            "3f90a939b24d4159a10bcb56845863d1"
          ]
        },
        "id": "YCWnJ06Vda7S",
        "outputId": "c7f62d25-8d60-49d2-de21-8c7f7ea98866"
      },
      "outputs": [
        {
          "output_type": "display_data",
          "data": {
            "text/plain": [
              "model.safetensors:   0%|          | 0.00/440M [00:00<?, ?B/s]"
            ],
            "application/vnd.jupyter.widget-view+json": {
              "version_major": 2,
              "version_minor": 0,
              "model_id": "014617f929a447ddb9f87ca6f137ea70"
            }
          },
          "metadata": {}
        }
      ],
      "source": [
        "bert_model = BertModel.from_pretrained(MODEL_PATH)\n",
        "class QAModel(nn.Module):\n",
        "    def __init__(self):\n",
        "        super(QAModel, self).__init__()\n",
        "        self.bert = bert_model\n",
        "        self.drop_out = nn.Dropout(0.1)\n",
        "        self.l1 = nn.Linear(768 * 2, 768 * 2)\n",
        "        self.l2 = nn.Linear(768 * 2, 2)\n",
        "        self.linear_relu_stack = nn.Sequential(\n",
        "            self.drop_out,\n",
        "            self.l1,\n",
        "            nn.LeakyReLU(),\n",
        "            self.l2\n",
        "        )\n",
        "\n",
        "    def forward(self, input_ids, attention_mask, token_type_ids):\n",
        "        model_output = self.bert(input_ids, attention_mask=attention_mask, token_type_ids=token_type_ids, output_hidden_states=True)\n",
        "        hidden_states = model_output[2]\n",
        "        out = torch.cat((hidden_states[-1], hidden_states[-3]), dim=-1)\n",
        "        logits = self.linear_relu_stack(out)\n",
        "\n",
        "        start_logits, end_logits = logits.split(1, dim=-1)\n",
        "\n",
        "        start_logits = start_logits.squeeze(-1)\n",
        "        end_logits = end_logits.squeeze(-1)\n",
        "\n",
        "        return start_logits, end_logits"
      ]
    },
    {
      "cell_type": "code",
      "execution_count": null,
      "metadata": {
        "colab": {
          "base_uri": "https://localhost:8080/"
        },
        "id": "JS-BOmyWdfA-",
        "outputId": "56843897-7eb8-4334-9726-168f4c07702d"
      },
      "outputs": [
        {
          "output_type": "stream",
          "name": "stdout",
          "text": [
            "135319\n"
          ]
        }
      ],
      "source": [
        "choice_list = [0, 1, 2, 3, 4]\n",
        "print(len(train_encodings_fast['input_ids']))\n",
        "valid_encodings_split = {i: [] for i in range(5)}\n",
        "train_encodings_split = {i: [] for i in range(5)}\n",
        "import random\n",
        "total_valids = 5*(int(len(train_encodings_fast['input_ids'])/5))\n",
        "valid_index_list = [i for i in range(len(train_encodings_fast['input_ids']))]\n",
        "random.shuffle(valid_index_list)\n",
        "for i in range(total_valids):\n",
        "  valid_encodings_split[int(((i)/total_valids)*5)].append(valid_index_list[i])\n",
        "for i in range(5):\n",
        "  for j in valid_encodings_split[i]:\n",
        "    for k in range(5):\n",
        "      if k!=i:\n",
        "        train_encodings_split[k].append(j)"
      ]
    },
    {
      "cell_type": "code",
      "execution_count": null,
      "metadata": {
        "id": "qqDUBjFPdxAo"
      },
      "outputs": [],
      "source": [
        "#save the encoding file\n",
        "file_str = \"\"\n",
        "# for i in range(4):\n",
        "#   for ele in train_encodings_split[i]:\n",
        "#     file_str += ele\n",
        "#     file_str += \",\"\n",
        "#   file_str += \"\\n\"\n",
        "for i in range(5):\n",
        "  for ele in valid_encodings_split[i]:\n",
        "    file_str += str(ele)\n",
        "    file_str += \",\"\n",
        "  file_str += \"\\n\"\n",
        "with open(\"/content/drive/MyDrive/OELP_BERT/BERT_SQuad/trial.txt\", \"w\") as writefile:\n",
        "  writefile.write(file_str)"
      ]
    },
    {
      "cell_type": "code",
      "execution_count": null,
      "metadata": {
        "colab": {
          "base_uri": "https://localhost:8080/"
        },
        "id": "qKzl0hrWdwdq",
        "outputId": "32ff1dfe-aed1-40f5-8b5e-92048e72017b"
      },
      "outputs": [
        {
          "output_type": "stream",
          "name": "stdout",
          "text": [
            "cuda\n"
          ]
        }
      ],
      "source": [
        "device = torch.device('cuda') if torch.cuda.is_available() else torch.device('cpu')\n",
        "print(device)"
      ]
    },
    {
      "cell_type": "code",
      "execution_count": null,
      "metadata": {
        "id": "BN_4GD_6d2tb"
      },
      "outputs": [],
      "source": [
        "model = QAModel()"
      ]
    },
    {
      "cell_type": "code",
      "execution_count": null,
      "metadata": {
        "id": "e0kPmtzTd40K"
      },
      "outputs": [],
      "source": [
        "def loss_fn(start_logits, end_logits, start_positions, end_positions):\n",
        "    loss_fct = nn.CrossEntropyLoss()\n",
        "    start_loss = loss_fct(start_logits, start_positions)\n",
        "    end_loss = loss_fct(end_logits, end_positions)\n",
        "    total_loss = (start_loss + end_loss)/2\n",
        "    return total_loss\n",
        "\n",
        "def focal_loss_fn(start_logits, end_logits, start_positions, end_positions, gamma):\n",
        "\n",
        "    smax = nn.Softmax(dim=1)\n",
        "    probs_start = smax(start_logits)\n",
        "    inv_probs_start = 1 - probs_start\n",
        "    probs_end = smax(end_logits)\n",
        "    inv_probs_end = 1 - probs_end\n",
        "\n",
        "    lsmax = nn.LogSoftmax(dim=1)\n",
        "    log_probs_start = lsmax(start_logits)\n",
        "    log_probs_end = lsmax(end_logits)\n",
        "\n",
        "    nll = nn.NLLLoss()\n",
        "\n",
        "    fl_start = nll(torch.pow(inv_probs_start, gamma)* log_probs_start, start_positions)\n",
        "    fl_end = nll(torch.pow(inv_probs_end, gamma)*log_probs_end, end_positions)\n",
        "\n",
        "    return ((fl_start + fl_end)/2)"
      ]
    },
    {
      "cell_type": "code",
      "execution_count": null,
      "metadata": {
        "colab": {
          "base_uri": "https://localhost:8080/"
        },
        "id": "HKLm9YMAd_gv",
        "outputId": "2059a142-e7e2-4372-870b-dae44b45d916"
      },
      "outputs": [
        {
          "output_type": "stream",
          "name": "stderr",
          "text": [
            "/usr/local/lib/python3.10/dist-packages/transformers/optimization.py:429: FutureWarning: This implementation of AdamW is deprecated and will be removed in a future version. Use the PyTorch implementation torch.optim.AdamW instead, or set `no_deprecation_warning=True` to disable this warning\n",
            "  warnings.warn(\n"
          ]
        }
      ],
      "source": [
        "optim = AdamW(model.parameters(), lr=2e-5, weight_decay=2e-2)\n",
        "scheduler = ExponentialLR(optim, gamma=0.9)\n",
        "total_acc = []\n",
        "total_loss = []"
      ]
    },
    {
      "cell_type": "code",
      "execution_count": null,
      "metadata": {
        "id": "EMUfQuY4eCKo"
      },
      "outputs": [],
      "source": [
        "def train_epoch(model, dataloader, epoch):\n",
        "    model = model.train()\n",
        "    losses = []\n",
        "    acc = []\n",
        "    ctr = 0\n",
        "    batch_tracker = 0\n",
        "    for batch in tqdm(dataloader, desc = 'Running Epoch '):\n",
        "        optim.zero_grad()\n",
        "        input_ids = batch['input_ids'].to(device)\n",
        "        attention_mask = batch['attention_mask'].to(device)\n",
        "        token_type_ids = batch['token_type_ids'].to(device)\n",
        "        start_positions = batch['start_positions'].to(device)\n",
        "        end_positions = batch['end_positions'].to(device)\n",
        "        out_start, out_end = model(input_ids=input_ids,\n",
        "                attention_mask=attention_mask,\n",
        "                token_type_ids=token_type_ids)\n",
        "        loss = focal_loss_fn(out_start, out_end, start_positions, end_positions,1)\n",
        "        losses.append(loss.item())\n",
        "        loss.backward()\n",
        "        optim.step()\n",
        "        #print(out_start)\n",
        "\n",
        "        # for iter in range(16):\n",
        "        #   print(tokenizerFast.decode(input_ids[iter]))\n",
        "\n",
        "        # print(out_start.size())\n",
        "        start_pred = torch.argmax(out_start, dim=1)\n",
        "        end_pred = torch.argmax(out_end, dim=1)\n",
        "        # print(\"\\n\")\n",
        "        #print((type(start_positions)))\n",
        "        #print(type(start_pred))\n",
        "\n",
        "        # for iter in range(16):\n",
        "        #   print(\"pred\")\n",
        "        #   print(tokenizerFast.convert_tokens_to_string(tokenizerFast.convert_ids_to_tokens(input_ids[iter][start_pred[iter] : end_pred[iter]])))\n",
        "        #   print(\"true ans\")\n",
        "        #   print(tokenizerFast.convert_tokens_to_string(tokenizerFast.convert_ids_to_tokens(input_ids[iter][start_positions[iter] : end_positions[iter]])))\n",
        "\n",
        "        #print(start_pred)\n",
        "        #print(start_positions)\n",
        "\n",
        "        acc.append(((start_pred == start_positions).sum()/len(start_pred)).item())\n",
        "        acc.append(((end_pred == end_positions).sum()/len(end_pred)).item())\n",
        "\n",
        "        #print(f\"acc1 is {acc[-2]} acc2 is {acc[-1]}\")\n",
        "        # print(\"\\n\")\n",
        "\n",
        "        batch_tracker = batch_tracker + 1\n",
        "        if batch_tracker==250 and epoch==1:\n",
        "            total_acc.append(sum(acc)/len(acc))\n",
        "            loss_avg = sum(losses)/len(losses)\n",
        "            total_loss.append(loss_avg)\n",
        "            batch_tracker = 0\n",
        "    scheduler.step()\n",
        "    ret_acc = sum(acc)/len(acc)\n",
        "    ret_loss = sum(losses)/len(losses)\n",
        "    return(ret_acc, ret_loss)"
      ]
    },
    {
      "cell_type": "code",
      "execution_count": null,
      "metadata": {
        "id": "F43T69wSeD0V"
      },
      "outputs": [],
      "source": [
        "def eval_model(model, dataloader):\n",
        "    model = model.eval()\n",
        "    losses = []\n",
        "    acc = []\n",
        "    ctr = 0\n",
        "    with torch.no_grad():\n",
        "        for batch in tqdm(dataloader, desc = 'Running Evaluation'):\n",
        "            input_ids = batch['input_ids'].to(device)\n",
        "            attention_mask = batch['attention_mask'].to(device)\n",
        "            token_type_ids = batch['token_type_ids'].to(device)\n",
        "            start_true = batch['start_positions'].to(device)\n",
        "            end_true = batch['end_positions'].to(device)\n",
        "\n",
        "            out_start, out_end = model(input_ids=input_ids,\n",
        "                attention_mask=attention_mask,\n",
        "                token_type_ids=token_type_ids)\n",
        "\n",
        "            start_pred = torch.argmax(out_start, dim=1)\n",
        "            end_pred = torch.argmax(out_end, dim=1)\n",
        "\n",
        "            acc.append(((start_pred == start_true).sum()/len(start_pred)).item())\n",
        "            acc.append(((end_pred == end_true).sum()/len(end_pred)).item())\n",
        "        ret_acc = sum(acc)/len(acc)\n",
        "        ret_loss = 0\n",
        "    return(ret_acc)"
      ]
    },
    {
      "cell_type": "code",
      "execution_count": null,
      "metadata": {
        "colab": {
          "base_uri": "https://localhost:8080/"
        },
        "id": "65HendA1eFyu",
        "outputId": "590d35aa-08a5-4c73-b3f9-91c310904837"
      },
      "outputs": [
        {
          "output_type": "execute_result",
          "data": {
            "text/plain": [
              "QAModel(\n",
              "  (bert): BertModel(\n",
              "    (embeddings): BertEmbeddings(\n",
              "      (word_embeddings): Embedding(30522, 768, padding_idx=0)\n",
              "      (position_embeddings): Embedding(512, 768)\n",
              "      (token_type_embeddings): Embedding(2, 768)\n",
              "      (LayerNorm): LayerNorm((768,), eps=1e-12, elementwise_affine=True)\n",
              "      (dropout): Dropout(p=0.1, inplace=False)\n",
              "    )\n",
              "    (encoder): BertEncoder(\n",
              "      (layer): ModuleList(\n",
              "        (0-11): 12 x BertLayer(\n",
              "          (attention): BertAttention(\n",
              "            (self): BertSelfAttention(\n",
              "              (query): Linear(in_features=768, out_features=768, bias=True)\n",
              "              (key): Linear(in_features=768, out_features=768, bias=True)\n",
              "              (value): Linear(in_features=768, out_features=768, bias=True)\n",
              "              (dropout): Dropout(p=0.1, inplace=False)\n",
              "            )\n",
              "            (output): BertSelfOutput(\n",
              "              (dense): Linear(in_features=768, out_features=768, bias=True)\n",
              "              (LayerNorm): LayerNorm((768,), eps=1e-12, elementwise_affine=True)\n",
              "              (dropout): Dropout(p=0.1, inplace=False)\n",
              "            )\n",
              "          )\n",
              "          (intermediate): BertIntermediate(\n",
              "            (dense): Linear(in_features=768, out_features=3072, bias=True)\n",
              "            (intermediate_act_fn): GELUActivation()\n",
              "          )\n",
              "          (output): BertOutput(\n",
              "            (dense): Linear(in_features=3072, out_features=768, bias=True)\n",
              "            (LayerNorm): LayerNorm((768,), eps=1e-12, elementwise_affine=True)\n",
              "            (dropout): Dropout(p=0.1, inplace=False)\n",
              "          )\n",
              "        )\n",
              "      )\n",
              "    )\n",
              "    (pooler): BertPooler(\n",
              "      (dense): Linear(in_features=768, out_features=768, bias=True)\n",
              "      (activation): Tanh()\n",
              "    )\n",
              "  )\n",
              "  (drop_out): Dropout(p=0.1, inplace=False)\n",
              "  (l1): Linear(in_features=1536, out_features=1536, bias=True)\n",
              "  (l2): Linear(in_features=1536, out_features=2, bias=True)\n",
              "  (linear_relu_stack): Sequential(\n",
              "    (0): Dropout(p=0.1, inplace=False)\n",
              "    (1): Linear(in_features=1536, out_features=1536, bias=True)\n",
              "    (2): LeakyReLU(negative_slope=0.01)\n",
              "    (3): Linear(in_features=1536, out_features=2, bias=True)\n",
              "  )\n",
              ")"
            ]
          },
          "metadata": {},
          "execution_count": 50
        }
      ],
      "source": [
        "EPOCHS = 5\n",
        "curr_epoch = 0\n",
        "model.to(device)"
      ]
    },
    {
      "cell_type": "code",
      "execution_count": null,
      "metadata": {
        "colab": {
          "base_uri": "https://localhost:8080/"
        },
        "id": "wwzwlWCXeGN1",
        "outputId": "f701114f-05b3-40c9-938c-a6d4e29e4fe2"
      },
      "outputs": [
        {
          "output_type": "stream",
          "name": "stdout",
          "text": [
            "current epoch is 1\n"
          ]
        },
        {
          "output_type": "stream",
          "name": "stderr",
          "text": [
            "Running Epoch : 100%|██████████| 6766/6766 [1:27:21<00:00,  1.29it/s]\n"
          ]
        },
        {
          "output_type": "stream",
          "name": "stdout",
          "text": [
            "Train Accuracy: 0.5586341634643808      Train Loss: 1.2181516252887556\n"
          ]
        },
        {
          "output_type": "stream",
          "name": "stderr",
          "text": [
            "Running Evaluation: 100%|██████████| 846/846 [07:12<00:00,  1.96it/s]\n"
          ]
        },
        {
          "output_type": "stream",
          "name": "stdout",
          "text": [
            "Validation Accuracy: 0.766623946474799\n",
            "current epoch is 2\n"
          ]
        },
        {
          "output_type": "stream",
          "name": "stderr",
          "text": [
            "Running Epoch : 100%|██████████| 6766/6766 [1:27:22<00:00,  1.29it/s]\n"
          ]
        },
        {
          "output_type": "stream",
          "name": "stdout",
          "text": [
            "Train Accuracy: 0.7127888215617108      Train Loss: 0.6695512511098205\n"
          ]
        },
        {
          "output_type": "stream",
          "name": "stderr",
          "text": [
            "Running Evaluation: 100%|██████████| 846/846 [07:12<00:00,  1.96it/s]\n"
          ]
        },
        {
          "output_type": "stream",
          "name": "stdout",
          "text": [
            "Validation Accuracy: 0.8574477721613349\n",
            "current epoch is 3\n"
          ]
        },
        {
          "output_type": "stream",
          "name": "stderr",
          "text": [
            "Running Epoch :  25%|██▍       | 1686/6766 [21:45<1:05:36,  1.29it/s]"
          ]
        }
      ],
      "source": [
        "for epoch in range(EPOCHS):\n",
        "  actual_train_encoding = {\n",
        "      'input_ids' : [],\n",
        "      'token_type_ids' : [],\n",
        "      'attention_mask' : [],\n",
        "      'start_positions' : [],\n",
        "      'end_positions' : []\n",
        "  }\n",
        "  actual_valid_encoding = {\n",
        "      'input_ids' : [],\n",
        "      'token_type_ids' : [],\n",
        "      'attention_mask' : [],\n",
        "      'start_positions' : [],\n",
        "      'end_positions' : []\n",
        "  }\n",
        "\n",
        "  for index in range(len(train_encodings_split[epoch])):\n",
        "    actual_train_encoding['input_ids'].append(train_encodings_fast['input_ids'][index])\n",
        "    actual_train_encoding['token_type_ids'].append(train_encodings_fast['token_type_ids'][index])\n",
        "    actual_train_encoding['attention_mask'].append(train_encodings_fast['attention_mask'][index])\n",
        "    actual_train_encoding['start_positions'].append(train_encodings_fast['start_positions'][index])\n",
        "    actual_train_encoding['end_positions'].append(train_encodings_fast['end_positions'][index])\n",
        "\n",
        "  for index in range(len(valid_encodings_split[epoch])):\n",
        "    actual_valid_encoding['input_ids'].append(train_encodings_fast['input_ids'][index])\n",
        "    actual_valid_encoding['token_type_ids'].append(train_encodings_fast['token_type_ids'][index])\n",
        "    actual_valid_encoding['attention_mask'].append(train_encodings_fast['attention_mask'][index])\n",
        "    actual_valid_encoding['start_positions'].append(train_encodings_fast['start_positions'][index])\n",
        "    actual_valid_encoding['end_positions'].append(train_encodings_fast['end_positions'][index])\n",
        "\n",
        "  #print(actual_train_encoding)\n",
        "\n",
        "  train_dataset = InputDataset(actual_train_encoding)\n",
        "  valid_dataset = InputDataset(actual_valid_encoding)\n",
        "  train_data_loader = DataLoader(train_dataset, batch_size=16, shuffle=True)\n",
        "  valid_data_loader = DataLoader(valid_dataset, batch_size=32)\n",
        "\n",
        "  curr_epoch += 1\n",
        "  print(f\"current epoch is {curr_epoch}\")\n",
        "  train_acc, train_loss = train_epoch(model, train_data_loader, epoch+1)\n",
        "  print(f\"Train Accuracy: {train_acc}      Train Loss: {train_loss}\")\n",
        "  val_acc = eval_model(model, valid_data_loader)\n",
        "  print(f\"Validation Accuracy: {val_acc}\")\n",
        "  torch.save(model.state_dict(), f'/content/drive/MyDrive/OELP_BERT/BERT_SQuad/SQuad_with_ua_5k_augment_{epoch}.hdf5')"
      ]
    },
    {
      "cell_type": "code",
      "execution_count": null,
      "metadata": {
        "id": "_zIDBgcWnWSw"
      },
      "outputs": [],
      "source": [
        "scheduler.get_last_lr()"
      ]
    },
    {
      "cell_type": "code",
      "execution_count": null,
      "metadata": {
        "id": "VAZyuRRMPYQ2"
      },
      "outputs": [],
      "source": [
        "plt.plot(total_acc, color='blue')\n",
        "plt.ylabel('Accuracy')\n",
        "plt.xlabel('Runs->')\n",
        "plt.title(\"Total Train Accuracy over time\");"
      ]
    },
    {
      "cell_type": "code",
      "execution_count": null,
      "metadata": {
        "id": "_eMzxdQwPZPu"
      },
      "outputs": [],
      "source": [
        "plt.plot(total_loss, color='red')\n",
        "plt.ylabel('Loss')\n",
        "plt.xlabel('Runs->')\n",
        "plt.title(\"Total Train Loss over time\");"
      ]
    },
    {
      "cell_type": "code",
      "execution_count": null,
      "metadata": {
        "id": "_IaYHoq6P3k6"
      },
      "outputs": [],
      "source": [
        "def get_answer(question, context):\n",
        "    inputs = tokenizerFast.encode_plus(question, context, return_tensors='pt').to(device)\n",
        "    with torch.no_grad():\n",
        "        output_start, output_end = model(**inputs)\n",
        "\n",
        "        answer_start = torch.argmax(output_start)\n",
        "        answer_end = torch.argmax(output_end)\n",
        "\n",
        "        answer = tokenizerFast.convert_tokens_to_string(tokenizerFast.convert_ids_to_tokens(inputs['input_ids'][0][answer_start:answer_end]))\n",
        "\n",
        "        return(answer)"
      ]
    },
    {
      "cell_type": "code",
      "execution_count": null,
      "metadata": {
        "id": "FOdm7O7SP9Nq"
      },
      "outputs": [],
      "source": [
        "test_rec = 0\n",
        "\n",
        "print(f\"Context: {valid_contexts[test_rec]}\")\n",
        "print(f\"Question: {valid_questions[test_rec]}\")\n",
        "print(f\"Expected Answer: {valid_answers[test_rec]}\")\n",
        "\n",
        "context = valid_contexts[test_rec]\n",
        "question = valid_questions[test_rec]\n",
        "\n",
        "print(f\"Predicted Answer: {get_answer(question, context)}\")"
      ]
    },
    {
      "cell_type": "code",
      "execution_count": null,
      "metadata": {
        "id": "Sx6eFMHHP-6T"
      },
      "outputs": [],
      "source": [
        "test_rec = 15\n",
        "\n",
        "print(f\"Context: {valid_contexts[test_rec]}\")\n",
        "print(f\"Question: {valid_questions[test_rec]}\")\n",
        "print(f\"Expected Answer: {valid_answers[test_rec]}\")\n",
        "\n",
        "context = valid_contexts[test_rec]\n",
        "question = valid_questions[test_rec]\n",
        "\n",
        "print(f\"Predicted Answer: {get_answer(question, context)}\")"
      ]
    },
    {
      "cell_type": "code",
      "execution_count": null,
      "metadata": {
        "id": "MLMMxYTqQDQz"
      },
      "outputs": [],
      "source": [
        "test_rec = 28\n",
        "\n",
        "print(f\"Context: {valid_contexts[test_rec]}\")\n",
        "print(f\"Question: {valid_questions[test_rec]}\")\n",
        "print(f\"Expected Answer: {valid_answers[test_rec]}\")\n",
        "\n",
        "context = valid_contexts[test_rec]\n",
        "question = valid_questions[test_rec]\n",
        "\n",
        "print(f\"Predicted Answer: {get_answer(question, context)}\")"
      ]
    },
    {
      "cell_type": "code",
      "execution_count": null,
      "metadata": {
        "id": "yKUxRysGQFpF"
      },
      "outputs": [],
      "source": [
        "test_rec = 2000\n",
        "\n",
        "print(f\"Context: {valid_contexts[test_rec]}\")\n",
        "print(f\"Question: {valid_questions[test_rec]}\")\n",
        "print(f\"Expected Answer: {valid_answers[test_rec]}\")\n",
        "\n",
        "context = valid_contexts[test_rec]\n",
        "question = valid_questions[test_rec]\n",
        "\n",
        "print(f\"Predicted Answer: {get_answer(question, context)}\")"
      ]
    },
    {
      "cell_type": "code",
      "execution_count": null,
      "metadata": {
        "id": "nJZldSLQQJAk"
      },
      "outputs": [],
      "source": [
        "test_rec = 4000\n",
        "\n",
        "print(f\"Context: {valid_contexts[test_rec]}\")\n",
        "print(f\"Question: {valid_questions[test_rec]}\")\n",
        "print(f\"Expected Answer: {valid_answers[test_rec]}\")\n",
        "\n",
        "context = valid_contexts[test_rec]\n",
        "question = valid_questions[test_rec]\n",
        "\n",
        "print(f\"Predicted Answer: {get_answer(question, context)}\")"
      ]
    },
    {
      "cell_type": "code",
      "execution_count": null,
      "metadata": {
        "id": "zKKKlWTTS5Ks"
      },
      "outputs": [],
      "source": [
        "context = \"I am Utsav Patel. I just completed my fine-tuning of the BERT base uncased model. I am glad that it works after 5 attempts.\"\n",
        "question = \"How many attempts did it take to fine-tune ?\"\n",
        "print(f\"Predicted Answer: {get_answer(question, context)}\")"
      ]
    },
    {
      "cell_type": "code",
      "execution_count": null,
      "metadata": {
        "id": "iangeHojQKXs"
      },
      "outputs": [],
      "source": [
        "torch.save(model.state_dict(), '/content/drive/MyDrive/OELP_Augment.hdf5')"
      ]
    },
    {
      "cell_type": "code",
      "source": [
        "EPOCHS = 3\n",
        "curr_epoch = 0\n",
        "fold_tr_acc = []   #to store the accuracies\n",
        "fold_val_acc = []\n",
        "for i in range(5):\n",
        "  fold_tr_acc.append([])\n",
        "  fold_val_acc.append([])"
      ],
      "metadata": {
        "id": "zZ5gDLthugdh"
      },
      "execution_count": null,
      "outputs": []
    },
    {
      "cell_type": "code",
      "source": [
        "for ele in fold_tr_acc:\n",
        "  print(ele)"
      ],
      "metadata": {
        "colab": {
          "base_uri": "https://localhost:8080/"
        },
        "id": "19W7-j5rvFTl",
        "outputId": "0fa24b99-f7ff-4df1-dfb3-34061c95dfce"
      },
      "execution_count": null,
      "outputs": [
        {
          "output_type": "stream",
          "name": "stdout",
          "text": [
            "[]\n",
            "[]\n",
            "[]\n",
            "[]\n",
            "[]\n"
          ]
        }
      ]
    },
    {
      "cell_type": "code",
      "source": [
        "for fold in range(5):    #for each fold, we repeat the training for n epochs\n",
        "  print(f\"CURRENT FOLD IS {fold+1}\")\n",
        "  for epoch in range(EPOCHS):        #training for n epochs, for 1 fold\n",
        "    curr_epoch += 1\n",
        "    print(f\"current epoch is {curr_epoch}\")\n",
        "    fold_tr_acc[fold].append(curr_epoch)\n",
        "    fold_val_acc[fold].append(curr_epoch)\n",
        "  for ele in fold_tr_acc:\n",
        "    print(ele)"
      ],
      "metadata": {
        "colab": {
          "base_uri": "https://localhost:8080/"
        },
        "id": "h_vWGqswumrm",
        "outputId": "52e9ae8b-8882-47b6-dda9-2b1e45dc38bb"
      },
      "execution_count": null,
      "outputs": [
        {
          "output_type": "stream",
          "name": "stdout",
          "text": [
            "CURRENT FOLD IS 1\n",
            "current epoch is 1\n",
            "current epoch is 2\n",
            "current epoch is 3\n",
            "[1, 2, 3]\n",
            "[]\n",
            "[]\n",
            "[]\n",
            "[]\n",
            "CURRENT FOLD IS 2\n",
            "current epoch is 4\n",
            "current epoch is 5\n",
            "current epoch is 6\n",
            "[1, 2, 3]\n",
            "[4, 5, 6]\n",
            "[]\n",
            "[]\n",
            "[]\n",
            "CURRENT FOLD IS 3\n",
            "current epoch is 7\n",
            "current epoch is 8\n",
            "current epoch is 9\n",
            "[1, 2, 3]\n",
            "[4, 5, 6]\n",
            "[7, 8, 9]\n",
            "[]\n",
            "[]\n",
            "CURRENT FOLD IS 4\n",
            "current epoch is 10\n",
            "current epoch is 11\n",
            "current epoch is 12\n",
            "[1, 2, 3]\n",
            "[4, 5, 6]\n",
            "[7, 8, 9]\n",
            "[10, 11, 12]\n",
            "[]\n",
            "CURRENT FOLD IS 5\n",
            "current epoch is 13\n",
            "current epoch is 14\n",
            "current epoch is 15\n",
            "[1, 2, 3]\n",
            "[4, 5, 6]\n",
            "[7, 8, 9]\n",
            "[10, 11, 12]\n",
            "[13, 14, 15]\n"
          ]
        }
      ]
    },
    {
      "cell_type": "code",
      "source": [
        "for ele in fold_tr_acc:\n",
        "  print(ele)"
      ],
      "metadata": {
        "colab": {
          "base_uri": "https://localhost:8080/"
        },
        "id": "LtOaCmL0u00C",
        "outputId": "91364e4b-877d-43d9-83b8-d8ffe433e563"
      },
      "execution_count": null,
      "outputs": [
        {
          "output_type": "stream",
          "name": "stdout",
          "text": [
            "[1, 2, 3]\n",
            "[4, 5, 6]\n",
            "[7, 8, 9]\n",
            "[10, 11, 12]\n",
            "[13, 14, 15]\n"
          ]
        }
      ]
    },
    {
      "cell_type": "code",
      "source": [],
      "metadata": {
        "id": "8xZJywZBu6Uc"
      },
      "execution_count": null,
      "outputs": []
    }
  ],
  "metadata": {
    "colab": {
      "provenance": []
    },
    "kernelspec": {
      "display_name": "Python 3",
      "name": "python3"
    },
    "language_info": {
      "name": "python"
    },
    "widgets": {
      "application/vnd.jupyter.widget-state+json": {
        "2793dd1673a846a3916b5ce3f1a2ad34": {
          "model_module": "@jupyter-widgets/controls",
          "model_name": "HBoxModel",
          "model_module_version": "1.5.0",
          "state": {
            "_dom_classes": [],
            "_model_module": "@jupyter-widgets/controls",
            "_model_module_version": "1.5.0",
            "_model_name": "HBoxModel",
            "_view_count": null,
            "_view_module": "@jupyter-widgets/controls",
            "_view_module_version": "1.5.0",
            "_view_name": "HBoxView",
            "box_style": "",
            "children": [
              "IPY_MODEL_6905bcfe36014e82a658018b35fa0ebd",
              "IPY_MODEL_4b6a80554962401cbfc37dfb5671a440",
              "IPY_MODEL_cc4ddcf2526c43cf87646a707f8c2457"
            ],
            "layout": "IPY_MODEL_d570f8a9ecc24755b109c5af8422e93a"
          }
        },
        "6905bcfe36014e82a658018b35fa0ebd": {
          "model_module": "@jupyter-widgets/controls",
          "model_name": "HTMLModel",
          "model_module_version": "1.5.0",
          "state": {
            "_dom_classes": [],
            "_model_module": "@jupyter-widgets/controls",
            "_model_module_version": "1.5.0",
            "_model_name": "HTMLModel",
            "_view_count": null,
            "_view_module": "@jupyter-widgets/controls",
            "_view_module_version": "1.5.0",
            "_view_name": "HTMLView",
            "description": "",
            "description_tooltip": null,
            "layout": "IPY_MODEL_d9328f941a8b477b94e0beff232c6014",
            "placeholder": "​",
            "style": "IPY_MODEL_46b907f4812b4532b22c121c1b8788f7",
            "value": "tokenizer_config.json: 100%"
          }
        },
        "4b6a80554962401cbfc37dfb5671a440": {
          "model_module": "@jupyter-widgets/controls",
          "model_name": "FloatProgressModel",
          "model_module_version": "1.5.0",
          "state": {
            "_dom_classes": [],
            "_model_module": "@jupyter-widgets/controls",
            "_model_module_version": "1.5.0",
            "_model_name": "FloatProgressModel",
            "_view_count": null,
            "_view_module": "@jupyter-widgets/controls",
            "_view_module_version": "1.5.0",
            "_view_name": "ProgressView",
            "bar_style": "success",
            "description": "",
            "description_tooltip": null,
            "layout": "IPY_MODEL_7937ed9d7b9146c293ebf485f31ab754",
            "max": 48,
            "min": 0,
            "orientation": "horizontal",
            "style": "IPY_MODEL_24ba31cd0bd34c7bbd407d1661c2fc33",
            "value": 48
          }
        },
        "cc4ddcf2526c43cf87646a707f8c2457": {
          "model_module": "@jupyter-widgets/controls",
          "model_name": "HTMLModel",
          "model_module_version": "1.5.0",
          "state": {
            "_dom_classes": [],
            "_model_module": "@jupyter-widgets/controls",
            "_model_module_version": "1.5.0",
            "_model_name": "HTMLModel",
            "_view_count": null,
            "_view_module": "@jupyter-widgets/controls",
            "_view_module_version": "1.5.0",
            "_view_name": "HTMLView",
            "description": "",
            "description_tooltip": null,
            "layout": "IPY_MODEL_6ab01ece0d0e4e42a786e01b95c2eda7",
            "placeholder": "​",
            "style": "IPY_MODEL_871512ba6b794de095ab7464fec49446",
            "value": " 48.0/48.0 [00:00&lt;00:00, 2.00kB/s]"
          }
        },
        "d570f8a9ecc24755b109c5af8422e93a": {
          "model_module": "@jupyter-widgets/base",
          "model_name": "LayoutModel",
          "model_module_version": "1.2.0",
          "state": {
            "_model_module": "@jupyter-widgets/base",
            "_model_module_version": "1.2.0",
            "_model_name": "LayoutModel",
            "_view_count": null,
            "_view_module": "@jupyter-widgets/base",
            "_view_module_version": "1.2.0",
            "_view_name": "LayoutView",
            "align_content": null,
            "align_items": null,
            "align_self": null,
            "border": null,
            "bottom": null,
            "display": null,
            "flex": null,
            "flex_flow": null,
            "grid_area": null,
            "grid_auto_columns": null,
            "grid_auto_flow": null,
            "grid_auto_rows": null,
            "grid_column": null,
            "grid_gap": null,
            "grid_row": null,
            "grid_template_areas": null,
            "grid_template_columns": null,
            "grid_template_rows": null,
            "height": null,
            "justify_content": null,
            "justify_items": null,
            "left": null,
            "margin": null,
            "max_height": null,
            "max_width": null,
            "min_height": null,
            "min_width": null,
            "object_fit": null,
            "object_position": null,
            "order": null,
            "overflow": null,
            "overflow_x": null,
            "overflow_y": null,
            "padding": null,
            "right": null,
            "top": null,
            "visibility": null,
            "width": null
          }
        },
        "d9328f941a8b477b94e0beff232c6014": {
          "model_module": "@jupyter-widgets/base",
          "model_name": "LayoutModel",
          "model_module_version": "1.2.0",
          "state": {
            "_model_module": "@jupyter-widgets/base",
            "_model_module_version": "1.2.0",
            "_model_name": "LayoutModel",
            "_view_count": null,
            "_view_module": "@jupyter-widgets/base",
            "_view_module_version": "1.2.0",
            "_view_name": "LayoutView",
            "align_content": null,
            "align_items": null,
            "align_self": null,
            "border": null,
            "bottom": null,
            "display": null,
            "flex": null,
            "flex_flow": null,
            "grid_area": null,
            "grid_auto_columns": null,
            "grid_auto_flow": null,
            "grid_auto_rows": null,
            "grid_column": null,
            "grid_gap": null,
            "grid_row": null,
            "grid_template_areas": null,
            "grid_template_columns": null,
            "grid_template_rows": null,
            "height": null,
            "justify_content": null,
            "justify_items": null,
            "left": null,
            "margin": null,
            "max_height": null,
            "max_width": null,
            "min_height": null,
            "min_width": null,
            "object_fit": null,
            "object_position": null,
            "order": null,
            "overflow": null,
            "overflow_x": null,
            "overflow_y": null,
            "padding": null,
            "right": null,
            "top": null,
            "visibility": null,
            "width": null
          }
        },
        "46b907f4812b4532b22c121c1b8788f7": {
          "model_module": "@jupyter-widgets/controls",
          "model_name": "DescriptionStyleModel",
          "model_module_version": "1.5.0",
          "state": {
            "_model_module": "@jupyter-widgets/controls",
            "_model_module_version": "1.5.0",
            "_model_name": "DescriptionStyleModel",
            "_view_count": null,
            "_view_module": "@jupyter-widgets/base",
            "_view_module_version": "1.2.0",
            "_view_name": "StyleView",
            "description_width": ""
          }
        },
        "7937ed9d7b9146c293ebf485f31ab754": {
          "model_module": "@jupyter-widgets/base",
          "model_name": "LayoutModel",
          "model_module_version": "1.2.0",
          "state": {
            "_model_module": "@jupyter-widgets/base",
            "_model_module_version": "1.2.0",
            "_model_name": "LayoutModel",
            "_view_count": null,
            "_view_module": "@jupyter-widgets/base",
            "_view_module_version": "1.2.0",
            "_view_name": "LayoutView",
            "align_content": null,
            "align_items": null,
            "align_self": null,
            "border": null,
            "bottom": null,
            "display": null,
            "flex": null,
            "flex_flow": null,
            "grid_area": null,
            "grid_auto_columns": null,
            "grid_auto_flow": null,
            "grid_auto_rows": null,
            "grid_column": null,
            "grid_gap": null,
            "grid_row": null,
            "grid_template_areas": null,
            "grid_template_columns": null,
            "grid_template_rows": null,
            "height": null,
            "justify_content": null,
            "justify_items": null,
            "left": null,
            "margin": null,
            "max_height": null,
            "max_width": null,
            "min_height": null,
            "min_width": null,
            "object_fit": null,
            "object_position": null,
            "order": null,
            "overflow": null,
            "overflow_x": null,
            "overflow_y": null,
            "padding": null,
            "right": null,
            "top": null,
            "visibility": null,
            "width": null
          }
        },
        "24ba31cd0bd34c7bbd407d1661c2fc33": {
          "model_module": "@jupyter-widgets/controls",
          "model_name": "ProgressStyleModel",
          "model_module_version": "1.5.0",
          "state": {
            "_model_module": "@jupyter-widgets/controls",
            "_model_module_version": "1.5.0",
            "_model_name": "ProgressStyleModel",
            "_view_count": null,
            "_view_module": "@jupyter-widgets/base",
            "_view_module_version": "1.2.0",
            "_view_name": "StyleView",
            "bar_color": null,
            "description_width": ""
          }
        },
        "6ab01ece0d0e4e42a786e01b95c2eda7": {
          "model_module": "@jupyter-widgets/base",
          "model_name": "LayoutModel",
          "model_module_version": "1.2.0",
          "state": {
            "_model_module": "@jupyter-widgets/base",
            "_model_module_version": "1.2.0",
            "_model_name": "LayoutModel",
            "_view_count": null,
            "_view_module": "@jupyter-widgets/base",
            "_view_module_version": "1.2.0",
            "_view_name": "LayoutView",
            "align_content": null,
            "align_items": null,
            "align_self": null,
            "border": null,
            "bottom": null,
            "display": null,
            "flex": null,
            "flex_flow": null,
            "grid_area": null,
            "grid_auto_columns": null,
            "grid_auto_flow": null,
            "grid_auto_rows": null,
            "grid_column": null,
            "grid_gap": null,
            "grid_row": null,
            "grid_template_areas": null,
            "grid_template_columns": null,
            "grid_template_rows": null,
            "height": null,
            "justify_content": null,
            "justify_items": null,
            "left": null,
            "margin": null,
            "max_height": null,
            "max_width": null,
            "min_height": null,
            "min_width": null,
            "object_fit": null,
            "object_position": null,
            "order": null,
            "overflow": null,
            "overflow_x": null,
            "overflow_y": null,
            "padding": null,
            "right": null,
            "top": null,
            "visibility": null,
            "width": null
          }
        },
        "871512ba6b794de095ab7464fec49446": {
          "model_module": "@jupyter-widgets/controls",
          "model_name": "DescriptionStyleModel",
          "model_module_version": "1.5.0",
          "state": {
            "_model_module": "@jupyter-widgets/controls",
            "_model_module_version": "1.5.0",
            "_model_name": "DescriptionStyleModel",
            "_view_count": null,
            "_view_module": "@jupyter-widgets/base",
            "_view_module_version": "1.2.0",
            "_view_name": "StyleView",
            "description_width": ""
          }
        },
        "cda5e4f8ce394079aaa0f9ebbf51363d": {
          "model_module": "@jupyter-widgets/controls",
          "model_name": "HBoxModel",
          "model_module_version": "1.5.0",
          "state": {
            "_dom_classes": [],
            "_model_module": "@jupyter-widgets/controls",
            "_model_module_version": "1.5.0",
            "_model_name": "HBoxModel",
            "_view_count": null,
            "_view_module": "@jupyter-widgets/controls",
            "_view_module_version": "1.5.0",
            "_view_name": "HBoxView",
            "box_style": "",
            "children": [
              "IPY_MODEL_b0374ffe1a994a7a9f556db1d4cc6c46",
              "IPY_MODEL_80ef1e38c6ec4cf78be18fa50beaf258",
              "IPY_MODEL_94a7d9fbbea04dfe99c203be07609ff8"
            ],
            "layout": "IPY_MODEL_3659e1f457f34a9b8ea62659c37de312"
          }
        },
        "b0374ffe1a994a7a9f556db1d4cc6c46": {
          "model_module": "@jupyter-widgets/controls",
          "model_name": "HTMLModel",
          "model_module_version": "1.5.0",
          "state": {
            "_dom_classes": [],
            "_model_module": "@jupyter-widgets/controls",
            "_model_module_version": "1.5.0",
            "_model_name": "HTMLModel",
            "_view_count": null,
            "_view_module": "@jupyter-widgets/controls",
            "_view_module_version": "1.5.0",
            "_view_name": "HTMLView",
            "description": "",
            "description_tooltip": null,
            "layout": "IPY_MODEL_4668168aafa542bfb8e4009e5f1e5928",
            "placeholder": "​",
            "style": "IPY_MODEL_9ab636a85bad4aed9758627128b19da7",
            "value": "vocab.txt: 100%"
          }
        },
        "80ef1e38c6ec4cf78be18fa50beaf258": {
          "model_module": "@jupyter-widgets/controls",
          "model_name": "FloatProgressModel",
          "model_module_version": "1.5.0",
          "state": {
            "_dom_classes": [],
            "_model_module": "@jupyter-widgets/controls",
            "_model_module_version": "1.5.0",
            "_model_name": "FloatProgressModel",
            "_view_count": null,
            "_view_module": "@jupyter-widgets/controls",
            "_view_module_version": "1.5.0",
            "_view_name": "ProgressView",
            "bar_style": "success",
            "description": "",
            "description_tooltip": null,
            "layout": "IPY_MODEL_65711e05d168405ca51965d6df6891bb",
            "max": 231508,
            "min": 0,
            "orientation": "horizontal",
            "style": "IPY_MODEL_03f1b4fd1d954437adbf9c4393b4141d",
            "value": 231508
          }
        },
        "94a7d9fbbea04dfe99c203be07609ff8": {
          "model_module": "@jupyter-widgets/controls",
          "model_name": "HTMLModel",
          "model_module_version": "1.5.0",
          "state": {
            "_dom_classes": [],
            "_model_module": "@jupyter-widgets/controls",
            "_model_module_version": "1.5.0",
            "_model_name": "HTMLModel",
            "_view_count": null,
            "_view_module": "@jupyter-widgets/controls",
            "_view_module_version": "1.5.0",
            "_view_name": "HTMLView",
            "description": "",
            "description_tooltip": null,
            "layout": "IPY_MODEL_3fb597da076c4b2bbad41ac0e3db5f59",
            "placeholder": "​",
            "style": "IPY_MODEL_29611a2c3b50498eae071c179af2a7b2",
            "value": " 232k/232k [00:00&lt;00:00, 7.97MB/s]"
          }
        },
        "3659e1f457f34a9b8ea62659c37de312": {
          "model_module": "@jupyter-widgets/base",
          "model_name": "LayoutModel",
          "model_module_version": "1.2.0",
          "state": {
            "_model_module": "@jupyter-widgets/base",
            "_model_module_version": "1.2.0",
            "_model_name": "LayoutModel",
            "_view_count": null,
            "_view_module": "@jupyter-widgets/base",
            "_view_module_version": "1.2.0",
            "_view_name": "LayoutView",
            "align_content": null,
            "align_items": null,
            "align_self": null,
            "border": null,
            "bottom": null,
            "display": null,
            "flex": null,
            "flex_flow": null,
            "grid_area": null,
            "grid_auto_columns": null,
            "grid_auto_flow": null,
            "grid_auto_rows": null,
            "grid_column": null,
            "grid_gap": null,
            "grid_row": null,
            "grid_template_areas": null,
            "grid_template_columns": null,
            "grid_template_rows": null,
            "height": null,
            "justify_content": null,
            "justify_items": null,
            "left": null,
            "margin": null,
            "max_height": null,
            "max_width": null,
            "min_height": null,
            "min_width": null,
            "object_fit": null,
            "object_position": null,
            "order": null,
            "overflow": null,
            "overflow_x": null,
            "overflow_y": null,
            "padding": null,
            "right": null,
            "top": null,
            "visibility": null,
            "width": null
          }
        },
        "4668168aafa542bfb8e4009e5f1e5928": {
          "model_module": "@jupyter-widgets/base",
          "model_name": "LayoutModel",
          "model_module_version": "1.2.0",
          "state": {
            "_model_module": "@jupyter-widgets/base",
            "_model_module_version": "1.2.0",
            "_model_name": "LayoutModel",
            "_view_count": null,
            "_view_module": "@jupyter-widgets/base",
            "_view_module_version": "1.2.0",
            "_view_name": "LayoutView",
            "align_content": null,
            "align_items": null,
            "align_self": null,
            "border": null,
            "bottom": null,
            "display": null,
            "flex": null,
            "flex_flow": null,
            "grid_area": null,
            "grid_auto_columns": null,
            "grid_auto_flow": null,
            "grid_auto_rows": null,
            "grid_column": null,
            "grid_gap": null,
            "grid_row": null,
            "grid_template_areas": null,
            "grid_template_columns": null,
            "grid_template_rows": null,
            "height": null,
            "justify_content": null,
            "justify_items": null,
            "left": null,
            "margin": null,
            "max_height": null,
            "max_width": null,
            "min_height": null,
            "min_width": null,
            "object_fit": null,
            "object_position": null,
            "order": null,
            "overflow": null,
            "overflow_x": null,
            "overflow_y": null,
            "padding": null,
            "right": null,
            "top": null,
            "visibility": null,
            "width": null
          }
        },
        "9ab636a85bad4aed9758627128b19da7": {
          "model_module": "@jupyter-widgets/controls",
          "model_name": "DescriptionStyleModel",
          "model_module_version": "1.5.0",
          "state": {
            "_model_module": "@jupyter-widgets/controls",
            "_model_module_version": "1.5.0",
            "_model_name": "DescriptionStyleModel",
            "_view_count": null,
            "_view_module": "@jupyter-widgets/base",
            "_view_module_version": "1.2.0",
            "_view_name": "StyleView",
            "description_width": ""
          }
        },
        "65711e05d168405ca51965d6df6891bb": {
          "model_module": "@jupyter-widgets/base",
          "model_name": "LayoutModel",
          "model_module_version": "1.2.0",
          "state": {
            "_model_module": "@jupyter-widgets/base",
            "_model_module_version": "1.2.0",
            "_model_name": "LayoutModel",
            "_view_count": null,
            "_view_module": "@jupyter-widgets/base",
            "_view_module_version": "1.2.0",
            "_view_name": "LayoutView",
            "align_content": null,
            "align_items": null,
            "align_self": null,
            "border": null,
            "bottom": null,
            "display": null,
            "flex": null,
            "flex_flow": null,
            "grid_area": null,
            "grid_auto_columns": null,
            "grid_auto_flow": null,
            "grid_auto_rows": null,
            "grid_column": null,
            "grid_gap": null,
            "grid_row": null,
            "grid_template_areas": null,
            "grid_template_columns": null,
            "grid_template_rows": null,
            "height": null,
            "justify_content": null,
            "justify_items": null,
            "left": null,
            "margin": null,
            "max_height": null,
            "max_width": null,
            "min_height": null,
            "min_width": null,
            "object_fit": null,
            "object_position": null,
            "order": null,
            "overflow": null,
            "overflow_x": null,
            "overflow_y": null,
            "padding": null,
            "right": null,
            "top": null,
            "visibility": null,
            "width": null
          }
        },
        "03f1b4fd1d954437adbf9c4393b4141d": {
          "model_module": "@jupyter-widgets/controls",
          "model_name": "ProgressStyleModel",
          "model_module_version": "1.5.0",
          "state": {
            "_model_module": "@jupyter-widgets/controls",
            "_model_module_version": "1.5.0",
            "_model_name": "ProgressStyleModel",
            "_view_count": null,
            "_view_module": "@jupyter-widgets/base",
            "_view_module_version": "1.2.0",
            "_view_name": "StyleView",
            "bar_color": null,
            "description_width": ""
          }
        },
        "3fb597da076c4b2bbad41ac0e3db5f59": {
          "model_module": "@jupyter-widgets/base",
          "model_name": "LayoutModel",
          "model_module_version": "1.2.0",
          "state": {
            "_model_module": "@jupyter-widgets/base",
            "_model_module_version": "1.2.0",
            "_model_name": "LayoutModel",
            "_view_count": null,
            "_view_module": "@jupyter-widgets/base",
            "_view_module_version": "1.2.0",
            "_view_name": "LayoutView",
            "align_content": null,
            "align_items": null,
            "align_self": null,
            "border": null,
            "bottom": null,
            "display": null,
            "flex": null,
            "flex_flow": null,
            "grid_area": null,
            "grid_auto_columns": null,
            "grid_auto_flow": null,
            "grid_auto_rows": null,
            "grid_column": null,
            "grid_gap": null,
            "grid_row": null,
            "grid_template_areas": null,
            "grid_template_columns": null,
            "grid_template_rows": null,
            "height": null,
            "justify_content": null,
            "justify_items": null,
            "left": null,
            "margin": null,
            "max_height": null,
            "max_width": null,
            "min_height": null,
            "min_width": null,
            "object_fit": null,
            "object_position": null,
            "order": null,
            "overflow": null,
            "overflow_x": null,
            "overflow_y": null,
            "padding": null,
            "right": null,
            "top": null,
            "visibility": null,
            "width": null
          }
        },
        "29611a2c3b50498eae071c179af2a7b2": {
          "model_module": "@jupyter-widgets/controls",
          "model_name": "DescriptionStyleModel",
          "model_module_version": "1.5.0",
          "state": {
            "_model_module": "@jupyter-widgets/controls",
            "_model_module_version": "1.5.0",
            "_model_name": "DescriptionStyleModel",
            "_view_count": null,
            "_view_module": "@jupyter-widgets/base",
            "_view_module_version": "1.2.0",
            "_view_name": "StyleView",
            "description_width": ""
          }
        },
        "610a2792c08c46af9b96140c7a33ff4e": {
          "model_module": "@jupyter-widgets/controls",
          "model_name": "HBoxModel",
          "model_module_version": "1.5.0",
          "state": {
            "_dom_classes": [],
            "_model_module": "@jupyter-widgets/controls",
            "_model_module_version": "1.5.0",
            "_model_name": "HBoxModel",
            "_view_count": null,
            "_view_module": "@jupyter-widgets/controls",
            "_view_module_version": "1.5.0",
            "_view_name": "HBoxView",
            "box_style": "",
            "children": [
              "IPY_MODEL_ed026df18b2c441e9b9b599ca761125f",
              "IPY_MODEL_ceffb42df62c405ab91230e86b09434b",
              "IPY_MODEL_7b2110738b554ab8ba5ed51908055a07"
            ],
            "layout": "IPY_MODEL_2775618123f643f6a25ae8318377ad22"
          }
        },
        "ed026df18b2c441e9b9b599ca761125f": {
          "model_module": "@jupyter-widgets/controls",
          "model_name": "HTMLModel",
          "model_module_version": "1.5.0",
          "state": {
            "_dom_classes": [],
            "_model_module": "@jupyter-widgets/controls",
            "_model_module_version": "1.5.0",
            "_model_name": "HTMLModel",
            "_view_count": null,
            "_view_module": "@jupyter-widgets/controls",
            "_view_module_version": "1.5.0",
            "_view_name": "HTMLView",
            "description": "",
            "description_tooltip": null,
            "layout": "IPY_MODEL_d4286e8aa0ca4dd59f01e42ecc0acde2",
            "placeholder": "​",
            "style": "IPY_MODEL_11416675de8d419da4445d6b906e6460",
            "value": "tokenizer.json: 100%"
          }
        },
        "ceffb42df62c405ab91230e86b09434b": {
          "model_module": "@jupyter-widgets/controls",
          "model_name": "FloatProgressModel",
          "model_module_version": "1.5.0",
          "state": {
            "_dom_classes": [],
            "_model_module": "@jupyter-widgets/controls",
            "_model_module_version": "1.5.0",
            "_model_name": "FloatProgressModel",
            "_view_count": null,
            "_view_module": "@jupyter-widgets/controls",
            "_view_module_version": "1.5.0",
            "_view_name": "ProgressView",
            "bar_style": "success",
            "description": "",
            "description_tooltip": null,
            "layout": "IPY_MODEL_31cf57df8942453f973566a8494b1145",
            "max": 466062,
            "min": 0,
            "orientation": "horizontal",
            "style": "IPY_MODEL_225a796f93984254b30f80e67c185aed",
            "value": 466062
          }
        },
        "7b2110738b554ab8ba5ed51908055a07": {
          "model_module": "@jupyter-widgets/controls",
          "model_name": "HTMLModel",
          "model_module_version": "1.5.0",
          "state": {
            "_dom_classes": [],
            "_model_module": "@jupyter-widgets/controls",
            "_model_module_version": "1.5.0",
            "_model_name": "HTMLModel",
            "_view_count": null,
            "_view_module": "@jupyter-widgets/controls",
            "_view_module_version": "1.5.0",
            "_view_name": "HTMLView",
            "description": "",
            "description_tooltip": null,
            "layout": "IPY_MODEL_ba77d493115f4c1a8c7b843c9be70150",
            "placeholder": "​",
            "style": "IPY_MODEL_7011310abab84f5eaba43ad8aec30401",
            "value": " 466k/466k [00:00&lt;00:00, 17.0MB/s]"
          }
        },
        "2775618123f643f6a25ae8318377ad22": {
          "model_module": "@jupyter-widgets/base",
          "model_name": "LayoutModel",
          "model_module_version": "1.2.0",
          "state": {
            "_model_module": "@jupyter-widgets/base",
            "_model_module_version": "1.2.0",
            "_model_name": "LayoutModel",
            "_view_count": null,
            "_view_module": "@jupyter-widgets/base",
            "_view_module_version": "1.2.0",
            "_view_name": "LayoutView",
            "align_content": null,
            "align_items": null,
            "align_self": null,
            "border": null,
            "bottom": null,
            "display": null,
            "flex": null,
            "flex_flow": null,
            "grid_area": null,
            "grid_auto_columns": null,
            "grid_auto_flow": null,
            "grid_auto_rows": null,
            "grid_column": null,
            "grid_gap": null,
            "grid_row": null,
            "grid_template_areas": null,
            "grid_template_columns": null,
            "grid_template_rows": null,
            "height": null,
            "justify_content": null,
            "justify_items": null,
            "left": null,
            "margin": null,
            "max_height": null,
            "max_width": null,
            "min_height": null,
            "min_width": null,
            "object_fit": null,
            "object_position": null,
            "order": null,
            "overflow": null,
            "overflow_x": null,
            "overflow_y": null,
            "padding": null,
            "right": null,
            "top": null,
            "visibility": null,
            "width": null
          }
        },
        "d4286e8aa0ca4dd59f01e42ecc0acde2": {
          "model_module": "@jupyter-widgets/base",
          "model_name": "LayoutModel",
          "model_module_version": "1.2.0",
          "state": {
            "_model_module": "@jupyter-widgets/base",
            "_model_module_version": "1.2.0",
            "_model_name": "LayoutModel",
            "_view_count": null,
            "_view_module": "@jupyter-widgets/base",
            "_view_module_version": "1.2.0",
            "_view_name": "LayoutView",
            "align_content": null,
            "align_items": null,
            "align_self": null,
            "border": null,
            "bottom": null,
            "display": null,
            "flex": null,
            "flex_flow": null,
            "grid_area": null,
            "grid_auto_columns": null,
            "grid_auto_flow": null,
            "grid_auto_rows": null,
            "grid_column": null,
            "grid_gap": null,
            "grid_row": null,
            "grid_template_areas": null,
            "grid_template_columns": null,
            "grid_template_rows": null,
            "height": null,
            "justify_content": null,
            "justify_items": null,
            "left": null,
            "margin": null,
            "max_height": null,
            "max_width": null,
            "min_height": null,
            "min_width": null,
            "object_fit": null,
            "object_position": null,
            "order": null,
            "overflow": null,
            "overflow_x": null,
            "overflow_y": null,
            "padding": null,
            "right": null,
            "top": null,
            "visibility": null,
            "width": null
          }
        },
        "11416675de8d419da4445d6b906e6460": {
          "model_module": "@jupyter-widgets/controls",
          "model_name": "DescriptionStyleModel",
          "model_module_version": "1.5.0",
          "state": {
            "_model_module": "@jupyter-widgets/controls",
            "_model_module_version": "1.5.0",
            "_model_name": "DescriptionStyleModel",
            "_view_count": null,
            "_view_module": "@jupyter-widgets/base",
            "_view_module_version": "1.2.0",
            "_view_name": "StyleView",
            "description_width": ""
          }
        },
        "31cf57df8942453f973566a8494b1145": {
          "model_module": "@jupyter-widgets/base",
          "model_name": "LayoutModel",
          "model_module_version": "1.2.0",
          "state": {
            "_model_module": "@jupyter-widgets/base",
            "_model_module_version": "1.2.0",
            "_model_name": "LayoutModel",
            "_view_count": null,
            "_view_module": "@jupyter-widgets/base",
            "_view_module_version": "1.2.0",
            "_view_name": "LayoutView",
            "align_content": null,
            "align_items": null,
            "align_self": null,
            "border": null,
            "bottom": null,
            "display": null,
            "flex": null,
            "flex_flow": null,
            "grid_area": null,
            "grid_auto_columns": null,
            "grid_auto_flow": null,
            "grid_auto_rows": null,
            "grid_column": null,
            "grid_gap": null,
            "grid_row": null,
            "grid_template_areas": null,
            "grid_template_columns": null,
            "grid_template_rows": null,
            "height": null,
            "justify_content": null,
            "justify_items": null,
            "left": null,
            "margin": null,
            "max_height": null,
            "max_width": null,
            "min_height": null,
            "min_width": null,
            "object_fit": null,
            "object_position": null,
            "order": null,
            "overflow": null,
            "overflow_x": null,
            "overflow_y": null,
            "padding": null,
            "right": null,
            "top": null,
            "visibility": null,
            "width": null
          }
        },
        "225a796f93984254b30f80e67c185aed": {
          "model_module": "@jupyter-widgets/controls",
          "model_name": "ProgressStyleModel",
          "model_module_version": "1.5.0",
          "state": {
            "_model_module": "@jupyter-widgets/controls",
            "_model_module_version": "1.5.0",
            "_model_name": "ProgressStyleModel",
            "_view_count": null,
            "_view_module": "@jupyter-widgets/base",
            "_view_module_version": "1.2.0",
            "_view_name": "StyleView",
            "bar_color": null,
            "description_width": ""
          }
        },
        "ba77d493115f4c1a8c7b843c9be70150": {
          "model_module": "@jupyter-widgets/base",
          "model_name": "LayoutModel",
          "model_module_version": "1.2.0",
          "state": {
            "_model_module": "@jupyter-widgets/base",
            "_model_module_version": "1.2.0",
            "_model_name": "LayoutModel",
            "_view_count": null,
            "_view_module": "@jupyter-widgets/base",
            "_view_module_version": "1.2.0",
            "_view_name": "LayoutView",
            "align_content": null,
            "align_items": null,
            "align_self": null,
            "border": null,
            "bottom": null,
            "display": null,
            "flex": null,
            "flex_flow": null,
            "grid_area": null,
            "grid_auto_columns": null,
            "grid_auto_flow": null,
            "grid_auto_rows": null,
            "grid_column": null,
            "grid_gap": null,
            "grid_row": null,
            "grid_template_areas": null,
            "grid_template_columns": null,
            "grid_template_rows": null,
            "height": null,
            "justify_content": null,
            "justify_items": null,
            "left": null,
            "margin": null,
            "max_height": null,
            "max_width": null,
            "min_height": null,
            "min_width": null,
            "object_fit": null,
            "object_position": null,
            "order": null,
            "overflow": null,
            "overflow_x": null,
            "overflow_y": null,
            "padding": null,
            "right": null,
            "top": null,
            "visibility": null,
            "width": null
          }
        },
        "7011310abab84f5eaba43ad8aec30401": {
          "model_module": "@jupyter-widgets/controls",
          "model_name": "DescriptionStyleModel",
          "model_module_version": "1.5.0",
          "state": {
            "_model_module": "@jupyter-widgets/controls",
            "_model_module_version": "1.5.0",
            "_model_name": "DescriptionStyleModel",
            "_view_count": null,
            "_view_module": "@jupyter-widgets/base",
            "_view_module_version": "1.2.0",
            "_view_name": "StyleView",
            "description_width": ""
          }
        },
        "1502b0586aea4bccb10bcd9ac114e4a2": {
          "model_module": "@jupyter-widgets/controls",
          "model_name": "HBoxModel",
          "model_module_version": "1.5.0",
          "state": {
            "_dom_classes": [],
            "_model_module": "@jupyter-widgets/controls",
            "_model_module_version": "1.5.0",
            "_model_name": "HBoxModel",
            "_view_count": null,
            "_view_module": "@jupyter-widgets/controls",
            "_view_module_version": "1.5.0",
            "_view_name": "HBoxView",
            "box_style": "",
            "children": [
              "IPY_MODEL_6571ec8fa7804dd7b68f544c1f7e1234",
              "IPY_MODEL_50e4dd3ab1454b868cd481082ac74305",
              "IPY_MODEL_2167444dcd9944da9e31100f3e7d4dea"
            ],
            "layout": "IPY_MODEL_b578179c9a9647efb6c0a8a3d3702a77"
          }
        },
        "6571ec8fa7804dd7b68f544c1f7e1234": {
          "model_module": "@jupyter-widgets/controls",
          "model_name": "HTMLModel",
          "model_module_version": "1.5.0",
          "state": {
            "_dom_classes": [],
            "_model_module": "@jupyter-widgets/controls",
            "_model_module_version": "1.5.0",
            "_model_name": "HTMLModel",
            "_view_count": null,
            "_view_module": "@jupyter-widgets/controls",
            "_view_module_version": "1.5.0",
            "_view_name": "HTMLView",
            "description": "",
            "description_tooltip": null,
            "layout": "IPY_MODEL_4af3a9f59277469fa39186a509da42b1",
            "placeholder": "​",
            "style": "IPY_MODEL_6de5493ed4874f868a13374971ced349",
            "value": "config.json: 100%"
          }
        },
        "50e4dd3ab1454b868cd481082ac74305": {
          "model_module": "@jupyter-widgets/controls",
          "model_name": "FloatProgressModel",
          "model_module_version": "1.5.0",
          "state": {
            "_dom_classes": [],
            "_model_module": "@jupyter-widgets/controls",
            "_model_module_version": "1.5.0",
            "_model_name": "FloatProgressModel",
            "_view_count": null,
            "_view_module": "@jupyter-widgets/controls",
            "_view_module_version": "1.5.0",
            "_view_name": "ProgressView",
            "bar_style": "success",
            "description": "",
            "description_tooltip": null,
            "layout": "IPY_MODEL_9fa5491cd05d482fb85f86206e1b9a32",
            "max": 570,
            "min": 0,
            "orientation": "horizontal",
            "style": "IPY_MODEL_87c15b1be9ea464f897da98984f803c1",
            "value": 570
          }
        },
        "2167444dcd9944da9e31100f3e7d4dea": {
          "model_module": "@jupyter-widgets/controls",
          "model_name": "HTMLModel",
          "model_module_version": "1.5.0",
          "state": {
            "_dom_classes": [],
            "_model_module": "@jupyter-widgets/controls",
            "_model_module_version": "1.5.0",
            "_model_name": "HTMLModel",
            "_view_count": null,
            "_view_module": "@jupyter-widgets/controls",
            "_view_module_version": "1.5.0",
            "_view_name": "HTMLView",
            "description": "",
            "description_tooltip": null,
            "layout": "IPY_MODEL_d5992a30813e4d958c735d6d7878163b",
            "placeholder": "​",
            "style": "IPY_MODEL_eec51714677b4bcdb34e10d66d79af94",
            "value": " 570/570 [00:00&lt;00:00, 29.0kB/s]"
          }
        },
        "b578179c9a9647efb6c0a8a3d3702a77": {
          "model_module": "@jupyter-widgets/base",
          "model_name": "LayoutModel",
          "model_module_version": "1.2.0",
          "state": {
            "_model_module": "@jupyter-widgets/base",
            "_model_module_version": "1.2.0",
            "_model_name": "LayoutModel",
            "_view_count": null,
            "_view_module": "@jupyter-widgets/base",
            "_view_module_version": "1.2.0",
            "_view_name": "LayoutView",
            "align_content": null,
            "align_items": null,
            "align_self": null,
            "border": null,
            "bottom": null,
            "display": null,
            "flex": null,
            "flex_flow": null,
            "grid_area": null,
            "grid_auto_columns": null,
            "grid_auto_flow": null,
            "grid_auto_rows": null,
            "grid_column": null,
            "grid_gap": null,
            "grid_row": null,
            "grid_template_areas": null,
            "grid_template_columns": null,
            "grid_template_rows": null,
            "height": null,
            "justify_content": null,
            "justify_items": null,
            "left": null,
            "margin": null,
            "max_height": null,
            "max_width": null,
            "min_height": null,
            "min_width": null,
            "object_fit": null,
            "object_position": null,
            "order": null,
            "overflow": null,
            "overflow_x": null,
            "overflow_y": null,
            "padding": null,
            "right": null,
            "top": null,
            "visibility": null,
            "width": null
          }
        },
        "4af3a9f59277469fa39186a509da42b1": {
          "model_module": "@jupyter-widgets/base",
          "model_name": "LayoutModel",
          "model_module_version": "1.2.0",
          "state": {
            "_model_module": "@jupyter-widgets/base",
            "_model_module_version": "1.2.0",
            "_model_name": "LayoutModel",
            "_view_count": null,
            "_view_module": "@jupyter-widgets/base",
            "_view_module_version": "1.2.0",
            "_view_name": "LayoutView",
            "align_content": null,
            "align_items": null,
            "align_self": null,
            "border": null,
            "bottom": null,
            "display": null,
            "flex": null,
            "flex_flow": null,
            "grid_area": null,
            "grid_auto_columns": null,
            "grid_auto_flow": null,
            "grid_auto_rows": null,
            "grid_column": null,
            "grid_gap": null,
            "grid_row": null,
            "grid_template_areas": null,
            "grid_template_columns": null,
            "grid_template_rows": null,
            "height": null,
            "justify_content": null,
            "justify_items": null,
            "left": null,
            "margin": null,
            "max_height": null,
            "max_width": null,
            "min_height": null,
            "min_width": null,
            "object_fit": null,
            "object_position": null,
            "order": null,
            "overflow": null,
            "overflow_x": null,
            "overflow_y": null,
            "padding": null,
            "right": null,
            "top": null,
            "visibility": null,
            "width": null
          }
        },
        "6de5493ed4874f868a13374971ced349": {
          "model_module": "@jupyter-widgets/controls",
          "model_name": "DescriptionStyleModel",
          "model_module_version": "1.5.0",
          "state": {
            "_model_module": "@jupyter-widgets/controls",
            "_model_module_version": "1.5.0",
            "_model_name": "DescriptionStyleModel",
            "_view_count": null,
            "_view_module": "@jupyter-widgets/base",
            "_view_module_version": "1.2.0",
            "_view_name": "StyleView",
            "description_width": ""
          }
        },
        "9fa5491cd05d482fb85f86206e1b9a32": {
          "model_module": "@jupyter-widgets/base",
          "model_name": "LayoutModel",
          "model_module_version": "1.2.0",
          "state": {
            "_model_module": "@jupyter-widgets/base",
            "_model_module_version": "1.2.0",
            "_model_name": "LayoutModel",
            "_view_count": null,
            "_view_module": "@jupyter-widgets/base",
            "_view_module_version": "1.2.0",
            "_view_name": "LayoutView",
            "align_content": null,
            "align_items": null,
            "align_self": null,
            "border": null,
            "bottom": null,
            "display": null,
            "flex": null,
            "flex_flow": null,
            "grid_area": null,
            "grid_auto_columns": null,
            "grid_auto_flow": null,
            "grid_auto_rows": null,
            "grid_column": null,
            "grid_gap": null,
            "grid_row": null,
            "grid_template_areas": null,
            "grid_template_columns": null,
            "grid_template_rows": null,
            "height": null,
            "justify_content": null,
            "justify_items": null,
            "left": null,
            "margin": null,
            "max_height": null,
            "max_width": null,
            "min_height": null,
            "min_width": null,
            "object_fit": null,
            "object_position": null,
            "order": null,
            "overflow": null,
            "overflow_x": null,
            "overflow_y": null,
            "padding": null,
            "right": null,
            "top": null,
            "visibility": null,
            "width": null
          }
        },
        "87c15b1be9ea464f897da98984f803c1": {
          "model_module": "@jupyter-widgets/controls",
          "model_name": "ProgressStyleModel",
          "model_module_version": "1.5.0",
          "state": {
            "_model_module": "@jupyter-widgets/controls",
            "_model_module_version": "1.5.0",
            "_model_name": "ProgressStyleModel",
            "_view_count": null,
            "_view_module": "@jupyter-widgets/base",
            "_view_module_version": "1.2.0",
            "_view_name": "StyleView",
            "bar_color": null,
            "description_width": ""
          }
        },
        "d5992a30813e4d958c735d6d7878163b": {
          "model_module": "@jupyter-widgets/base",
          "model_name": "LayoutModel",
          "model_module_version": "1.2.0",
          "state": {
            "_model_module": "@jupyter-widgets/base",
            "_model_module_version": "1.2.0",
            "_model_name": "LayoutModel",
            "_view_count": null,
            "_view_module": "@jupyter-widgets/base",
            "_view_module_version": "1.2.0",
            "_view_name": "LayoutView",
            "align_content": null,
            "align_items": null,
            "align_self": null,
            "border": null,
            "bottom": null,
            "display": null,
            "flex": null,
            "flex_flow": null,
            "grid_area": null,
            "grid_auto_columns": null,
            "grid_auto_flow": null,
            "grid_auto_rows": null,
            "grid_column": null,
            "grid_gap": null,
            "grid_row": null,
            "grid_template_areas": null,
            "grid_template_columns": null,
            "grid_template_rows": null,
            "height": null,
            "justify_content": null,
            "justify_items": null,
            "left": null,
            "margin": null,
            "max_height": null,
            "max_width": null,
            "min_height": null,
            "min_width": null,
            "object_fit": null,
            "object_position": null,
            "order": null,
            "overflow": null,
            "overflow_x": null,
            "overflow_y": null,
            "padding": null,
            "right": null,
            "top": null,
            "visibility": null,
            "width": null
          }
        },
        "eec51714677b4bcdb34e10d66d79af94": {
          "model_module": "@jupyter-widgets/controls",
          "model_name": "DescriptionStyleModel",
          "model_module_version": "1.5.0",
          "state": {
            "_model_module": "@jupyter-widgets/controls",
            "_model_module_version": "1.5.0",
            "_model_name": "DescriptionStyleModel",
            "_view_count": null,
            "_view_module": "@jupyter-widgets/base",
            "_view_module_version": "1.2.0",
            "_view_name": "StyleView",
            "description_width": ""
          }
        },
        "014617f929a447ddb9f87ca6f137ea70": {
          "model_module": "@jupyter-widgets/controls",
          "model_name": "HBoxModel",
          "model_module_version": "1.5.0",
          "state": {
            "_dom_classes": [],
            "_model_module": "@jupyter-widgets/controls",
            "_model_module_version": "1.5.0",
            "_model_name": "HBoxModel",
            "_view_count": null,
            "_view_module": "@jupyter-widgets/controls",
            "_view_module_version": "1.5.0",
            "_view_name": "HBoxView",
            "box_style": "",
            "children": [
              "IPY_MODEL_d33195177964431b9c2f3c8857850b36",
              "IPY_MODEL_4ca874bb49634dd1bb5b9984bdf975e7",
              "IPY_MODEL_cba133c39d814f83b9575a157c6014c9"
            ],
            "layout": "IPY_MODEL_992381b26aba4c28be3805e6578de755"
          }
        },
        "d33195177964431b9c2f3c8857850b36": {
          "model_module": "@jupyter-widgets/controls",
          "model_name": "HTMLModel",
          "model_module_version": "1.5.0",
          "state": {
            "_dom_classes": [],
            "_model_module": "@jupyter-widgets/controls",
            "_model_module_version": "1.5.0",
            "_model_name": "HTMLModel",
            "_view_count": null,
            "_view_module": "@jupyter-widgets/controls",
            "_view_module_version": "1.5.0",
            "_view_name": "HTMLView",
            "description": "",
            "description_tooltip": null,
            "layout": "IPY_MODEL_a43a75ec98d446fb8517c292a4f22968",
            "placeholder": "​",
            "style": "IPY_MODEL_76ff7033841541f885675d5b5630b87c",
            "value": "model.safetensors: 100%"
          }
        },
        "4ca874bb49634dd1bb5b9984bdf975e7": {
          "model_module": "@jupyter-widgets/controls",
          "model_name": "FloatProgressModel",
          "model_module_version": "1.5.0",
          "state": {
            "_dom_classes": [],
            "_model_module": "@jupyter-widgets/controls",
            "_model_module_version": "1.5.0",
            "_model_name": "FloatProgressModel",
            "_view_count": null,
            "_view_module": "@jupyter-widgets/controls",
            "_view_module_version": "1.5.0",
            "_view_name": "ProgressView",
            "bar_style": "success",
            "description": "",
            "description_tooltip": null,
            "layout": "IPY_MODEL_80f90116122b409c89a5c38d7877759f",
            "max": 440449768,
            "min": 0,
            "orientation": "horizontal",
            "style": "IPY_MODEL_95a189f80755451190a7d35b06185a5a",
            "value": 440449768
          }
        },
        "cba133c39d814f83b9575a157c6014c9": {
          "model_module": "@jupyter-widgets/controls",
          "model_name": "HTMLModel",
          "model_module_version": "1.5.0",
          "state": {
            "_dom_classes": [],
            "_model_module": "@jupyter-widgets/controls",
            "_model_module_version": "1.5.0",
            "_model_name": "HTMLModel",
            "_view_count": null,
            "_view_module": "@jupyter-widgets/controls",
            "_view_module_version": "1.5.0",
            "_view_name": "HTMLView",
            "description": "",
            "description_tooltip": null,
            "layout": "IPY_MODEL_b8c821a53b384dc18f32fc9960c995be",
            "placeholder": "​",
            "style": "IPY_MODEL_3f90a939b24d4159a10bcb56845863d1",
            "value": " 440M/440M [00:03&lt;00:00, 72.5MB/s]"
          }
        },
        "992381b26aba4c28be3805e6578de755": {
          "model_module": "@jupyter-widgets/base",
          "model_name": "LayoutModel",
          "model_module_version": "1.2.0",
          "state": {
            "_model_module": "@jupyter-widgets/base",
            "_model_module_version": "1.2.0",
            "_model_name": "LayoutModel",
            "_view_count": null,
            "_view_module": "@jupyter-widgets/base",
            "_view_module_version": "1.2.0",
            "_view_name": "LayoutView",
            "align_content": null,
            "align_items": null,
            "align_self": null,
            "border": null,
            "bottom": null,
            "display": null,
            "flex": null,
            "flex_flow": null,
            "grid_area": null,
            "grid_auto_columns": null,
            "grid_auto_flow": null,
            "grid_auto_rows": null,
            "grid_column": null,
            "grid_gap": null,
            "grid_row": null,
            "grid_template_areas": null,
            "grid_template_columns": null,
            "grid_template_rows": null,
            "height": null,
            "justify_content": null,
            "justify_items": null,
            "left": null,
            "margin": null,
            "max_height": null,
            "max_width": null,
            "min_height": null,
            "min_width": null,
            "object_fit": null,
            "object_position": null,
            "order": null,
            "overflow": null,
            "overflow_x": null,
            "overflow_y": null,
            "padding": null,
            "right": null,
            "top": null,
            "visibility": null,
            "width": null
          }
        },
        "a43a75ec98d446fb8517c292a4f22968": {
          "model_module": "@jupyter-widgets/base",
          "model_name": "LayoutModel",
          "model_module_version": "1.2.0",
          "state": {
            "_model_module": "@jupyter-widgets/base",
            "_model_module_version": "1.2.0",
            "_model_name": "LayoutModel",
            "_view_count": null,
            "_view_module": "@jupyter-widgets/base",
            "_view_module_version": "1.2.0",
            "_view_name": "LayoutView",
            "align_content": null,
            "align_items": null,
            "align_self": null,
            "border": null,
            "bottom": null,
            "display": null,
            "flex": null,
            "flex_flow": null,
            "grid_area": null,
            "grid_auto_columns": null,
            "grid_auto_flow": null,
            "grid_auto_rows": null,
            "grid_column": null,
            "grid_gap": null,
            "grid_row": null,
            "grid_template_areas": null,
            "grid_template_columns": null,
            "grid_template_rows": null,
            "height": null,
            "justify_content": null,
            "justify_items": null,
            "left": null,
            "margin": null,
            "max_height": null,
            "max_width": null,
            "min_height": null,
            "min_width": null,
            "object_fit": null,
            "object_position": null,
            "order": null,
            "overflow": null,
            "overflow_x": null,
            "overflow_y": null,
            "padding": null,
            "right": null,
            "top": null,
            "visibility": null,
            "width": null
          }
        },
        "76ff7033841541f885675d5b5630b87c": {
          "model_module": "@jupyter-widgets/controls",
          "model_name": "DescriptionStyleModel",
          "model_module_version": "1.5.0",
          "state": {
            "_model_module": "@jupyter-widgets/controls",
            "_model_module_version": "1.5.0",
            "_model_name": "DescriptionStyleModel",
            "_view_count": null,
            "_view_module": "@jupyter-widgets/base",
            "_view_module_version": "1.2.0",
            "_view_name": "StyleView",
            "description_width": ""
          }
        },
        "80f90116122b409c89a5c38d7877759f": {
          "model_module": "@jupyter-widgets/base",
          "model_name": "LayoutModel",
          "model_module_version": "1.2.0",
          "state": {
            "_model_module": "@jupyter-widgets/base",
            "_model_module_version": "1.2.0",
            "_model_name": "LayoutModel",
            "_view_count": null,
            "_view_module": "@jupyter-widgets/base",
            "_view_module_version": "1.2.0",
            "_view_name": "LayoutView",
            "align_content": null,
            "align_items": null,
            "align_self": null,
            "border": null,
            "bottom": null,
            "display": null,
            "flex": null,
            "flex_flow": null,
            "grid_area": null,
            "grid_auto_columns": null,
            "grid_auto_flow": null,
            "grid_auto_rows": null,
            "grid_column": null,
            "grid_gap": null,
            "grid_row": null,
            "grid_template_areas": null,
            "grid_template_columns": null,
            "grid_template_rows": null,
            "height": null,
            "justify_content": null,
            "justify_items": null,
            "left": null,
            "margin": null,
            "max_height": null,
            "max_width": null,
            "min_height": null,
            "min_width": null,
            "object_fit": null,
            "object_position": null,
            "order": null,
            "overflow": null,
            "overflow_x": null,
            "overflow_y": null,
            "padding": null,
            "right": null,
            "top": null,
            "visibility": null,
            "width": null
          }
        },
        "95a189f80755451190a7d35b06185a5a": {
          "model_module": "@jupyter-widgets/controls",
          "model_name": "ProgressStyleModel",
          "model_module_version": "1.5.0",
          "state": {
            "_model_module": "@jupyter-widgets/controls",
            "_model_module_version": "1.5.0",
            "_model_name": "ProgressStyleModel",
            "_view_count": null,
            "_view_module": "@jupyter-widgets/base",
            "_view_module_version": "1.2.0",
            "_view_name": "StyleView",
            "bar_color": null,
            "description_width": ""
          }
        },
        "b8c821a53b384dc18f32fc9960c995be": {
          "model_module": "@jupyter-widgets/base",
          "model_name": "LayoutModel",
          "model_module_version": "1.2.0",
          "state": {
            "_model_module": "@jupyter-widgets/base",
            "_model_module_version": "1.2.0",
            "_model_name": "LayoutModel",
            "_view_count": null,
            "_view_module": "@jupyter-widgets/base",
            "_view_module_version": "1.2.0",
            "_view_name": "LayoutView",
            "align_content": null,
            "align_items": null,
            "align_self": null,
            "border": null,
            "bottom": null,
            "display": null,
            "flex": null,
            "flex_flow": null,
            "grid_area": null,
            "grid_auto_columns": null,
            "grid_auto_flow": null,
            "grid_auto_rows": null,
            "grid_column": null,
            "grid_gap": null,
            "grid_row": null,
            "grid_template_areas": null,
            "grid_template_columns": null,
            "grid_template_rows": null,
            "height": null,
            "justify_content": null,
            "justify_items": null,
            "left": null,
            "margin": null,
            "max_height": null,
            "max_width": null,
            "min_height": null,
            "min_width": null,
            "object_fit": null,
            "object_position": null,
            "order": null,
            "overflow": null,
            "overflow_x": null,
            "overflow_y": null,
            "padding": null,
            "right": null,
            "top": null,
            "visibility": null,
            "width": null
          }
        },
        "3f90a939b24d4159a10bcb56845863d1": {
          "model_module": "@jupyter-widgets/controls",
          "model_name": "DescriptionStyleModel",
          "model_module_version": "1.5.0",
          "state": {
            "_model_module": "@jupyter-widgets/controls",
            "_model_module_version": "1.5.0",
            "_model_name": "DescriptionStyleModel",
            "_view_count": null,
            "_view_module": "@jupyter-widgets/base",
            "_view_module_version": "1.2.0",
            "_view_name": "StyleView",
            "description_width": ""
          }
        }
      }
    }
  },
  "nbformat": 4,
  "nbformat_minor": 0
}